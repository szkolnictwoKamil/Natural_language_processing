{
  "nbformat": 4,
  "nbformat_minor": 0,
  "metadata": {
    "colab": {
      "provenance": [],
      "collapsed_sections": [
        "Uw-vx_xMc0-r",
        "Gsf9g6WAdP3M",
        "H91EtXQ6eVDW",
        "UViQh2ndeaMd",
        "HA7nZhw_KEnp",
        "WjjExez_PTYS",
        "PXzzi2I9PtB2",
        "5lYHMIUOPvs0",
        "9_OKROjpPx0Y",
        "PcdOrVGZUpMJ",
        "7BJpw_UlW3cZ",
        "2iQ0gHJyWwF8",
        "lenZtU0QW6Ua"
      ]
    },
    "kernelspec": {
      "name": "python3",
      "display_name": "Python 3"
    },
    "language_info": {
      "name": "python"
    },
    "widgets": {
      "application/vnd.jupyter.widget-state+json": {
        "95850ed19cf54c8b828d03bcac1dda9a": {
          "model_module": "@jupyter-widgets/controls",
          "model_name": "HBoxModel",
          "model_module_version": "1.5.0",
          "state": {
            "_dom_classes": [],
            "_model_module": "@jupyter-widgets/controls",
            "_model_module_version": "1.5.0",
            "_model_name": "HBoxModel",
            "_view_count": null,
            "_view_module": "@jupyter-widgets/controls",
            "_view_module_version": "1.5.0",
            "_view_name": "HBoxView",
            "box_style": "",
            "children": [
              "IPY_MODEL_d52be87db3db4a31ac7be6ce3e502fb4",
              "IPY_MODEL_77084dd1c1244e01a69754b124b50275",
              "IPY_MODEL_424d1302ac7e49a9b6fa7cabaa97359e"
            ],
            "layout": "IPY_MODEL_d49f8a93a2a84de491108288b08bcfc2"
          }
        },
        "d52be87db3db4a31ac7be6ce3e502fb4": {
          "model_module": "@jupyter-widgets/controls",
          "model_name": "HTMLModel",
          "model_module_version": "1.5.0",
          "state": {
            "_dom_classes": [],
            "_model_module": "@jupyter-widgets/controls",
            "_model_module_version": "1.5.0",
            "_model_name": "HTMLModel",
            "_view_count": null,
            "_view_module": "@jupyter-widgets/controls",
            "_view_module_version": "1.5.0",
            "_view_name": "HTMLView",
            "description": "",
            "description_tooltip": null,
            "layout": "IPY_MODEL_271f281c8149435fb14747231c74642c",
            "placeholder": "​",
            "style": "IPY_MODEL_e46fbc8a5c0344d6a65fdeffa6bb0d32",
            "value": "Downloading: 100%"
          }
        },
        "77084dd1c1244e01a69754b124b50275": {
          "model_module": "@jupyter-widgets/controls",
          "model_name": "FloatProgressModel",
          "model_module_version": "1.5.0",
          "state": {
            "_dom_classes": [],
            "_model_module": "@jupyter-widgets/controls",
            "_model_module_version": "1.5.0",
            "_model_name": "FloatProgressModel",
            "_view_count": null,
            "_view_module": "@jupyter-widgets/controls",
            "_view_module_version": "1.5.0",
            "_view_name": "ProgressView",
            "bar_style": "success",
            "description": "",
            "description_tooltip": null,
            "layout": "IPY_MODEL_0e57476ea3ea497a864a9ba987f00f63",
            "max": 625,
            "min": 0,
            "orientation": "horizontal",
            "style": "IPY_MODEL_5aed3b32824d4937bf772eb7b46c0eba",
            "value": 625
          }
        },
        "424d1302ac7e49a9b6fa7cabaa97359e": {
          "model_module": "@jupyter-widgets/controls",
          "model_name": "HTMLModel",
          "model_module_version": "1.5.0",
          "state": {
            "_dom_classes": [],
            "_model_module": "@jupyter-widgets/controls",
            "_model_module_version": "1.5.0",
            "_model_name": "HTMLModel",
            "_view_count": null,
            "_view_module": "@jupyter-widgets/controls",
            "_view_module_version": "1.5.0",
            "_view_name": "HTMLView",
            "description": "",
            "description_tooltip": null,
            "layout": "IPY_MODEL_81a2a8ce0544487794b5c0434dc207a5",
            "placeholder": "​",
            "style": "IPY_MODEL_9a0690670dfb4266b637608884795994",
            "value": " 625/625 [00:00&lt;00:00, 27.9kB/s]"
          }
        },
        "d49f8a93a2a84de491108288b08bcfc2": {
          "model_module": "@jupyter-widgets/base",
          "model_name": "LayoutModel",
          "model_module_version": "1.2.0",
          "state": {
            "_model_module": "@jupyter-widgets/base",
            "_model_module_version": "1.2.0",
            "_model_name": "LayoutModel",
            "_view_count": null,
            "_view_module": "@jupyter-widgets/base",
            "_view_module_version": "1.2.0",
            "_view_name": "LayoutView",
            "align_content": null,
            "align_items": null,
            "align_self": null,
            "border": null,
            "bottom": null,
            "display": null,
            "flex": null,
            "flex_flow": null,
            "grid_area": null,
            "grid_auto_columns": null,
            "grid_auto_flow": null,
            "grid_auto_rows": null,
            "grid_column": null,
            "grid_gap": null,
            "grid_row": null,
            "grid_template_areas": null,
            "grid_template_columns": null,
            "grid_template_rows": null,
            "height": null,
            "justify_content": null,
            "justify_items": null,
            "left": null,
            "margin": null,
            "max_height": null,
            "max_width": null,
            "min_height": null,
            "min_width": null,
            "object_fit": null,
            "object_position": null,
            "order": null,
            "overflow": null,
            "overflow_x": null,
            "overflow_y": null,
            "padding": null,
            "right": null,
            "top": null,
            "visibility": null,
            "width": null
          }
        },
        "271f281c8149435fb14747231c74642c": {
          "model_module": "@jupyter-widgets/base",
          "model_name": "LayoutModel",
          "model_module_version": "1.2.0",
          "state": {
            "_model_module": "@jupyter-widgets/base",
            "_model_module_version": "1.2.0",
            "_model_name": "LayoutModel",
            "_view_count": null,
            "_view_module": "@jupyter-widgets/base",
            "_view_module_version": "1.2.0",
            "_view_name": "LayoutView",
            "align_content": null,
            "align_items": null,
            "align_self": null,
            "border": null,
            "bottom": null,
            "display": null,
            "flex": null,
            "flex_flow": null,
            "grid_area": null,
            "grid_auto_columns": null,
            "grid_auto_flow": null,
            "grid_auto_rows": null,
            "grid_column": null,
            "grid_gap": null,
            "grid_row": null,
            "grid_template_areas": null,
            "grid_template_columns": null,
            "grid_template_rows": null,
            "height": null,
            "justify_content": null,
            "justify_items": null,
            "left": null,
            "margin": null,
            "max_height": null,
            "max_width": null,
            "min_height": null,
            "min_width": null,
            "object_fit": null,
            "object_position": null,
            "order": null,
            "overflow": null,
            "overflow_x": null,
            "overflow_y": null,
            "padding": null,
            "right": null,
            "top": null,
            "visibility": null,
            "width": null
          }
        },
        "e46fbc8a5c0344d6a65fdeffa6bb0d32": {
          "model_module": "@jupyter-widgets/controls",
          "model_name": "DescriptionStyleModel",
          "model_module_version": "1.5.0",
          "state": {
            "_model_module": "@jupyter-widgets/controls",
            "_model_module_version": "1.5.0",
            "_model_name": "DescriptionStyleModel",
            "_view_count": null,
            "_view_module": "@jupyter-widgets/base",
            "_view_module_version": "1.2.0",
            "_view_name": "StyleView",
            "description_width": ""
          }
        },
        "0e57476ea3ea497a864a9ba987f00f63": {
          "model_module": "@jupyter-widgets/base",
          "model_name": "LayoutModel",
          "model_module_version": "1.2.0",
          "state": {
            "_model_module": "@jupyter-widgets/base",
            "_model_module_version": "1.2.0",
            "_model_name": "LayoutModel",
            "_view_count": null,
            "_view_module": "@jupyter-widgets/base",
            "_view_module_version": "1.2.0",
            "_view_name": "LayoutView",
            "align_content": null,
            "align_items": null,
            "align_self": null,
            "border": null,
            "bottom": null,
            "display": null,
            "flex": null,
            "flex_flow": null,
            "grid_area": null,
            "grid_auto_columns": null,
            "grid_auto_flow": null,
            "grid_auto_rows": null,
            "grid_column": null,
            "grid_gap": null,
            "grid_row": null,
            "grid_template_areas": null,
            "grid_template_columns": null,
            "grid_template_rows": null,
            "height": null,
            "justify_content": null,
            "justify_items": null,
            "left": null,
            "margin": null,
            "max_height": null,
            "max_width": null,
            "min_height": null,
            "min_width": null,
            "object_fit": null,
            "object_position": null,
            "order": null,
            "overflow": null,
            "overflow_x": null,
            "overflow_y": null,
            "padding": null,
            "right": null,
            "top": null,
            "visibility": null,
            "width": null
          }
        },
        "5aed3b32824d4937bf772eb7b46c0eba": {
          "model_module": "@jupyter-widgets/controls",
          "model_name": "ProgressStyleModel",
          "model_module_version": "1.5.0",
          "state": {
            "_model_module": "@jupyter-widgets/controls",
            "_model_module_version": "1.5.0",
            "_model_name": "ProgressStyleModel",
            "_view_count": null,
            "_view_module": "@jupyter-widgets/base",
            "_view_module_version": "1.2.0",
            "_view_name": "StyleView",
            "bar_color": null,
            "description_width": ""
          }
        },
        "81a2a8ce0544487794b5c0434dc207a5": {
          "model_module": "@jupyter-widgets/base",
          "model_name": "LayoutModel",
          "model_module_version": "1.2.0",
          "state": {
            "_model_module": "@jupyter-widgets/base",
            "_model_module_version": "1.2.0",
            "_model_name": "LayoutModel",
            "_view_count": null,
            "_view_module": "@jupyter-widgets/base",
            "_view_module_version": "1.2.0",
            "_view_name": "LayoutView",
            "align_content": null,
            "align_items": null,
            "align_self": null,
            "border": null,
            "bottom": null,
            "display": null,
            "flex": null,
            "flex_flow": null,
            "grid_area": null,
            "grid_auto_columns": null,
            "grid_auto_flow": null,
            "grid_auto_rows": null,
            "grid_column": null,
            "grid_gap": null,
            "grid_row": null,
            "grid_template_areas": null,
            "grid_template_columns": null,
            "grid_template_rows": null,
            "height": null,
            "justify_content": null,
            "justify_items": null,
            "left": null,
            "margin": null,
            "max_height": null,
            "max_width": null,
            "min_height": null,
            "min_width": null,
            "object_fit": null,
            "object_position": null,
            "order": null,
            "overflow": null,
            "overflow_x": null,
            "overflow_y": null,
            "padding": null,
            "right": null,
            "top": null,
            "visibility": null,
            "width": null
          }
        },
        "9a0690670dfb4266b637608884795994": {
          "model_module": "@jupyter-widgets/controls",
          "model_name": "DescriptionStyleModel",
          "model_module_version": "1.5.0",
          "state": {
            "_model_module": "@jupyter-widgets/controls",
            "_model_module_version": "1.5.0",
            "_model_name": "DescriptionStyleModel",
            "_view_count": null,
            "_view_module": "@jupyter-widgets/base",
            "_view_module_version": "1.2.0",
            "_view_name": "StyleView",
            "description_width": ""
          }
        },
        "b7c31fba06c6425b98ad5eff8781dcd0": {
          "model_module": "@jupyter-widgets/controls",
          "model_name": "HBoxModel",
          "model_module_version": "1.5.0",
          "state": {
            "_dom_classes": [],
            "_model_module": "@jupyter-widgets/controls",
            "_model_module_version": "1.5.0",
            "_model_name": "HBoxModel",
            "_view_count": null,
            "_view_module": "@jupyter-widgets/controls",
            "_view_module_version": "1.5.0",
            "_view_name": "HBoxView",
            "box_style": "",
            "children": [
              "IPY_MODEL_59149836e51743cfb3231a5f83170cc2",
              "IPY_MODEL_f6a25c6483dc4604a084854c0d39c687",
              "IPY_MODEL_e32e2dc770da486189f1063162a23557"
            ],
            "layout": "IPY_MODEL_0b37090b2f34493093be675bbb03c674"
          }
        },
        "59149836e51743cfb3231a5f83170cc2": {
          "model_module": "@jupyter-widgets/controls",
          "model_name": "HTMLModel",
          "model_module_version": "1.5.0",
          "state": {
            "_dom_classes": [],
            "_model_module": "@jupyter-widgets/controls",
            "_model_module_version": "1.5.0",
            "_model_name": "HTMLModel",
            "_view_count": null,
            "_view_module": "@jupyter-widgets/controls",
            "_view_module_version": "1.5.0",
            "_view_name": "HTMLView",
            "description": "",
            "description_tooltip": null,
            "layout": "IPY_MODEL_c8a1c9c094164a0795ce685ec67372ad",
            "placeholder": "​",
            "style": "IPY_MODEL_f4a65a5dc0d14031bcd64bf4e0b05d71",
            "value": "Downloading: 100%"
          }
        },
        "f6a25c6483dc4604a084854c0d39c687": {
          "model_module": "@jupyter-widgets/controls",
          "model_name": "FloatProgressModel",
          "model_module_version": "1.5.0",
          "state": {
            "_dom_classes": [],
            "_model_module": "@jupyter-widgets/controls",
            "_model_module_version": "1.5.0",
            "_model_name": "FloatProgressModel",
            "_view_count": null,
            "_view_module": "@jupyter-widgets/controls",
            "_view_module_version": "1.5.0",
            "_view_name": "ProgressView",
            "bar_style": "success",
            "description": "",
            "description_tooltip": null,
            "layout": "IPY_MODEL_0eaa260e187241f5b537081f457608f4",
            "max": 714314041,
            "min": 0,
            "orientation": "horizontal",
            "style": "IPY_MODEL_fe72789c536d490da8cc74e0896d2359",
            "value": 714314041
          }
        },
        "e32e2dc770da486189f1063162a23557": {
          "model_module": "@jupyter-widgets/controls",
          "model_name": "HTMLModel",
          "model_module_version": "1.5.0",
          "state": {
            "_dom_classes": [],
            "_model_module": "@jupyter-widgets/controls",
            "_model_module_version": "1.5.0",
            "_model_name": "HTMLModel",
            "_view_count": null,
            "_view_module": "@jupyter-widgets/controls",
            "_view_module_version": "1.5.0",
            "_view_name": "HTMLView",
            "description": "",
            "description_tooltip": null,
            "layout": "IPY_MODEL_6545753889ac41d1be1ebb32b6e8ddc8",
            "placeholder": "​",
            "style": "IPY_MODEL_7f7fb9d8d62944df936fc7d0710cbbe6",
            "value": " 714M/714M [00:12&lt;00:00, 53.9MB/s]"
          }
        },
        "0b37090b2f34493093be675bbb03c674": {
          "model_module": "@jupyter-widgets/base",
          "model_name": "LayoutModel",
          "model_module_version": "1.2.0",
          "state": {
            "_model_module": "@jupyter-widgets/base",
            "_model_module_version": "1.2.0",
            "_model_name": "LayoutModel",
            "_view_count": null,
            "_view_module": "@jupyter-widgets/base",
            "_view_module_version": "1.2.0",
            "_view_name": "LayoutView",
            "align_content": null,
            "align_items": null,
            "align_self": null,
            "border": null,
            "bottom": null,
            "display": null,
            "flex": null,
            "flex_flow": null,
            "grid_area": null,
            "grid_auto_columns": null,
            "grid_auto_flow": null,
            "grid_auto_rows": null,
            "grid_column": null,
            "grid_gap": null,
            "grid_row": null,
            "grid_template_areas": null,
            "grid_template_columns": null,
            "grid_template_rows": null,
            "height": null,
            "justify_content": null,
            "justify_items": null,
            "left": null,
            "margin": null,
            "max_height": null,
            "max_width": null,
            "min_height": null,
            "min_width": null,
            "object_fit": null,
            "object_position": null,
            "order": null,
            "overflow": null,
            "overflow_x": null,
            "overflow_y": null,
            "padding": null,
            "right": null,
            "top": null,
            "visibility": null,
            "width": null
          }
        },
        "c8a1c9c094164a0795ce685ec67372ad": {
          "model_module": "@jupyter-widgets/base",
          "model_name": "LayoutModel",
          "model_module_version": "1.2.0",
          "state": {
            "_model_module": "@jupyter-widgets/base",
            "_model_module_version": "1.2.0",
            "_model_name": "LayoutModel",
            "_view_count": null,
            "_view_module": "@jupyter-widgets/base",
            "_view_module_version": "1.2.0",
            "_view_name": "LayoutView",
            "align_content": null,
            "align_items": null,
            "align_self": null,
            "border": null,
            "bottom": null,
            "display": null,
            "flex": null,
            "flex_flow": null,
            "grid_area": null,
            "grid_auto_columns": null,
            "grid_auto_flow": null,
            "grid_auto_rows": null,
            "grid_column": null,
            "grid_gap": null,
            "grid_row": null,
            "grid_template_areas": null,
            "grid_template_columns": null,
            "grid_template_rows": null,
            "height": null,
            "justify_content": null,
            "justify_items": null,
            "left": null,
            "margin": null,
            "max_height": null,
            "max_width": null,
            "min_height": null,
            "min_width": null,
            "object_fit": null,
            "object_position": null,
            "order": null,
            "overflow": null,
            "overflow_x": null,
            "overflow_y": null,
            "padding": null,
            "right": null,
            "top": null,
            "visibility": null,
            "width": null
          }
        },
        "f4a65a5dc0d14031bcd64bf4e0b05d71": {
          "model_module": "@jupyter-widgets/controls",
          "model_name": "DescriptionStyleModel",
          "model_module_version": "1.5.0",
          "state": {
            "_model_module": "@jupyter-widgets/controls",
            "_model_module_version": "1.5.0",
            "_model_name": "DescriptionStyleModel",
            "_view_count": null,
            "_view_module": "@jupyter-widgets/base",
            "_view_module_version": "1.2.0",
            "_view_name": "StyleView",
            "description_width": ""
          }
        },
        "0eaa260e187241f5b537081f457608f4": {
          "model_module": "@jupyter-widgets/base",
          "model_name": "LayoutModel",
          "model_module_version": "1.2.0",
          "state": {
            "_model_module": "@jupyter-widgets/base",
            "_model_module_version": "1.2.0",
            "_model_name": "LayoutModel",
            "_view_count": null,
            "_view_module": "@jupyter-widgets/base",
            "_view_module_version": "1.2.0",
            "_view_name": "LayoutView",
            "align_content": null,
            "align_items": null,
            "align_self": null,
            "border": null,
            "bottom": null,
            "display": null,
            "flex": null,
            "flex_flow": null,
            "grid_area": null,
            "grid_auto_columns": null,
            "grid_auto_flow": null,
            "grid_auto_rows": null,
            "grid_column": null,
            "grid_gap": null,
            "grid_row": null,
            "grid_template_areas": null,
            "grid_template_columns": null,
            "grid_template_rows": null,
            "height": null,
            "justify_content": null,
            "justify_items": null,
            "left": null,
            "margin": null,
            "max_height": null,
            "max_width": null,
            "min_height": null,
            "min_width": null,
            "object_fit": null,
            "object_position": null,
            "order": null,
            "overflow": null,
            "overflow_x": null,
            "overflow_y": null,
            "padding": null,
            "right": null,
            "top": null,
            "visibility": null,
            "width": null
          }
        },
        "fe72789c536d490da8cc74e0896d2359": {
          "model_module": "@jupyter-widgets/controls",
          "model_name": "ProgressStyleModel",
          "model_module_version": "1.5.0",
          "state": {
            "_model_module": "@jupyter-widgets/controls",
            "_model_module_version": "1.5.0",
            "_model_name": "ProgressStyleModel",
            "_view_count": null,
            "_view_module": "@jupyter-widgets/base",
            "_view_module_version": "1.2.0",
            "_view_name": "StyleView",
            "bar_color": null,
            "description_width": ""
          }
        },
        "6545753889ac41d1be1ebb32b6e8ddc8": {
          "model_module": "@jupyter-widgets/base",
          "model_name": "LayoutModel",
          "model_module_version": "1.2.0",
          "state": {
            "_model_module": "@jupyter-widgets/base",
            "_model_module_version": "1.2.0",
            "_model_name": "LayoutModel",
            "_view_count": null,
            "_view_module": "@jupyter-widgets/base",
            "_view_module_version": "1.2.0",
            "_view_name": "LayoutView",
            "align_content": null,
            "align_items": null,
            "align_self": null,
            "border": null,
            "bottom": null,
            "display": null,
            "flex": null,
            "flex_flow": null,
            "grid_area": null,
            "grid_auto_columns": null,
            "grid_auto_flow": null,
            "grid_auto_rows": null,
            "grid_column": null,
            "grid_gap": null,
            "grid_row": null,
            "grid_template_areas": null,
            "grid_template_columns": null,
            "grid_template_rows": null,
            "height": null,
            "justify_content": null,
            "justify_items": null,
            "left": null,
            "margin": null,
            "max_height": null,
            "max_width": null,
            "min_height": null,
            "min_width": null,
            "object_fit": null,
            "object_position": null,
            "order": null,
            "overflow": null,
            "overflow_x": null,
            "overflow_y": null,
            "padding": null,
            "right": null,
            "top": null,
            "visibility": null,
            "width": null
          }
        },
        "7f7fb9d8d62944df936fc7d0710cbbe6": {
          "model_module": "@jupyter-widgets/controls",
          "model_name": "DescriptionStyleModel",
          "model_module_version": "1.5.0",
          "state": {
            "_model_module": "@jupyter-widgets/controls",
            "_model_module_version": "1.5.0",
            "_model_name": "DescriptionStyleModel",
            "_view_count": null,
            "_view_module": "@jupyter-widgets/base",
            "_view_module_version": "1.2.0",
            "_view_name": "StyleView",
            "description_width": ""
          }
        },
        "6e295df4b307435e953814a8ec75f48b": {
          "model_module": "@jupyter-widgets/controls",
          "model_name": "HBoxModel",
          "model_module_version": "1.5.0",
          "state": {
            "_dom_classes": [],
            "_model_module": "@jupyter-widgets/controls",
            "_model_module_version": "1.5.0",
            "_model_name": "HBoxModel",
            "_view_count": null,
            "_view_module": "@jupyter-widgets/controls",
            "_view_module_version": "1.5.0",
            "_view_name": "HBoxView",
            "box_style": "",
            "children": [
              "IPY_MODEL_d7dd47e0d8f8497492fd282a90bea0b8",
              "IPY_MODEL_b81acb73134c4110ab2bf9983211cbc7",
              "IPY_MODEL_f32af2056c2a4186a7966c5505b13a0f"
            ],
            "layout": "IPY_MODEL_cbf2433303f94622a116b413d15d6a74"
          }
        },
        "d7dd47e0d8f8497492fd282a90bea0b8": {
          "model_module": "@jupyter-widgets/controls",
          "model_name": "HTMLModel",
          "model_module_version": "1.5.0",
          "state": {
            "_dom_classes": [],
            "_model_module": "@jupyter-widgets/controls",
            "_model_module_version": "1.5.0",
            "_model_name": "HTMLModel",
            "_view_count": null,
            "_view_module": "@jupyter-widgets/controls",
            "_view_module_version": "1.5.0",
            "_view_name": "HTMLView",
            "description": "",
            "description_tooltip": null,
            "layout": "IPY_MODEL_884e7bd76a044f57aff8fc3e378116e3",
            "placeholder": "​",
            "style": "IPY_MODEL_f1075c1907cb47f2aa9b3ddf87dd882c",
            "value": "Downloading: 100%"
          }
        },
        "b81acb73134c4110ab2bf9983211cbc7": {
          "model_module": "@jupyter-widgets/controls",
          "model_name": "FloatProgressModel",
          "model_module_version": "1.5.0",
          "state": {
            "_dom_classes": [],
            "_model_module": "@jupyter-widgets/controls",
            "_model_module_version": "1.5.0",
            "_model_name": "FloatProgressModel",
            "_view_count": null,
            "_view_module": "@jupyter-widgets/controls",
            "_view_module_version": "1.5.0",
            "_view_name": "ProgressView",
            "bar_style": "success",
            "description": "",
            "description_tooltip": null,
            "layout": "IPY_MODEL_79f63e324c5f445aab0f34fe36f79849",
            "max": 29,
            "min": 0,
            "orientation": "horizontal",
            "style": "IPY_MODEL_67b427c2a8664fc2a298c2224cca7183",
            "value": 29
          }
        },
        "f32af2056c2a4186a7966c5505b13a0f": {
          "model_module": "@jupyter-widgets/controls",
          "model_name": "HTMLModel",
          "model_module_version": "1.5.0",
          "state": {
            "_dom_classes": [],
            "_model_module": "@jupyter-widgets/controls",
            "_model_module_version": "1.5.0",
            "_model_name": "HTMLModel",
            "_view_count": null,
            "_view_module": "@jupyter-widgets/controls",
            "_view_module_version": "1.5.0",
            "_view_name": "HTMLView",
            "description": "",
            "description_tooltip": null,
            "layout": "IPY_MODEL_f28186dda35f43b7b24e8e4bbceb7eff",
            "placeholder": "​",
            "style": "IPY_MODEL_84983db1a97449e6a7ac0b8c44655fbc",
            "value": " 29.0/29.0 [00:00&lt;00:00, 1.65kB/s]"
          }
        },
        "cbf2433303f94622a116b413d15d6a74": {
          "model_module": "@jupyter-widgets/base",
          "model_name": "LayoutModel",
          "model_module_version": "1.2.0",
          "state": {
            "_model_module": "@jupyter-widgets/base",
            "_model_module_version": "1.2.0",
            "_model_name": "LayoutModel",
            "_view_count": null,
            "_view_module": "@jupyter-widgets/base",
            "_view_module_version": "1.2.0",
            "_view_name": "LayoutView",
            "align_content": null,
            "align_items": null,
            "align_self": null,
            "border": null,
            "bottom": null,
            "display": null,
            "flex": null,
            "flex_flow": null,
            "grid_area": null,
            "grid_auto_columns": null,
            "grid_auto_flow": null,
            "grid_auto_rows": null,
            "grid_column": null,
            "grid_gap": null,
            "grid_row": null,
            "grid_template_areas": null,
            "grid_template_columns": null,
            "grid_template_rows": null,
            "height": null,
            "justify_content": null,
            "justify_items": null,
            "left": null,
            "margin": null,
            "max_height": null,
            "max_width": null,
            "min_height": null,
            "min_width": null,
            "object_fit": null,
            "object_position": null,
            "order": null,
            "overflow": null,
            "overflow_x": null,
            "overflow_y": null,
            "padding": null,
            "right": null,
            "top": null,
            "visibility": null,
            "width": null
          }
        },
        "884e7bd76a044f57aff8fc3e378116e3": {
          "model_module": "@jupyter-widgets/base",
          "model_name": "LayoutModel",
          "model_module_version": "1.2.0",
          "state": {
            "_model_module": "@jupyter-widgets/base",
            "_model_module_version": "1.2.0",
            "_model_name": "LayoutModel",
            "_view_count": null,
            "_view_module": "@jupyter-widgets/base",
            "_view_module_version": "1.2.0",
            "_view_name": "LayoutView",
            "align_content": null,
            "align_items": null,
            "align_self": null,
            "border": null,
            "bottom": null,
            "display": null,
            "flex": null,
            "flex_flow": null,
            "grid_area": null,
            "grid_auto_columns": null,
            "grid_auto_flow": null,
            "grid_auto_rows": null,
            "grid_column": null,
            "grid_gap": null,
            "grid_row": null,
            "grid_template_areas": null,
            "grid_template_columns": null,
            "grid_template_rows": null,
            "height": null,
            "justify_content": null,
            "justify_items": null,
            "left": null,
            "margin": null,
            "max_height": null,
            "max_width": null,
            "min_height": null,
            "min_width": null,
            "object_fit": null,
            "object_position": null,
            "order": null,
            "overflow": null,
            "overflow_x": null,
            "overflow_y": null,
            "padding": null,
            "right": null,
            "top": null,
            "visibility": null,
            "width": null
          }
        },
        "f1075c1907cb47f2aa9b3ddf87dd882c": {
          "model_module": "@jupyter-widgets/controls",
          "model_name": "DescriptionStyleModel",
          "model_module_version": "1.5.0",
          "state": {
            "_model_module": "@jupyter-widgets/controls",
            "_model_module_version": "1.5.0",
            "_model_name": "DescriptionStyleModel",
            "_view_count": null,
            "_view_module": "@jupyter-widgets/base",
            "_view_module_version": "1.2.0",
            "_view_name": "StyleView",
            "description_width": ""
          }
        },
        "79f63e324c5f445aab0f34fe36f79849": {
          "model_module": "@jupyter-widgets/base",
          "model_name": "LayoutModel",
          "model_module_version": "1.2.0",
          "state": {
            "_model_module": "@jupyter-widgets/base",
            "_model_module_version": "1.2.0",
            "_model_name": "LayoutModel",
            "_view_count": null,
            "_view_module": "@jupyter-widgets/base",
            "_view_module_version": "1.2.0",
            "_view_name": "LayoutView",
            "align_content": null,
            "align_items": null,
            "align_self": null,
            "border": null,
            "bottom": null,
            "display": null,
            "flex": null,
            "flex_flow": null,
            "grid_area": null,
            "grid_auto_columns": null,
            "grid_auto_flow": null,
            "grid_auto_rows": null,
            "grid_column": null,
            "grid_gap": null,
            "grid_row": null,
            "grid_template_areas": null,
            "grid_template_columns": null,
            "grid_template_rows": null,
            "height": null,
            "justify_content": null,
            "justify_items": null,
            "left": null,
            "margin": null,
            "max_height": null,
            "max_width": null,
            "min_height": null,
            "min_width": null,
            "object_fit": null,
            "object_position": null,
            "order": null,
            "overflow": null,
            "overflow_x": null,
            "overflow_y": null,
            "padding": null,
            "right": null,
            "top": null,
            "visibility": null,
            "width": null
          }
        },
        "67b427c2a8664fc2a298c2224cca7183": {
          "model_module": "@jupyter-widgets/controls",
          "model_name": "ProgressStyleModel",
          "model_module_version": "1.5.0",
          "state": {
            "_model_module": "@jupyter-widgets/controls",
            "_model_module_version": "1.5.0",
            "_model_name": "ProgressStyleModel",
            "_view_count": null,
            "_view_module": "@jupyter-widgets/base",
            "_view_module_version": "1.2.0",
            "_view_name": "StyleView",
            "bar_color": null,
            "description_width": ""
          }
        },
        "f28186dda35f43b7b24e8e4bbceb7eff": {
          "model_module": "@jupyter-widgets/base",
          "model_name": "LayoutModel",
          "model_module_version": "1.2.0",
          "state": {
            "_model_module": "@jupyter-widgets/base",
            "_model_module_version": "1.2.0",
            "_model_name": "LayoutModel",
            "_view_count": null,
            "_view_module": "@jupyter-widgets/base",
            "_view_module_version": "1.2.0",
            "_view_name": "LayoutView",
            "align_content": null,
            "align_items": null,
            "align_self": null,
            "border": null,
            "bottom": null,
            "display": null,
            "flex": null,
            "flex_flow": null,
            "grid_area": null,
            "grid_auto_columns": null,
            "grid_auto_flow": null,
            "grid_auto_rows": null,
            "grid_column": null,
            "grid_gap": null,
            "grid_row": null,
            "grid_template_areas": null,
            "grid_template_columns": null,
            "grid_template_rows": null,
            "height": null,
            "justify_content": null,
            "justify_items": null,
            "left": null,
            "margin": null,
            "max_height": null,
            "max_width": null,
            "min_height": null,
            "min_width": null,
            "object_fit": null,
            "object_position": null,
            "order": null,
            "overflow": null,
            "overflow_x": null,
            "overflow_y": null,
            "padding": null,
            "right": null,
            "top": null,
            "visibility": null,
            "width": null
          }
        },
        "84983db1a97449e6a7ac0b8c44655fbc": {
          "model_module": "@jupyter-widgets/controls",
          "model_name": "DescriptionStyleModel",
          "model_module_version": "1.5.0",
          "state": {
            "_model_module": "@jupyter-widgets/controls",
            "_model_module_version": "1.5.0",
            "_model_name": "DescriptionStyleModel",
            "_view_count": null,
            "_view_module": "@jupyter-widgets/base",
            "_view_module_version": "1.2.0",
            "_view_name": "StyleView",
            "description_width": ""
          }
        },
        "0f3b28f739724ea48a7b167135ea2f7a": {
          "model_module": "@jupyter-widgets/controls",
          "model_name": "HBoxModel",
          "model_module_version": "1.5.0",
          "state": {
            "_dom_classes": [],
            "_model_module": "@jupyter-widgets/controls",
            "_model_module_version": "1.5.0",
            "_model_name": "HBoxModel",
            "_view_count": null,
            "_view_module": "@jupyter-widgets/controls",
            "_view_module_version": "1.5.0",
            "_view_name": "HBoxView",
            "box_style": "",
            "children": [
              "IPY_MODEL_c2e02f5585a84f4aa33640f3db1d1205",
              "IPY_MODEL_6e6c2dd6a0aa430fb2245da07b6ce879",
              "IPY_MODEL_10a84bf666a746d29d338bf0bc44c8d6"
            ],
            "layout": "IPY_MODEL_2461c7134fd44ed4a7df813c2c387c16"
          }
        },
        "c2e02f5585a84f4aa33640f3db1d1205": {
          "model_module": "@jupyter-widgets/controls",
          "model_name": "HTMLModel",
          "model_module_version": "1.5.0",
          "state": {
            "_dom_classes": [],
            "_model_module": "@jupyter-widgets/controls",
            "_model_module_version": "1.5.0",
            "_model_name": "HTMLModel",
            "_view_count": null,
            "_view_module": "@jupyter-widgets/controls",
            "_view_module_version": "1.5.0",
            "_view_name": "HTMLView",
            "description": "",
            "description_tooltip": null,
            "layout": "IPY_MODEL_a43ec03af2c343a4abb0cf0fcf6cb3c7",
            "placeholder": "​",
            "style": "IPY_MODEL_558bf056f732443eb8a5c2457a246d55",
            "value": "Downloading: 100%"
          }
        },
        "6e6c2dd6a0aa430fb2245da07b6ce879": {
          "model_module": "@jupyter-widgets/controls",
          "model_name": "FloatProgressModel",
          "model_module_version": "1.5.0",
          "state": {
            "_dom_classes": [],
            "_model_module": "@jupyter-widgets/controls",
            "_model_module_version": "1.5.0",
            "_model_name": "FloatProgressModel",
            "_view_count": null,
            "_view_module": "@jupyter-widgets/controls",
            "_view_module_version": "1.5.0",
            "_view_name": "ProgressView",
            "bar_style": "success",
            "description": "",
            "description_tooltip": null,
            "layout": "IPY_MODEL_c75d451c791c43a4812982035f1c3c9b",
            "max": 995526,
            "min": 0,
            "orientation": "horizontal",
            "style": "IPY_MODEL_bfac51451f9446bca0f4cc2d82cc976d",
            "value": 995526
          }
        },
        "10a84bf666a746d29d338bf0bc44c8d6": {
          "model_module": "@jupyter-widgets/controls",
          "model_name": "HTMLModel",
          "model_module_version": "1.5.0",
          "state": {
            "_dom_classes": [],
            "_model_module": "@jupyter-widgets/controls",
            "_model_module_version": "1.5.0",
            "_model_name": "HTMLModel",
            "_view_count": null,
            "_view_module": "@jupyter-widgets/controls",
            "_view_module_version": "1.5.0",
            "_view_name": "HTMLView",
            "description": "",
            "description_tooltip": null,
            "layout": "IPY_MODEL_527427a0525c4d12b4c7f12bfa1b33af",
            "placeholder": "​",
            "style": "IPY_MODEL_ce067d9889b64a99ae91049168e1e5e5",
            "value": " 996k/996k [00:01&lt;00:00, 979kB/s]"
          }
        },
        "2461c7134fd44ed4a7df813c2c387c16": {
          "model_module": "@jupyter-widgets/base",
          "model_name": "LayoutModel",
          "model_module_version": "1.2.0",
          "state": {
            "_model_module": "@jupyter-widgets/base",
            "_model_module_version": "1.2.0",
            "_model_name": "LayoutModel",
            "_view_count": null,
            "_view_module": "@jupyter-widgets/base",
            "_view_module_version": "1.2.0",
            "_view_name": "LayoutView",
            "align_content": null,
            "align_items": null,
            "align_self": null,
            "border": null,
            "bottom": null,
            "display": null,
            "flex": null,
            "flex_flow": null,
            "grid_area": null,
            "grid_auto_columns": null,
            "grid_auto_flow": null,
            "grid_auto_rows": null,
            "grid_column": null,
            "grid_gap": null,
            "grid_row": null,
            "grid_template_areas": null,
            "grid_template_columns": null,
            "grid_template_rows": null,
            "height": null,
            "justify_content": null,
            "justify_items": null,
            "left": null,
            "margin": null,
            "max_height": null,
            "max_width": null,
            "min_height": null,
            "min_width": null,
            "object_fit": null,
            "object_position": null,
            "order": null,
            "overflow": null,
            "overflow_x": null,
            "overflow_y": null,
            "padding": null,
            "right": null,
            "top": null,
            "visibility": null,
            "width": null
          }
        },
        "a43ec03af2c343a4abb0cf0fcf6cb3c7": {
          "model_module": "@jupyter-widgets/base",
          "model_name": "LayoutModel",
          "model_module_version": "1.2.0",
          "state": {
            "_model_module": "@jupyter-widgets/base",
            "_model_module_version": "1.2.0",
            "_model_name": "LayoutModel",
            "_view_count": null,
            "_view_module": "@jupyter-widgets/base",
            "_view_module_version": "1.2.0",
            "_view_name": "LayoutView",
            "align_content": null,
            "align_items": null,
            "align_self": null,
            "border": null,
            "bottom": null,
            "display": null,
            "flex": null,
            "flex_flow": null,
            "grid_area": null,
            "grid_auto_columns": null,
            "grid_auto_flow": null,
            "grid_auto_rows": null,
            "grid_column": null,
            "grid_gap": null,
            "grid_row": null,
            "grid_template_areas": null,
            "grid_template_columns": null,
            "grid_template_rows": null,
            "height": null,
            "justify_content": null,
            "justify_items": null,
            "left": null,
            "margin": null,
            "max_height": null,
            "max_width": null,
            "min_height": null,
            "min_width": null,
            "object_fit": null,
            "object_position": null,
            "order": null,
            "overflow": null,
            "overflow_x": null,
            "overflow_y": null,
            "padding": null,
            "right": null,
            "top": null,
            "visibility": null,
            "width": null
          }
        },
        "558bf056f732443eb8a5c2457a246d55": {
          "model_module": "@jupyter-widgets/controls",
          "model_name": "DescriptionStyleModel",
          "model_module_version": "1.5.0",
          "state": {
            "_model_module": "@jupyter-widgets/controls",
            "_model_module_version": "1.5.0",
            "_model_name": "DescriptionStyleModel",
            "_view_count": null,
            "_view_module": "@jupyter-widgets/base",
            "_view_module_version": "1.2.0",
            "_view_name": "StyleView",
            "description_width": ""
          }
        },
        "c75d451c791c43a4812982035f1c3c9b": {
          "model_module": "@jupyter-widgets/base",
          "model_name": "LayoutModel",
          "model_module_version": "1.2.0",
          "state": {
            "_model_module": "@jupyter-widgets/base",
            "_model_module_version": "1.2.0",
            "_model_name": "LayoutModel",
            "_view_count": null,
            "_view_module": "@jupyter-widgets/base",
            "_view_module_version": "1.2.0",
            "_view_name": "LayoutView",
            "align_content": null,
            "align_items": null,
            "align_self": null,
            "border": null,
            "bottom": null,
            "display": null,
            "flex": null,
            "flex_flow": null,
            "grid_area": null,
            "grid_auto_columns": null,
            "grid_auto_flow": null,
            "grid_auto_rows": null,
            "grid_column": null,
            "grid_gap": null,
            "grid_row": null,
            "grid_template_areas": null,
            "grid_template_columns": null,
            "grid_template_rows": null,
            "height": null,
            "justify_content": null,
            "justify_items": null,
            "left": null,
            "margin": null,
            "max_height": null,
            "max_width": null,
            "min_height": null,
            "min_width": null,
            "object_fit": null,
            "object_position": null,
            "order": null,
            "overflow": null,
            "overflow_x": null,
            "overflow_y": null,
            "padding": null,
            "right": null,
            "top": null,
            "visibility": null,
            "width": null
          }
        },
        "bfac51451f9446bca0f4cc2d82cc976d": {
          "model_module": "@jupyter-widgets/controls",
          "model_name": "ProgressStyleModel",
          "model_module_version": "1.5.0",
          "state": {
            "_model_module": "@jupyter-widgets/controls",
            "_model_module_version": "1.5.0",
            "_model_name": "ProgressStyleModel",
            "_view_count": null,
            "_view_module": "@jupyter-widgets/base",
            "_view_module_version": "1.2.0",
            "_view_name": "StyleView",
            "bar_color": null,
            "description_width": ""
          }
        },
        "527427a0525c4d12b4c7f12bfa1b33af": {
          "model_module": "@jupyter-widgets/base",
          "model_name": "LayoutModel",
          "model_module_version": "1.2.0",
          "state": {
            "_model_module": "@jupyter-widgets/base",
            "_model_module_version": "1.2.0",
            "_model_name": "LayoutModel",
            "_view_count": null,
            "_view_module": "@jupyter-widgets/base",
            "_view_module_version": "1.2.0",
            "_view_name": "LayoutView",
            "align_content": null,
            "align_items": null,
            "align_self": null,
            "border": null,
            "bottom": null,
            "display": null,
            "flex": null,
            "flex_flow": null,
            "grid_area": null,
            "grid_auto_columns": null,
            "grid_auto_flow": null,
            "grid_auto_rows": null,
            "grid_column": null,
            "grid_gap": null,
            "grid_row": null,
            "grid_template_areas": null,
            "grid_template_columns": null,
            "grid_template_rows": null,
            "height": null,
            "justify_content": null,
            "justify_items": null,
            "left": null,
            "margin": null,
            "max_height": null,
            "max_width": null,
            "min_height": null,
            "min_width": null,
            "object_fit": null,
            "object_position": null,
            "order": null,
            "overflow": null,
            "overflow_x": null,
            "overflow_y": null,
            "padding": null,
            "right": null,
            "top": null,
            "visibility": null,
            "width": null
          }
        },
        "ce067d9889b64a99ae91049168e1e5e5": {
          "model_module": "@jupyter-widgets/controls",
          "model_name": "DescriptionStyleModel",
          "model_module_version": "1.5.0",
          "state": {
            "_model_module": "@jupyter-widgets/controls",
            "_model_module_version": "1.5.0",
            "_model_name": "DescriptionStyleModel",
            "_view_count": null,
            "_view_module": "@jupyter-widgets/base",
            "_view_module_version": "1.2.0",
            "_view_name": "StyleView",
            "description_width": ""
          }
        },
        "17c9d5d3b3d6485fa3918b7e092b2738": {
          "model_module": "@jupyter-widgets/controls",
          "model_name": "HBoxModel",
          "model_module_version": "1.5.0",
          "state": {
            "_dom_classes": [],
            "_model_module": "@jupyter-widgets/controls",
            "_model_module_version": "1.5.0",
            "_model_name": "HBoxModel",
            "_view_count": null,
            "_view_module": "@jupyter-widgets/controls",
            "_view_module_version": "1.5.0",
            "_view_name": "HBoxView",
            "box_style": "",
            "children": [
              "IPY_MODEL_af39e3d7e01f4473914d3725be493795",
              "IPY_MODEL_d9a83b2961c24d9295b72bae30b06023",
              "IPY_MODEL_6ef91e97ce1a4312b927d97d20bf1c78"
            ],
            "layout": "IPY_MODEL_26d757f00bfc4ee486af0bc27a537044"
          }
        },
        "af39e3d7e01f4473914d3725be493795": {
          "model_module": "@jupyter-widgets/controls",
          "model_name": "HTMLModel",
          "model_module_version": "1.5.0",
          "state": {
            "_dom_classes": [],
            "_model_module": "@jupyter-widgets/controls",
            "_model_module_version": "1.5.0",
            "_model_name": "HTMLModel",
            "_view_count": null,
            "_view_module": "@jupyter-widgets/controls",
            "_view_module_version": "1.5.0",
            "_view_name": "HTMLView",
            "description": "",
            "description_tooltip": null,
            "layout": "IPY_MODEL_28657495527f45d5963de4aaaa782f49",
            "placeholder": "​",
            "style": "IPY_MODEL_c318176d7b8f45ea805cc03943df2e85",
            "value": "Downloading: 100%"
          }
        },
        "d9a83b2961c24d9295b72bae30b06023": {
          "model_module": "@jupyter-widgets/controls",
          "model_name": "FloatProgressModel",
          "model_module_version": "1.5.0",
          "state": {
            "_dom_classes": [],
            "_model_module": "@jupyter-widgets/controls",
            "_model_module_version": "1.5.0",
            "_model_name": "FloatProgressModel",
            "_view_count": null,
            "_view_module": "@jupyter-widgets/controls",
            "_view_module_version": "1.5.0",
            "_view_name": "ProgressView",
            "bar_style": "success",
            "description": "",
            "description_tooltip": null,
            "layout": "IPY_MODEL_9bd7ad5b92004e908dcdad0bb965d7f8",
            "max": 1961828,
            "min": 0,
            "orientation": "horizontal",
            "style": "IPY_MODEL_2185aecde0c04ec8be002bf30dd3aca0",
            "value": 1961828
          }
        },
        "6ef91e97ce1a4312b927d97d20bf1c78": {
          "model_module": "@jupyter-widgets/controls",
          "model_name": "HTMLModel",
          "model_module_version": "1.5.0",
          "state": {
            "_dom_classes": [],
            "_model_module": "@jupyter-widgets/controls",
            "_model_module_version": "1.5.0",
            "_model_name": "HTMLModel",
            "_view_count": null,
            "_view_module": "@jupyter-widgets/controls",
            "_view_module_version": "1.5.0",
            "_view_name": "HTMLView",
            "description": "",
            "description_tooltip": null,
            "layout": "IPY_MODEL_243c5ed0dc5d47d29e1d76d698e07470",
            "placeholder": "​",
            "style": "IPY_MODEL_492525745a6f40eebc836df1644224e9",
            "value": " 1.96M/1.96M [00:01&lt;00:00, 2.52MB/s]"
          }
        },
        "26d757f00bfc4ee486af0bc27a537044": {
          "model_module": "@jupyter-widgets/base",
          "model_name": "LayoutModel",
          "model_module_version": "1.2.0",
          "state": {
            "_model_module": "@jupyter-widgets/base",
            "_model_module_version": "1.2.0",
            "_model_name": "LayoutModel",
            "_view_count": null,
            "_view_module": "@jupyter-widgets/base",
            "_view_module_version": "1.2.0",
            "_view_name": "LayoutView",
            "align_content": null,
            "align_items": null,
            "align_self": null,
            "border": null,
            "bottom": null,
            "display": null,
            "flex": null,
            "flex_flow": null,
            "grid_area": null,
            "grid_auto_columns": null,
            "grid_auto_flow": null,
            "grid_auto_rows": null,
            "grid_column": null,
            "grid_gap": null,
            "grid_row": null,
            "grid_template_areas": null,
            "grid_template_columns": null,
            "grid_template_rows": null,
            "height": null,
            "justify_content": null,
            "justify_items": null,
            "left": null,
            "margin": null,
            "max_height": null,
            "max_width": null,
            "min_height": null,
            "min_width": null,
            "object_fit": null,
            "object_position": null,
            "order": null,
            "overflow": null,
            "overflow_x": null,
            "overflow_y": null,
            "padding": null,
            "right": null,
            "top": null,
            "visibility": null,
            "width": null
          }
        },
        "28657495527f45d5963de4aaaa782f49": {
          "model_module": "@jupyter-widgets/base",
          "model_name": "LayoutModel",
          "model_module_version": "1.2.0",
          "state": {
            "_model_module": "@jupyter-widgets/base",
            "_model_module_version": "1.2.0",
            "_model_name": "LayoutModel",
            "_view_count": null,
            "_view_module": "@jupyter-widgets/base",
            "_view_module_version": "1.2.0",
            "_view_name": "LayoutView",
            "align_content": null,
            "align_items": null,
            "align_self": null,
            "border": null,
            "bottom": null,
            "display": null,
            "flex": null,
            "flex_flow": null,
            "grid_area": null,
            "grid_auto_columns": null,
            "grid_auto_flow": null,
            "grid_auto_rows": null,
            "grid_column": null,
            "grid_gap": null,
            "grid_row": null,
            "grid_template_areas": null,
            "grid_template_columns": null,
            "grid_template_rows": null,
            "height": null,
            "justify_content": null,
            "justify_items": null,
            "left": null,
            "margin": null,
            "max_height": null,
            "max_width": null,
            "min_height": null,
            "min_width": null,
            "object_fit": null,
            "object_position": null,
            "order": null,
            "overflow": null,
            "overflow_x": null,
            "overflow_y": null,
            "padding": null,
            "right": null,
            "top": null,
            "visibility": null,
            "width": null
          }
        },
        "c318176d7b8f45ea805cc03943df2e85": {
          "model_module": "@jupyter-widgets/controls",
          "model_name": "DescriptionStyleModel",
          "model_module_version": "1.5.0",
          "state": {
            "_model_module": "@jupyter-widgets/controls",
            "_model_module_version": "1.5.0",
            "_model_name": "DescriptionStyleModel",
            "_view_count": null,
            "_view_module": "@jupyter-widgets/base",
            "_view_module_version": "1.2.0",
            "_view_name": "StyleView",
            "description_width": ""
          }
        },
        "9bd7ad5b92004e908dcdad0bb965d7f8": {
          "model_module": "@jupyter-widgets/base",
          "model_name": "LayoutModel",
          "model_module_version": "1.2.0",
          "state": {
            "_model_module": "@jupyter-widgets/base",
            "_model_module_version": "1.2.0",
            "_model_name": "LayoutModel",
            "_view_count": null,
            "_view_module": "@jupyter-widgets/base",
            "_view_module_version": "1.2.0",
            "_view_name": "LayoutView",
            "align_content": null,
            "align_items": null,
            "align_self": null,
            "border": null,
            "bottom": null,
            "display": null,
            "flex": null,
            "flex_flow": null,
            "grid_area": null,
            "grid_auto_columns": null,
            "grid_auto_flow": null,
            "grid_auto_rows": null,
            "grid_column": null,
            "grid_gap": null,
            "grid_row": null,
            "grid_template_areas": null,
            "grid_template_columns": null,
            "grid_template_rows": null,
            "height": null,
            "justify_content": null,
            "justify_items": null,
            "left": null,
            "margin": null,
            "max_height": null,
            "max_width": null,
            "min_height": null,
            "min_width": null,
            "object_fit": null,
            "object_position": null,
            "order": null,
            "overflow": null,
            "overflow_x": null,
            "overflow_y": null,
            "padding": null,
            "right": null,
            "top": null,
            "visibility": null,
            "width": null
          }
        },
        "2185aecde0c04ec8be002bf30dd3aca0": {
          "model_module": "@jupyter-widgets/controls",
          "model_name": "ProgressStyleModel",
          "model_module_version": "1.5.0",
          "state": {
            "_model_module": "@jupyter-widgets/controls",
            "_model_module_version": "1.5.0",
            "_model_name": "ProgressStyleModel",
            "_view_count": null,
            "_view_module": "@jupyter-widgets/base",
            "_view_module_version": "1.2.0",
            "_view_name": "StyleView",
            "bar_color": null,
            "description_width": ""
          }
        },
        "243c5ed0dc5d47d29e1d76d698e07470": {
          "model_module": "@jupyter-widgets/base",
          "model_name": "LayoutModel",
          "model_module_version": "1.2.0",
          "state": {
            "_model_module": "@jupyter-widgets/base",
            "_model_module_version": "1.2.0",
            "_model_name": "LayoutModel",
            "_view_count": null,
            "_view_module": "@jupyter-widgets/base",
            "_view_module_version": "1.2.0",
            "_view_name": "LayoutView",
            "align_content": null,
            "align_items": null,
            "align_self": null,
            "border": null,
            "bottom": null,
            "display": null,
            "flex": null,
            "flex_flow": null,
            "grid_area": null,
            "grid_auto_columns": null,
            "grid_auto_flow": null,
            "grid_auto_rows": null,
            "grid_column": null,
            "grid_gap": null,
            "grid_row": null,
            "grid_template_areas": null,
            "grid_template_columns": null,
            "grid_template_rows": null,
            "height": null,
            "justify_content": null,
            "justify_items": null,
            "left": null,
            "margin": null,
            "max_height": null,
            "max_width": null,
            "min_height": null,
            "min_width": null,
            "object_fit": null,
            "object_position": null,
            "order": null,
            "overflow": null,
            "overflow_x": null,
            "overflow_y": null,
            "padding": null,
            "right": null,
            "top": null,
            "visibility": null,
            "width": null
          }
        },
        "492525745a6f40eebc836df1644224e9": {
          "model_module": "@jupyter-widgets/controls",
          "model_name": "DescriptionStyleModel",
          "model_module_version": "1.5.0",
          "state": {
            "_model_module": "@jupyter-widgets/controls",
            "_model_module_version": "1.5.0",
            "_model_name": "DescriptionStyleModel",
            "_view_count": null,
            "_view_module": "@jupyter-widgets/base",
            "_view_module_version": "1.2.0",
            "_view_name": "StyleView",
            "description_width": ""
          }
        },
        "3adc5349dbc34df69cf5b80453c04cff": {
          "model_module": "@jupyter-widgets/controls",
          "model_name": "HBoxModel",
          "model_module_version": "1.5.0",
          "state": {
            "_dom_classes": [],
            "_model_module": "@jupyter-widgets/controls",
            "_model_module_version": "1.5.0",
            "_model_name": "HBoxModel",
            "_view_count": null,
            "_view_module": "@jupyter-widgets/controls",
            "_view_module_version": "1.5.0",
            "_view_name": "HBoxView",
            "box_style": "",
            "children": [
              "IPY_MODEL_1dcec4fa46284d249c13960ef5b0935a",
              "IPY_MODEL_9b7cf487c3774e1f9e4611e980482ef3",
              "IPY_MODEL_fbe1f48e64d6404e970e33bc8771e270"
            ],
            "layout": "IPY_MODEL_b2703aa3d132440eadc085ac4e8b3900"
          }
        },
        "1dcec4fa46284d249c13960ef5b0935a": {
          "model_module": "@jupyter-widgets/controls",
          "model_name": "HTMLModel",
          "model_module_version": "1.5.0",
          "state": {
            "_dom_classes": [],
            "_model_module": "@jupyter-widgets/controls",
            "_model_module_version": "1.5.0",
            "_model_name": "HTMLModel",
            "_view_count": null,
            "_view_module": "@jupyter-widgets/controls",
            "_view_module_version": "1.5.0",
            "_view_name": "HTMLView",
            "description": "",
            "description_tooltip": null,
            "layout": "IPY_MODEL_12ae6bb6cbe64258ac95a1d178829c22",
            "placeholder": "​",
            "style": "IPY_MODEL_eee347df8de948bb96c6cd01df6bcc67",
            "value": "Downloading: 100%"
          }
        },
        "9b7cf487c3774e1f9e4611e980482ef3": {
          "model_module": "@jupyter-widgets/controls",
          "model_name": "FloatProgressModel",
          "model_module_version": "1.5.0",
          "state": {
            "_dom_classes": [],
            "_model_module": "@jupyter-widgets/controls",
            "_model_module_version": "1.5.0",
            "_model_name": "FloatProgressModel",
            "_view_count": null,
            "_view_module": "@jupyter-widgets/controls",
            "_view_module_version": "1.5.0",
            "_view_name": "ProgressView",
            "bar_style": "success",
            "description": "",
            "description_tooltip": null,
            "layout": "IPY_MODEL_53f28e63ed464902b811b152c12690bb",
            "max": 466,
            "min": 0,
            "orientation": "horizontal",
            "style": "IPY_MODEL_7d1b102f766c487aa9e7577bf8058e78",
            "value": 466
          }
        },
        "fbe1f48e64d6404e970e33bc8771e270": {
          "model_module": "@jupyter-widgets/controls",
          "model_name": "HTMLModel",
          "model_module_version": "1.5.0",
          "state": {
            "_dom_classes": [],
            "_model_module": "@jupyter-widgets/controls",
            "_model_module_version": "1.5.0",
            "_model_name": "HTMLModel",
            "_view_count": null,
            "_view_module": "@jupyter-widgets/controls",
            "_view_module_version": "1.5.0",
            "_view_name": "HTMLView",
            "description": "",
            "description_tooltip": null,
            "layout": "IPY_MODEL_061d743a1279475294d315bba128e40a",
            "placeholder": "​",
            "style": "IPY_MODEL_bbe916272dc1400f94f89f25c3002293",
            "value": " 466/466 [00:00&lt;00:00, 19.2kB/s]"
          }
        },
        "b2703aa3d132440eadc085ac4e8b3900": {
          "model_module": "@jupyter-widgets/base",
          "model_name": "LayoutModel",
          "model_module_version": "1.2.0",
          "state": {
            "_model_module": "@jupyter-widgets/base",
            "_model_module_version": "1.2.0",
            "_model_name": "LayoutModel",
            "_view_count": null,
            "_view_module": "@jupyter-widgets/base",
            "_view_module_version": "1.2.0",
            "_view_name": "LayoutView",
            "align_content": null,
            "align_items": null,
            "align_self": null,
            "border": null,
            "bottom": null,
            "display": null,
            "flex": null,
            "flex_flow": null,
            "grid_area": null,
            "grid_auto_columns": null,
            "grid_auto_flow": null,
            "grid_auto_rows": null,
            "grid_column": null,
            "grid_gap": null,
            "grid_row": null,
            "grid_template_areas": null,
            "grid_template_columns": null,
            "grid_template_rows": null,
            "height": null,
            "justify_content": null,
            "justify_items": null,
            "left": null,
            "margin": null,
            "max_height": null,
            "max_width": null,
            "min_height": null,
            "min_width": null,
            "object_fit": null,
            "object_position": null,
            "order": null,
            "overflow": null,
            "overflow_x": null,
            "overflow_y": null,
            "padding": null,
            "right": null,
            "top": null,
            "visibility": null,
            "width": null
          }
        },
        "12ae6bb6cbe64258ac95a1d178829c22": {
          "model_module": "@jupyter-widgets/base",
          "model_name": "LayoutModel",
          "model_module_version": "1.2.0",
          "state": {
            "_model_module": "@jupyter-widgets/base",
            "_model_module_version": "1.2.0",
            "_model_name": "LayoutModel",
            "_view_count": null,
            "_view_module": "@jupyter-widgets/base",
            "_view_module_version": "1.2.0",
            "_view_name": "LayoutView",
            "align_content": null,
            "align_items": null,
            "align_self": null,
            "border": null,
            "bottom": null,
            "display": null,
            "flex": null,
            "flex_flow": null,
            "grid_area": null,
            "grid_auto_columns": null,
            "grid_auto_flow": null,
            "grid_auto_rows": null,
            "grid_column": null,
            "grid_gap": null,
            "grid_row": null,
            "grid_template_areas": null,
            "grid_template_columns": null,
            "grid_template_rows": null,
            "height": null,
            "justify_content": null,
            "justify_items": null,
            "left": null,
            "margin": null,
            "max_height": null,
            "max_width": null,
            "min_height": null,
            "min_width": null,
            "object_fit": null,
            "object_position": null,
            "order": null,
            "overflow": null,
            "overflow_x": null,
            "overflow_y": null,
            "padding": null,
            "right": null,
            "top": null,
            "visibility": null,
            "width": null
          }
        },
        "eee347df8de948bb96c6cd01df6bcc67": {
          "model_module": "@jupyter-widgets/controls",
          "model_name": "DescriptionStyleModel",
          "model_module_version": "1.5.0",
          "state": {
            "_model_module": "@jupyter-widgets/controls",
            "_model_module_version": "1.5.0",
            "_model_name": "DescriptionStyleModel",
            "_view_count": null,
            "_view_module": "@jupyter-widgets/base",
            "_view_module_version": "1.2.0",
            "_view_name": "StyleView",
            "description_width": ""
          }
        },
        "53f28e63ed464902b811b152c12690bb": {
          "model_module": "@jupyter-widgets/base",
          "model_name": "LayoutModel",
          "model_module_version": "1.2.0",
          "state": {
            "_model_module": "@jupyter-widgets/base",
            "_model_module_version": "1.2.0",
            "_model_name": "LayoutModel",
            "_view_count": null,
            "_view_module": "@jupyter-widgets/base",
            "_view_module_version": "1.2.0",
            "_view_name": "LayoutView",
            "align_content": null,
            "align_items": null,
            "align_self": null,
            "border": null,
            "bottom": null,
            "display": null,
            "flex": null,
            "flex_flow": null,
            "grid_area": null,
            "grid_auto_columns": null,
            "grid_auto_flow": null,
            "grid_auto_rows": null,
            "grid_column": null,
            "grid_gap": null,
            "grid_row": null,
            "grid_template_areas": null,
            "grid_template_columns": null,
            "grid_template_rows": null,
            "height": null,
            "justify_content": null,
            "justify_items": null,
            "left": null,
            "margin": null,
            "max_height": null,
            "max_width": null,
            "min_height": null,
            "min_width": null,
            "object_fit": null,
            "object_position": null,
            "order": null,
            "overflow": null,
            "overflow_x": null,
            "overflow_y": null,
            "padding": null,
            "right": null,
            "top": null,
            "visibility": null,
            "width": null
          }
        },
        "7d1b102f766c487aa9e7577bf8058e78": {
          "model_module": "@jupyter-widgets/controls",
          "model_name": "ProgressStyleModel",
          "model_module_version": "1.5.0",
          "state": {
            "_model_module": "@jupyter-widgets/controls",
            "_model_module_version": "1.5.0",
            "_model_name": "ProgressStyleModel",
            "_view_count": null,
            "_view_module": "@jupyter-widgets/base",
            "_view_module_version": "1.2.0",
            "_view_name": "StyleView",
            "bar_color": null,
            "description_width": ""
          }
        },
        "061d743a1279475294d315bba128e40a": {
          "model_module": "@jupyter-widgets/base",
          "model_name": "LayoutModel",
          "model_module_version": "1.2.0",
          "state": {
            "_model_module": "@jupyter-widgets/base",
            "_model_module_version": "1.2.0",
            "_model_name": "LayoutModel",
            "_view_count": null,
            "_view_module": "@jupyter-widgets/base",
            "_view_module_version": "1.2.0",
            "_view_name": "LayoutView",
            "align_content": null,
            "align_items": null,
            "align_self": null,
            "border": null,
            "bottom": null,
            "display": null,
            "flex": null,
            "flex_flow": null,
            "grid_area": null,
            "grid_auto_columns": null,
            "grid_auto_flow": null,
            "grid_auto_rows": null,
            "grid_column": null,
            "grid_gap": null,
            "grid_row": null,
            "grid_template_areas": null,
            "grid_template_columns": null,
            "grid_template_rows": null,
            "height": null,
            "justify_content": null,
            "justify_items": null,
            "left": null,
            "margin": null,
            "max_height": null,
            "max_width": null,
            "min_height": null,
            "min_width": null,
            "object_fit": null,
            "object_position": null,
            "order": null,
            "overflow": null,
            "overflow_x": null,
            "overflow_y": null,
            "padding": null,
            "right": null,
            "top": null,
            "visibility": null,
            "width": null
          }
        },
        "bbe916272dc1400f94f89f25c3002293": {
          "model_module": "@jupyter-widgets/controls",
          "model_name": "DescriptionStyleModel",
          "model_module_version": "1.5.0",
          "state": {
            "_model_module": "@jupyter-widgets/controls",
            "_model_module_version": "1.5.0",
            "_model_name": "DescriptionStyleModel",
            "_view_count": null,
            "_view_module": "@jupyter-widgets/base",
            "_view_module_version": "1.2.0",
            "_view_name": "StyleView",
            "description_width": ""
          }
        },
        "2d5d94f98d13486bae36c5d1580299d3": {
          "model_module": "@jupyter-widgets/controls",
          "model_name": "HBoxModel",
          "model_module_version": "1.5.0",
          "state": {
            "_dom_classes": [],
            "_model_module": "@jupyter-widgets/controls",
            "_model_module_version": "1.5.0",
            "_model_name": "HBoxModel",
            "_view_count": null,
            "_view_module": "@jupyter-widgets/controls",
            "_view_module_version": "1.5.0",
            "_view_name": "HBoxView",
            "box_style": "",
            "children": [
              "IPY_MODEL_d21b1a1bf82f4a23b9d3fba0560d671f",
              "IPY_MODEL_5fff657929234d1ba40a792ba1fdd0a9",
              "IPY_MODEL_e52e3365820a4c2e94239aee2b4c68c9"
            ],
            "layout": "IPY_MODEL_7eb84573b187441682f515c2118a015f"
          }
        },
        "d21b1a1bf82f4a23b9d3fba0560d671f": {
          "model_module": "@jupyter-widgets/controls",
          "model_name": "HTMLModel",
          "model_module_version": "1.5.0",
          "state": {
            "_dom_classes": [],
            "_model_module": "@jupyter-widgets/controls",
            "_model_module_version": "1.5.0",
            "_model_name": "HTMLModel",
            "_view_count": null,
            "_view_module": "@jupyter-widgets/controls",
            "_view_module_version": "1.5.0",
            "_view_name": "HTMLView",
            "description": "",
            "description_tooltip": null,
            "layout": "IPY_MODEL_189a0c729d5547bf976cef9b384f5d58",
            "placeholder": "​",
            "style": "IPY_MODEL_0670f0d08a90448a98110aead58d9c56",
            "value": "Downloading: 100%"
          }
        },
        "5fff657929234d1ba40a792ba1fdd0a9": {
          "model_module": "@jupyter-widgets/controls",
          "model_name": "FloatProgressModel",
          "model_module_version": "1.5.0",
          "state": {
            "_dom_classes": [],
            "_model_module": "@jupyter-widgets/controls",
            "_model_module_version": "1.5.0",
            "_model_name": "FloatProgressModel",
            "_view_count": null,
            "_view_module": "@jupyter-widgets/controls",
            "_view_module_version": "1.5.0",
            "_view_name": "ProgressView",
            "bar_style": "success",
            "description": "",
            "description_tooltip": null,
            "layout": "IPY_MODEL_a3acc65f18e94bbea466a9a6b35ae740",
            "max": 541808922,
            "min": 0,
            "orientation": "horizontal",
            "style": "IPY_MODEL_7d5f1a6f09dc47cb8bad87039326653a",
            "value": 541808922
          }
        },
        "e52e3365820a4c2e94239aee2b4c68c9": {
          "model_module": "@jupyter-widgets/controls",
          "model_name": "HTMLModel",
          "model_module_version": "1.5.0",
          "state": {
            "_dom_classes": [],
            "_model_module": "@jupyter-widgets/controls",
            "_model_module_version": "1.5.0",
            "_model_name": "HTMLModel",
            "_view_count": null,
            "_view_module": "@jupyter-widgets/controls",
            "_view_module_version": "1.5.0",
            "_view_name": "HTMLView",
            "description": "",
            "description_tooltip": null,
            "layout": "IPY_MODEL_2bcbac88a4ee44199d29b48cc63bafa7",
            "placeholder": "​",
            "style": "IPY_MODEL_b279905d5de64a36b3ce431aea327b3a",
            "value": " 542M/542M [00:26&lt;00:00, 25.5MB/s]"
          }
        },
        "7eb84573b187441682f515c2118a015f": {
          "model_module": "@jupyter-widgets/base",
          "model_name": "LayoutModel",
          "model_module_version": "1.2.0",
          "state": {
            "_model_module": "@jupyter-widgets/base",
            "_model_module_version": "1.2.0",
            "_model_name": "LayoutModel",
            "_view_count": null,
            "_view_module": "@jupyter-widgets/base",
            "_view_module_version": "1.2.0",
            "_view_name": "LayoutView",
            "align_content": null,
            "align_items": null,
            "align_self": null,
            "border": null,
            "bottom": null,
            "display": null,
            "flex": null,
            "flex_flow": null,
            "grid_area": null,
            "grid_auto_columns": null,
            "grid_auto_flow": null,
            "grid_auto_rows": null,
            "grid_column": null,
            "grid_gap": null,
            "grid_row": null,
            "grid_template_areas": null,
            "grid_template_columns": null,
            "grid_template_rows": null,
            "height": null,
            "justify_content": null,
            "justify_items": null,
            "left": null,
            "margin": null,
            "max_height": null,
            "max_width": null,
            "min_height": null,
            "min_width": null,
            "object_fit": null,
            "object_position": null,
            "order": null,
            "overflow": null,
            "overflow_x": null,
            "overflow_y": null,
            "padding": null,
            "right": null,
            "top": null,
            "visibility": null,
            "width": null
          }
        },
        "189a0c729d5547bf976cef9b384f5d58": {
          "model_module": "@jupyter-widgets/base",
          "model_name": "LayoutModel",
          "model_module_version": "1.2.0",
          "state": {
            "_model_module": "@jupyter-widgets/base",
            "_model_module_version": "1.2.0",
            "_model_name": "LayoutModel",
            "_view_count": null,
            "_view_module": "@jupyter-widgets/base",
            "_view_module_version": "1.2.0",
            "_view_name": "LayoutView",
            "align_content": null,
            "align_items": null,
            "align_self": null,
            "border": null,
            "bottom": null,
            "display": null,
            "flex": null,
            "flex_flow": null,
            "grid_area": null,
            "grid_auto_columns": null,
            "grid_auto_flow": null,
            "grid_auto_rows": null,
            "grid_column": null,
            "grid_gap": null,
            "grid_row": null,
            "grid_template_areas": null,
            "grid_template_columns": null,
            "grid_template_rows": null,
            "height": null,
            "justify_content": null,
            "justify_items": null,
            "left": null,
            "margin": null,
            "max_height": null,
            "max_width": null,
            "min_height": null,
            "min_width": null,
            "object_fit": null,
            "object_position": null,
            "order": null,
            "overflow": null,
            "overflow_x": null,
            "overflow_y": null,
            "padding": null,
            "right": null,
            "top": null,
            "visibility": null,
            "width": null
          }
        },
        "0670f0d08a90448a98110aead58d9c56": {
          "model_module": "@jupyter-widgets/controls",
          "model_name": "DescriptionStyleModel",
          "model_module_version": "1.5.0",
          "state": {
            "_model_module": "@jupyter-widgets/controls",
            "_model_module_version": "1.5.0",
            "_model_name": "DescriptionStyleModel",
            "_view_count": null,
            "_view_module": "@jupyter-widgets/base",
            "_view_module_version": "1.2.0",
            "_view_name": "StyleView",
            "description_width": ""
          }
        },
        "a3acc65f18e94bbea466a9a6b35ae740": {
          "model_module": "@jupyter-widgets/base",
          "model_name": "LayoutModel",
          "model_module_version": "1.2.0",
          "state": {
            "_model_module": "@jupyter-widgets/base",
            "_model_module_version": "1.2.0",
            "_model_name": "LayoutModel",
            "_view_count": null,
            "_view_module": "@jupyter-widgets/base",
            "_view_module_version": "1.2.0",
            "_view_name": "LayoutView",
            "align_content": null,
            "align_items": null,
            "align_self": null,
            "border": null,
            "bottom": null,
            "display": null,
            "flex": null,
            "flex_flow": null,
            "grid_area": null,
            "grid_auto_columns": null,
            "grid_auto_flow": null,
            "grid_auto_rows": null,
            "grid_column": null,
            "grid_gap": null,
            "grid_row": null,
            "grid_template_areas": null,
            "grid_template_columns": null,
            "grid_template_rows": null,
            "height": null,
            "justify_content": null,
            "justify_items": null,
            "left": null,
            "margin": null,
            "max_height": null,
            "max_width": null,
            "min_height": null,
            "min_width": null,
            "object_fit": null,
            "object_position": null,
            "order": null,
            "overflow": null,
            "overflow_x": null,
            "overflow_y": null,
            "padding": null,
            "right": null,
            "top": null,
            "visibility": null,
            "width": null
          }
        },
        "7d5f1a6f09dc47cb8bad87039326653a": {
          "model_module": "@jupyter-widgets/controls",
          "model_name": "ProgressStyleModel",
          "model_module_version": "1.5.0",
          "state": {
            "_model_module": "@jupyter-widgets/controls",
            "_model_module_version": "1.5.0",
            "_model_name": "ProgressStyleModel",
            "_view_count": null,
            "_view_module": "@jupyter-widgets/base",
            "_view_module_version": "1.2.0",
            "_view_name": "StyleView",
            "bar_color": null,
            "description_width": ""
          }
        },
        "2bcbac88a4ee44199d29b48cc63bafa7": {
          "model_module": "@jupyter-widgets/base",
          "model_name": "LayoutModel",
          "model_module_version": "1.2.0",
          "state": {
            "_model_module": "@jupyter-widgets/base",
            "_model_module_version": "1.2.0",
            "_model_name": "LayoutModel",
            "_view_count": null,
            "_view_module": "@jupyter-widgets/base",
            "_view_module_version": "1.2.0",
            "_view_name": "LayoutView",
            "align_content": null,
            "align_items": null,
            "align_self": null,
            "border": null,
            "bottom": null,
            "display": null,
            "flex": null,
            "flex_flow": null,
            "grid_area": null,
            "grid_auto_columns": null,
            "grid_auto_flow": null,
            "grid_auto_rows": null,
            "grid_column": null,
            "grid_gap": null,
            "grid_row": null,
            "grid_template_areas": null,
            "grid_template_columns": null,
            "grid_template_rows": null,
            "height": null,
            "justify_content": null,
            "justify_items": null,
            "left": null,
            "margin": null,
            "max_height": null,
            "max_width": null,
            "min_height": null,
            "min_width": null,
            "object_fit": null,
            "object_position": null,
            "order": null,
            "overflow": null,
            "overflow_x": null,
            "overflow_y": null,
            "padding": null,
            "right": null,
            "top": null,
            "visibility": null,
            "width": null
          }
        },
        "b279905d5de64a36b3ce431aea327b3a": {
          "model_module": "@jupyter-widgets/controls",
          "model_name": "DescriptionStyleModel",
          "model_module_version": "1.5.0",
          "state": {
            "_model_module": "@jupyter-widgets/controls",
            "_model_module_version": "1.5.0",
            "_model_name": "DescriptionStyleModel",
            "_view_count": null,
            "_view_module": "@jupyter-widgets/base",
            "_view_module_version": "1.2.0",
            "_view_name": "StyleView",
            "description_width": ""
          }
        },
        "66fa20f48dfc4cd4af918815dcadb543": {
          "model_module": "@jupyter-widgets/controls",
          "model_name": "HBoxModel",
          "model_module_version": "1.5.0",
          "state": {
            "_dom_classes": [],
            "_model_module": "@jupyter-widgets/controls",
            "_model_module_version": "1.5.0",
            "_model_name": "HBoxModel",
            "_view_count": null,
            "_view_module": "@jupyter-widgets/controls",
            "_view_module_version": "1.5.0",
            "_view_name": "HBoxView",
            "box_style": "",
            "children": [
              "IPY_MODEL_24a63b284b434407b02e62eab969b7f6",
              "IPY_MODEL_ef123a5bd7ca4a139d9463765b730213",
              "IPY_MODEL_1b444c4308d247a7b6e007ba37443c92"
            ],
            "layout": "IPY_MODEL_36f9f41d446b444cbdbfacdb9a3e862d"
          }
        },
        "24a63b284b434407b02e62eab969b7f6": {
          "model_module": "@jupyter-widgets/controls",
          "model_name": "HTMLModel",
          "model_module_version": "1.5.0",
          "state": {
            "_dom_classes": [],
            "_model_module": "@jupyter-widgets/controls",
            "_model_module_version": "1.5.0",
            "_model_name": "HTMLModel",
            "_view_count": null,
            "_view_module": "@jupyter-widgets/controls",
            "_view_module_version": "1.5.0",
            "_view_name": "HTMLView",
            "description": "",
            "description_tooltip": null,
            "layout": "IPY_MODEL_d04ff1e47f324371a92072b012f9a716",
            "placeholder": "​",
            "style": "IPY_MODEL_7f3ee4795e7545f2816988d61b82eb67",
            "value": "Downloading: 100%"
          }
        },
        "ef123a5bd7ca4a139d9463765b730213": {
          "model_module": "@jupyter-widgets/controls",
          "model_name": "FloatProgressModel",
          "model_module_version": "1.5.0",
          "state": {
            "_dom_classes": [],
            "_model_module": "@jupyter-widgets/controls",
            "_model_module_version": "1.5.0",
            "_model_name": "FloatProgressModel",
            "_view_count": null,
            "_view_module": "@jupyter-widgets/controls",
            "_view_module_version": "1.5.0",
            "_view_name": "ProgressView",
            "bar_style": "success",
            "description": "",
            "description_tooltip": null,
            "layout": "IPY_MODEL_a42c8cb1e0a8405382a6aac7764d189d",
            "max": 29,
            "min": 0,
            "orientation": "horizontal",
            "style": "IPY_MODEL_257f3c6ba0674129a155499ead63a7d7",
            "value": 29
          }
        },
        "1b444c4308d247a7b6e007ba37443c92": {
          "model_module": "@jupyter-widgets/controls",
          "model_name": "HTMLModel",
          "model_module_version": "1.5.0",
          "state": {
            "_dom_classes": [],
            "_model_module": "@jupyter-widgets/controls",
            "_model_module_version": "1.5.0",
            "_model_name": "HTMLModel",
            "_view_count": null,
            "_view_module": "@jupyter-widgets/controls",
            "_view_module_version": "1.5.0",
            "_view_name": "HTMLView",
            "description": "",
            "description_tooltip": null,
            "layout": "IPY_MODEL_4023ace00f624a3d97c4b4ee6bf6764b",
            "placeholder": "​",
            "style": "IPY_MODEL_671fe728a2f540dda8316e6ddb0e0682",
            "value": " 29.0/29.0 [00:00&lt;00:00, 662B/s]"
          }
        },
        "36f9f41d446b444cbdbfacdb9a3e862d": {
          "model_module": "@jupyter-widgets/base",
          "model_name": "LayoutModel",
          "model_module_version": "1.2.0",
          "state": {
            "_model_module": "@jupyter-widgets/base",
            "_model_module_version": "1.2.0",
            "_model_name": "LayoutModel",
            "_view_count": null,
            "_view_module": "@jupyter-widgets/base",
            "_view_module_version": "1.2.0",
            "_view_name": "LayoutView",
            "align_content": null,
            "align_items": null,
            "align_self": null,
            "border": null,
            "bottom": null,
            "display": null,
            "flex": null,
            "flex_flow": null,
            "grid_area": null,
            "grid_auto_columns": null,
            "grid_auto_flow": null,
            "grid_auto_rows": null,
            "grid_column": null,
            "grid_gap": null,
            "grid_row": null,
            "grid_template_areas": null,
            "grid_template_columns": null,
            "grid_template_rows": null,
            "height": null,
            "justify_content": null,
            "justify_items": null,
            "left": null,
            "margin": null,
            "max_height": null,
            "max_width": null,
            "min_height": null,
            "min_width": null,
            "object_fit": null,
            "object_position": null,
            "order": null,
            "overflow": null,
            "overflow_x": null,
            "overflow_y": null,
            "padding": null,
            "right": null,
            "top": null,
            "visibility": null,
            "width": null
          }
        },
        "d04ff1e47f324371a92072b012f9a716": {
          "model_module": "@jupyter-widgets/base",
          "model_name": "LayoutModel",
          "model_module_version": "1.2.0",
          "state": {
            "_model_module": "@jupyter-widgets/base",
            "_model_module_version": "1.2.0",
            "_model_name": "LayoutModel",
            "_view_count": null,
            "_view_module": "@jupyter-widgets/base",
            "_view_module_version": "1.2.0",
            "_view_name": "LayoutView",
            "align_content": null,
            "align_items": null,
            "align_self": null,
            "border": null,
            "bottom": null,
            "display": null,
            "flex": null,
            "flex_flow": null,
            "grid_area": null,
            "grid_auto_columns": null,
            "grid_auto_flow": null,
            "grid_auto_rows": null,
            "grid_column": null,
            "grid_gap": null,
            "grid_row": null,
            "grid_template_areas": null,
            "grid_template_columns": null,
            "grid_template_rows": null,
            "height": null,
            "justify_content": null,
            "justify_items": null,
            "left": null,
            "margin": null,
            "max_height": null,
            "max_width": null,
            "min_height": null,
            "min_width": null,
            "object_fit": null,
            "object_position": null,
            "order": null,
            "overflow": null,
            "overflow_x": null,
            "overflow_y": null,
            "padding": null,
            "right": null,
            "top": null,
            "visibility": null,
            "width": null
          }
        },
        "7f3ee4795e7545f2816988d61b82eb67": {
          "model_module": "@jupyter-widgets/controls",
          "model_name": "DescriptionStyleModel",
          "model_module_version": "1.5.0",
          "state": {
            "_model_module": "@jupyter-widgets/controls",
            "_model_module_version": "1.5.0",
            "_model_name": "DescriptionStyleModel",
            "_view_count": null,
            "_view_module": "@jupyter-widgets/base",
            "_view_module_version": "1.2.0",
            "_view_name": "StyleView",
            "description_width": ""
          }
        },
        "a42c8cb1e0a8405382a6aac7764d189d": {
          "model_module": "@jupyter-widgets/base",
          "model_name": "LayoutModel",
          "model_module_version": "1.2.0",
          "state": {
            "_model_module": "@jupyter-widgets/base",
            "_model_module_version": "1.2.0",
            "_model_name": "LayoutModel",
            "_view_count": null,
            "_view_module": "@jupyter-widgets/base",
            "_view_module_version": "1.2.0",
            "_view_name": "LayoutView",
            "align_content": null,
            "align_items": null,
            "align_self": null,
            "border": null,
            "bottom": null,
            "display": null,
            "flex": null,
            "flex_flow": null,
            "grid_area": null,
            "grid_auto_columns": null,
            "grid_auto_flow": null,
            "grid_auto_rows": null,
            "grid_column": null,
            "grid_gap": null,
            "grid_row": null,
            "grid_template_areas": null,
            "grid_template_columns": null,
            "grid_template_rows": null,
            "height": null,
            "justify_content": null,
            "justify_items": null,
            "left": null,
            "margin": null,
            "max_height": null,
            "max_width": null,
            "min_height": null,
            "min_width": null,
            "object_fit": null,
            "object_position": null,
            "order": null,
            "overflow": null,
            "overflow_x": null,
            "overflow_y": null,
            "padding": null,
            "right": null,
            "top": null,
            "visibility": null,
            "width": null
          }
        },
        "257f3c6ba0674129a155499ead63a7d7": {
          "model_module": "@jupyter-widgets/controls",
          "model_name": "ProgressStyleModel",
          "model_module_version": "1.5.0",
          "state": {
            "_model_module": "@jupyter-widgets/controls",
            "_model_module_version": "1.5.0",
            "_model_name": "ProgressStyleModel",
            "_view_count": null,
            "_view_module": "@jupyter-widgets/base",
            "_view_module_version": "1.2.0",
            "_view_name": "StyleView",
            "bar_color": null,
            "description_width": ""
          }
        },
        "4023ace00f624a3d97c4b4ee6bf6764b": {
          "model_module": "@jupyter-widgets/base",
          "model_name": "LayoutModel",
          "model_module_version": "1.2.0",
          "state": {
            "_model_module": "@jupyter-widgets/base",
            "_model_module_version": "1.2.0",
            "_model_name": "LayoutModel",
            "_view_count": null,
            "_view_module": "@jupyter-widgets/base",
            "_view_module_version": "1.2.0",
            "_view_name": "LayoutView",
            "align_content": null,
            "align_items": null,
            "align_self": null,
            "border": null,
            "bottom": null,
            "display": null,
            "flex": null,
            "flex_flow": null,
            "grid_area": null,
            "grid_auto_columns": null,
            "grid_auto_flow": null,
            "grid_auto_rows": null,
            "grid_column": null,
            "grid_gap": null,
            "grid_row": null,
            "grid_template_areas": null,
            "grid_template_columns": null,
            "grid_template_rows": null,
            "height": null,
            "justify_content": null,
            "justify_items": null,
            "left": null,
            "margin": null,
            "max_height": null,
            "max_width": null,
            "min_height": null,
            "min_width": null,
            "object_fit": null,
            "object_position": null,
            "order": null,
            "overflow": null,
            "overflow_x": null,
            "overflow_y": null,
            "padding": null,
            "right": null,
            "top": null,
            "visibility": null,
            "width": null
          }
        },
        "671fe728a2f540dda8316e6ddb0e0682": {
          "model_module": "@jupyter-widgets/controls",
          "model_name": "DescriptionStyleModel",
          "model_module_version": "1.5.0",
          "state": {
            "_model_module": "@jupyter-widgets/controls",
            "_model_module_version": "1.5.0",
            "_model_name": "DescriptionStyleModel",
            "_view_count": null,
            "_view_module": "@jupyter-widgets/base",
            "_view_module_version": "1.2.0",
            "_view_name": "StyleView",
            "description_width": ""
          }
        },
        "7aad01374ed84fd392dae231604f8d88": {
          "model_module": "@jupyter-widgets/controls",
          "model_name": "HBoxModel",
          "model_module_version": "1.5.0",
          "state": {
            "_dom_classes": [],
            "_model_module": "@jupyter-widgets/controls",
            "_model_module_version": "1.5.0",
            "_model_name": "HBoxModel",
            "_view_count": null,
            "_view_module": "@jupyter-widgets/controls",
            "_view_module_version": "1.5.0",
            "_view_name": "HBoxView",
            "box_style": "",
            "children": [
              "IPY_MODEL_54c7e6c82ad74b679ebf874534f32be1",
              "IPY_MODEL_366377b86a4c40b597464461ccd7462c",
              "IPY_MODEL_289471d376e94dacbdc7d61808e6c5ee"
            ],
            "layout": "IPY_MODEL_0f53427f54af47fd870cce3c5ff3a446"
          }
        },
        "54c7e6c82ad74b679ebf874534f32be1": {
          "model_module": "@jupyter-widgets/controls",
          "model_name": "HTMLModel",
          "model_module_version": "1.5.0",
          "state": {
            "_dom_classes": [],
            "_model_module": "@jupyter-widgets/controls",
            "_model_module_version": "1.5.0",
            "_model_name": "HTMLModel",
            "_view_count": null,
            "_view_module": "@jupyter-widgets/controls",
            "_view_module_version": "1.5.0",
            "_view_name": "HTMLView",
            "description": "",
            "description_tooltip": null,
            "layout": "IPY_MODEL_6fe7ed24f8854b67979697d50b19371a",
            "placeholder": "​",
            "style": "IPY_MODEL_7056e4e4a02249d2b6831db129105f90",
            "value": "Downloading: 100%"
          }
        },
        "366377b86a4c40b597464461ccd7462c": {
          "model_module": "@jupyter-widgets/controls",
          "model_name": "FloatProgressModel",
          "model_module_version": "1.5.0",
          "state": {
            "_dom_classes": [],
            "_model_module": "@jupyter-widgets/controls",
            "_model_module_version": "1.5.0",
            "_model_name": "FloatProgressModel",
            "_view_count": null,
            "_view_module": "@jupyter-widgets/controls",
            "_view_module_version": "1.5.0",
            "_view_name": "ProgressView",
            "bar_style": "success",
            "description": "",
            "description_tooltip": null,
            "layout": "IPY_MODEL_59e5d775290c49a99a03e7a0fbad8e94",
            "max": 995526,
            "min": 0,
            "orientation": "horizontal",
            "style": "IPY_MODEL_64292b7c21d641cc882a721156f535ca",
            "value": 995526
          }
        },
        "289471d376e94dacbdc7d61808e6c5ee": {
          "model_module": "@jupyter-widgets/controls",
          "model_name": "HTMLModel",
          "model_module_version": "1.5.0",
          "state": {
            "_dom_classes": [],
            "_model_module": "@jupyter-widgets/controls",
            "_model_module_version": "1.5.0",
            "_model_name": "HTMLModel",
            "_view_count": null,
            "_view_module": "@jupyter-widgets/controls",
            "_view_module_version": "1.5.0",
            "_view_name": "HTMLView",
            "description": "",
            "description_tooltip": null,
            "layout": "IPY_MODEL_d497e3a5ece645d1b774fdb68804388e",
            "placeholder": "​",
            "style": "IPY_MODEL_6d8b536aa2c4484abbc49c339a01a4bf",
            "value": " 996k/996k [00:01&lt;00:00, 1.30MB/s]"
          }
        },
        "0f53427f54af47fd870cce3c5ff3a446": {
          "model_module": "@jupyter-widgets/base",
          "model_name": "LayoutModel",
          "model_module_version": "1.2.0",
          "state": {
            "_model_module": "@jupyter-widgets/base",
            "_model_module_version": "1.2.0",
            "_model_name": "LayoutModel",
            "_view_count": null,
            "_view_module": "@jupyter-widgets/base",
            "_view_module_version": "1.2.0",
            "_view_name": "LayoutView",
            "align_content": null,
            "align_items": null,
            "align_self": null,
            "border": null,
            "bottom": null,
            "display": null,
            "flex": null,
            "flex_flow": null,
            "grid_area": null,
            "grid_auto_columns": null,
            "grid_auto_flow": null,
            "grid_auto_rows": null,
            "grid_column": null,
            "grid_gap": null,
            "grid_row": null,
            "grid_template_areas": null,
            "grid_template_columns": null,
            "grid_template_rows": null,
            "height": null,
            "justify_content": null,
            "justify_items": null,
            "left": null,
            "margin": null,
            "max_height": null,
            "max_width": null,
            "min_height": null,
            "min_width": null,
            "object_fit": null,
            "object_position": null,
            "order": null,
            "overflow": null,
            "overflow_x": null,
            "overflow_y": null,
            "padding": null,
            "right": null,
            "top": null,
            "visibility": null,
            "width": null
          }
        },
        "6fe7ed24f8854b67979697d50b19371a": {
          "model_module": "@jupyter-widgets/base",
          "model_name": "LayoutModel",
          "model_module_version": "1.2.0",
          "state": {
            "_model_module": "@jupyter-widgets/base",
            "_model_module_version": "1.2.0",
            "_model_name": "LayoutModel",
            "_view_count": null,
            "_view_module": "@jupyter-widgets/base",
            "_view_module_version": "1.2.0",
            "_view_name": "LayoutView",
            "align_content": null,
            "align_items": null,
            "align_self": null,
            "border": null,
            "bottom": null,
            "display": null,
            "flex": null,
            "flex_flow": null,
            "grid_area": null,
            "grid_auto_columns": null,
            "grid_auto_flow": null,
            "grid_auto_rows": null,
            "grid_column": null,
            "grid_gap": null,
            "grid_row": null,
            "grid_template_areas": null,
            "grid_template_columns": null,
            "grid_template_rows": null,
            "height": null,
            "justify_content": null,
            "justify_items": null,
            "left": null,
            "margin": null,
            "max_height": null,
            "max_width": null,
            "min_height": null,
            "min_width": null,
            "object_fit": null,
            "object_position": null,
            "order": null,
            "overflow": null,
            "overflow_x": null,
            "overflow_y": null,
            "padding": null,
            "right": null,
            "top": null,
            "visibility": null,
            "width": null
          }
        },
        "7056e4e4a02249d2b6831db129105f90": {
          "model_module": "@jupyter-widgets/controls",
          "model_name": "DescriptionStyleModel",
          "model_module_version": "1.5.0",
          "state": {
            "_model_module": "@jupyter-widgets/controls",
            "_model_module_version": "1.5.0",
            "_model_name": "DescriptionStyleModel",
            "_view_count": null,
            "_view_module": "@jupyter-widgets/base",
            "_view_module_version": "1.2.0",
            "_view_name": "StyleView",
            "description_width": ""
          }
        },
        "59e5d775290c49a99a03e7a0fbad8e94": {
          "model_module": "@jupyter-widgets/base",
          "model_name": "LayoutModel",
          "model_module_version": "1.2.0",
          "state": {
            "_model_module": "@jupyter-widgets/base",
            "_model_module_version": "1.2.0",
            "_model_name": "LayoutModel",
            "_view_count": null,
            "_view_module": "@jupyter-widgets/base",
            "_view_module_version": "1.2.0",
            "_view_name": "LayoutView",
            "align_content": null,
            "align_items": null,
            "align_self": null,
            "border": null,
            "bottom": null,
            "display": null,
            "flex": null,
            "flex_flow": null,
            "grid_area": null,
            "grid_auto_columns": null,
            "grid_auto_flow": null,
            "grid_auto_rows": null,
            "grid_column": null,
            "grid_gap": null,
            "grid_row": null,
            "grid_template_areas": null,
            "grid_template_columns": null,
            "grid_template_rows": null,
            "height": null,
            "justify_content": null,
            "justify_items": null,
            "left": null,
            "margin": null,
            "max_height": null,
            "max_width": null,
            "min_height": null,
            "min_width": null,
            "object_fit": null,
            "object_position": null,
            "order": null,
            "overflow": null,
            "overflow_x": null,
            "overflow_y": null,
            "padding": null,
            "right": null,
            "top": null,
            "visibility": null,
            "width": null
          }
        },
        "64292b7c21d641cc882a721156f535ca": {
          "model_module": "@jupyter-widgets/controls",
          "model_name": "ProgressStyleModel",
          "model_module_version": "1.5.0",
          "state": {
            "_model_module": "@jupyter-widgets/controls",
            "_model_module_version": "1.5.0",
            "_model_name": "ProgressStyleModel",
            "_view_count": null,
            "_view_module": "@jupyter-widgets/base",
            "_view_module_version": "1.2.0",
            "_view_name": "StyleView",
            "bar_color": null,
            "description_width": ""
          }
        },
        "d497e3a5ece645d1b774fdb68804388e": {
          "model_module": "@jupyter-widgets/base",
          "model_name": "LayoutModel",
          "model_module_version": "1.2.0",
          "state": {
            "_model_module": "@jupyter-widgets/base",
            "_model_module_version": "1.2.0",
            "_model_name": "LayoutModel",
            "_view_count": null,
            "_view_module": "@jupyter-widgets/base",
            "_view_module_version": "1.2.0",
            "_view_name": "LayoutView",
            "align_content": null,
            "align_items": null,
            "align_self": null,
            "border": null,
            "bottom": null,
            "display": null,
            "flex": null,
            "flex_flow": null,
            "grid_area": null,
            "grid_auto_columns": null,
            "grid_auto_flow": null,
            "grid_auto_rows": null,
            "grid_column": null,
            "grid_gap": null,
            "grid_row": null,
            "grid_template_areas": null,
            "grid_template_columns": null,
            "grid_template_rows": null,
            "height": null,
            "justify_content": null,
            "justify_items": null,
            "left": null,
            "margin": null,
            "max_height": null,
            "max_width": null,
            "min_height": null,
            "min_width": null,
            "object_fit": null,
            "object_position": null,
            "order": null,
            "overflow": null,
            "overflow_x": null,
            "overflow_y": null,
            "padding": null,
            "right": null,
            "top": null,
            "visibility": null,
            "width": null
          }
        },
        "6d8b536aa2c4484abbc49c339a01a4bf": {
          "model_module": "@jupyter-widgets/controls",
          "model_name": "DescriptionStyleModel",
          "model_module_version": "1.5.0",
          "state": {
            "_model_module": "@jupyter-widgets/controls",
            "_model_module_version": "1.5.0",
            "_model_name": "DescriptionStyleModel",
            "_view_count": null,
            "_view_module": "@jupyter-widgets/base",
            "_view_module_version": "1.2.0",
            "_view_name": "StyleView",
            "description_width": ""
          }
        },
        "8a06fb3359954132bb254956f0445350": {
          "model_module": "@jupyter-widgets/controls",
          "model_name": "HBoxModel",
          "model_module_version": "1.5.0",
          "state": {
            "_dom_classes": [],
            "_model_module": "@jupyter-widgets/controls",
            "_model_module_version": "1.5.0",
            "_model_name": "HBoxModel",
            "_view_count": null,
            "_view_module": "@jupyter-widgets/controls",
            "_view_module_version": "1.5.0",
            "_view_name": "HBoxView",
            "box_style": "",
            "children": [
              "IPY_MODEL_7acd8ed17fdf4d71b6c431c454351178",
              "IPY_MODEL_4ef848d3466a4b8688d98dea20dc7580",
              "IPY_MODEL_06eead790d8d4534a584952bc84050bf"
            ],
            "layout": "IPY_MODEL_67e32d78bf7b4eec89886ccd2fccb184"
          }
        },
        "7acd8ed17fdf4d71b6c431c454351178": {
          "model_module": "@jupyter-widgets/controls",
          "model_name": "HTMLModel",
          "model_module_version": "1.5.0",
          "state": {
            "_dom_classes": [],
            "_model_module": "@jupyter-widgets/controls",
            "_model_module_version": "1.5.0",
            "_model_name": "HTMLModel",
            "_view_count": null,
            "_view_module": "@jupyter-widgets/controls",
            "_view_module_version": "1.5.0",
            "_view_name": "HTMLView",
            "description": "",
            "description_tooltip": null,
            "layout": "IPY_MODEL_0aa99e3de44346ba818c8e11612fb973",
            "placeholder": "​",
            "style": "IPY_MODEL_1264fa34d795423b936e1ecd61e651cf",
            "value": "Downloading: 100%"
          }
        },
        "4ef848d3466a4b8688d98dea20dc7580": {
          "model_module": "@jupyter-widgets/controls",
          "model_name": "FloatProgressModel",
          "model_module_version": "1.5.0",
          "state": {
            "_dom_classes": [],
            "_model_module": "@jupyter-widgets/controls",
            "_model_module_version": "1.5.0",
            "_model_name": "FloatProgressModel",
            "_view_count": null,
            "_view_module": "@jupyter-widgets/controls",
            "_view_module_version": "1.5.0",
            "_view_name": "ProgressView",
            "bar_style": "success",
            "description": "",
            "description_tooltip": null,
            "layout": "IPY_MODEL_e556e8ab2ef34780a08906617857ce14",
            "max": 1961828,
            "min": 0,
            "orientation": "horizontal",
            "style": "IPY_MODEL_c0e4180fc55e417facc6bcc08a01c22f",
            "value": 1961828
          }
        },
        "06eead790d8d4534a584952bc84050bf": {
          "model_module": "@jupyter-widgets/controls",
          "model_name": "HTMLModel",
          "model_module_version": "1.5.0",
          "state": {
            "_dom_classes": [],
            "_model_module": "@jupyter-widgets/controls",
            "_model_module_version": "1.5.0",
            "_model_name": "HTMLModel",
            "_view_count": null,
            "_view_module": "@jupyter-widgets/controls",
            "_view_module_version": "1.5.0",
            "_view_name": "HTMLView",
            "description": "",
            "description_tooltip": null,
            "layout": "IPY_MODEL_cca642b8b2a54fd8b260afddaf13f06b",
            "placeholder": "​",
            "style": "IPY_MODEL_bca6d88742df44edb67c1d2b98bd74df",
            "value": " 1.96M/1.96M [00:01&lt;00:00, 2.36MB/s]"
          }
        },
        "67e32d78bf7b4eec89886ccd2fccb184": {
          "model_module": "@jupyter-widgets/base",
          "model_name": "LayoutModel",
          "model_module_version": "1.2.0",
          "state": {
            "_model_module": "@jupyter-widgets/base",
            "_model_module_version": "1.2.0",
            "_model_name": "LayoutModel",
            "_view_count": null,
            "_view_module": "@jupyter-widgets/base",
            "_view_module_version": "1.2.0",
            "_view_name": "LayoutView",
            "align_content": null,
            "align_items": null,
            "align_self": null,
            "border": null,
            "bottom": null,
            "display": null,
            "flex": null,
            "flex_flow": null,
            "grid_area": null,
            "grid_auto_columns": null,
            "grid_auto_flow": null,
            "grid_auto_rows": null,
            "grid_column": null,
            "grid_gap": null,
            "grid_row": null,
            "grid_template_areas": null,
            "grid_template_columns": null,
            "grid_template_rows": null,
            "height": null,
            "justify_content": null,
            "justify_items": null,
            "left": null,
            "margin": null,
            "max_height": null,
            "max_width": null,
            "min_height": null,
            "min_width": null,
            "object_fit": null,
            "object_position": null,
            "order": null,
            "overflow": null,
            "overflow_x": null,
            "overflow_y": null,
            "padding": null,
            "right": null,
            "top": null,
            "visibility": null,
            "width": null
          }
        },
        "0aa99e3de44346ba818c8e11612fb973": {
          "model_module": "@jupyter-widgets/base",
          "model_name": "LayoutModel",
          "model_module_version": "1.2.0",
          "state": {
            "_model_module": "@jupyter-widgets/base",
            "_model_module_version": "1.2.0",
            "_model_name": "LayoutModel",
            "_view_count": null,
            "_view_module": "@jupyter-widgets/base",
            "_view_module_version": "1.2.0",
            "_view_name": "LayoutView",
            "align_content": null,
            "align_items": null,
            "align_self": null,
            "border": null,
            "bottom": null,
            "display": null,
            "flex": null,
            "flex_flow": null,
            "grid_area": null,
            "grid_auto_columns": null,
            "grid_auto_flow": null,
            "grid_auto_rows": null,
            "grid_column": null,
            "grid_gap": null,
            "grid_row": null,
            "grid_template_areas": null,
            "grid_template_columns": null,
            "grid_template_rows": null,
            "height": null,
            "justify_content": null,
            "justify_items": null,
            "left": null,
            "margin": null,
            "max_height": null,
            "max_width": null,
            "min_height": null,
            "min_width": null,
            "object_fit": null,
            "object_position": null,
            "order": null,
            "overflow": null,
            "overflow_x": null,
            "overflow_y": null,
            "padding": null,
            "right": null,
            "top": null,
            "visibility": null,
            "width": null
          }
        },
        "1264fa34d795423b936e1ecd61e651cf": {
          "model_module": "@jupyter-widgets/controls",
          "model_name": "DescriptionStyleModel",
          "model_module_version": "1.5.0",
          "state": {
            "_model_module": "@jupyter-widgets/controls",
            "_model_module_version": "1.5.0",
            "_model_name": "DescriptionStyleModel",
            "_view_count": null,
            "_view_module": "@jupyter-widgets/base",
            "_view_module_version": "1.2.0",
            "_view_name": "StyleView",
            "description_width": ""
          }
        },
        "e556e8ab2ef34780a08906617857ce14": {
          "model_module": "@jupyter-widgets/base",
          "model_name": "LayoutModel",
          "model_module_version": "1.2.0",
          "state": {
            "_model_module": "@jupyter-widgets/base",
            "_model_module_version": "1.2.0",
            "_model_name": "LayoutModel",
            "_view_count": null,
            "_view_module": "@jupyter-widgets/base",
            "_view_module_version": "1.2.0",
            "_view_name": "LayoutView",
            "align_content": null,
            "align_items": null,
            "align_self": null,
            "border": null,
            "bottom": null,
            "display": null,
            "flex": null,
            "flex_flow": null,
            "grid_area": null,
            "grid_auto_columns": null,
            "grid_auto_flow": null,
            "grid_auto_rows": null,
            "grid_column": null,
            "grid_gap": null,
            "grid_row": null,
            "grid_template_areas": null,
            "grid_template_columns": null,
            "grid_template_rows": null,
            "height": null,
            "justify_content": null,
            "justify_items": null,
            "left": null,
            "margin": null,
            "max_height": null,
            "max_width": null,
            "min_height": null,
            "min_width": null,
            "object_fit": null,
            "object_position": null,
            "order": null,
            "overflow": null,
            "overflow_x": null,
            "overflow_y": null,
            "padding": null,
            "right": null,
            "top": null,
            "visibility": null,
            "width": null
          }
        },
        "c0e4180fc55e417facc6bcc08a01c22f": {
          "model_module": "@jupyter-widgets/controls",
          "model_name": "ProgressStyleModel",
          "model_module_version": "1.5.0",
          "state": {
            "_model_module": "@jupyter-widgets/controls",
            "_model_module_version": "1.5.0",
            "_model_name": "ProgressStyleModel",
            "_view_count": null,
            "_view_module": "@jupyter-widgets/base",
            "_view_module_version": "1.2.0",
            "_view_name": "StyleView",
            "bar_color": null,
            "description_width": ""
          }
        },
        "cca642b8b2a54fd8b260afddaf13f06b": {
          "model_module": "@jupyter-widgets/base",
          "model_name": "LayoutModel",
          "model_module_version": "1.2.0",
          "state": {
            "_model_module": "@jupyter-widgets/base",
            "_model_module_version": "1.2.0",
            "_model_name": "LayoutModel",
            "_view_count": null,
            "_view_module": "@jupyter-widgets/base",
            "_view_module_version": "1.2.0",
            "_view_name": "LayoutView",
            "align_content": null,
            "align_items": null,
            "align_self": null,
            "border": null,
            "bottom": null,
            "display": null,
            "flex": null,
            "flex_flow": null,
            "grid_area": null,
            "grid_auto_columns": null,
            "grid_auto_flow": null,
            "grid_auto_rows": null,
            "grid_column": null,
            "grid_gap": null,
            "grid_row": null,
            "grid_template_areas": null,
            "grid_template_columns": null,
            "grid_template_rows": null,
            "height": null,
            "justify_content": null,
            "justify_items": null,
            "left": null,
            "margin": null,
            "max_height": null,
            "max_width": null,
            "min_height": null,
            "min_width": null,
            "object_fit": null,
            "object_position": null,
            "order": null,
            "overflow": null,
            "overflow_x": null,
            "overflow_y": null,
            "padding": null,
            "right": null,
            "top": null,
            "visibility": null,
            "width": null
          }
        },
        "bca6d88742df44edb67c1d2b98bd74df": {
          "model_module": "@jupyter-widgets/controls",
          "model_name": "DescriptionStyleModel",
          "model_module_version": "1.5.0",
          "state": {
            "_model_module": "@jupyter-widgets/controls",
            "_model_module_version": "1.5.0",
            "_model_name": "DescriptionStyleModel",
            "_view_count": null,
            "_view_module": "@jupyter-widgets/base",
            "_view_module_version": "1.2.0",
            "_view_name": "StyleView",
            "description_width": ""
          }
        },
        "0529e0f7118947ee9aa06b174cc4dd71": {
          "model_module": "@jupyter-widgets/controls",
          "model_name": "HBoxModel",
          "model_module_version": "1.5.0",
          "state": {
            "_dom_classes": [],
            "_model_module": "@jupyter-widgets/controls",
            "_model_module_version": "1.5.0",
            "_model_name": "HBoxModel",
            "_view_count": null,
            "_view_module": "@jupyter-widgets/controls",
            "_view_module_version": "1.5.0",
            "_view_name": "HBoxView",
            "box_style": "",
            "children": [
              "IPY_MODEL_5b2b842451a84efdb4457abe45658844",
              "IPY_MODEL_7417880e7aa04c8c90f0e664a82186df",
              "IPY_MODEL_27fd8501f55a4d699910bc5309a5b8d8"
            ],
            "layout": "IPY_MODEL_08149197237b4299a713a762acdf470b"
          }
        },
        "5b2b842451a84efdb4457abe45658844": {
          "model_module": "@jupyter-widgets/controls",
          "model_name": "HTMLModel",
          "model_module_version": "1.5.0",
          "state": {
            "_dom_classes": [],
            "_model_module": "@jupyter-widgets/controls",
            "_model_module_version": "1.5.0",
            "_model_name": "HTMLModel",
            "_view_count": null,
            "_view_module": "@jupyter-widgets/controls",
            "_view_module_version": "1.5.0",
            "_view_name": "HTMLView",
            "description": "",
            "description_tooltip": null,
            "layout": "IPY_MODEL_12bda55adb88447aab8a1f00e059271c",
            "placeholder": "​",
            "style": "IPY_MODEL_6de512d576b947d6aea7365f9dc1871d",
            "value": "Downloading: 100%"
          }
        },
        "7417880e7aa04c8c90f0e664a82186df": {
          "model_module": "@jupyter-widgets/controls",
          "model_name": "FloatProgressModel",
          "model_module_version": "1.5.0",
          "state": {
            "_dom_classes": [],
            "_model_module": "@jupyter-widgets/controls",
            "_model_module_version": "1.5.0",
            "_model_name": "FloatProgressModel",
            "_view_count": null,
            "_view_module": "@jupyter-widgets/controls",
            "_view_module_version": "1.5.0",
            "_view_name": "ProgressView",
            "bar_style": "success",
            "description": "",
            "description_tooltip": null,
            "layout": "IPY_MODEL_1fafc8c005ac41aebc228053835857fb",
            "max": 615,
            "min": 0,
            "orientation": "horizontal",
            "style": "IPY_MODEL_05d6ada633ce4b878a0687687e6b0822",
            "value": 615
          }
        },
        "27fd8501f55a4d699910bc5309a5b8d8": {
          "model_module": "@jupyter-widgets/controls",
          "model_name": "HTMLModel",
          "model_module_version": "1.5.0",
          "state": {
            "_dom_classes": [],
            "_model_module": "@jupyter-widgets/controls",
            "_model_module_version": "1.5.0",
            "_model_name": "HTMLModel",
            "_view_count": null,
            "_view_module": "@jupyter-widgets/controls",
            "_view_module_version": "1.5.0",
            "_view_name": "HTMLView",
            "description": "",
            "description_tooltip": null,
            "layout": "IPY_MODEL_c2bba172b77e48b7be1c84addd5a03d6",
            "placeholder": "​",
            "style": "IPY_MODEL_0bef61d24ea74fae8ba5e9259f4642a9",
            "value": " 615/615 [00:00&lt;00:00, 22.7kB/s]"
          }
        },
        "08149197237b4299a713a762acdf470b": {
          "model_module": "@jupyter-widgets/base",
          "model_name": "LayoutModel",
          "model_module_version": "1.2.0",
          "state": {
            "_model_module": "@jupyter-widgets/base",
            "_model_module_version": "1.2.0",
            "_model_name": "LayoutModel",
            "_view_count": null,
            "_view_module": "@jupyter-widgets/base",
            "_view_module_version": "1.2.0",
            "_view_name": "LayoutView",
            "align_content": null,
            "align_items": null,
            "align_self": null,
            "border": null,
            "bottom": null,
            "display": null,
            "flex": null,
            "flex_flow": null,
            "grid_area": null,
            "grid_auto_columns": null,
            "grid_auto_flow": null,
            "grid_auto_rows": null,
            "grid_column": null,
            "grid_gap": null,
            "grid_row": null,
            "grid_template_areas": null,
            "grid_template_columns": null,
            "grid_template_rows": null,
            "height": null,
            "justify_content": null,
            "justify_items": null,
            "left": null,
            "margin": null,
            "max_height": null,
            "max_width": null,
            "min_height": null,
            "min_width": null,
            "object_fit": null,
            "object_position": null,
            "order": null,
            "overflow": null,
            "overflow_x": null,
            "overflow_y": null,
            "padding": null,
            "right": null,
            "top": null,
            "visibility": null,
            "width": null
          }
        },
        "12bda55adb88447aab8a1f00e059271c": {
          "model_module": "@jupyter-widgets/base",
          "model_name": "LayoutModel",
          "model_module_version": "1.2.0",
          "state": {
            "_model_module": "@jupyter-widgets/base",
            "_model_module_version": "1.2.0",
            "_model_name": "LayoutModel",
            "_view_count": null,
            "_view_module": "@jupyter-widgets/base",
            "_view_module_version": "1.2.0",
            "_view_name": "LayoutView",
            "align_content": null,
            "align_items": null,
            "align_self": null,
            "border": null,
            "bottom": null,
            "display": null,
            "flex": null,
            "flex_flow": null,
            "grid_area": null,
            "grid_auto_columns": null,
            "grid_auto_flow": null,
            "grid_auto_rows": null,
            "grid_column": null,
            "grid_gap": null,
            "grid_row": null,
            "grid_template_areas": null,
            "grid_template_columns": null,
            "grid_template_rows": null,
            "height": null,
            "justify_content": null,
            "justify_items": null,
            "left": null,
            "margin": null,
            "max_height": null,
            "max_width": null,
            "min_height": null,
            "min_width": null,
            "object_fit": null,
            "object_position": null,
            "order": null,
            "overflow": null,
            "overflow_x": null,
            "overflow_y": null,
            "padding": null,
            "right": null,
            "top": null,
            "visibility": null,
            "width": null
          }
        },
        "6de512d576b947d6aea7365f9dc1871d": {
          "model_module": "@jupyter-widgets/controls",
          "model_name": "DescriptionStyleModel",
          "model_module_version": "1.5.0",
          "state": {
            "_model_module": "@jupyter-widgets/controls",
            "_model_module_version": "1.5.0",
            "_model_name": "DescriptionStyleModel",
            "_view_count": null,
            "_view_module": "@jupyter-widgets/base",
            "_view_module_version": "1.2.0",
            "_view_name": "StyleView",
            "description_width": ""
          }
        },
        "1fafc8c005ac41aebc228053835857fb": {
          "model_module": "@jupyter-widgets/base",
          "model_name": "LayoutModel",
          "model_module_version": "1.2.0",
          "state": {
            "_model_module": "@jupyter-widgets/base",
            "_model_module_version": "1.2.0",
            "_model_name": "LayoutModel",
            "_view_count": null,
            "_view_module": "@jupyter-widgets/base",
            "_view_module_version": "1.2.0",
            "_view_name": "LayoutView",
            "align_content": null,
            "align_items": null,
            "align_self": null,
            "border": null,
            "bottom": null,
            "display": null,
            "flex": null,
            "flex_flow": null,
            "grid_area": null,
            "grid_auto_columns": null,
            "grid_auto_flow": null,
            "grid_auto_rows": null,
            "grid_column": null,
            "grid_gap": null,
            "grid_row": null,
            "grid_template_areas": null,
            "grid_template_columns": null,
            "grid_template_rows": null,
            "height": null,
            "justify_content": null,
            "justify_items": null,
            "left": null,
            "margin": null,
            "max_height": null,
            "max_width": null,
            "min_height": null,
            "min_width": null,
            "object_fit": null,
            "object_position": null,
            "order": null,
            "overflow": null,
            "overflow_x": null,
            "overflow_y": null,
            "padding": null,
            "right": null,
            "top": null,
            "visibility": null,
            "width": null
          }
        },
        "05d6ada633ce4b878a0687687e6b0822": {
          "model_module": "@jupyter-widgets/controls",
          "model_name": "ProgressStyleModel",
          "model_module_version": "1.5.0",
          "state": {
            "_model_module": "@jupyter-widgets/controls",
            "_model_module_version": "1.5.0",
            "_model_name": "ProgressStyleModel",
            "_view_count": null,
            "_view_module": "@jupyter-widgets/base",
            "_view_module_version": "1.2.0",
            "_view_name": "StyleView",
            "bar_color": null,
            "description_width": ""
          }
        },
        "c2bba172b77e48b7be1c84addd5a03d6": {
          "model_module": "@jupyter-widgets/base",
          "model_name": "LayoutModel",
          "model_module_version": "1.2.0",
          "state": {
            "_model_module": "@jupyter-widgets/base",
            "_model_module_version": "1.2.0",
            "_model_name": "LayoutModel",
            "_view_count": null,
            "_view_module": "@jupyter-widgets/base",
            "_view_module_version": "1.2.0",
            "_view_name": "LayoutView",
            "align_content": null,
            "align_items": null,
            "align_self": null,
            "border": null,
            "bottom": null,
            "display": null,
            "flex": null,
            "flex_flow": null,
            "grid_area": null,
            "grid_auto_columns": null,
            "grid_auto_flow": null,
            "grid_auto_rows": null,
            "grid_column": null,
            "grid_gap": null,
            "grid_row": null,
            "grid_template_areas": null,
            "grid_template_columns": null,
            "grid_template_rows": null,
            "height": null,
            "justify_content": null,
            "justify_items": null,
            "left": null,
            "margin": null,
            "max_height": null,
            "max_width": null,
            "min_height": null,
            "min_width": null,
            "object_fit": null,
            "object_position": null,
            "order": null,
            "overflow": null,
            "overflow_x": null,
            "overflow_y": null,
            "padding": null,
            "right": null,
            "top": null,
            "visibility": null,
            "width": null
          }
        },
        "0bef61d24ea74fae8ba5e9259f4642a9": {
          "model_module": "@jupyter-widgets/controls",
          "model_name": "DescriptionStyleModel",
          "model_module_version": "1.5.0",
          "state": {
            "_model_module": "@jupyter-widgets/controls",
            "_model_module_version": "1.5.0",
            "_model_name": "DescriptionStyleModel",
            "_view_count": null,
            "_view_module": "@jupyter-widgets/base",
            "_view_module_version": "1.2.0",
            "_view_name": "StyleView",
            "description_width": ""
          }
        },
        "346b1437092f4b3d87d612d3ae7ad907": {
          "model_module": "@jupyter-widgets/controls",
          "model_name": "HBoxModel",
          "model_module_version": "1.5.0",
          "state": {
            "_dom_classes": [],
            "_model_module": "@jupyter-widgets/controls",
            "_model_module_version": "1.5.0",
            "_model_name": "HBoxModel",
            "_view_count": null,
            "_view_module": "@jupyter-widgets/controls",
            "_view_module_version": "1.5.0",
            "_view_name": "HBoxView",
            "box_style": "",
            "children": [
              "IPY_MODEL_eb12e8bff54d40f192d4025c6f73ab11",
              "IPY_MODEL_a58f122f16a24e9db4e3d7e98bb1448c",
              "IPY_MODEL_0ec6c59fd507445d8f74ed8cae1ade1c"
            ],
            "layout": "IPY_MODEL_aa80c4b601954371ae74a1ea963f9777"
          }
        },
        "eb12e8bff54d40f192d4025c6f73ab11": {
          "model_module": "@jupyter-widgets/controls",
          "model_name": "HTMLModel",
          "model_module_version": "1.5.0",
          "state": {
            "_dom_classes": [],
            "_model_module": "@jupyter-widgets/controls",
            "_model_module_version": "1.5.0",
            "_model_name": "HTMLModel",
            "_view_count": null,
            "_view_module": "@jupyter-widgets/controls",
            "_view_module_version": "1.5.0",
            "_view_name": "HTMLView",
            "description": "",
            "description_tooltip": null,
            "layout": "IPY_MODEL_0d73ace928d240c99be33054b3ca65e4",
            "placeholder": "​",
            "style": "IPY_MODEL_533fec3e35ad4abeadbcf916b9c18ebc",
            "value": "Downloading: 100%"
          }
        },
        "a58f122f16a24e9db4e3d7e98bb1448c": {
          "model_module": "@jupyter-widgets/controls",
          "model_name": "FloatProgressModel",
          "model_module_version": "1.5.0",
          "state": {
            "_dom_classes": [],
            "_model_module": "@jupyter-widgets/controls",
            "_model_module_version": "1.5.0",
            "_model_name": "FloatProgressModel",
            "_view_count": null,
            "_view_module": "@jupyter-widgets/controls",
            "_view_module_version": "1.5.0",
            "_view_name": "ProgressView",
            "bar_style": "success",
            "description": "",
            "description_tooltip": null,
            "layout": "IPY_MODEL_d3574405534743b3851ca44488695fd1",
            "max": 1115590446,
            "min": 0,
            "orientation": "horizontal",
            "style": "IPY_MODEL_58d7ba04d19847ee9672620fd6f11663",
            "value": 1115590446
          }
        },
        "0ec6c59fd507445d8f74ed8cae1ade1c": {
          "model_module": "@jupyter-widgets/controls",
          "model_name": "HTMLModel",
          "model_module_version": "1.5.0",
          "state": {
            "_dom_classes": [],
            "_model_module": "@jupyter-widgets/controls",
            "_model_module_version": "1.5.0",
            "_model_name": "HTMLModel",
            "_view_count": null,
            "_view_module": "@jupyter-widgets/controls",
            "_view_module_version": "1.5.0",
            "_view_name": "HTMLView",
            "description": "",
            "description_tooltip": null,
            "layout": "IPY_MODEL_d4838495266b4e06b1b9e7e96258a5fb",
            "placeholder": "​",
            "style": "IPY_MODEL_45315a7867de43ebb91defce0a731140",
            "value": " 1.12G/1.12G [00:22&lt;00:00, 59.3MB/s]"
          }
        },
        "aa80c4b601954371ae74a1ea963f9777": {
          "model_module": "@jupyter-widgets/base",
          "model_name": "LayoutModel",
          "model_module_version": "1.2.0",
          "state": {
            "_model_module": "@jupyter-widgets/base",
            "_model_module_version": "1.2.0",
            "_model_name": "LayoutModel",
            "_view_count": null,
            "_view_module": "@jupyter-widgets/base",
            "_view_module_version": "1.2.0",
            "_view_name": "LayoutView",
            "align_content": null,
            "align_items": null,
            "align_self": null,
            "border": null,
            "bottom": null,
            "display": null,
            "flex": null,
            "flex_flow": null,
            "grid_area": null,
            "grid_auto_columns": null,
            "grid_auto_flow": null,
            "grid_auto_rows": null,
            "grid_column": null,
            "grid_gap": null,
            "grid_row": null,
            "grid_template_areas": null,
            "grid_template_columns": null,
            "grid_template_rows": null,
            "height": null,
            "justify_content": null,
            "justify_items": null,
            "left": null,
            "margin": null,
            "max_height": null,
            "max_width": null,
            "min_height": null,
            "min_width": null,
            "object_fit": null,
            "object_position": null,
            "order": null,
            "overflow": null,
            "overflow_x": null,
            "overflow_y": null,
            "padding": null,
            "right": null,
            "top": null,
            "visibility": null,
            "width": null
          }
        },
        "0d73ace928d240c99be33054b3ca65e4": {
          "model_module": "@jupyter-widgets/base",
          "model_name": "LayoutModel",
          "model_module_version": "1.2.0",
          "state": {
            "_model_module": "@jupyter-widgets/base",
            "_model_module_version": "1.2.0",
            "_model_name": "LayoutModel",
            "_view_count": null,
            "_view_module": "@jupyter-widgets/base",
            "_view_module_version": "1.2.0",
            "_view_name": "LayoutView",
            "align_content": null,
            "align_items": null,
            "align_self": null,
            "border": null,
            "bottom": null,
            "display": null,
            "flex": null,
            "flex_flow": null,
            "grid_area": null,
            "grid_auto_columns": null,
            "grid_auto_flow": null,
            "grid_auto_rows": null,
            "grid_column": null,
            "grid_gap": null,
            "grid_row": null,
            "grid_template_areas": null,
            "grid_template_columns": null,
            "grid_template_rows": null,
            "height": null,
            "justify_content": null,
            "justify_items": null,
            "left": null,
            "margin": null,
            "max_height": null,
            "max_width": null,
            "min_height": null,
            "min_width": null,
            "object_fit": null,
            "object_position": null,
            "order": null,
            "overflow": null,
            "overflow_x": null,
            "overflow_y": null,
            "padding": null,
            "right": null,
            "top": null,
            "visibility": null,
            "width": null
          }
        },
        "533fec3e35ad4abeadbcf916b9c18ebc": {
          "model_module": "@jupyter-widgets/controls",
          "model_name": "DescriptionStyleModel",
          "model_module_version": "1.5.0",
          "state": {
            "_model_module": "@jupyter-widgets/controls",
            "_model_module_version": "1.5.0",
            "_model_name": "DescriptionStyleModel",
            "_view_count": null,
            "_view_module": "@jupyter-widgets/base",
            "_view_module_version": "1.2.0",
            "_view_name": "StyleView",
            "description_width": ""
          }
        },
        "d3574405534743b3851ca44488695fd1": {
          "model_module": "@jupyter-widgets/base",
          "model_name": "LayoutModel",
          "model_module_version": "1.2.0",
          "state": {
            "_model_module": "@jupyter-widgets/base",
            "_model_module_version": "1.2.0",
            "_model_name": "LayoutModel",
            "_view_count": null,
            "_view_module": "@jupyter-widgets/base",
            "_view_module_version": "1.2.0",
            "_view_name": "LayoutView",
            "align_content": null,
            "align_items": null,
            "align_self": null,
            "border": null,
            "bottom": null,
            "display": null,
            "flex": null,
            "flex_flow": null,
            "grid_area": null,
            "grid_auto_columns": null,
            "grid_auto_flow": null,
            "grid_auto_rows": null,
            "grid_column": null,
            "grid_gap": null,
            "grid_row": null,
            "grid_template_areas": null,
            "grid_template_columns": null,
            "grid_template_rows": null,
            "height": null,
            "justify_content": null,
            "justify_items": null,
            "left": null,
            "margin": null,
            "max_height": null,
            "max_width": null,
            "min_height": null,
            "min_width": null,
            "object_fit": null,
            "object_position": null,
            "order": null,
            "overflow": null,
            "overflow_x": null,
            "overflow_y": null,
            "padding": null,
            "right": null,
            "top": null,
            "visibility": null,
            "width": null
          }
        },
        "58d7ba04d19847ee9672620fd6f11663": {
          "model_module": "@jupyter-widgets/controls",
          "model_name": "ProgressStyleModel",
          "model_module_version": "1.5.0",
          "state": {
            "_model_module": "@jupyter-widgets/controls",
            "_model_module_version": "1.5.0",
            "_model_name": "ProgressStyleModel",
            "_view_count": null,
            "_view_module": "@jupyter-widgets/base",
            "_view_module_version": "1.2.0",
            "_view_name": "StyleView",
            "bar_color": null,
            "description_width": ""
          }
        },
        "d4838495266b4e06b1b9e7e96258a5fb": {
          "model_module": "@jupyter-widgets/base",
          "model_name": "LayoutModel",
          "model_module_version": "1.2.0",
          "state": {
            "_model_module": "@jupyter-widgets/base",
            "_model_module_version": "1.2.0",
            "_model_name": "LayoutModel",
            "_view_count": null,
            "_view_module": "@jupyter-widgets/base",
            "_view_module_version": "1.2.0",
            "_view_name": "LayoutView",
            "align_content": null,
            "align_items": null,
            "align_self": null,
            "border": null,
            "bottom": null,
            "display": null,
            "flex": null,
            "flex_flow": null,
            "grid_area": null,
            "grid_auto_columns": null,
            "grid_auto_flow": null,
            "grid_auto_rows": null,
            "grid_column": null,
            "grid_gap": null,
            "grid_row": null,
            "grid_template_areas": null,
            "grid_template_columns": null,
            "grid_template_rows": null,
            "height": null,
            "justify_content": null,
            "justify_items": null,
            "left": null,
            "margin": null,
            "max_height": null,
            "max_width": null,
            "min_height": null,
            "min_width": null,
            "object_fit": null,
            "object_position": null,
            "order": null,
            "overflow": null,
            "overflow_x": null,
            "overflow_y": null,
            "padding": null,
            "right": null,
            "top": null,
            "visibility": null,
            "width": null
          }
        },
        "45315a7867de43ebb91defce0a731140": {
          "model_module": "@jupyter-widgets/controls",
          "model_name": "DescriptionStyleModel",
          "model_module_version": "1.5.0",
          "state": {
            "_model_module": "@jupyter-widgets/controls",
            "_model_module_version": "1.5.0",
            "_model_name": "DescriptionStyleModel",
            "_view_count": null,
            "_view_module": "@jupyter-widgets/base",
            "_view_module_version": "1.2.0",
            "_view_name": "StyleView",
            "description_width": ""
          }
        },
        "d9ea5b02028448e38c24d19ce4f8245f": {
          "model_module": "@jupyter-widgets/controls",
          "model_name": "HBoxModel",
          "model_module_version": "1.5.0",
          "state": {
            "_dom_classes": [],
            "_model_module": "@jupyter-widgets/controls",
            "_model_module_version": "1.5.0",
            "_model_name": "HBoxModel",
            "_view_count": null,
            "_view_module": "@jupyter-widgets/controls",
            "_view_module_version": "1.5.0",
            "_view_name": "HBoxView",
            "box_style": "",
            "children": [
              "IPY_MODEL_f6d908bade884857baeb27c8bcb0a212",
              "IPY_MODEL_abb0b426c0584eb087ad5d21ad0b27f1",
              "IPY_MODEL_f7e1d7ecb05e409f9944eae807030654"
            ],
            "layout": "IPY_MODEL_042b9ce323f240d0925dab9c49e7f594"
          }
        },
        "f6d908bade884857baeb27c8bcb0a212": {
          "model_module": "@jupyter-widgets/controls",
          "model_name": "HTMLModel",
          "model_module_version": "1.5.0",
          "state": {
            "_dom_classes": [],
            "_model_module": "@jupyter-widgets/controls",
            "_model_module_version": "1.5.0",
            "_model_name": "HTMLModel",
            "_view_count": null,
            "_view_module": "@jupyter-widgets/controls",
            "_view_module_version": "1.5.0",
            "_view_name": "HTMLView",
            "description": "",
            "description_tooltip": null,
            "layout": "IPY_MODEL_75aab09c6e59433ea830aa508c1019c0",
            "placeholder": "​",
            "style": "IPY_MODEL_0ec6695b25274a1bbe3679c858b83823",
            "value": "Downloading: 100%"
          }
        },
        "abb0b426c0584eb087ad5d21ad0b27f1": {
          "model_module": "@jupyter-widgets/controls",
          "model_name": "FloatProgressModel",
          "model_module_version": "1.5.0",
          "state": {
            "_dom_classes": [],
            "_model_module": "@jupyter-widgets/controls",
            "_model_module_version": "1.5.0",
            "_model_name": "FloatProgressModel",
            "_view_count": null,
            "_view_module": "@jupyter-widgets/controls",
            "_view_module_version": "1.5.0",
            "_view_name": "ProgressView",
            "bar_style": "success",
            "description": "",
            "description_tooltip": null,
            "layout": "IPY_MODEL_5bb78803bd6e42e783b92853e31751d0",
            "max": 5069051,
            "min": 0,
            "orientation": "horizontal",
            "style": "IPY_MODEL_28a28d1c615442b286df893834b02f44",
            "value": 5069051
          }
        },
        "f7e1d7ecb05e409f9944eae807030654": {
          "model_module": "@jupyter-widgets/controls",
          "model_name": "HTMLModel",
          "model_module_version": "1.5.0",
          "state": {
            "_dom_classes": [],
            "_model_module": "@jupyter-widgets/controls",
            "_model_module_version": "1.5.0",
            "_model_name": "HTMLModel",
            "_view_count": null,
            "_view_module": "@jupyter-widgets/controls",
            "_view_module_version": "1.5.0",
            "_view_name": "HTMLView",
            "description": "",
            "description_tooltip": null,
            "layout": "IPY_MODEL_fce008ef93874f7ab5e3b4cf743cb77b",
            "placeholder": "​",
            "style": "IPY_MODEL_2464f36bd0fb4bdea2a470d28d6c1ea6",
            "value": " 5.07M/5.07M [00:01&lt;00:00, 4.59MB/s]"
          }
        },
        "042b9ce323f240d0925dab9c49e7f594": {
          "model_module": "@jupyter-widgets/base",
          "model_name": "LayoutModel",
          "model_module_version": "1.2.0",
          "state": {
            "_model_module": "@jupyter-widgets/base",
            "_model_module_version": "1.2.0",
            "_model_name": "LayoutModel",
            "_view_count": null,
            "_view_module": "@jupyter-widgets/base",
            "_view_module_version": "1.2.0",
            "_view_name": "LayoutView",
            "align_content": null,
            "align_items": null,
            "align_self": null,
            "border": null,
            "bottom": null,
            "display": null,
            "flex": null,
            "flex_flow": null,
            "grid_area": null,
            "grid_auto_columns": null,
            "grid_auto_flow": null,
            "grid_auto_rows": null,
            "grid_column": null,
            "grid_gap": null,
            "grid_row": null,
            "grid_template_areas": null,
            "grid_template_columns": null,
            "grid_template_rows": null,
            "height": null,
            "justify_content": null,
            "justify_items": null,
            "left": null,
            "margin": null,
            "max_height": null,
            "max_width": null,
            "min_height": null,
            "min_width": null,
            "object_fit": null,
            "object_position": null,
            "order": null,
            "overflow": null,
            "overflow_x": null,
            "overflow_y": null,
            "padding": null,
            "right": null,
            "top": null,
            "visibility": null,
            "width": null
          }
        },
        "75aab09c6e59433ea830aa508c1019c0": {
          "model_module": "@jupyter-widgets/base",
          "model_name": "LayoutModel",
          "model_module_version": "1.2.0",
          "state": {
            "_model_module": "@jupyter-widgets/base",
            "_model_module_version": "1.2.0",
            "_model_name": "LayoutModel",
            "_view_count": null,
            "_view_module": "@jupyter-widgets/base",
            "_view_module_version": "1.2.0",
            "_view_name": "LayoutView",
            "align_content": null,
            "align_items": null,
            "align_self": null,
            "border": null,
            "bottom": null,
            "display": null,
            "flex": null,
            "flex_flow": null,
            "grid_area": null,
            "grid_auto_columns": null,
            "grid_auto_flow": null,
            "grid_auto_rows": null,
            "grid_column": null,
            "grid_gap": null,
            "grid_row": null,
            "grid_template_areas": null,
            "grid_template_columns": null,
            "grid_template_rows": null,
            "height": null,
            "justify_content": null,
            "justify_items": null,
            "left": null,
            "margin": null,
            "max_height": null,
            "max_width": null,
            "min_height": null,
            "min_width": null,
            "object_fit": null,
            "object_position": null,
            "order": null,
            "overflow": null,
            "overflow_x": null,
            "overflow_y": null,
            "padding": null,
            "right": null,
            "top": null,
            "visibility": null,
            "width": null
          }
        },
        "0ec6695b25274a1bbe3679c858b83823": {
          "model_module": "@jupyter-widgets/controls",
          "model_name": "DescriptionStyleModel",
          "model_module_version": "1.5.0",
          "state": {
            "_model_module": "@jupyter-widgets/controls",
            "_model_module_version": "1.5.0",
            "_model_name": "DescriptionStyleModel",
            "_view_count": null,
            "_view_module": "@jupyter-widgets/base",
            "_view_module_version": "1.2.0",
            "_view_name": "StyleView",
            "description_width": ""
          }
        },
        "5bb78803bd6e42e783b92853e31751d0": {
          "model_module": "@jupyter-widgets/base",
          "model_name": "LayoutModel",
          "model_module_version": "1.2.0",
          "state": {
            "_model_module": "@jupyter-widgets/base",
            "_model_module_version": "1.2.0",
            "_model_name": "LayoutModel",
            "_view_count": null,
            "_view_module": "@jupyter-widgets/base",
            "_view_module_version": "1.2.0",
            "_view_name": "LayoutView",
            "align_content": null,
            "align_items": null,
            "align_self": null,
            "border": null,
            "bottom": null,
            "display": null,
            "flex": null,
            "flex_flow": null,
            "grid_area": null,
            "grid_auto_columns": null,
            "grid_auto_flow": null,
            "grid_auto_rows": null,
            "grid_column": null,
            "grid_gap": null,
            "grid_row": null,
            "grid_template_areas": null,
            "grid_template_columns": null,
            "grid_template_rows": null,
            "height": null,
            "justify_content": null,
            "justify_items": null,
            "left": null,
            "margin": null,
            "max_height": null,
            "max_width": null,
            "min_height": null,
            "min_width": null,
            "object_fit": null,
            "object_position": null,
            "order": null,
            "overflow": null,
            "overflow_x": null,
            "overflow_y": null,
            "padding": null,
            "right": null,
            "top": null,
            "visibility": null,
            "width": null
          }
        },
        "28a28d1c615442b286df893834b02f44": {
          "model_module": "@jupyter-widgets/controls",
          "model_name": "ProgressStyleModel",
          "model_module_version": "1.5.0",
          "state": {
            "_model_module": "@jupyter-widgets/controls",
            "_model_module_version": "1.5.0",
            "_model_name": "ProgressStyleModel",
            "_view_count": null,
            "_view_module": "@jupyter-widgets/base",
            "_view_module_version": "1.2.0",
            "_view_name": "StyleView",
            "bar_color": null,
            "description_width": ""
          }
        },
        "fce008ef93874f7ab5e3b4cf743cb77b": {
          "model_module": "@jupyter-widgets/base",
          "model_name": "LayoutModel",
          "model_module_version": "1.2.0",
          "state": {
            "_model_module": "@jupyter-widgets/base",
            "_model_module_version": "1.2.0",
            "_model_name": "LayoutModel",
            "_view_count": null,
            "_view_module": "@jupyter-widgets/base",
            "_view_module_version": "1.2.0",
            "_view_name": "LayoutView",
            "align_content": null,
            "align_items": null,
            "align_self": null,
            "border": null,
            "bottom": null,
            "display": null,
            "flex": null,
            "flex_flow": null,
            "grid_area": null,
            "grid_auto_columns": null,
            "grid_auto_flow": null,
            "grid_auto_rows": null,
            "grid_column": null,
            "grid_gap": null,
            "grid_row": null,
            "grid_template_areas": null,
            "grid_template_columns": null,
            "grid_template_rows": null,
            "height": null,
            "justify_content": null,
            "justify_items": null,
            "left": null,
            "margin": null,
            "max_height": null,
            "max_width": null,
            "min_height": null,
            "min_width": null,
            "object_fit": null,
            "object_position": null,
            "order": null,
            "overflow": null,
            "overflow_x": null,
            "overflow_y": null,
            "padding": null,
            "right": null,
            "top": null,
            "visibility": null,
            "width": null
          }
        },
        "2464f36bd0fb4bdea2a470d28d6c1ea6": {
          "model_module": "@jupyter-widgets/controls",
          "model_name": "DescriptionStyleModel",
          "model_module_version": "1.5.0",
          "state": {
            "_model_module": "@jupyter-widgets/controls",
            "_model_module_version": "1.5.0",
            "_model_name": "DescriptionStyleModel",
            "_view_count": null,
            "_view_module": "@jupyter-widgets/base",
            "_view_module_version": "1.2.0",
            "_view_name": "StyleView",
            "description_width": ""
          }
        },
        "8bbd600786f54221a729e3594dd12ba7": {
          "model_module": "@jupyter-widgets/controls",
          "model_name": "HBoxModel",
          "model_module_version": "1.5.0",
          "state": {
            "_dom_classes": [],
            "_model_module": "@jupyter-widgets/controls",
            "_model_module_version": "1.5.0",
            "_model_name": "HBoxModel",
            "_view_count": null,
            "_view_module": "@jupyter-widgets/controls",
            "_view_module_version": "1.5.0",
            "_view_name": "HBoxView",
            "box_style": "",
            "children": [
              "IPY_MODEL_66b83ae1da9f427a96bc254d7349a6e7",
              "IPY_MODEL_349f0e6d6aa145738820b8b6e1cf5487",
              "IPY_MODEL_2674eab78728428f96470a45e01696e2"
            ],
            "layout": "IPY_MODEL_09ee96c9ce5e41a0895d5de3b3b0e8bb"
          }
        },
        "66b83ae1da9f427a96bc254d7349a6e7": {
          "model_module": "@jupyter-widgets/controls",
          "model_name": "HTMLModel",
          "model_module_version": "1.5.0",
          "state": {
            "_dom_classes": [],
            "_model_module": "@jupyter-widgets/controls",
            "_model_module_version": "1.5.0",
            "_model_name": "HTMLModel",
            "_view_count": null,
            "_view_module": "@jupyter-widgets/controls",
            "_view_module_version": "1.5.0",
            "_view_name": "HTMLView",
            "description": "",
            "description_tooltip": null,
            "layout": "IPY_MODEL_69fc9e9925c144fe9224bf1e4c23321c",
            "placeholder": "​",
            "style": "IPY_MODEL_4d1817b537a34aaba072d31233a34b8e",
            "value": "Downloading: 100%"
          }
        },
        "349f0e6d6aa145738820b8b6e1cf5487": {
          "model_module": "@jupyter-widgets/controls",
          "model_name": "FloatProgressModel",
          "model_module_version": "1.5.0",
          "state": {
            "_dom_classes": [],
            "_model_module": "@jupyter-widgets/controls",
            "_model_module_version": "1.5.0",
            "_model_name": "FloatProgressModel",
            "_view_count": null,
            "_view_module": "@jupyter-widgets/controls",
            "_view_module_version": "1.5.0",
            "_view_name": "ProgressView",
            "bar_style": "success",
            "description": "",
            "description_tooltip": null,
            "layout": "IPY_MODEL_b3436c71250c49f58d3c11165b79d47f",
            "max": 9096718,
            "min": 0,
            "orientation": "horizontal",
            "style": "IPY_MODEL_0696b3c2bfe041039aac96f93e98c089",
            "value": 9096718
          }
        },
        "2674eab78728428f96470a45e01696e2": {
          "model_module": "@jupyter-widgets/controls",
          "model_name": "HTMLModel",
          "model_module_version": "1.5.0",
          "state": {
            "_dom_classes": [],
            "_model_module": "@jupyter-widgets/controls",
            "_model_module_version": "1.5.0",
            "_model_name": "HTMLModel",
            "_view_count": null,
            "_view_module": "@jupyter-widgets/controls",
            "_view_module_version": "1.5.0",
            "_view_name": "HTMLView",
            "description": "",
            "description_tooltip": null,
            "layout": "IPY_MODEL_e86af50e2eab4ddca15d9b4d839843df",
            "placeholder": "​",
            "style": "IPY_MODEL_3a8f8a55335f463390433d67867b32fc",
            "value": " 9.10M/9.10M [00:01&lt;00:00, 8.38MB/s]"
          }
        },
        "09ee96c9ce5e41a0895d5de3b3b0e8bb": {
          "model_module": "@jupyter-widgets/base",
          "model_name": "LayoutModel",
          "model_module_version": "1.2.0",
          "state": {
            "_model_module": "@jupyter-widgets/base",
            "_model_module_version": "1.2.0",
            "_model_name": "LayoutModel",
            "_view_count": null,
            "_view_module": "@jupyter-widgets/base",
            "_view_module_version": "1.2.0",
            "_view_name": "LayoutView",
            "align_content": null,
            "align_items": null,
            "align_self": null,
            "border": null,
            "bottom": null,
            "display": null,
            "flex": null,
            "flex_flow": null,
            "grid_area": null,
            "grid_auto_columns": null,
            "grid_auto_flow": null,
            "grid_auto_rows": null,
            "grid_column": null,
            "grid_gap": null,
            "grid_row": null,
            "grid_template_areas": null,
            "grid_template_columns": null,
            "grid_template_rows": null,
            "height": null,
            "justify_content": null,
            "justify_items": null,
            "left": null,
            "margin": null,
            "max_height": null,
            "max_width": null,
            "min_height": null,
            "min_width": null,
            "object_fit": null,
            "object_position": null,
            "order": null,
            "overflow": null,
            "overflow_x": null,
            "overflow_y": null,
            "padding": null,
            "right": null,
            "top": null,
            "visibility": null,
            "width": null
          }
        },
        "69fc9e9925c144fe9224bf1e4c23321c": {
          "model_module": "@jupyter-widgets/base",
          "model_name": "LayoutModel",
          "model_module_version": "1.2.0",
          "state": {
            "_model_module": "@jupyter-widgets/base",
            "_model_module_version": "1.2.0",
            "_model_name": "LayoutModel",
            "_view_count": null,
            "_view_module": "@jupyter-widgets/base",
            "_view_module_version": "1.2.0",
            "_view_name": "LayoutView",
            "align_content": null,
            "align_items": null,
            "align_self": null,
            "border": null,
            "bottom": null,
            "display": null,
            "flex": null,
            "flex_flow": null,
            "grid_area": null,
            "grid_auto_columns": null,
            "grid_auto_flow": null,
            "grid_auto_rows": null,
            "grid_column": null,
            "grid_gap": null,
            "grid_row": null,
            "grid_template_areas": null,
            "grid_template_columns": null,
            "grid_template_rows": null,
            "height": null,
            "justify_content": null,
            "justify_items": null,
            "left": null,
            "margin": null,
            "max_height": null,
            "max_width": null,
            "min_height": null,
            "min_width": null,
            "object_fit": null,
            "object_position": null,
            "order": null,
            "overflow": null,
            "overflow_x": null,
            "overflow_y": null,
            "padding": null,
            "right": null,
            "top": null,
            "visibility": null,
            "width": null
          }
        },
        "4d1817b537a34aaba072d31233a34b8e": {
          "model_module": "@jupyter-widgets/controls",
          "model_name": "DescriptionStyleModel",
          "model_module_version": "1.5.0",
          "state": {
            "_model_module": "@jupyter-widgets/controls",
            "_model_module_version": "1.5.0",
            "_model_name": "DescriptionStyleModel",
            "_view_count": null,
            "_view_module": "@jupyter-widgets/base",
            "_view_module_version": "1.2.0",
            "_view_name": "StyleView",
            "description_width": ""
          }
        },
        "b3436c71250c49f58d3c11165b79d47f": {
          "model_module": "@jupyter-widgets/base",
          "model_name": "LayoutModel",
          "model_module_version": "1.2.0",
          "state": {
            "_model_module": "@jupyter-widgets/base",
            "_model_module_version": "1.2.0",
            "_model_name": "LayoutModel",
            "_view_count": null,
            "_view_module": "@jupyter-widgets/base",
            "_view_module_version": "1.2.0",
            "_view_name": "LayoutView",
            "align_content": null,
            "align_items": null,
            "align_self": null,
            "border": null,
            "bottom": null,
            "display": null,
            "flex": null,
            "flex_flow": null,
            "grid_area": null,
            "grid_auto_columns": null,
            "grid_auto_flow": null,
            "grid_auto_rows": null,
            "grid_column": null,
            "grid_gap": null,
            "grid_row": null,
            "grid_template_areas": null,
            "grid_template_columns": null,
            "grid_template_rows": null,
            "height": null,
            "justify_content": null,
            "justify_items": null,
            "left": null,
            "margin": null,
            "max_height": null,
            "max_width": null,
            "min_height": null,
            "min_width": null,
            "object_fit": null,
            "object_position": null,
            "order": null,
            "overflow": null,
            "overflow_x": null,
            "overflow_y": null,
            "padding": null,
            "right": null,
            "top": null,
            "visibility": null,
            "width": null
          }
        },
        "0696b3c2bfe041039aac96f93e98c089": {
          "model_module": "@jupyter-widgets/controls",
          "model_name": "ProgressStyleModel",
          "model_module_version": "1.5.0",
          "state": {
            "_model_module": "@jupyter-widgets/controls",
            "_model_module_version": "1.5.0",
            "_model_name": "ProgressStyleModel",
            "_view_count": null,
            "_view_module": "@jupyter-widgets/base",
            "_view_module_version": "1.2.0",
            "_view_name": "StyleView",
            "bar_color": null,
            "description_width": ""
          }
        },
        "e86af50e2eab4ddca15d9b4d839843df": {
          "model_module": "@jupyter-widgets/base",
          "model_name": "LayoutModel",
          "model_module_version": "1.2.0",
          "state": {
            "_model_module": "@jupyter-widgets/base",
            "_model_module_version": "1.2.0",
            "_model_name": "LayoutModel",
            "_view_count": null,
            "_view_module": "@jupyter-widgets/base",
            "_view_module_version": "1.2.0",
            "_view_name": "LayoutView",
            "align_content": null,
            "align_items": null,
            "align_self": null,
            "border": null,
            "bottom": null,
            "display": null,
            "flex": null,
            "flex_flow": null,
            "grid_area": null,
            "grid_auto_columns": null,
            "grid_auto_flow": null,
            "grid_auto_rows": null,
            "grid_column": null,
            "grid_gap": null,
            "grid_row": null,
            "grid_template_areas": null,
            "grid_template_columns": null,
            "grid_template_rows": null,
            "height": null,
            "justify_content": null,
            "justify_items": null,
            "left": null,
            "margin": null,
            "max_height": null,
            "max_width": null,
            "min_height": null,
            "min_width": null,
            "object_fit": null,
            "object_position": null,
            "order": null,
            "overflow": null,
            "overflow_x": null,
            "overflow_y": null,
            "padding": null,
            "right": null,
            "top": null,
            "visibility": null,
            "width": null
          }
        },
        "3a8f8a55335f463390433d67867b32fc": {
          "model_module": "@jupyter-widgets/controls",
          "model_name": "DescriptionStyleModel",
          "model_module_version": "1.5.0",
          "state": {
            "_model_module": "@jupyter-widgets/controls",
            "_model_module_version": "1.5.0",
            "_model_name": "DescriptionStyleModel",
            "_view_count": null,
            "_view_module": "@jupyter-widgets/base",
            "_view_module_version": "1.2.0",
            "_view_name": "StyleView",
            "description_width": ""
          }
        },
        "4ce8ce181c3b4a188127a2e2f1e70b28": {
          "model_module": "@jupyter-widgets/controls",
          "model_name": "HBoxModel",
          "model_module_version": "1.5.0",
          "state": {
            "_dom_classes": [],
            "_model_module": "@jupyter-widgets/controls",
            "_model_module_version": "1.5.0",
            "_model_name": "HBoxModel",
            "_view_count": null,
            "_view_module": "@jupyter-widgets/controls",
            "_view_module_version": "1.5.0",
            "_view_name": "HBoxView",
            "box_style": "",
            "children": [
              "IPY_MODEL_6a5f7bc926104e56b6bcc02ff76262c3",
              "IPY_MODEL_97481c7208dc40038de1d4a1bb686156",
              "IPY_MODEL_d9b1549a863d42e2b6af16b613fb1c71"
            ],
            "layout": "IPY_MODEL_c53a32e49fa54986992791c3e2d2df1f"
          }
        },
        "6a5f7bc926104e56b6bcc02ff76262c3": {
          "model_module": "@jupyter-widgets/controls",
          "model_name": "HTMLModel",
          "model_module_version": "1.5.0",
          "state": {
            "_dom_classes": [],
            "_model_module": "@jupyter-widgets/controls",
            "_model_module_version": "1.5.0",
            "_model_name": "HTMLModel",
            "_view_count": null,
            "_view_module": "@jupyter-widgets/controls",
            "_view_module_version": "1.5.0",
            "_view_name": "HTMLView",
            "description": "",
            "description_tooltip": null,
            "layout": "IPY_MODEL_f38e50ae3ebc40f383d9af53fbb7c139",
            "placeholder": "​",
            "style": "IPY_MODEL_6c109d9af9df4c188ca17c5b1fe6fe3c",
            "value": "Downloading: 100%"
          }
        },
        "97481c7208dc40038de1d4a1bb686156": {
          "model_module": "@jupyter-widgets/controls",
          "model_name": "FloatProgressModel",
          "model_module_version": "1.5.0",
          "state": {
            "_dom_classes": [],
            "_model_module": "@jupyter-widgets/controls",
            "_model_module_version": "1.5.0",
            "_model_name": "FloatProgressModel",
            "_view_count": null,
            "_view_module": "@jupyter-widgets/controls",
            "_view_module_version": "1.5.0",
            "_view_name": "ProgressView",
            "bar_style": "success",
            "description": "",
            "description_tooltip": null,
            "layout": "IPY_MODEL_f65cb0e457b546d98cb1fcbc10068be0",
            "max": 478,
            "min": 0,
            "orientation": "horizontal",
            "style": "IPY_MODEL_cccc914f88304eaeaba5acd2ccbf89f4",
            "value": 478
          }
        },
        "d9b1549a863d42e2b6af16b613fb1c71": {
          "model_module": "@jupyter-widgets/controls",
          "model_name": "HTMLModel",
          "model_module_version": "1.5.0",
          "state": {
            "_dom_classes": [],
            "_model_module": "@jupyter-widgets/controls",
            "_model_module_version": "1.5.0",
            "_model_name": "HTMLModel",
            "_view_count": null,
            "_view_module": "@jupyter-widgets/controls",
            "_view_module_version": "1.5.0",
            "_view_name": "HTMLView",
            "description": "",
            "description_tooltip": null,
            "layout": "IPY_MODEL_a5cfbac54fd14ab38b728131528a2952",
            "placeholder": "​",
            "style": "IPY_MODEL_afd891f6cef4425e8ff168cc70167097",
            "value": " 478/478 [00:00&lt;00:00, 15.3kB/s]"
          }
        },
        "c53a32e49fa54986992791c3e2d2df1f": {
          "model_module": "@jupyter-widgets/base",
          "model_name": "LayoutModel",
          "model_module_version": "1.2.0",
          "state": {
            "_model_module": "@jupyter-widgets/base",
            "_model_module_version": "1.2.0",
            "_model_name": "LayoutModel",
            "_view_count": null,
            "_view_module": "@jupyter-widgets/base",
            "_view_module_version": "1.2.0",
            "_view_name": "LayoutView",
            "align_content": null,
            "align_items": null,
            "align_self": null,
            "border": null,
            "bottom": null,
            "display": null,
            "flex": null,
            "flex_flow": null,
            "grid_area": null,
            "grid_auto_columns": null,
            "grid_auto_flow": null,
            "grid_auto_rows": null,
            "grid_column": null,
            "grid_gap": null,
            "grid_row": null,
            "grid_template_areas": null,
            "grid_template_columns": null,
            "grid_template_rows": null,
            "height": null,
            "justify_content": null,
            "justify_items": null,
            "left": null,
            "margin": null,
            "max_height": null,
            "max_width": null,
            "min_height": null,
            "min_width": null,
            "object_fit": null,
            "object_position": null,
            "order": null,
            "overflow": null,
            "overflow_x": null,
            "overflow_y": null,
            "padding": null,
            "right": null,
            "top": null,
            "visibility": null,
            "width": null
          }
        },
        "f38e50ae3ebc40f383d9af53fbb7c139": {
          "model_module": "@jupyter-widgets/base",
          "model_name": "LayoutModel",
          "model_module_version": "1.2.0",
          "state": {
            "_model_module": "@jupyter-widgets/base",
            "_model_module_version": "1.2.0",
            "_model_name": "LayoutModel",
            "_view_count": null,
            "_view_module": "@jupyter-widgets/base",
            "_view_module_version": "1.2.0",
            "_view_name": "LayoutView",
            "align_content": null,
            "align_items": null,
            "align_self": null,
            "border": null,
            "bottom": null,
            "display": null,
            "flex": null,
            "flex_flow": null,
            "grid_area": null,
            "grid_auto_columns": null,
            "grid_auto_flow": null,
            "grid_auto_rows": null,
            "grid_column": null,
            "grid_gap": null,
            "grid_row": null,
            "grid_template_areas": null,
            "grid_template_columns": null,
            "grid_template_rows": null,
            "height": null,
            "justify_content": null,
            "justify_items": null,
            "left": null,
            "margin": null,
            "max_height": null,
            "max_width": null,
            "min_height": null,
            "min_width": null,
            "object_fit": null,
            "object_position": null,
            "order": null,
            "overflow": null,
            "overflow_x": null,
            "overflow_y": null,
            "padding": null,
            "right": null,
            "top": null,
            "visibility": null,
            "width": null
          }
        },
        "6c109d9af9df4c188ca17c5b1fe6fe3c": {
          "model_module": "@jupyter-widgets/controls",
          "model_name": "DescriptionStyleModel",
          "model_module_version": "1.5.0",
          "state": {
            "_model_module": "@jupyter-widgets/controls",
            "_model_module_version": "1.5.0",
            "_model_name": "DescriptionStyleModel",
            "_view_count": null,
            "_view_module": "@jupyter-widgets/base",
            "_view_module_version": "1.2.0",
            "_view_name": "StyleView",
            "description_width": ""
          }
        },
        "f65cb0e457b546d98cb1fcbc10068be0": {
          "model_module": "@jupyter-widgets/base",
          "model_name": "LayoutModel",
          "model_module_version": "1.2.0",
          "state": {
            "_model_module": "@jupyter-widgets/base",
            "_model_module_version": "1.2.0",
            "_model_name": "LayoutModel",
            "_view_count": null,
            "_view_module": "@jupyter-widgets/base",
            "_view_module_version": "1.2.0",
            "_view_name": "LayoutView",
            "align_content": null,
            "align_items": null,
            "align_self": null,
            "border": null,
            "bottom": null,
            "display": null,
            "flex": null,
            "flex_flow": null,
            "grid_area": null,
            "grid_auto_columns": null,
            "grid_auto_flow": null,
            "grid_auto_rows": null,
            "grid_column": null,
            "grid_gap": null,
            "grid_row": null,
            "grid_template_areas": null,
            "grid_template_columns": null,
            "grid_template_rows": null,
            "height": null,
            "justify_content": null,
            "justify_items": null,
            "left": null,
            "margin": null,
            "max_height": null,
            "max_width": null,
            "min_height": null,
            "min_width": null,
            "object_fit": null,
            "object_position": null,
            "order": null,
            "overflow": null,
            "overflow_x": null,
            "overflow_y": null,
            "padding": null,
            "right": null,
            "top": null,
            "visibility": null,
            "width": null
          }
        },
        "cccc914f88304eaeaba5acd2ccbf89f4": {
          "model_module": "@jupyter-widgets/controls",
          "model_name": "ProgressStyleModel",
          "model_module_version": "1.5.0",
          "state": {
            "_model_module": "@jupyter-widgets/controls",
            "_model_module_version": "1.5.0",
            "_model_name": "ProgressStyleModel",
            "_view_count": null,
            "_view_module": "@jupyter-widgets/base",
            "_view_module_version": "1.2.0",
            "_view_name": "StyleView",
            "bar_color": null,
            "description_width": ""
          }
        },
        "a5cfbac54fd14ab38b728131528a2952": {
          "model_module": "@jupyter-widgets/base",
          "model_name": "LayoutModel",
          "model_module_version": "1.2.0",
          "state": {
            "_model_module": "@jupyter-widgets/base",
            "_model_module_version": "1.2.0",
            "_model_name": "LayoutModel",
            "_view_count": null,
            "_view_module": "@jupyter-widgets/base",
            "_view_module_version": "1.2.0",
            "_view_name": "LayoutView",
            "align_content": null,
            "align_items": null,
            "align_self": null,
            "border": null,
            "bottom": null,
            "display": null,
            "flex": null,
            "flex_flow": null,
            "grid_area": null,
            "grid_auto_columns": null,
            "grid_auto_flow": null,
            "grid_auto_rows": null,
            "grid_column": null,
            "grid_gap": null,
            "grid_row": null,
            "grid_template_areas": null,
            "grid_template_columns": null,
            "grid_template_rows": null,
            "height": null,
            "justify_content": null,
            "justify_items": null,
            "left": null,
            "margin": null,
            "max_height": null,
            "max_width": null,
            "min_height": null,
            "min_width": null,
            "object_fit": null,
            "object_position": null,
            "order": null,
            "overflow": null,
            "overflow_x": null,
            "overflow_y": null,
            "padding": null,
            "right": null,
            "top": null,
            "visibility": null,
            "width": null
          }
        },
        "afd891f6cef4425e8ff168cc70167097": {
          "model_module": "@jupyter-widgets/controls",
          "model_name": "DescriptionStyleModel",
          "model_module_version": "1.5.0",
          "state": {
            "_model_module": "@jupyter-widgets/controls",
            "_model_module_version": "1.5.0",
            "_model_name": "DescriptionStyleModel",
            "_view_count": null,
            "_view_module": "@jupyter-widgets/base",
            "_view_module_version": "1.2.0",
            "_view_name": "StyleView",
            "description_width": ""
          }
        },
        "da966dd897964b4b8d596aa4fca7b25e": {
          "model_module": "@jupyter-widgets/controls",
          "model_name": "HBoxModel",
          "model_module_version": "1.5.0",
          "state": {
            "_dom_classes": [],
            "_model_module": "@jupyter-widgets/controls",
            "_model_module_version": "1.5.0",
            "_model_name": "HBoxModel",
            "_view_count": null,
            "_view_module": "@jupyter-widgets/controls",
            "_view_module_version": "1.5.0",
            "_view_name": "HBoxView",
            "box_style": "",
            "children": [
              "IPY_MODEL_2351a8521f5f4c94bc20fe7c21449c41",
              "IPY_MODEL_cc1a61f0eb5f468d8cccf194389aa39f",
              "IPY_MODEL_961c1d5ffe394c9a930c28ce7b16a7ce"
            ],
            "layout": "IPY_MODEL_1ca49bef6bdb47d3aa955ec489e7c726"
          }
        },
        "2351a8521f5f4c94bc20fe7c21449c41": {
          "model_module": "@jupyter-widgets/controls",
          "model_name": "HTMLModel",
          "model_module_version": "1.5.0",
          "state": {
            "_dom_classes": [],
            "_model_module": "@jupyter-widgets/controls",
            "_model_module_version": "1.5.0",
            "_model_name": "HTMLModel",
            "_view_count": null,
            "_view_module": "@jupyter-widgets/controls",
            "_view_module_version": "1.5.0",
            "_view_name": "HTMLView",
            "description": "",
            "description_tooltip": null,
            "layout": "IPY_MODEL_e2033f3a9b5f4aa3bfc281698cf34169",
            "placeholder": "​",
            "style": "IPY_MODEL_47c598e77ea947b599fb858b99dc039b",
            "value": "Downloading: 100%"
          }
        },
        "cc1a61f0eb5f468d8cccf194389aa39f": {
          "model_module": "@jupyter-widgets/controls",
          "model_name": "FloatProgressModel",
          "model_module_version": "1.5.0",
          "state": {
            "_dom_classes": [],
            "_model_module": "@jupyter-widgets/controls",
            "_model_module_version": "1.5.0",
            "_model_name": "FloatProgressModel",
            "_view_count": null,
            "_view_module": "@jupyter-widgets/controls",
            "_view_module_version": "1.5.0",
            "_view_name": "ProgressView",
            "bar_style": "success",
            "description": "",
            "description_tooltip": null,
            "layout": "IPY_MODEL_c2ac403350dc497f8c9bbfa1322e1c08",
            "max": 531146902,
            "min": 0,
            "orientation": "horizontal",
            "style": "IPY_MODEL_5d4e1ced3f384e19b87b30fb7b18f158",
            "value": 531146902
          }
        },
        "961c1d5ffe394c9a930c28ce7b16a7ce": {
          "model_module": "@jupyter-widgets/controls",
          "model_name": "HTMLModel",
          "model_module_version": "1.5.0",
          "state": {
            "_dom_classes": [],
            "_model_module": "@jupyter-widgets/controls",
            "_model_module_version": "1.5.0",
            "_model_name": "HTMLModel",
            "_view_count": null,
            "_view_module": "@jupyter-widgets/controls",
            "_view_module_version": "1.5.0",
            "_view_name": "HTMLView",
            "description": "",
            "description_tooltip": null,
            "layout": "IPY_MODEL_ee94e0aca0e34999957594b8dc0a3337",
            "placeholder": "​",
            "style": "IPY_MODEL_26d6de3ca0a14c0390650ff52e9087d8",
            "value": " 531M/531M [00:24&lt;00:00, 23.5MB/s]"
          }
        },
        "1ca49bef6bdb47d3aa955ec489e7c726": {
          "model_module": "@jupyter-widgets/base",
          "model_name": "LayoutModel",
          "model_module_version": "1.2.0",
          "state": {
            "_model_module": "@jupyter-widgets/base",
            "_model_module_version": "1.2.0",
            "_model_name": "LayoutModel",
            "_view_count": null,
            "_view_module": "@jupyter-widgets/base",
            "_view_module_version": "1.2.0",
            "_view_name": "LayoutView",
            "align_content": null,
            "align_items": null,
            "align_self": null,
            "border": null,
            "bottom": null,
            "display": null,
            "flex": null,
            "flex_flow": null,
            "grid_area": null,
            "grid_auto_columns": null,
            "grid_auto_flow": null,
            "grid_auto_rows": null,
            "grid_column": null,
            "grid_gap": null,
            "grid_row": null,
            "grid_template_areas": null,
            "grid_template_columns": null,
            "grid_template_rows": null,
            "height": null,
            "justify_content": null,
            "justify_items": null,
            "left": null,
            "margin": null,
            "max_height": null,
            "max_width": null,
            "min_height": null,
            "min_width": null,
            "object_fit": null,
            "object_position": null,
            "order": null,
            "overflow": null,
            "overflow_x": null,
            "overflow_y": null,
            "padding": null,
            "right": null,
            "top": null,
            "visibility": null,
            "width": null
          }
        },
        "e2033f3a9b5f4aa3bfc281698cf34169": {
          "model_module": "@jupyter-widgets/base",
          "model_name": "LayoutModel",
          "model_module_version": "1.2.0",
          "state": {
            "_model_module": "@jupyter-widgets/base",
            "_model_module_version": "1.2.0",
            "_model_name": "LayoutModel",
            "_view_count": null,
            "_view_module": "@jupyter-widgets/base",
            "_view_module_version": "1.2.0",
            "_view_name": "LayoutView",
            "align_content": null,
            "align_items": null,
            "align_self": null,
            "border": null,
            "bottom": null,
            "display": null,
            "flex": null,
            "flex_flow": null,
            "grid_area": null,
            "grid_auto_columns": null,
            "grid_auto_flow": null,
            "grid_auto_rows": null,
            "grid_column": null,
            "grid_gap": null,
            "grid_row": null,
            "grid_template_areas": null,
            "grid_template_columns": null,
            "grid_template_rows": null,
            "height": null,
            "justify_content": null,
            "justify_items": null,
            "left": null,
            "margin": null,
            "max_height": null,
            "max_width": null,
            "min_height": null,
            "min_width": null,
            "object_fit": null,
            "object_position": null,
            "order": null,
            "overflow": null,
            "overflow_x": null,
            "overflow_y": null,
            "padding": null,
            "right": null,
            "top": null,
            "visibility": null,
            "width": null
          }
        },
        "47c598e77ea947b599fb858b99dc039b": {
          "model_module": "@jupyter-widgets/controls",
          "model_name": "DescriptionStyleModel",
          "model_module_version": "1.5.0",
          "state": {
            "_model_module": "@jupyter-widgets/controls",
            "_model_module_version": "1.5.0",
            "_model_name": "DescriptionStyleModel",
            "_view_count": null,
            "_view_module": "@jupyter-widgets/base",
            "_view_module_version": "1.2.0",
            "_view_name": "StyleView",
            "description_width": ""
          }
        },
        "c2ac403350dc497f8c9bbfa1322e1c08": {
          "model_module": "@jupyter-widgets/base",
          "model_name": "LayoutModel",
          "model_module_version": "1.2.0",
          "state": {
            "_model_module": "@jupyter-widgets/base",
            "_model_module_version": "1.2.0",
            "_model_name": "LayoutModel",
            "_view_count": null,
            "_view_module": "@jupyter-widgets/base",
            "_view_module_version": "1.2.0",
            "_view_name": "LayoutView",
            "align_content": null,
            "align_items": null,
            "align_self": null,
            "border": null,
            "bottom": null,
            "display": null,
            "flex": null,
            "flex_flow": null,
            "grid_area": null,
            "grid_auto_columns": null,
            "grid_auto_flow": null,
            "grid_auto_rows": null,
            "grid_column": null,
            "grid_gap": null,
            "grid_row": null,
            "grid_template_areas": null,
            "grid_template_columns": null,
            "grid_template_rows": null,
            "height": null,
            "justify_content": null,
            "justify_items": null,
            "left": null,
            "margin": null,
            "max_height": null,
            "max_width": null,
            "min_height": null,
            "min_width": null,
            "object_fit": null,
            "object_position": null,
            "order": null,
            "overflow": null,
            "overflow_x": null,
            "overflow_y": null,
            "padding": null,
            "right": null,
            "top": null,
            "visibility": null,
            "width": null
          }
        },
        "5d4e1ced3f384e19b87b30fb7b18f158": {
          "model_module": "@jupyter-widgets/controls",
          "model_name": "ProgressStyleModel",
          "model_module_version": "1.5.0",
          "state": {
            "_model_module": "@jupyter-widgets/controls",
            "_model_module_version": "1.5.0",
            "_model_name": "ProgressStyleModel",
            "_view_count": null,
            "_view_module": "@jupyter-widgets/base",
            "_view_module_version": "1.2.0",
            "_view_name": "StyleView",
            "bar_color": null,
            "description_width": ""
          }
        },
        "ee94e0aca0e34999957594b8dc0a3337": {
          "model_module": "@jupyter-widgets/base",
          "model_name": "LayoutModel",
          "model_module_version": "1.2.0",
          "state": {
            "_model_module": "@jupyter-widgets/base",
            "_model_module_version": "1.2.0",
            "_model_name": "LayoutModel",
            "_view_count": null,
            "_view_module": "@jupyter-widgets/base",
            "_view_module_version": "1.2.0",
            "_view_name": "LayoutView",
            "align_content": null,
            "align_items": null,
            "align_self": null,
            "border": null,
            "bottom": null,
            "display": null,
            "flex": null,
            "flex_flow": null,
            "grid_area": null,
            "grid_auto_columns": null,
            "grid_auto_flow": null,
            "grid_auto_rows": null,
            "grid_column": null,
            "grid_gap": null,
            "grid_row": null,
            "grid_template_areas": null,
            "grid_template_columns": null,
            "grid_template_rows": null,
            "height": null,
            "justify_content": null,
            "justify_items": null,
            "left": null,
            "margin": null,
            "max_height": null,
            "max_width": null,
            "min_height": null,
            "min_width": null,
            "object_fit": null,
            "object_position": null,
            "order": null,
            "overflow": null,
            "overflow_x": null,
            "overflow_y": null,
            "padding": null,
            "right": null,
            "top": null,
            "visibility": null,
            "width": null
          }
        },
        "26d6de3ca0a14c0390650ff52e9087d8": {
          "model_module": "@jupyter-widgets/controls",
          "model_name": "DescriptionStyleModel",
          "model_module_version": "1.5.0",
          "state": {
            "_model_module": "@jupyter-widgets/controls",
            "_model_module_version": "1.5.0",
            "_model_name": "DescriptionStyleModel",
            "_view_count": null,
            "_view_module": "@jupyter-widgets/base",
            "_view_module_version": "1.2.0",
            "_view_name": "StyleView",
            "description_width": ""
          }
        },
        "035906e6009b41128b7d4e6736966a8a": {
          "model_module": "@jupyter-widgets/controls",
          "model_name": "HBoxModel",
          "model_module_version": "1.5.0",
          "state": {
            "_dom_classes": [],
            "_model_module": "@jupyter-widgets/controls",
            "_model_module_version": "1.5.0",
            "_model_name": "HBoxModel",
            "_view_count": null,
            "_view_module": "@jupyter-widgets/controls",
            "_view_module_version": "1.5.0",
            "_view_name": "HBoxView",
            "box_style": "",
            "children": [
              "IPY_MODEL_0121ecdc86ea4064808a4e3509a75dc3",
              "IPY_MODEL_7d7e7dcb75d84d578c41f3f90b8d5967",
              "IPY_MODEL_429fd5576d9543f49c55d8260cfb168c"
            ],
            "layout": "IPY_MODEL_bfd83b0a0ae3415788d729724f6d2df9"
          }
        },
        "0121ecdc86ea4064808a4e3509a75dc3": {
          "model_module": "@jupyter-widgets/controls",
          "model_name": "HTMLModel",
          "model_module_version": "1.5.0",
          "state": {
            "_dom_classes": [],
            "_model_module": "@jupyter-widgets/controls",
            "_model_module_version": "1.5.0",
            "_model_name": "HTMLModel",
            "_view_count": null,
            "_view_module": "@jupyter-widgets/controls",
            "_view_module_version": "1.5.0",
            "_view_name": "HTMLView",
            "description": "",
            "description_tooltip": null,
            "layout": "IPY_MODEL_e7bae7a6ca3a4ed68dc973914e267250",
            "placeholder": "​",
            "style": "IPY_MODEL_dbce88218cec454b9d56c2a579ce7ce1",
            "value": "Downloading: 100%"
          }
        },
        "7d7e7dcb75d84d578c41f3f90b8d5967": {
          "model_module": "@jupyter-widgets/controls",
          "model_name": "FloatProgressModel",
          "model_module_version": "1.5.0",
          "state": {
            "_dom_classes": [],
            "_model_module": "@jupyter-widgets/controls",
            "_model_module_version": "1.5.0",
            "_model_name": "FloatProgressModel",
            "_view_count": null,
            "_view_module": "@jupyter-widgets/controls",
            "_view_module_version": "1.5.0",
            "_view_name": "ProgressView",
            "bar_style": "success",
            "description": "",
            "description_tooltip": null,
            "layout": "IPY_MODEL_0620cb4f7f444ed5bf7def1db1f00dcc",
            "max": 494801,
            "min": 0,
            "orientation": "horizontal",
            "style": "IPY_MODEL_31bb65b0235c4905ab39d2b0a7fcfa0d",
            "value": 494801
          }
        },
        "429fd5576d9543f49c55d8260cfb168c": {
          "model_module": "@jupyter-widgets/controls",
          "model_name": "HTMLModel",
          "model_module_version": "1.5.0",
          "state": {
            "_dom_classes": [],
            "_model_module": "@jupyter-widgets/controls",
            "_model_module_version": "1.5.0",
            "_model_name": "HTMLModel",
            "_view_count": null,
            "_view_module": "@jupyter-widgets/controls",
            "_view_module_version": "1.5.0",
            "_view_name": "HTMLView",
            "description": "",
            "description_tooltip": null,
            "layout": "IPY_MODEL_4196088bb8b24ae4a8843952803aa368",
            "placeholder": "​",
            "style": "IPY_MODEL_fdc34b394d0648e28187bec3c7dc3243",
            "value": " 495k/495k [00:00&lt;00:00, 672kB/s]"
          }
        },
        "bfd83b0a0ae3415788d729724f6d2df9": {
          "model_module": "@jupyter-widgets/base",
          "model_name": "LayoutModel",
          "model_module_version": "1.2.0",
          "state": {
            "_model_module": "@jupyter-widgets/base",
            "_model_module_version": "1.2.0",
            "_model_name": "LayoutModel",
            "_view_count": null,
            "_view_module": "@jupyter-widgets/base",
            "_view_module_version": "1.2.0",
            "_view_name": "LayoutView",
            "align_content": null,
            "align_items": null,
            "align_self": null,
            "border": null,
            "bottom": null,
            "display": null,
            "flex": null,
            "flex_flow": null,
            "grid_area": null,
            "grid_auto_columns": null,
            "grid_auto_flow": null,
            "grid_auto_rows": null,
            "grid_column": null,
            "grid_gap": null,
            "grid_row": null,
            "grid_template_areas": null,
            "grid_template_columns": null,
            "grid_template_rows": null,
            "height": null,
            "justify_content": null,
            "justify_items": null,
            "left": null,
            "margin": null,
            "max_height": null,
            "max_width": null,
            "min_height": null,
            "min_width": null,
            "object_fit": null,
            "object_position": null,
            "order": null,
            "overflow": null,
            "overflow_x": null,
            "overflow_y": null,
            "padding": null,
            "right": null,
            "top": null,
            "visibility": null,
            "width": null
          }
        },
        "e7bae7a6ca3a4ed68dc973914e267250": {
          "model_module": "@jupyter-widgets/base",
          "model_name": "LayoutModel",
          "model_module_version": "1.2.0",
          "state": {
            "_model_module": "@jupyter-widgets/base",
            "_model_module_version": "1.2.0",
            "_model_name": "LayoutModel",
            "_view_count": null,
            "_view_module": "@jupyter-widgets/base",
            "_view_module_version": "1.2.0",
            "_view_name": "LayoutView",
            "align_content": null,
            "align_items": null,
            "align_self": null,
            "border": null,
            "bottom": null,
            "display": null,
            "flex": null,
            "flex_flow": null,
            "grid_area": null,
            "grid_auto_columns": null,
            "grid_auto_flow": null,
            "grid_auto_rows": null,
            "grid_column": null,
            "grid_gap": null,
            "grid_row": null,
            "grid_template_areas": null,
            "grid_template_columns": null,
            "grid_template_rows": null,
            "height": null,
            "justify_content": null,
            "justify_items": null,
            "left": null,
            "margin": null,
            "max_height": null,
            "max_width": null,
            "min_height": null,
            "min_width": null,
            "object_fit": null,
            "object_position": null,
            "order": null,
            "overflow": null,
            "overflow_x": null,
            "overflow_y": null,
            "padding": null,
            "right": null,
            "top": null,
            "visibility": null,
            "width": null
          }
        },
        "dbce88218cec454b9d56c2a579ce7ce1": {
          "model_module": "@jupyter-widgets/controls",
          "model_name": "DescriptionStyleModel",
          "model_module_version": "1.5.0",
          "state": {
            "_model_module": "@jupyter-widgets/controls",
            "_model_module_version": "1.5.0",
            "_model_name": "DescriptionStyleModel",
            "_view_count": null,
            "_view_module": "@jupyter-widgets/base",
            "_view_module_version": "1.2.0",
            "_view_name": "StyleView",
            "description_width": ""
          }
        },
        "0620cb4f7f444ed5bf7def1db1f00dcc": {
          "model_module": "@jupyter-widgets/base",
          "model_name": "LayoutModel",
          "model_module_version": "1.2.0",
          "state": {
            "_model_module": "@jupyter-widgets/base",
            "_model_module_version": "1.2.0",
            "_model_name": "LayoutModel",
            "_view_count": null,
            "_view_module": "@jupyter-widgets/base",
            "_view_module_version": "1.2.0",
            "_view_name": "LayoutView",
            "align_content": null,
            "align_items": null,
            "align_self": null,
            "border": null,
            "bottom": null,
            "display": null,
            "flex": null,
            "flex_flow": null,
            "grid_area": null,
            "grid_auto_columns": null,
            "grid_auto_flow": null,
            "grid_auto_rows": null,
            "grid_column": null,
            "grid_gap": null,
            "grid_row": null,
            "grid_template_areas": null,
            "grid_template_columns": null,
            "grid_template_rows": null,
            "height": null,
            "justify_content": null,
            "justify_items": null,
            "left": null,
            "margin": null,
            "max_height": null,
            "max_width": null,
            "min_height": null,
            "min_width": null,
            "object_fit": null,
            "object_position": null,
            "order": null,
            "overflow": null,
            "overflow_x": null,
            "overflow_y": null,
            "padding": null,
            "right": null,
            "top": null,
            "visibility": null,
            "width": null
          }
        },
        "31bb65b0235c4905ab39d2b0a7fcfa0d": {
          "model_module": "@jupyter-widgets/controls",
          "model_name": "ProgressStyleModel",
          "model_module_version": "1.5.0",
          "state": {
            "_model_module": "@jupyter-widgets/controls",
            "_model_module_version": "1.5.0",
            "_model_name": "ProgressStyleModel",
            "_view_count": null,
            "_view_module": "@jupyter-widgets/base",
            "_view_module_version": "1.2.0",
            "_view_name": "StyleView",
            "bar_color": null,
            "description_width": ""
          }
        },
        "4196088bb8b24ae4a8843952803aa368": {
          "model_module": "@jupyter-widgets/base",
          "model_name": "LayoutModel",
          "model_module_version": "1.2.0",
          "state": {
            "_model_module": "@jupyter-widgets/base",
            "_model_module_version": "1.2.0",
            "_model_name": "LayoutModel",
            "_view_count": null,
            "_view_module": "@jupyter-widgets/base",
            "_view_module_version": "1.2.0",
            "_view_name": "LayoutView",
            "align_content": null,
            "align_items": null,
            "align_self": null,
            "border": null,
            "bottom": null,
            "display": null,
            "flex": null,
            "flex_flow": null,
            "grid_area": null,
            "grid_auto_columns": null,
            "grid_auto_flow": null,
            "grid_auto_rows": null,
            "grid_column": null,
            "grid_gap": null,
            "grid_row": null,
            "grid_template_areas": null,
            "grid_template_columns": null,
            "grid_template_rows": null,
            "height": null,
            "justify_content": null,
            "justify_items": null,
            "left": null,
            "margin": null,
            "max_height": null,
            "max_width": null,
            "min_height": null,
            "min_width": null,
            "object_fit": null,
            "object_position": null,
            "order": null,
            "overflow": null,
            "overflow_x": null,
            "overflow_y": null,
            "padding": null,
            "right": null,
            "top": null,
            "visibility": null,
            "width": null
          }
        },
        "fdc34b394d0648e28187bec3c7dc3243": {
          "model_module": "@jupyter-widgets/controls",
          "model_name": "DescriptionStyleModel",
          "model_module_version": "1.5.0",
          "state": {
            "_model_module": "@jupyter-widgets/controls",
            "_model_module_version": "1.5.0",
            "_model_name": "DescriptionStyleModel",
            "_view_count": null,
            "_view_module": "@jupyter-widgets/base",
            "_view_module_version": "1.2.0",
            "_view_name": "StyleView",
            "description_width": ""
          }
        },
        "f6b1494b61ec48d6ad10a0e8874b79d3": {
          "model_module": "@jupyter-widgets/controls",
          "model_name": "HBoxModel",
          "model_module_version": "1.5.0",
          "state": {
            "_dom_classes": [],
            "_model_module": "@jupyter-widgets/controls",
            "_model_module_version": "1.5.0",
            "_model_name": "HBoxModel",
            "_view_count": null,
            "_view_module": "@jupyter-widgets/controls",
            "_view_module_version": "1.5.0",
            "_view_name": "HBoxView",
            "box_style": "",
            "children": [
              "IPY_MODEL_6b80d34a5d5a4e199195c95007afc5de",
              "IPY_MODEL_eb021f4c4f884ad9aaf0b9f29cd409cf",
              "IPY_MODEL_a98a01631aaf490ca77728830eaa2ffc"
            ],
            "layout": "IPY_MODEL_0d2986ec0eca47ac8525eacc9a87990d"
          }
        },
        "6b80d34a5d5a4e199195c95007afc5de": {
          "model_module": "@jupyter-widgets/controls",
          "model_name": "HTMLModel",
          "model_module_version": "1.5.0",
          "state": {
            "_dom_classes": [],
            "_model_module": "@jupyter-widgets/controls",
            "_model_module_version": "1.5.0",
            "_model_name": "HTMLModel",
            "_view_count": null,
            "_view_module": "@jupyter-widgets/controls",
            "_view_module_version": "1.5.0",
            "_view_name": "HTMLView",
            "description": "",
            "description_tooltip": null,
            "layout": "IPY_MODEL_a853e3f30bde434587585862a7793bb9",
            "placeholder": "​",
            "style": "IPY_MODEL_0d53b39181f649649e5749382e143a29",
            "value": "Downloading: 100%"
          }
        },
        "eb021f4c4f884ad9aaf0b9f29cd409cf": {
          "model_module": "@jupyter-widgets/controls",
          "model_name": "FloatProgressModel",
          "model_module_version": "1.5.0",
          "state": {
            "_dom_classes": [],
            "_model_module": "@jupyter-widgets/controls",
            "_model_module_version": "1.5.0",
            "_model_name": "FloatProgressModel",
            "_view_count": null,
            "_view_module": "@jupyter-widgets/controls",
            "_view_module_version": "1.5.0",
            "_view_name": "ProgressView",
            "bar_style": "success",
            "description": "",
            "description_tooltip": null,
            "layout": "IPY_MODEL_7557420027e942da920580d50b54a590",
            "max": 112,
            "min": 0,
            "orientation": "horizontal",
            "style": "IPY_MODEL_9033bde3d8d344428099a920ea2de07b",
            "value": 112
          }
        },
        "a98a01631aaf490ca77728830eaa2ffc": {
          "model_module": "@jupyter-widgets/controls",
          "model_name": "HTMLModel",
          "model_module_version": "1.5.0",
          "state": {
            "_dom_classes": [],
            "_model_module": "@jupyter-widgets/controls",
            "_model_module_version": "1.5.0",
            "_model_name": "HTMLModel",
            "_view_count": null,
            "_view_module": "@jupyter-widgets/controls",
            "_view_module_version": "1.5.0",
            "_view_name": "HTMLView",
            "description": "",
            "description_tooltip": null,
            "layout": "IPY_MODEL_f8af617871c94ae8a7371a53828dec33",
            "placeholder": "​",
            "style": "IPY_MODEL_fd72fb05ce9548dcbdb183d741645250",
            "value": " 112/112 [00:00&lt;00:00, 4.21kB/s]"
          }
        },
        "0d2986ec0eca47ac8525eacc9a87990d": {
          "model_module": "@jupyter-widgets/base",
          "model_name": "LayoutModel",
          "model_module_version": "1.2.0",
          "state": {
            "_model_module": "@jupyter-widgets/base",
            "_model_module_version": "1.2.0",
            "_model_name": "LayoutModel",
            "_view_count": null,
            "_view_module": "@jupyter-widgets/base",
            "_view_module_version": "1.2.0",
            "_view_name": "LayoutView",
            "align_content": null,
            "align_items": null,
            "align_self": null,
            "border": null,
            "bottom": null,
            "display": null,
            "flex": null,
            "flex_flow": null,
            "grid_area": null,
            "grid_auto_columns": null,
            "grid_auto_flow": null,
            "grid_auto_rows": null,
            "grid_column": null,
            "grid_gap": null,
            "grid_row": null,
            "grid_template_areas": null,
            "grid_template_columns": null,
            "grid_template_rows": null,
            "height": null,
            "justify_content": null,
            "justify_items": null,
            "left": null,
            "margin": null,
            "max_height": null,
            "max_width": null,
            "min_height": null,
            "min_width": null,
            "object_fit": null,
            "object_position": null,
            "order": null,
            "overflow": null,
            "overflow_x": null,
            "overflow_y": null,
            "padding": null,
            "right": null,
            "top": null,
            "visibility": null,
            "width": null
          }
        },
        "a853e3f30bde434587585862a7793bb9": {
          "model_module": "@jupyter-widgets/base",
          "model_name": "LayoutModel",
          "model_module_version": "1.2.0",
          "state": {
            "_model_module": "@jupyter-widgets/base",
            "_model_module_version": "1.2.0",
            "_model_name": "LayoutModel",
            "_view_count": null,
            "_view_module": "@jupyter-widgets/base",
            "_view_module_version": "1.2.0",
            "_view_name": "LayoutView",
            "align_content": null,
            "align_items": null,
            "align_self": null,
            "border": null,
            "bottom": null,
            "display": null,
            "flex": null,
            "flex_flow": null,
            "grid_area": null,
            "grid_auto_columns": null,
            "grid_auto_flow": null,
            "grid_auto_rows": null,
            "grid_column": null,
            "grid_gap": null,
            "grid_row": null,
            "grid_template_areas": null,
            "grid_template_columns": null,
            "grid_template_rows": null,
            "height": null,
            "justify_content": null,
            "justify_items": null,
            "left": null,
            "margin": null,
            "max_height": null,
            "max_width": null,
            "min_height": null,
            "min_width": null,
            "object_fit": null,
            "object_position": null,
            "order": null,
            "overflow": null,
            "overflow_x": null,
            "overflow_y": null,
            "padding": null,
            "right": null,
            "top": null,
            "visibility": null,
            "width": null
          }
        },
        "0d53b39181f649649e5749382e143a29": {
          "model_module": "@jupyter-widgets/controls",
          "model_name": "DescriptionStyleModel",
          "model_module_version": "1.5.0",
          "state": {
            "_model_module": "@jupyter-widgets/controls",
            "_model_module_version": "1.5.0",
            "_model_name": "DescriptionStyleModel",
            "_view_count": null,
            "_view_module": "@jupyter-widgets/base",
            "_view_module_version": "1.2.0",
            "_view_name": "StyleView",
            "description_width": ""
          }
        },
        "7557420027e942da920580d50b54a590": {
          "model_module": "@jupyter-widgets/base",
          "model_name": "LayoutModel",
          "model_module_version": "1.2.0",
          "state": {
            "_model_module": "@jupyter-widgets/base",
            "_model_module_version": "1.2.0",
            "_model_name": "LayoutModel",
            "_view_count": null,
            "_view_module": "@jupyter-widgets/base",
            "_view_module_version": "1.2.0",
            "_view_name": "LayoutView",
            "align_content": null,
            "align_items": null,
            "align_self": null,
            "border": null,
            "bottom": null,
            "display": null,
            "flex": null,
            "flex_flow": null,
            "grid_area": null,
            "grid_auto_columns": null,
            "grid_auto_flow": null,
            "grid_auto_rows": null,
            "grid_column": null,
            "grid_gap": null,
            "grid_row": null,
            "grid_template_areas": null,
            "grid_template_columns": null,
            "grid_template_rows": null,
            "height": null,
            "justify_content": null,
            "justify_items": null,
            "left": null,
            "margin": null,
            "max_height": null,
            "max_width": null,
            "min_height": null,
            "min_width": null,
            "object_fit": null,
            "object_position": null,
            "order": null,
            "overflow": null,
            "overflow_x": null,
            "overflow_y": null,
            "padding": null,
            "right": null,
            "top": null,
            "visibility": null,
            "width": null
          }
        },
        "9033bde3d8d344428099a920ea2de07b": {
          "model_module": "@jupyter-widgets/controls",
          "model_name": "ProgressStyleModel",
          "model_module_version": "1.5.0",
          "state": {
            "_model_module": "@jupyter-widgets/controls",
            "_model_module_version": "1.5.0",
            "_model_name": "ProgressStyleModel",
            "_view_count": null,
            "_view_module": "@jupyter-widgets/base",
            "_view_module_version": "1.2.0",
            "_view_name": "StyleView",
            "bar_color": null,
            "description_width": ""
          }
        },
        "f8af617871c94ae8a7371a53828dec33": {
          "model_module": "@jupyter-widgets/base",
          "model_name": "LayoutModel",
          "model_module_version": "1.2.0",
          "state": {
            "_model_module": "@jupyter-widgets/base",
            "_model_module_version": "1.2.0",
            "_model_name": "LayoutModel",
            "_view_count": null,
            "_view_module": "@jupyter-widgets/base",
            "_view_module_version": "1.2.0",
            "_view_name": "LayoutView",
            "align_content": null,
            "align_items": null,
            "align_self": null,
            "border": null,
            "bottom": null,
            "display": null,
            "flex": null,
            "flex_flow": null,
            "grid_area": null,
            "grid_auto_columns": null,
            "grid_auto_flow": null,
            "grid_auto_rows": null,
            "grid_column": null,
            "grid_gap": null,
            "grid_row": null,
            "grid_template_areas": null,
            "grid_template_columns": null,
            "grid_template_rows": null,
            "height": null,
            "justify_content": null,
            "justify_items": null,
            "left": null,
            "margin": null,
            "max_height": null,
            "max_width": null,
            "min_height": null,
            "min_width": null,
            "object_fit": null,
            "object_position": null,
            "order": null,
            "overflow": null,
            "overflow_x": null,
            "overflow_y": null,
            "padding": null,
            "right": null,
            "top": null,
            "visibility": null,
            "width": null
          }
        },
        "fd72fb05ce9548dcbdb183d741645250": {
          "model_module": "@jupyter-widgets/controls",
          "model_name": "DescriptionStyleModel",
          "model_module_version": "1.5.0",
          "state": {
            "_model_module": "@jupyter-widgets/controls",
            "_model_module_version": "1.5.0",
            "_model_name": "DescriptionStyleModel",
            "_view_count": null,
            "_view_module": "@jupyter-widgets/base",
            "_view_module_version": "1.2.0",
            "_view_name": "StyleView",
            "description_width": ""
          }
        },
        "2d8c77cb70ce444cb9be0cac59c96f0e": {
          "model_module": "@jupyter-widgets/controls",
          "model_name": "HBoxModel",
          "model_module_version": "1.5.0",
          "state": {
            "_dom_classes": [],
            "_model_module": "@jupyter-widgets/controls",
            "_model_module_version": "1.5.0",
            "_model_name": "HBoxModel",
            "_view_count": null,
            "_view_module": "@jupyter-widgets/controls",
            "_view_module_version": "1.5.0",
            "_view_name": "HBoxView",
            "box_style": "",
            "children": [
              "IPY_MODEL_f9604ef0e5b2435c944bc26dd996c675",
              "IPY_MODEL_0c5f318675434b8ea2ad9ea3df9f050e",
              "IPY_MODEL_1f9b27b8a6154686a386cbfd09faae5e"
            ],
            "layout": "IPY_MODEL_290308c6d4994a2d9010898a6710c2bd"
          }
        },
        "f9604ef0e5b2435c944bc26dd996c675": {
          "model_module": "@jupyter-widgets/controls",
          "model_name": "HTMLModel",
          "model_module_version": "1.5.0",
          "state": {
            "_dom_classes": [],
            "_model_module": "@jupyter-widgets/controls",
            "_model_module_version": "1.5.0",
            "_model_name": "HTMLModel",
            "_view_count": null,
            "_view_module": "@jupyter-widgets/controls",
            "_view_module_version": "1.5.0",
            "_view_name": "HTMLView",
            "description": "",
            "description_tooltip": null,
            "layout": "IPY_MODEL_d444ee6215c544abbf58653ed49ab72b",
            "placeholder": "​",
            "style": "IPY_MODEL_4ea9212047a74d5ca71f9da20f420909",
            "value": "Downloading: 100%"
          }
        },
        "0c5f318675434b8ea2ad9ea3df9f050e": {
          "model_module": "@jupyter-widgets/controls",
          "model_name": "FloatProgressModel",
          "model_module_version": "1.5.0",
          "state": {
            "_dom_classes": [],
            "_model_module": "@jupyter-widgets/controls",
            "_model_module_version": "1.5.0",
            "_model_name": "FloatProgressModel",
            "_view_count": null,
            "_view_module": "@jupyter-widgets/controls",
            "_view_module_version": "1.5.0",
            "_view_name": "ProgressView",
            "bar_style": "success",
            "description": "",
            "description_tooltip": null,
            "layout": "IPY_MODEL_f92bc1006aa34a9dbc4c68acf1a8e03d",
            "max": 2,
            "min": 0,
            "orientation": "horizontal",
            "style": "IPY_MODEL_c69393ef9b664fdc9703ba17ec84dfb3",
            "value": 2
          }
        },
        "1f9b27b8a6154686a386cbfd09faae5e": {
          "model_module": "@jupyter-widgets/controls",
          "model_name": "HTMLModel",
          "model_module_version": "1.5.0",
          "state": {
            "_dom_classes": [],
            "_model_module": "@jupyter-widgets/controls",
            "_model_module_version": "1.5.0",
            "_model_name": "HTMLModel",
            "_view_count": null,
            "_view_module": "@jupyter-widgets/controls",
            "_view_module_version": "1.5.0",
            "_view_name": "HTMLView",
            "description": "",
            "description_tooltip": null,
            "layout": "IPY_MODEL_147ffb3795e340358972269279e4e471",
            "placeholder": "​",
            "style": "IPY_MODEL_64c23ba5729849debe9fd9b43cc2137f",
            "value": " 2.00/2.00 [00:00&lt;00:00, 79.6B/s]"
          }
        },
        "290308c6d4994a2d9010898a6710c2bd": {
          "model_module": "@jupyter-widgets/base",
          "model_name": "LayoutModel",
          "model_module_version": "1.2.0",
          "state": {
            "_model_module": "@jupyter-widgets/base",
            "_model_module_version": "1.2.0",
            "_model_name": "LayoutModel",
            "_view_count": null,
            "_view_module": "@jupyter-widgets/base",
            "_view_module_version": "1.2.0",
            "_view_name": "LayoutView",
            "align_content": null,
            "align_items": null,
            "align_self": null,
            "border": null,
            "bottom": null,
            "display": null,
            "flex": null,
            "flex_flow": null,
            "grid_area": null,
            "grid_auto_columns": null,
            "grid_auto_flow": null,
            "grid_auto_rows": null,
            "grid_column": null,
            "grid_gap": null,
            "grid_row": null,
            "grid_template_areas": null,
            "grid_template_columns": null,
            "grid_template_rows": null,
            "height": null,
            "justify_content": null,
            "justify_items": null,
            "left": null,
            "margin": null,
            "max_height": null,
            "max_width": null,
            "min_height": null,
            "min_width": null,
            "object_fit": null,
            "object_position": null,
            "order": null,
            "overflow": null,
            "overflow_x": null,
            "overflow_y": null,
            "padding": null,
            "right": null,
            "top": null,
            "visibility": null,
            "width": null
          }
        },
        "d444ee6215c544abbf58653ed49ab72b": {
          "model_module": "@jupyter-widgets/base",
          "model_name": "LayoutModel",
          "model_module_version": "1.2.0",
          "state": {
            "_model_module": "@jupyter-widgets/base",
            "_model_module_version": "1.2.0",
            "_model_name": "LayoutModel",
            "_view_count": null,
            "_view_module": "@jupyter-widgets/base",
            "_view_module_version": "1.2.0",
            "_view_name": "LayoutView",
            "align_content": null,
            "align_items": null,
            "align_self": null,
            "border": null,
            "bottom": null,
            "display": null,
            "flex": null,
            "flex_flow": null,
            "grid_area": null,
            "grid_auto_columns": null,
            "grid_auto_flow": null,
            "grid_auto_rows": null,
            "grid_column": null,
            "grid_gap": null,
            "grid_row": null,
            "grid_template_areas": null,
            "grid_template_columns": null,
            "grid_template_rows": null,
            "height": null,
            "justify_content": null,
            "justify_items": null,
            "left": null,
            "margin": null,
            "max_height": null,
            "max_width": null,
            "min_height": null,
            "min_width": null,
            "object_fit": null,
            "object_position": null,
            "order": null,
            "overflow": null,
            "overflow_x": null,
            "overflow_y": null,
            "padding": null,
            "right": null,
            "top": null,
            "visibility": null,
            "width": null
          }
        },
        "4ea9212047a74d5ca71f9da20f420909": {
          "model_module": "@jupyter-widgets/controls",
          "model_name": "DescriptionStyleModel",
          "model_module_version": "1.5.0",
          "state": {
            "_model_module": "@jupyter-widgets/controls",
            "_model_module_version": "1.5.0",
            "_model_name": "DescriptionStyleModel",
            "_view_count": null,
            "_view_module": "@jupyter-widgets/base",
            "_view_module_version": "1.2.0",
            "_view_name": "StyleView",
            "description_width": ""
          }
        },
        "f92bc1006aa34a9dbc4c68acf1a8e03d": {
          "model_module": "@jupyter-widgets/base",
          "model_name": "LayoutModel",
          "model_module_version": "1.2.0",
          "state": {
            "_model_module": "@jupyter-widgets/base",
            "_model_module_version": "1.2.0",
            "_model_name": "LayoutModel",
            "_view_count": null,
            "_view_module": "@jupyter-widgets/base",
            "_view_module_version": "1.2.0",
            "_view_name": "LayoutView",
            "align_content": null,
            "align_items": null,
            "align_self": null,
            "border": null,
            "bottom": null,
            "display": null,
            "flex": null,
            "flex_flow": null,
            "grid_area": null,
            "grid_auto_columns": null,
            "grid_auto_flow": null,
            "grid_auto_rows": null,
            "grid_column": null,
            "grid_gap": null,
            "grid_row": null,
            "grid_template_areas": null,
            "grid_template_columns": null,
            "grid_template_rows": null,
            "height": null,
            "justify_content": null,
            "justify_items": null,
            "left": null,
            "margin": null,
            "max_height": null,
            "max_width": null,
            "min_height": null,
            "min_width": null,
            "object_fit": null,
            "object_position": null,
            "order": null,
            "overflow": null,
            "overflow_x": null,
            "overflow_y": null,
            "padding": null,
            "right": null,
            "top": null,
            "visibility": null,
            "width": null
          }
        },
        "c69393ef9b664fdc9703ba17ec84dfb3": {
          "model_module": "@jupyter-widgets/controls",
          "model_name": "ProgressStyleModel",
          "model_module_version": "1.5.0",
          "state": {
            "_model_module": "@jupyter-widgets/controls",
            "_model_module_version": "1.5.0",
            "_model_name": "ProgressStyleModel",
            "_view_count": null,
            "_view_module": "@jupyter-widgets/base",
            "_view_module_version": "1.2.0",
            "_view_name": "StyleView",
            "bar_color": null,
            "description_width": ""
          }
        },
        "147ffb3795e340358972269279e4e471": {
          "model_module": "@jupyter-widgets/base",
          "model_name": "LayoutModel",
          "model_module_version": "1.2.0",
          "state": {
            "_model_module": "@jupyter-widgets/base",
            "_model_module_version": "1.2.0",
            "_model_name": "LayoutModel",
            "_view_count": null,
            "_view_module": "@jupyter-widgets/base",
            "_view_module_version": "1.2.0",
            "_view_name": "LayoutView",
            "align_content": null,
            "align_items": null,
            "align_self": null,
            "border": null,
            "bottom": null,
            "display": null,
            "flex": null,
            "flex_flow": null,
            "grid_area": null,
            "grid_auto_columns": null,
            "grid_auto_flow": null,
            "grid_auto_rows": null,
            "grid_column": null,
            "grid_gap": null,
            "grid_row": null,
            "grid_template_areas": null,
            "grid_template_columns": null,
            "grid_template_rows": null,
            "height": null,
            "justify_content": null,
            "justify_items": null,
            "left": null,
            "margin": null,
            "max_height": null,
            "max_width": null,
            "min_height": null,
            "min_width": null,
            "object_fit": null,
            "object_position": null,
            "order": null,
            "overflow": null,
            "overflow_x": null,
            "overflow_y": null,
            "padding": null,
            "right": null,
            "top": null,
            "visibility": null,
            "width": null
          }
        },
        "64c23ba5729849debe9fd9b43cc2137f": {
          "model_module": "@jupyter-widgets/controls",
          "model_name": "DescriptionStyleModel",
          "model_module_version": "1.5.0",
          "state": {
            "_model_module": "@jupyter-widgets/controls",
            "_model_module_version": "1.5.0",
            "_model_name": "DescriptionStyleModel",
            "_view_count": null,
            "_view_module": "@jupyter-widgets/base",
            "_view_module_version": "1.2.0",
            "_view_name": "StyleView",
            "description_width": ""
          }
        }
      }
    }
  },
  "cells": [
    {
      "cell_type": "markdown",
      "source": [
        "#Task 1\n",
        " Read the documentation of Language modelling in the Transformers library.\n"
      ],
      "metadata": {
        "id": "AyO1ZiyT4R7G"
      }
    },
    {
      "cell_type": "markdown",
      "source": [
        "# Task 2\n",
        "\n",
        "Download three Polish models from the Huggingface repository.\n",
        "\n",
        "\n",
        "The chosen models are xlm-roberta-base, bert-base-multilingual-cased, distilbert-base-multilingual-cased and dkleczek/bert-base-polish-uncased-v1"
      ],
      "metadata": {
        "id": "_HpoQ42o4c8I"
      }
    },
    {
      "cell_type": "code",
      "source": [
        "!pip install transformers"
      ],
      "metadata": {
        "id": "sgMXLrit2ypY",
        "colab": {
          "base_uri": "https://localhost:8080/"
        },
        "outputId": "adffb414-5426-4d79-8cca-719d8d6eb380"
      },
      "execution_count": 1,
      "outputs": [
        {
          "output_type": "stream",
          "name": "stdout",
          "text": [
            "Looking in indexes: https://pypi.org/simple, https://us-python.pkg.dev/colab-wheels/public/simple/\n",
            "Collecting transformers\n",
            "  Downloading transformers-4.25.1-py3-none-any.whl (5.8 MB)\n",
            "\u001b[K     |████████████████████████████████| 5.8 MB 4.3 MB/s \n",
            "\u001b[?25hRequirement already satisfied: requests in /usr/local/lib/python3.8/dist-packages (from transformers) (2.23.0)\n",
            "Requirement already satisfied: tqdm>=4.27 in /usr/local/lib/python3.8/dist-packages (from transformers) (4.64.1)\n",
            "Requirement already satisfied: regex!=2019.12.17 in /usr/local/lib/python3.8/dist-packages (from transformers) (2022.6.2)\n",
            "Collecting tokenizers!=0.11.3,<0.14,>=0.11.1\n",
            "  Downloading tokenizers-0.13.2-cp38-cp38-manylinux_2_17_x86_64.manylinux2014_x86_64.whl (7.6 MB)\n",
            "\u001b[K     |████████████████████████████████| 7.6 MB 40.5 MB/s \n",
            "\u001b[?25hRequirement already satisfied: filelock in /usr/local/lib/python3.8/dist-packages (from transformers) (3.8.2)\n",
            "Collecting huggingface-hub<1.0,>=0.10.0\n",
            "  Downloading huggingface_hub-0.11.1-py3-none-any.whl (182 kB)\n",
            "\u001b[K     |████████████████████████████████| 182 kB 56.2 MB/s \n",
            "\u001b[?25hRequirement already satisfied: packaging>=20.0 in /usr/local/lib/python3.8/dist-packages (from transformers) (21.3)\n",
            "Requirement already satisfied: numpy>=1.17 in /usr/local/lib/python3.8/dist-packages (from transformers) (1.21.6)\n",
            "Requirement already satisfied: pyyaml>=5.1 in /usr/local/lib/python3.8/dist-packages (from transformers) (6.0)\n",
            "Requirement already satisfied: typing-extensions>=3.7.4.3 in /usr/local/lib/python3.8/dist-packages (from huggingface-hub<1.0,>=0.10.0->transformers) (4.4.0)\n",
            "Requirement already satisfied: pyparsing!=3.0.5,>=2.0.2 in /usr/local/lib/python3.8/dist-packages (from packaging>=20.0->transformers) (3.0.9)\n",
            "Requirement already satisfied: idna<3,>=2.5 in /usr/local/lib/python3.8/dist-packages (from requests->transformers) (2.10)\n",
            "Requirement already satisfied: chardet<4,>=3.0.2 in /usr/local/lib/python3.8/dist-packages (from requests->transformers) (3.0.4)\n",
            "Requirement already satisfied: certifi>=2017.4.17 in /usr/local/lib/python3.8/dist-packages (from requests->transformers) (2022.12.7)\n",
            "Requirement already satisfied: urllib3!=1.25.0,!=1.25.1,<1.26,>=1.21.1 in /usr/local/lib/python3.8/dist-packages (from requests->transformers) (1.24.3)\n",
            "Installing collected packages: tokenizers, huggingface-hub, transformers\n",
            "Successfully installed huggingface-hub-0.11.1 tokenizers-0.13.2 transformers-4.25.1\n"
          ]
        }
      ]
    },
    {
      "cell_type": "code",
      "source": [
        "from pprint import pprint\n",
        "from transformers import *"
      ],
      "metadata": {
        "id": "PFIzRj0342ib",
        "colab": {
          "base_uri": "https://localhost:8080/"
        },
        "outputId": "6903dc13-cb8f-46b3-8d47-ee0773be67d5"
      },
      "execution_count": 2,
      "outputs": [
        {
          "output_type": "stream",
          "name": "stderr",
          "text": [
            "/usr/local/lib/python3.8/dist-packages/transformers/generation_utils.py:24: FutureWarning: Importing `GenerationMixin` from `src/transformers/generation_utils.py` is deprecated and will be removed in Transformers v5. Import as `from transformers import GenerationMixin` instead.\n",
            "  warnings.warn(\n",
            "/usr/local/lib/python3.8/dist-packages/transformers/generation_tf_utils.py:24: FutureWarning: Importing `TFGenerationMixin` from `src/transformers/generation_tf_utils.py` is deprecated and will be removed in Transformers v5. Import as `from transformers import TFGenerationMixin` instead.\n",
            "  warnings.warn(\n"
          ]
        }
      ]
    },
    {
      "cell_type": "code",
      "execution_count": 3,
      "metadata": {
        "id": "M9SQX_XTxXKx",
        "colab": {
          "base_uri": "https://localhost:8080/",
          "height": 1000,
          "referenced_widgets": [
            "95850ed19cf54c8b828d03bcac1dda9a",
            "d52be87db3db4a31ac7be6ce3e502fb4",
            "77084dd1c1244e01a69754b124b50275",
            "424d1302ac7e49a9b6fa7cabaa97359e",
            "d49f8a93a2a84de491108288b08bcfc2",
            "271f281c8149435fb14747231c74642c",
            "e46fbc8a5c0344d6a65fdeffa6bb0d32",
            "0e57476ea3ea497a864a9ba987f00f63",
            "5aed3b32824d4937bf772eb7b46c0eba",
            "81a2a8ce0544487794b5c0434dc207a5",
            "9a0690670dfb4266b637608884795994",
            "b7c31fba06c6425b98ad5eff8781dcd0",
            "59149836e51743cfb3231a5f83170cc2",
            "f6a25c6483dc4604a084854c0d39c687",
            "e32e2dc770da486189f1063162a23557",
            "0b37090b2f34493093be675bbb03c674",
            "c8a1c9c094164a0795ce685ec67372ad",
            "f4a65a5dc0d14031bcd64bf4e0b05d71",
            "0eaa260e187241f5b537081f457608f4",
            "fe72789c536d490da8cc74e0896d2359",
            "6545753889ac41d1be1ebb32b6e8ddc8",
            "7f7fb9d8d62944df936fc7d0710cbbe6",
            "6e295df4b307435e953814a8ec75f48b",
            "d7dd47e0d8f8497492fd282a90bea0b8",
            "b81acb73134c4110ab2bf9983211cbc7",
            "f32af2056c2a4186a7966c5505b13a0f",
            "cbf2433303f94622a116b413d15d6a74",
            "884e7bd76a044f57aff8fc3e378116e3",
            "f1075c1907cb47f2aa9b3ddf87dd882c",
            "79f63e324c5f445aab0f34fe36f79849",
            "67b427c2a8664fc2a298c2224cca7183",
            "f28186dda35f43b7b24e8e4bbceb7eff",
            "84983db1a97449e6a7ac0b8c44655fbc",
            "0f3b28f739724ea48a7b167135ea2f7a",
            "c2e02f5585a84f4aa33640f3db1d1205",
            "6e6c2dd6a0aa430fb2245da07b6ce879",
            "10a84bf666a746d29d338bf0bc44c8d6",
            "2461c7134fd44ed4a7df813c2c387c16",
            "a43ec03af2c343a4abb0cf0fcf6cb3c7",
            "558bf056f732443eb8a5c2457a246d55",
            "c75d451c791c43a4812982035f1c3c9b",
            "bfac51451f9446bca0f4cc2d82cc976d",
            "527427a0525c4d12b4c7f12bfa1b33af",
            "ce067d9889b64a99ae91049168e1e5e5",
            "17c9d5d3b3d6485fa3918b7e092b2738",
            "af39e3d7e01f4473914d3725be493795",
            "d9a83b2961c24d9295b72bae30b06023",
            "6ef91e97ce1a4312b927d97d20bf1c78",
            "26d757f00bfc4ee486af0bc27a537044",
            "28657495527f45d5963de4aaaa782f49",
            "c318176d7b8f45ea805cc03943df2e85",
            "9bd7ad5b92004e908dcdad0bb965d7f8",
            "2185aecde0c04ec8be002bf30dd3aca0",
            "243c5ed0dc5d47d29e1d76d698e07470",
            "492525745a6f40eebc836df1644224e9",
            "3adc5349dbc34df69cf5b80453c04cff",
            "1dcec4fa46284d249c13960ef5b0935a",
            "9b7cf487c3774e1f9e4611e980482ef3",
            "fbe1f48e64d6404e970e33bc8771e270",
            "b2703aa3d132440eadc085ac4e8b3900",
            "12ae6bb6cbe64258ac95a1d178829c22",
            "eee347df8de948bb96c6cd01df6bcc67",
            "53f28e63ed464902b811b152c12690bb",
            "7d1b102f766c487aa9e7577bf8058e78",
            "061d743a1279475294d315bba128e40a",
            "bbe916272dc1400f94f89f25c3002293",
            "2d5d94f98d13486bae36c5d1580299d3",
            "d21b1a1bf82f4a23b9d3fba0560d671f",
            "5fff657929234d1ba40a792ba1fdd0a9",
            "e52e3365820a4c2e94239aee2b4c68c9",
            "7eb84573b187441682f515c2118a015f",
            "189a0c729d5547bf976cef9b384f5d58",
            "0670f0d08a90448a98110aead58d9c56",
            "a3acc65f18e94bbea466a9a6b35ae740",
            "7d5f1a6f09dc47cb8bad87039326653a",
            "2bcbac88a4ee44199d29b48cc63bafa7",
            "b279905d5de64a36b3ce431aea327b3a",
            "66fa20f48dfc4cd4af918815dcadb543",
            "24a63b284b434407b02e62eab969b7f6",
            "ef123a5bd7ca4a139d9463765b730213",
            "1b444c4308d247a7b6e007ba37443c92",
            "36f9f41d446b444cbdbfacdb9a3e862d",
            "d04ff1e47f324371a92072b012f9a716",
            "7f3ee4795e7545f2816988d61b82eb67",
            "a42c8cb1e0a8405382a6aac7764d189d",
            "257f3c6ba0674129a155499ead63a7d7",
            "4023ace00f624a3d97c4b4ee6bf6764b",
            "671fe728a2f540dda8316e6ddb0e0682",
            "7aad01374ed84fd392dae231604f8d88",
            "54c7e6c82ad74b679ebf874534f32be1",
            "366377b86a4c40b597464461ccd7462c",
            "289471d376e94dacbdc7d61808e6c5ee",
            "0f53427f54af47fd870cce3c5ff3a446",
            "6fe7ed24f8854b67979697d50b19371a",
            "7056e4e4a02249d2b6831db129105f90",
            "59e5d775290c49a99a03e7a0fbad8e94",
            "64292b7c21d641cc882a721156f535ca",
            "d497e3a5ece645d1b774fdb68804388e",
            "6d8b536aa2c4484abbc49c339a01a4bf",
            "8a06fb3359954132bb254956f0445350",
            "7acd8ed17fdf4d71b6c431c454351178",
            "4ef848d3466a4b8688d98dea20dc7580",
            "06eead790d8d4534a584952bc84050bf",
            "67e32d78bf7b4eec89886ccd2fccb184",
            "0aa99e3de44346ba818c8e11612fb973",
            "1264fa34d795423b936e1ecd61e651cf",
            "e556e8ab2ef34780a08906617857ce14",
            "c0e4180fc55e417facc6bcc08a01c22f",
            "cca642b8b2a54fd8b260afddaf13f06b",
            "bca6d88742df44edb67c1d2b98bd74df",
            "0529e0f7118947ee9aa06b174cc4dd71",
            "5b2b842451a84efdb4457abe45658844",
            "7417880e7aa04c8c90f0e664a82186df",
            "27fd8501f55a4d699910bc5309a5b8d8",
            "08149197237b4299a713a762acdf470b",
            "12bda55adb88447aab8a1f00e059271c",
            "6de512d576b947d6aea7365f9dc1871d",
            "1fafc8c005ac41aebc228053835857fb",
            "05d6ada633ce4b878a0687687e6b0822",
            "c2bba172b77e48b7be1c84addd5a03d6",
            "0bef61d24ea74fae8ba5e9259f4642a9",
            "346b1437092f4b3d87d612d3ae7ad907",
            "eb12e8bff54d40f192d4025c6f73ab11",
            "a58f122f16a24e9db4e3d7e98bb1448c",
            "0ec6c59fd507445d8f74ed8cae1ade1c",
            "aa80c4b601954371ae74a1ea963f9777",
            "0d73ace928d240c99be33054b3ca65e4",
            "533fec3e35ad4abeadbcf916b9c18ebc",
            "d3574405534743b3851ca44488695fd1",
            "58d7ba04d19847ee9672620fd6f11663",
            "d4838495266b4e06b1b9e7e96258a5fb",
            "45315a7867de43ebb91defce0a731140",
            "d9ea5b02028448e38c24d19ce4f8245f",
            "f6d908bade884857baeb27c8bcb0a212",
            "abb0b426c0584eb087ad5d21ad0b27f1",
            "f7e1d7ecb05e409f9944eae807030654",
            "042b9ce323f240d0925dab9c49e7f594",
            "75aab09c6e59433ea830aa508c1019c0",
            "0ec6695b25274a1bbe3679c858b83823",
            "5bb78803bd6e42e783b92853e31751d0",
            "28a28d1c615442b286df893834b02f44",
            "fce008ef93874f7ab5e3b4cf743cb77b",
            "2464f36bd0fb4bdea2a470d28d6c1ea6",
            "8bbd600786f54221a729e3594dd12ba7",
            "66b83ae1da9f427a96bc254d7349a6e7",
            "349f0e6d6aa145738820b8b6e1cf5487",
            "2674eab78728428f96470a45e01696e2",
            "09ee96c9ce5e41a0895d5de3b3b0e8bb",
            "69fc9e9925c144fe9224bf1e4c23321c",
            "4d1817b537a34aaba072d31233a34b8e",
            "b3436c71250c49f58d3c11165b79d47f",
            "0696b3c2bfe041039aac96f93e98c089",
            "e86af50e2eab4ddca15d9b4d839843df",
            "3a8f8a55335f463390433d67867b32fc",
            "4ce8ce181c3b4a188127a2e2f1e70b28",
            "6a5f7bc926104e56b6bcc02ff76262c3",
            "97481c7208dc40038de1d4a1bb686156",
            "d9b1549a863d42e2b6af16b613fb1c71",
            "c53a32e49fa54986992791c3e2d2df1f",
            "f38e50ae3ebc40f383d9af53fbb7c139",
            "6c109d9af9df4c188ca17c5b1fe6fe3c",
            "f65cb0e457b546d98cb1fcbc10068be0",
            "cccc914f88304eaeaba5acd2ccbf89f4",
            "a5cfbac54fd14ab38b728131528a2952",
            "afd891f6cef4425e8ff168cc70167097",
            "da966dd897964b4b8d596aa4fca7b25e",
            "2351a8521f5f4c94bc20fe7c21449c41",
            "cc1a61f0eb5f468d8cccf194389aa39f",
            "961c1d5ffe394c9a930c28ce7b16a7ce",
            "1ca49bef6bdb47d3aa955ec489e7c726",
            "e2033f3a9b5f4aa3bfc281698cf34169",
            "47c598e77ea947b599fb858b99dc039b",
            "c2ac403350dc497f8c9bbfa1322e1c08",
            "5d4e1ced3f384e19b87b30fb7b18f158",
            "ee94e0aca0e34999957594b8dc0a3337",
            "26d6de3ca0a14c0390650ff52e9087d8",
            "035906e6009b41128b7d4e6736966a8a",
            "0121ecdc86ea4064808a4e3509a75dc3",
            "7d7e7dcb75d84d578c41f3f90b8d5967",
            "429fd5576d9543f49c55d8260cfb168c",
            "bfd83b0a0ae3415788d729724f6d2df9",
            "e7bae7a6ca3a4ed68dc973914e267250",
            "dbce88218cec454b9d56c2a579ce7ce1",
            "0620cb4f7f444ed5bf7def1db1f00dcc",
            "31bb65b0235c4905ab39d2b0a7fcfa0d",
            "4196088bb8b24ae4a8843952803aa368",
            "fdc34b394d0648e28187bec3c7dc3243",
            "f6b1494b61ec48d6ad10a0e8874b79d3",
            "6b80d34a5d5a4e199195c95007afc5de",
            "eb021f4c4f884ad9aaf0b9f29cd409cf",
            "a98a01631aaf490ca77728830eaa2ffc",
            "0d2986ec0eca47ac8525eacc9a87990d",
            "a853e3f30bde434587585862a7793bb9",
            "0d53b39181f649649e5749382e143a29",
            "7557420027e942da920580d50b54a590",
            "9033bde3d8d344428099a920ea2de07b",
            "f8af617871c94ae8a7371a53828dec33",
            "fd72fb05ce9548dcbdb183d741645250",
            "2d8c77cb70ce444cb9be0cac59c96f0e",
            "f9604ef0e5b2435c944bc26dd996c675",
            "0c5f318675434b8ea2ad9ea3df9f050e",
            "1f9b27b8a6154686a386cbfd09faae5e",
            "290308c6d4994a2d9010898a6710c2bd",
            "d444ee6215c544abbf58653ed49ab72b",
            "4ea9212047a74d5ca71f9da20f420909",
            "f92bc1006aa34a9dbc4c68acf1a8e03d",
            "c69393ef9b664fdc9703ba17ec84dfb3",
            "147ffb3795e340358972269279e4e471",
            "64c23ba5729849debe9fd9b43cc2137f"
          ]
        },
        "outputId": "04fbd1c8-e273-4b17-8e91-f1ffce0d9925"
      },
      "outputs": [
        {
          "output_type": "display_data",
          "data": {
            "text/plain": [
              "Downloading:   0%|          | 0.00/625 [00:00<?, ?B/s]"
            ],
            "application/vnd.jupyter.widget-view+json": {
              "version_major": 2,
              "version_minor": 0,
              "model_id": "95850ed19cf54c8b828d03bcac1dda9a"
            }
          },
          "metadata": {}
        },
        {
          "output_type": "stream",
          "name": "stderr",
          "text": [
            "loading configuration file config.json from cache at /root/.cache/huggingface/hub/models--bert-base-multilingual-cased/snapshots/fdfce55e83dbed325647a63e7e1f5de19f0382ba/config.json\n",
            "Model config BertConfig {\n",
            "  \"_name_or_path\": \"bert-base-multilingual-cased\",\n",
            "  \"architectures\": [\n",
            "    \"BertForMaskedLM\"\n",
            "  ],\n",
            "  \"attention_probs_dropout_prob\": 0.1,\n",
            "  \"classifier_dropout\": null,\n",
            "  \"directionality\": \"bidi\",\n",
            "  \"hidden_act\": \"gelu\",\n",
            "  \"hidden_dropout_prob\": 0.1,\n",
            "  \"hidden_size\": 768,\n",
            "  \"initializer_range\": 0.02,\n",
            "  \"intermediate_size\": 3072,\n",
            "  \"layer_norm_eps\": 1e-12,\n",
            "  \"max_position_embeddings\": 512,\n",
            "  \"model_type\": \"bert\",\n",
            "  \"num_attention_heads\": 12,\n",
            "  \"num_hidden_layers\": 12,\n",
            "  \"pad_token_id\": 0,\n",
            "  \"pooler_fc_size\": 768,\n",
            "  \"pooler_num_attention_heads\": 12,\n",
            "  \"pooler_num_fc_layers\": 3,\n",
            "  \"pooler_size_per_head\": 128,\n",
            "  \"pooler_type\": \"first_token_transform\",\n",
            "  \"position_embedding_type\": \"absolute\",\n",
            "  \"transformers_version\": \"4.25.1\",\n",
            "  \"type_vocab_size\": 2,\n",
            "  \"use_cache\": true,\n",
            "  \"vocab_size\": 119547\n",
            "}\n",
            "\n",
            "loading configuration file config.json from cache at /root/.cache/huggingface/hub/models--bert-base-multilingual-cased/snapshots/fdfce55e83dbed325647a63e7e1f5de19f0382ba/config.json\n",
            "Model config BertConfig {\n",
            "  \"_name_or_path\": \"bert-base-multilingual-cased\",\n",
            "  \"architectures\": [\n",
            "    \"BertForMaskedLM\"\n",
            "  ],\n",
            "  \"attention_probs_dropout_prob\": 0.1,\n",
            "  \"classifier_dropout\": null,\n",
            "  \"directionality\": \"bidi\",\n",
            "  \"hidden_act\": \"gelu\",\n",
            "  \"hidden_dropout_prob\": 0.1,\n",
            "  \"hidden_size\": 768,\n",
            "  \"initializer_range\": 0.02,\n",
            "  \"intermediate_size\": 3072,\n",
            "  \"layer_norm_eps\": 1e-12,\n",
            "  \"max_position_embeddings\": 512,\n",
            "  \"model_type\": \"bert\",\n",
            "  \"num_attention_heads\": 12,\n",
            "  \"num_hidden_layers\": 12,\n",
            "  \"pad_token_id\": 0,\n",
            "  \"pooler_fc_size\": 768,\n",
            "  \"pooler_num_attention_heads\": 12,\n",
            "  \"pooler_num_fc_layers\": 3,\n",
            "  \"pooler_size_per_head\": 128,\n",
            "  \"pooler_type\": \"first_token_transform\",\n",
            "  \"position_embedding_type\": \"absolute\",\n",
            "  \"transformers_version\": \"4.25.1\",\n",
            "  \"type_vocab_size\": 2,\n",
            "  \"use_cache\": true,\n",
            "  \"vocab_size\": 119547\n",
            "}\n",
            "\n"
          ]
        },
        {
          "output_type": "display_data",
          "data": {
            "text/plain": [
              "Downloading:   0%|          | 0.00/714M [00:00<?, ?B/s]"
            ],
            "application/vnd.jupyter.widget-view+json": {
              "version_major": 2,
              "version_minor": 0,
              "model_id": "b7c31fba06c6425b98ad5eff8781dcd0"
            }
          },
          "metadata": {}
        },
        {
          "output_type": "stream",
          "name": "stderr",
          "text": [
            "loading weights file pytorch_model.bin from cache at /root/.cache/huggingface/hub/models--bert-base-multilingual-cased/snapshots/fdfce55e83dbed325647a63e7e1f5de19f0382ba/pytorch_model.bin\n",
            "Some weights of the model checkpoint at bert-base-multilingual-cased were not used when initializing BertForMaskedLM: ['cls.seq_relationship.bias', 'cls.seq_relationship.weight']\n",
            "- This IS expected if you are initializing BertForMaskedLM from the checkpoint of a model trained on another task or with another architecture (e.g. initializing a BertForSequenceClassification model from a BertForPreTraining model).\n",
            "- This IS NOT expected if you are initializing BertForMaskedLM from the checkpoint of a model that you expect to be exactly identical (initializing a BertForSequenceClassification model from a BertForSequenceClassification model).\n",
            "All the weights of BertForMaskedLM were initialized from the model checkpoint at bert-base-multilingual-cased.\n",
            "If your task is similar to the task the model of the checkpoint was trained on, you can already use BertForMaskedLM for predictions without further training.\n"
          ]
        },
        {
          "output_type": "display_data",
          "data": {
            "text/plain": [
              "Downloading:   0%|          | 0.00/29.0 [00:00<?, ?B/s]"
            ],
            "application/vnd.jupyter.widget-view+json": {
              "version_major": 2,
              "version_minor": 0,
              "model_id": "6e295df4b307435e953814a8ec75f48b"
            }
          },
          "metadata": {}
        },
        {
          "output_type": "stream",
          "name": "stderr",
          "text": [
            "loading configuration file config.json from cache at /root/.cache/huggingface/hub/models--bert-base-multilingual-cased/snapshots/fdfce55e83dbed325647a63e7e1f5de19f0382ba/config.json\n",
            "Model config BertConfig {\n",
            "  \"_name_or_path\": \"bert-base-multilingual-cased\",\n",
            "  \"architectures\": [\n",
            "    \"BertForMaskedLM\"\n",
            "  ],\n",
            "  \"attention_probs_dropout_prob\": 0.1,\n",
            "  \"classifier_dropout\": null,\n",
            "  \"directionality\": \"bidi\",\n",
            "  \"hidden_act\": \"gelu\",\n",
            "  \"hidden_dropout_prob\": 0.1,\n",
            "  \"hidden_size\": 768,\n",
            "  \"initializer_range\": 0.02,\n",
            "  \"intermediate_size\": 3072,\n",
            "  \"layer_norm_eps\": 1e-12,\n",
            "  \"max_position_embeddings\": 512,\n",
            "  \"model_type\": \"bert\",\n",
            "  \"num_attention_heads\": 12,\n",
            "  \"num_hidden_layers\": 12,\n",
            "  \"pad_token_id\": 0,\n",
            "  \"pooler_fc_size\": 768,\n",
            "  \"pooler_num_attention_heads\": 12,\n",
            "  \"pooler_num_fc_layers\": 3,\n",
            "  \"pooler_size_per_head\": 128,\n",
            "  \"pooler_type\": \"first_token_transform\",\n",
            "  \"position_embedding_type\": \"absolute\",\n",
            "  \"transformers_version\": \"4.25.1\",\n",
            "  \"type_vocab_size\": 2,\n",
            "  \"use_cache\": true,\n",
            "  \"vocab_size\": 119547\n",
            "}\n",
            "\n"
          ]
        },
        {
          "output_type": "display_data",
          "data": {
            "text/plain": [
              "Downloading:   0%|          | 0.00/996k [00:00<?, ?B/s]"
            ],
            "application/vnd.jupyter.widget-view+json": {
              "version_major": 2,
              "version_minor": 0,
              "model_id": "0f3b28f739724ea48a7b167135ea2f7a"
            }
          },
          "metadata": {}
        },
        {
          "output_type": "display_data",
          "data": {
            "text/plain": [
              "Downloading:   0%|          | 0.00/1.96M [00:00<?, ?B/s]"
            ],
            "application/vnd.jupyter.widget-view+json": {
              "version_major": 2,
              "version_minor": 0,
              "model_id": "17c9d5d3b3d6485fa3918b7e092b2738"
            }
          },
          "metadata": {}
        },
        {
          "output_type": "stream",
          "name": "stderr",
          "text": [
            "loading file vocab.txt from cache at /root/.cache/huggingface/hub/models--bert-base-multilingual-cased/snapshots/fdfce55e83dbed325647a63e7e1f5de19f0382ba/vocab.txt\n",
            "loading file tokenizer.json from cache at /root/.cache/huggingface/hub/models--bert-base-multilingual-cased/snapshots/fdfce55e83dbed325647a63e7e1f5de19f0382ba/tokenizer.json\n",
            "loading file added_tokens.json from cache at None\n",
            "loading file special_tokens_map.json from cache at None\n",
            "loading file tokenizer_config.json from cache at /root/.cache/huggingface/hub/models--bert-base-multilingual-cased/snapshots/fdfce55e83dbed325647a63e7e1f5de19f0382ba/tokenizer_config.json\n",
            "loading configuration file config.json from cache at /root/.cache/huggingface/hub/models--bert-base-multilingual-cased/snapshots/fdfce55e83dbed325647a63e7e1f5de19f0382ba/config.json\n",
            "Model config BertConfig {\n",
            "  \"_name_or_path\": \"bert-base-multilingual-cased\",\n",
            "  \"architectures\": [\n",
            "    \"BertForMaskedLM\"\n",
            "  ],\n",
            "  \"attention_probs_dropout_prob\": 0.1,\n",
            "  \"classifier_dropout\": null,\n",
            "  \"directionality\": \"bidi\",\n",
            "  \"hidden_act\": \"gelu\",\n",
            "  \"hidden_dropout_prob\": 0.1,\n",
            "  \"hidden_size\": 768,\n",
            "  \"initializer_range\": 0.02,\n",
            "  \"intermediate_size\": 3072,\n",
            "  \"layer_norm_eps\": 1e-12,\n",
            "  \"max_position_embeddings\": 512,\n",
            "  \"model_type\": \"bert\",\n",
            "  \"num_attention_heads\": 12,\n",
            "  \"num_hidden_layers\": 12,\n",
            "  \"pad_token_id\": 0,\n",
            "  \"pooler_fc_size\": 768,\n",
            "  \"pooler_num_attention_heads\": 12,\n",
            "  \"pooler_num_fc_layers\": 3,\n",
            "  \"pooler_size_per_head\": 128,\n",
            "  \"pooler_type\": \"first_token_transform\",\n",
            "  \"position_embedding_type\": \"absolute\",\n",
            "  \"transformers_version\": \"4.25.1\",\n",
            "  \"type_vocab_size\": 2,\n",
            "  \"use_cache\": true,\n",
            "  \"vocab_size\": 119547\n",
            "}\n",
            "\n"
          ]
        },
        {
          "output_type": "display_data",
          "data": {
            "text/plain": [
              "Downloading:   0%|          | 0.00/466 [00:00<?, ?B/s]"
            ],
            "application/vnd.jupyter.widget-view+json": {
              "version_major": 2,
              "version_minor": 0,
              "model_id": "3adc5349dbc34df69cf5b80453c04cff"
            }
          },
          "metadata": {}
        },
        {
          "output_type": "stream",
          "name": "stderr",
          "text": [
            "loading configuration file config.json from cache at /root/.cache/huggingface/hub/models--distilbert-base-multilingual-cased/snapshots/fb240273126596a03b35c85793d2e82a5b13ac79/config.json\n",
            "Model config DistilBertConfig {\n",
            "  \"_name_or_path\": \"distilbert-base-multilingual-cased\",\n",
            "  \"activation\": \"gelu\",\n",
            "  \"architectures\": [\n",
            "    \"DistilBertForMaskedLM\"\n",
            "  ],\n",
            "  \"attention_dropout\": 0.1,\n",
            "  \"dim\": 768,\n",
            "  \"dropout\": 0.1,\n",
            "  \"hidden_dim\": 3072,\n",
            "  \"initializer_range\": 0.02,\n",
            "  \"max_position_embeddings\": 512,\n",
            "  \"model_type\": \"distilbert\",\n",
            "  \"n_heads\": 12,\n",
            "  \"n_layers\": 6,\n",
            "  \"output_past\": true,\n",
            "  \"pad_token_id\": 0,\n",
            "  \"qa_dropout\": 0.1,\n",
            "  \"seq_classif_dropout\": 0.2,\n",
            "  \"sinusoidal_pos_embds\": false,\n",
            "  \"tie_weights_\": true,\n",
            "  \"transformers_version\": \"4.25.1\",\n",
            "  \"vocab_size\": 119547\n",
            "}\n",
            "\n",
            "loading configuration file config.json from cache at /root/.cache/huggingface/hub/models--distilbert-base-multilingual-cased/snapshots/fb240273126596a03b35c85793d2e82a5b13ac79/config.json\n",
            "Model config DistilBertConfig {\n",
            "  \"_name_or_path\": \"distilbert-base-multilingual-cased\",\n",
            "  \"activation\": \"gelu\",\n",
            "  \"architectures\": [\n",
            "    \"DistilBertForMaskedLM\"\n",
            "  ],\n",
            "  \"attention_dropout\": 0.1,\n",
            "  \"dim\": 768,\n",
            "  \"dropout\": 0.1,\n",
            "  \"hidden_dim\": 3072,\n",
            "  \"initializer_range\": 0.02,\n",
            "  \"max_position_embeddings\": 512,\n",
            "  \"model_type\": \"distilbert\",\n",
            "  \"n_heads\": 12,\n",
            "  \"n_layers\": 6,\n",
            "  \"output_past\": true,\n",
            "  \"pad_token_id\": 0,\n",
            "  \"qa_dropout\": 0.1,\n",
            "  \"seq_classif_dropout\": 0.2,\n",
            "  \"sinusoidal_pos_embds\": false,\n",
            "  \"tie_weights_\": true,\n",
            "  \"transformers_version\": \"4.25.1\",\n",
            "  \"vocab_size\": 119547\n",
            "}\n",
            "\n"
          ]
        },
        {
          "output_type": "display_data",
          "data": {
            "text/plain": [
              "Downloading:   0%|          | 0.00/542M [00:00<?, ?B/s]"
            ],
            "application/vnd.jupyter.widget-view+json": {
              "version_major": 2,
              "version_minor": 0,
              "model_id": "2d5d94f98d13486bae36c5d1580299d3"
            }
          },
          "metadata": {}
        },
        {
          "output_type": "stream",
          "name": "stderr",
          "text": [
            "loading weights file pytorch_model.bin from cache at /root/.cache/huggingface/hub/models--distilbert-base-multilingual-cased/snapshots/fb240273126596a03b35c85793d2e82a5b13ac79/pytorch_model.bin\n",
            "All model checkpoint weights were used when initializing DistilBertForMaskedLM.\n",
            "\n",
            "All the weights of DistilBertForMaskedLM were initialized from the model checkpoint at distilbert-base-multilingual-cased.\n",
            "If your task is similar to the task the model of the checkpoint was trained on, you can already use DistilBertForMaskedLM for predictions without further training.\n"
          ]
        },
        {
          "output_type": "display_data",
          "data": {
            "text/plain": [
              "Downloading:   0%|          | 0.00/29.0 [00:00<?, ?B/s]"
            ],
            "application/vnd.jupyter.widget-view+json": {
              "version_major": 2,
              "version_minor": 0,
              "model_id": "66fa20f48dfc4cd4af918815dcadb543"
            }
          },
          "metadata": {}
        },
        {
          "output_type": "stream",
          "name": "stderr",
          "text": [
            "loading configuration file config.json from cache at /root/.cache/huggingface/hub/models--distilbert-base-multilingual-cased/snapshots/fb240273126596a03b35c85793d2e82a5b13ac79/config.json\n",
            "Model config DistilBertConfig {\n",
            "  \"_name_or_path\": \"distilbert-base-multilingual-cased\",\n",
            "  \"activation\": \"gelu\",\n",
            "  \"architectures\": [\n",
            "    \"DistilBertForMaskedLM\"\n",
            "  ],\n",
            "  \"attention_dropout\": 0.1,\n",
            "  \"dim\": 768,\n",
            "  \"dropout\": 0.1,\n",
            "  \"hidden_dim\": 3072,\n",
            "  \"initializer_range\": 0.02,\n",
            "  \"max_position_embeddings\": 512,\n",
            "  \"model_type\": \"distilbert\",\n",
            "  \"n_heads\": 12,\n",
            "  \"n_layers\": 6,\n",
            "  \"output_past\": true,\n",
            "  \"pad_token_id\": 0,\n",
            "  \"qa_dropout\": 0.1,\n",
            "  \"seq_classif_dropout\": 0.2,\n",
            "  \"sinusoidal_pos_embds\": false,\n",
            "  \"tie_weights_\": true,\n",
            "  \"transformers_version\": \"4.25.1\",\n",
            "  \"vocab_size\": 119547\n",
            "}\n",
            "\n"
          ]
        },
        {
          "output_type": "display_data",
          "data": {
            "text/plain": [
              "Downloading:   0%|          | 0.00/996k [00:00<?, ?B/s]"
            ],
            "application/vnd.jupyter.widget-view+json": {
              "version_major": 2,
              "version_minor": 0,
              "model_id": "7aad01374ed84fd392dae231604f8d88"
            }
          },
          "metadata": {}
        },
        {
          "output_type": "display_data",
          "data": {
            "text/plain": [
              "Downloading:   0%|          | 0.00/1.96M [00:00<?, ?B/s]"
            ],
            "application/vnd.jupyter.widget-view+json": {
              "version_major": 2,
              "version_minor": 0,
              "model_id": "8a06fb3359954132bb254956f0445350"
            }
          },
          "metadata": {}
        },
        {
          "output_type": "stream",
          "name": "stderr",
          "text": [
            "loading file vocab.txt from cache at /root/.cache/huggingface/hub/models--distilbert-base-multilingual-cased/snapshots/fb240273126596a03b35c85793d2e82a5b13ac79/vocab.txt\n",
            "loading file tokenizer.json from cache at /root/.cache/huggingface/hub/models--distilbert-base-multilingual-cased/snapshots/fb240273126596a03b35c85793d2e82a5b13ac79/tokenizer.json\n",
            "loading file added_tokens.json from cache at None\n",
            "loading file special_tokens_map.json from cache at None\n",
            "loading file tokenizer_config.json from cache at /root/.cache/huggingface/hub/models--distilbert-base-multilingual-cased/snapshots/fb240273126596a03b35c85793d2e82a5b13ac79/tokenizer_config.json\n",
            "loading configuration file config.json from cache at /root/.cache/huggingface/hub/models--distilbert-base-multilingual-cased/snapshots/fb240273126596a03b35c85793d2e82a5b13ac79/config.json\n",
            "Model config DistilBertConfig {\n",
            "  \"_name_or_path\": \"distilbert-base-multilingual-cased\",\n",
            "  \"activation\": \"gelu\",\n",
            "  \"architectures\": [\n",
            "    \"DistilBertForMaskedLM\"\n",
            "  ],\n",
            "  \"attention_dropout\": 0.1,\n",
            "  \"dim\": 768,\n",
            "  \"dropout\": 0.1,\n",
            "  \"hidden_dim\": 3072,\n",
            "  \"initializer_range\": 0.02,\n",
            "  \"max_position_embeddings\": 512,\n",
            "  \"model_type\": \"distilbert\",\n",
            "  \"n_heads\": 12,\n",
            "  \"n_layers\": 6,\n",
            "  \"output_past\": true,\n",
            "  \"pad_token_id\": 0,\n",
            "  \"qa_dropout\": 0.1,\n",
            "  \"seq_classif_dropout\": 0.2,\n",
            "  \"sinusoidal_pos_embds\": false,\n",
            "  \"tie_weights_\": true,\n",
            "  \"transformers_version\": \"4.25.1\",\n",
            "  \"vocab_size\": 119547\n",
            "}\n",
            "\n"
          ]
        },
        {
          "output_type": "display_data",
          "data": {
            "text/plain": [
              "Downloading:   0%|          | 0.00/615 [00:00<?, ?B/s]"
            ],
            "application/vnd.jupyter.widget-view+json": {
              "version_major": 2,
              "version_minor": 0,
              "model_id": "0529e0f7118947ee9aa06b174cc4dd71"
            }
          },
          "metadata": {}
        },
        {
          "output_type": "stream",
          "name": "stderr",
          "text": [
            "loading configuration file config.json from cache at /root/.cache/huggingface/hub/models--xlm-roberta-base/snapshots/42f548f32366559214515ec137cdd16002968bf6/config.json\n",
            "Model config XLMRobertaConfig {\n",
            "  \"_name_or_path\": \"xlm-roberta-base\",\n",
            "  \"architectures\": [\n",
            "    \"XLMRobertaForMaskedLM\"\n",
            "  ],\n",
            "  \"attention_probs_dropout_prob\": 0.1,\n",
            "  \"bos_token_id\": 0,\n",
            "  \"classifier_dropout\": null,\n",
            "  \"eos_token_id\": 2,\n",
            "  \"hidden_act\": \"gelu\",\n",
            "  \"hidden_dropout_prob\": 0.1,\n",
            "  \"hidden_size\": 768,\n",
            "  \"initializer_range\": 0.02,\n",
            "  \"intermediate_size\": 3072,\n",
            "  \"layer_norm_eps\": 1e-05,\n",
            "  \"max_position_embeddings\": 514,\n",
            "  \"model_type\": \"xlm-roberta\",\n",
            "  \"num_attention_heads\": 12,\n",
            "  \"num_hidden_layers\": 12,\n",
            "  \"output_past\": true,\n",
            "  \"pad_token_id\": 1,\n",
            "  \"position_embedding_type\": \"absolute\",\n",
            "  \"transformers_version\": \"4.25.1\",\n",
            "  \"type_vocab_size\": 1,\n",
            "  \"use_cache\": true,\n",
            "  \"vocab_size\": 250002\n",
            "}\n",
            "\n",
            "loading configuration file config.json from cache at /root/.cache/huggingface/hub/models--xlm-roberta-base/snapshots/42f548f32366559214515ec137cdd16002968bf6/config.json\n",
            "Model config XLMRobertaConfig {\n",
            "  \"_name_or_path\": \"xlm-roberta-base\",\n",
            "  \"architectures\": [\n",
            "    \"XLMRobertaForMaskedLM\"\n",
            "  ],\n",
            "  \"attention_probs_dropout_prob\": 0.1,\n",
            "  \"bos_token_id\": 0,\n",
            "  \"classifier_dropout\": null,\n",
            "  \"eos_token_id\": 2,\n",
            "  \"hidden_act\": \"gelu\",\n",
            "  \"hidden_dropout_prob\": 0.1,\n",
            "  \"hidden_size\": 768,\n",
            "  \"initializer_range\": 0.02,\n",
            "  \"intermediate_size\": 3072,\n",
            "  \"layer_norm_eps\": 1e-05,\n",
            "  \"max_position_embeddings\": 514,\n",
            "  \"model_type\": \"xlm-roberta\",\n",
            "  \"num_attention_heads\": 12,\n",
            "  \"num_hidden_layers\": 12,\n",
            "  \"output_past\": true,\n",
            "  \"pad_token_id\": 1,\n",
            "  \"position_embedding_type\": \"absolute\",\n",
            "  \"transformers_version\": \"4.25.1\",\n",
            "  \"type_vocab_size\": 1,\n",
            "  \"use_cache\": true,\n",
            "  \"vocab_size\": 250002\n",
            "}\n",
            "\n"
          ]
        },
        {
          "output_type": "display_data",
          "data": {
            "text/plain": [
              "Downloading:   0%|          | 0.00/1.12G [00:00<?, ?B/s]"
            ],
            "application/vnd.jupyter.widget-view+json": {
              "version_major": 2,
              "version_minor": 0,
              "model_id": "346b1437092f4b3d87d612d3ae7ad907"
            }
          },
          "metadata": {}
        },
        {
          "output_type": "stream",
          "name": "stderr",
          "text": [
            "loading weights file pytorch_model.bin from cache at /root/.cache/huggingface/hub/models--xlm-roberta-base/snapshots/42f548f32366559214515ec137cdd16002968bf6/pytorch_model.bin\n",
            "All model checkpoint weights were used when initializing XLMRobertaForMaskedLM.\n",
            "\n",
            "All the weights of XLMRobertaForMaskedLM were initialized from the model checkpoint at xlm-roberta-base.\n",
            "If your task is similar to the task the model of the checkpoint was trained on, you can already use XLMRobertaForMaskedLM for predictions without further training.\n",
            "Could not locate the tokenizer configuration file, will try to use the model config instead.\n",
            "loading configuration file config.json from cache at /root/.cache/huggingface/hub/models--xlm-roberta-base/snapshots/42f548f32366559214515ec137cdd16002968bf6/config.json\n",
            "Model config XLMRobertaConfig {\n",
            "  \"_name_or_path\": \"xlm-roberta-base\",\n",
            "  \"architectures\": [\n",
            "    \"XLMRobertaForMaskedLM\"\n",
            "  ],\n",
            "  \"attention_probs_dropout_prob\": 0.1,\n",
            "  \"bos_token_id\": 0,\n",
            "  \"classifier_dropout\": null,\n",
            "  \"eos_token_id\": 2,\n",
            "  \"hidden_act\": \"gelu\",\n",
            "  \"hidden_dropout_prob\": 0.1,\n",
            "  \"hidden_size\": 768,\n",
            "  \"initializer_range\": 0.02,\n",
            "  \"intermediate_size\": 3072,\n",
            "  \"layer_norm_eps\": 1e-05,\n",
            "  \"max_position_embeddings\": 514,\n",
            "  \"model_type\": \"xlm-roberta\",\n",
            "  \"num_attention_heads\": 12,\n",
            "  \"num_hidden_layers\": 12,\n",
            "  \"output_past\": true,\n",
            "  \"pad_token_id\": 1,\n",
            "  \"position_embedding_type\": \"absolute\",\n",
            "  \"transformers_version\": \"4.25.1\",\n",
            "  \"type_vocab_size\": 1,\n",
            "  \"use_cache\": true,\n",
            "  \"vocab_size\": 250002\n",
            "}\n",
            "\n"
          ]
        },
        {
          "output_type": "display_data",
          "data": {
            "text/plain": [
              "Downloading:   0%|          | 0.00/5.07M [00:00<?, ?B/s]"
            ],
            "application/vnd.jupyter.widget-view+json": {
              "version_major": 2,
              "version_minor": 0,
              "model_id": "d9ea5b02028448e38c24d19ce4f8245f"
            }
          },
          "metadata": {}
        },
        {
          "output_type": "display_data",
          "data": {
            "text/plain": [
              "Downloading:   0%|          | 0.00/9.10M [00:00<?, ?B/s]"
            ],
            "application/vnd.jupyter.widget-view+json": {
              "version_major": 2,
              "version_minor": 0,
              "model_id": "8bbd600786f54221a729e3594dd12ba7"
            }
          },
          "metadata": {}
        },
        {
          "output_type": "stream",
          "name": "stderr",
          "text": [
            "loading file sentencepiece.bpe.model from cache at /root/.cache/huggingface/hub/models--xlm-roberta-base/snapshots/42f548f32366559214515ec137cdd16002968bf6/sentencepiece.bpe.model\n",
            "loading file tokenizer.json from cache at /root/.cache/huggingface/hub/models--xlm-roberta-base/snapshots/42f548f32366559214515ec137cdd16002968bf6/tokenizer.json\n",
            "loading file added_tokens.json from cache at None\n",
            "loading file special_tokens_map.json from cache at None\n",
            "loading file tokenizer_config.json from cache at None\n",
            "loading configuration file config.json from cache at /root/.cache/huggingface/hub/models--xlm-roberta-base/snapshots/42f548f32366559214515ec137cdd16002968bf6/config.json\n",
            "Model config XLMRobertaConfig {\n",
            "  \"_name_or_path\": \"xlm-roberta-base\",\n",
            "  \"architectures\": [\n",
            "    \"XLMRobertaForMaskedLM\"\n",
            "  ],\n",
            "  \"attention_probs_dropout_prob\": 0.1,\n",
            "  \"bos_token_id\": 0,\n",
            "  \"classifier_dropout\": null,\n",
            "  \"eos_token_id\": 2,\n",
            "  \"hidden_act\": \"gelu\",\n",
            "  \"hidden_dropout_prob\": 0.1,\n",
            "  \"hidden_size\": 768,\n",
            "  \"initializer_range\": 0.02,\n",
            "  \"intermediate_size\": 3072,\n",
            "  \"layer_norm_eps\": 1e-05,\n",
            "  \"max_position_embeddings\": 514,\n",
            "  \"model_type\": \"xlm-roberta\",\n",
            "  \"num_attention_heads\": 12,\n",
            "  \"num_hidden_layers\": 12,\n",
            "  \"output_past\": true,\n",
            "  \"pad_token_id\": 1,\n",
            "  \"position_embedding_type\": \"absolute\",\n",
            "  \"transformers_version\": \"4.25.1\",\n",
            "  \"type_vocab_size\": 1,\n",
            "  \"use_cache\": true,\n",
            "  \"vocab_size\": 250002\n",
            "}\n",
            "\n"
          ]
        },
        {
          "output_type": "display_data",
          "data": {
            "text/plain": [
              "Downloading:   0%|          | 0.00/478 [00:00<?, ?B/s]"
            ],
            "application/vnd.jupyter.widget-view+json": {
              "version_major": 2,
              "version_minor": 0,
              "model_id": "4ce8ce181c3b4a188127a2e2f1e70b28"
            }
          },
          "metadata": {}
        },
        {
          "output_type": "stream",
          "name": "stderr",
          "text": [
            "loading configuration file config.json from cache at /root/.cache/huggingface/hub/models--dkleczek--bert-base-polish-uncased-v1/snapshots/62be9821055981deafb23f217b68cc41f38cdb76/config.json\n",
            "Model config BertConfig {\n",
            "  \"architectures\": [\n",
            "    \"BertForMaskedLM\",\n",
            "    \"BertForPreTraining\"\n",
            "  ],\n",
            "  \"attention_probs_dropout_prob\": 0.1,\n",
            "  \"classifier_dropout\": null,\n",
            "  \"hidden_act\": \"gelu\",\n",
            "  \"hidden_dropout_prob\": 0.1,\n",
            "  \"hidden_size\": 768,\n",
            "  \"initializer_range\": 0.02,\n",
            "  \"intermediate_size\": 3072,\n",
            "  \"layer_norm_eps\": 1e-12,\n",
            "  \"max_position_embeddings\": 512,\n",
            "  \"model_type\": \"bert\",\n",
            "  \"num_attention_heads\": 12,\n",
            "  \"num_hidden_layers\": 12,\n",
            "  \"output_past\": true,\n",
            "  \"pad_token_id\": 0,\n",
            "  \"position_embedding_type\": \"absolute\",\n",
            "  \"transformers_version\": \"4.25.1\",\n",
            "  \"type_vocab_size\": 2,\n",
            "  \"use_cache\": true,\n",
            "  \"vocab_size\": 60000\n",
            "}\n",
            "\n"
          ]
        },
        {
          "output_type": "display_data",
          "data": {
            "text/plain": [
              "Downloading:   0%|          | 0.00/531M [00:00<?, ?B/s]"
            ],
            "application/vnd.jupyter.widget-view+json": {
              "version_major": 2,
              "version_minor": 0,
              "model_id": "da966dd897964b4b8d596aa4fca7b25e"
            }
          },
          "metadata": {}
        },
        {
          "output_type": "stream",
          "name": "stderr",
          "text": [
            "loading weights file pytorch_model.bin from cache at /root/.cache/huggingface/hub/models--dkleczek--bert-base-polish-uncased-v1/snapshots/62be9821055981deafb23f217b68cc41f38cdb76/pytorch_model.bin\n",
            "Some weights of the model checkpoint at dkleczek/bert-base-polish-uncased-v1 were not used when initializing BertForMaskedLM: ['cls.seq_relationship.bias', 'cls.seq_relationship.weight']\n",
            "- This IS expected if you are initializing BertForMaskedLM from the checkpoint of a model trained on another task or with another architecture (e.g. initializing a BertForSequenceClassification model from a BertForPreTraining model).\n",
            "- This IS NOT expected if you are initializing BertForMaskedLM from the checkpoint of a model that you expect to be exactly identical (initializing a BertForSequenceClassification model from a BertForSequenceClassification model).\n",
            "All the weights of BertForMaskedLM were initialized from the model checkpoint at dkleczek/bert-base-polish-uncased-v1.\n",
            "If your task is similar to the task the model of the checkpoint was trained on, you can already use BertForMaskedLM for predictions without further training.\n"
          ]
        },
        {
          "output_type": "display_data",
          "data": {
            "text/plain": [
              "Downloading:   0%|          | 0.00/495k [00:00<?, ?B/s]"
            ],
            "application/vnd.jupyter.widget-view+json": {
              "version_major": 2,
              "version_minor": 0,
              "model_id": "035906e6009b41128b7d4e6736966a8a"
            }
          },
          "metadata": {}
        },
        {
          "output_type": "display_data",
          "data": {
            "text/plain": [
              "Downloading:   0%|          | 0.00/112 [00:00<?, ?B/s]"
            ],
            "application/vnd.jupyter.widget-view+json": {
              "version_major": 2,
              "version_minor": 0,
              "model_id": "f6b1494b61ec48d6ad10a0e8874b79d3"
            }
          },
          "metadata": {}
        },
        {
          "output_type": "display_data",
          "data": {
            "text/plain": [
              "Downloading:   0%|          | 0.00/2.00 [00:00<?, ?B/s]"
            ],
            "application/vnd.jupyter.widget-view+json": {
              "version_major": 2,
              "version_minor": 0,
              "model_id": "2d8c77cb70ce444cb9be0cac59c96f0e"
            }
          },
          "metadata": {}
        },
        {
          "output_type": "stream",
          "name": "stderr",
          "text": [
            "loading file vocab.txt from cache at /root/.cache/huggingface/hub/models--dkleczek--bert-base-polish-uncased-v1/snapshots/62be9821055981deafb23f217b68cc41f38cdb76/vocab.txt\n",
            "loading file added_tokens.json from cache at None\n",
            "loading file special_tokens_map.json from cache at /root/.cache/huggingface/hub/models--dkleczek--bert-base-polish-uncased-v1/snapshots/62be9821055981deafb23f217b68cc41f38cdb76/special_tokens_map.json\n",
            "loading file tokenizer_config.json from cache at /root/.cache/huggingface/hub/models--dkleczek--bert-base-polish-uncased-v1/snapshots/62be9821055981deafb23f217b68cc41f38cdb76/tokenizer_config.json\n",
            "loading configuration file config.json from cache at /root/.cache/huggingface/hub/models--dkleczek--bert-base-polish-uncased-v1/snapshots/62be9821055981deafb23f217b68cc41f38cdb76/config.json\n",
            "Model config BertConfig {\n",
            "  \"_name_or_path\": \"dkleczek/bert-base-polish-uncased-v1\",\n",
            "  \"architectures\": [\n",
            "    \"BertForMaskedLM\",\n",
            "    \"BertForPreTraining\"\n",
            "  ],\n",
            "  \"attention_probs_dropout_prob\": 0.1,\n",
            "  \"classifier_dropout\": null,\n",
            "  \"hidden_act\": \"gelu\",\n",
            "  \"hidden_dropout_prob\": 0.1,\n",
            "  \"hidden_size\": 768,\n",
            "  \"initializer_range\": 0.02,\n",
            "  \"intermediate_size\": 3072,\n",
            "  \"layer_norm_eps\": 1e-12,\n",
            "  \"max_position_embeddings\": 512,\n",
            "  \"model_type\": \"bert\",\n",
            "  \"num_attention_heads\": 12,\n",
            "  \"num_hidden_layers\": 12,\n",
            "  \"output_past\": true,\n",
            "  \"pad_token_id\": 0,\n",
            "  \"position_embedding_type\": \"absolute\",\n",
            "  \"transformers_version\": \"4.25.1\",\n",
            "  \"type_vocab_size\": 2,\n",
            "  \"use_cache\": true,\n",
            "  \"vocab_size\": 60000\n",
            "}\n",
            "\n"
          ]
        }
      ],
      "source": [
        "#1\n",
        "unmasker1 = pipeline('fill-mask', model='bert-base-multilingual-cased')\n",
        "\n",
        "#2\n",
        "unmasker2 = pipeline('fill-mask', model='distilbert-base-multilingual-cased')\n",
        "\n",
        "#3\n",
        "unmasker3 = pipeline('fill-mask', model='xlm-roberta-base')\n",
        "\n",
        "#4\n",
        "model = BertForMaskedLM.from_pretrained(\"dkleczek/bert-base-polish-uncased-v1\")\n",
        "tokenizer = BertTokenizer.from_pretrained(\"dkleczek/bert-base-polish-uncased-v1\")\n",
        "nlp = pipeline('fill-mask', model=model, tokenizer=tokenizer)"
      ]
    },
    {
      "cell_type": "markdown",
      "source": [
        "# Task 3\n",
        "\n",
        "Devise a method to test if the langage model understands Polish cases. E.g. testing for nominal case could be expressed as \"Warszawa to największe [MASK]\", and the masked word should be in nominative case. Create sentences for each case.\n"
      ],
      "metadata": {
        "id": "dqAAwq784z-b"
      }
    },
    {
      "cell_type": "code",
      "source": [
        "sentence = \"Warszawa to największe [MASK].\" #mianownik\n",
        "sentenced = \"Byłem wczoraj w sklepie i zobaczyłem, że nie ma tam [MASK].\" #dopełniacz\n",
        "sentencec = \"Kupiłem [MASK] pomarańcze jako prezent na święta\" #celownik\n",
        "sentenceb = \"Widzę twoją [MASK] pod kątem 17 stopni\" #biernik\n",
        "sentencen = \"Wyszedłem dzisiaj do pracy z [MASK], ponieważ pada\" #narzędnik\n",
        "sentencem = \"Myślę o twojej [MASK] zawsze gdy czuję się samotny\" #miejscownik\n",
        "sentencew = \"[MASK]! Kolacja gotowa!\" #wołacz"
      ],
      "metadata": {
        "id": "jU2jUiI6UT7T"
      },
      "execution_count": 9,
      "outputs": []
    },
    {
      "cell_type": "markdown",
      "source": [
        "## bert-base-multilingual-cased"
      ],
      "metadata": {
        "id": "Uw-vx_xMc0-r"
      }
    },
    {
      "cell_type": "code",
      "source": [
        "#mianownik\n",
        "for pred in unmasker1(sentence):\n",
        "  print(pred)"
      ],
      "metadata": {
        "colab": {
          "base_uri": "https://localhost:8080/"
        },
        "id": "6mrdiwG52sPF",
        "outputId": "28b36505-432b-4180-b233-23116fe10e70"
      },
      "execution_count": 5,
      "outputs": [
        {
          "output_type": "stream",
          "name": "stdout",
          "text": [
            "{'score': 0.2711155414581299, 'token': 22208, 'token_str': 'miasto', 'sequence': 'Warszawa to największe miasto.'}\n",
            "{'score': 0.08836257457733154, 'token': 17993, 'token_str': 'miasta', 'sequence': 'Warszawa to największe miasta.'}\n",
            "{'score': 0.057303301990032196, 'token': 64199, 'token_str': 'woj', 'sequence': 'Warszawa to największe woj.'}\n",
            "{'score': 0.036419644951820374, 'token': 21206, 'token_str': 'Warszawa', 'sequence': 'Warszawa to największe Warszawa.'}\n",
            "{'score': 0.03560646250844002, 'token': 10114, 'token_str': 'to', 'sequence': 'Warszawa to największe to.'}\n"
          ]
        }
      ]
    },
    {
      "cell_type": "code",
      "source": [
        "#dopełniacz\n",
        "for pred in unmasker1(sentenced):\n",
        "  print(pred)"
      ],
      "metadata": {
        "colab": {
          "base_uri": "https://localhost:8080/"
        },
        "id": "siYe3qaoc77X",
        "outputId": "a579fba0-e336-42c0-f3db-a4fd9e0dacb9"
      },
      "execution_count": 10,
      "outputs": [
        {
          "output_type": "stream",
          "name": "stdout",
          "text": [
            "{'score': 0.04975685849785805, 'token': 46267, 'token_str': 'nic', 'sequence': 'Byłem wczoraj w sklepie i zobaczyłem, że nie ma tam nic.'}\n",
            "{'score': 0.04750123992562294, 'token': 14918, 'token_str': 'tam', 'sequence': 'Byłem wczoraj w sklepie i zobaczyłem, że nie ma tam tam.'}\n",
            "{'score': 0.02456403523683548, 'token': 119, 'token_str': '.', 'sequence': 'Byłem wczoraj w sklepie i zobaczyłem, że nie ma tam..'}\n",
            "{'score': 0.021650951355695724, 'token': 11170, 'token_str': 'co', 'sequence': 'Byłem wczoraj w sklepie i zobaczyłem, że nie ma tam co.'}\n",
            "{'score': 0.021489428356289864, 'token': 11783, 'token_str': 'go', 'sequence': 'Byłem wczoraj w sklepie i zobaczyłem, że nie ma tam go.'}\n"
          ]
        }
      ]
    },
    {
      "cell_type": "code",
      "source": [
        "#celownik\n",
        "for pred in unmasker1(sentencec):\n",
        "  print(pred)"
      ],
      "metadata": {
        "colab": {
          "base_uri": "https://localhost:8080/"
        },
        "id": "H2fUaMKyc70V",
        "outputId": "a51cd32c-6c7b-415e-d158-d3a4492d5c80"
      },
      "execution_count": 11,
      "outputs": [
        {
          "output_type": "stream",
          "name": "stdout",
          "text": [
            "{'score': 0.7110611796379089, 'token': 10132, 'token_str': 'na', 'sequence': 'Kupiłem na pomarańcze jako prezent na święta'}\n",
            "{'score': 0.08857958018779755, 'token': 191, 'token_str': 'w', 'sequence': 'Kupiłem w pomarańcze jako prezent na święta'}\n",
            "{'score': 0.015723641961812973, 'token': 183, 'token_str': 'o', 'sequence': 'Kupiłem o pomarańcze jako prezent na święta'}\n",
            "{'score': 0.012341039255261421, 'token': 10424, 'token_str': 'się', 'sequence': 'Kupiłem się pomarańcze jako prezent na święta'}\n",
            "{'score': 0.009600565768778324, 'token': 117, 'token_str': ',', 'sequence': 'Kupiłem, pomarańcze jako prezent na święta'}\n"
          ]
        }
      ]
    },
    {
      "cell_type": "code",
      "source": [
        "#biernik\n",
        "for pred in unmasker1(sentenceb):\n",
        "  print(pred)"
      ],
      "metadata": {
        "colab": {
          "base_uri": "https://localhost:8080/"
        },
        "id": "58th-eFKc7sm",
        "outputId": "d7a1d7a3-6d75-4d5f-8ff1-f79fc5238bb1"
      },
      "execution_count": 12,
      "outputs": [
        {
          "output_type": "stream",
          "name": "stdout",
          "text": [
            "{'score': 0.29680994153022766, 'token': 10424, 'token_str': 'się', 'sequence': 'Widzę twoją się pod kątem 17 stopni'}\n",
            "{'score': 0.160908043384552, 'token': 131, 'token_str': ':', 'sequence': 'Widzę twoją : pod kątem 17 stopni'}\n",
            "{'score': 0.0686265379190445, 'token': 10350, 'token_str': '##c', 'sequence': 'Widzę twojąc pod kątem 17 stopni'}\n",
            "{'score': 0.05758852884173393, 'token': 11484, 'token_str': '##ć', 'sequence': 'Widzę twojąć pod kątem 17 stopni'}\n",
            "{'score': 0.040482208132743835, 'token': 10464, 'token_str': 'one', 'sequence': 'Widzę twoją one pod kątem 17 stopni'}\n"
          ]
        }
      ]
    },
    {
      "cell_type": "code",
      "source": [
        "#narzędnik\n",
        "for pred in unmasker1(sentencen):\n",
        "  print(pred)"
      ],
      "metadata": {
        "colab": {
          "base_uri": "https://localhost:8080/"
        },
        "id": "fYbVnKG3c7kR",
        "outputId": "5e7574ef-19e6-45f2-ffbc-fc7084c11461"
      },
      "execution_count": 13,
      "outputs": [
        {
          "output_type": "stream",
          "name": "stdout",
          "text": [
            "{'score': 0.3744259774684906, 'token': 33672, 'token_str': 'powodu', 'sequence': 'Wyszedłem dzisiaj do pracy z powodu, ponieważ pada'}\n",
            "{'score': 0.04381628334522247, 'token': 92644, 'token_str': 'góry', 'sequence': 'Wyszedłem dzisiaj do pracy z góry, ponieważ pada'}\n",
            "{'score': 0.035826120525598526, 'token': 27742, 'token_str': 'domu', 'sequence': 'Wyszedłem dzisiaj do pracy z domu, ponieważ pada'}\n",
            "{'score': 0.03374921903014183, 'token': 36284, 'token_str': '##nów', 'sequence': 'Wyszedłem dzisiaj do pracy znów, ponieważ pada'}\n",
            "{'score': 0.015776991844177246, 'token': 14515, 'token_str': 'tego', 'sequence': 'Wyszedłem dzisiaj do pracy z tego, ponieważ pada'}\n"
          ]
        }
      ]
    },
    {
      "cell_type": "code",
      "source": [
        "#miejscownik\n",
        "for pred in unmasker1(sentencem):\n",
        "  print(pred)"
      ],
      "metadata": {
        "colab": {
          "base_uri": "https://localhost:8080/"
        },
        "id": "OzE3ex7Nc7cj",
        "outputId": "811bf4f1-97b2-40af-88d2-3748f62f4efa"
      },
      "execution_count": 14,
      "outputs": [
        {
          "output_type": "stream",
          "name": "stdout",
          "text": [
            "{'score': 0.13988539576530457, 'token': 117, 'token_str': ',', 'sequence': 'Myślę o twojej, zawsze gdy czuję się samotny'}\n",
            "{'score': 0.1173110082745552, 'token': 10132, 'token_str': 'na', 'sequence': 'Myślę o twojej na zawsze gdy czuję się samotny'}\n",
            "{'score': 0.10729313641786575, 'token': 118, 'token_str': '-', 'sequence': 'Myślę o twojej - zawsze gdy czuję się samotny'}\n",
            "{'score': 0.0995943695306778, 'token': 10685, 'token_str': 'Na', 'sequence': 'Myślę o twojej Na zawsze gdy czuję się samotny'}\n",
            "{'score': 0.07106050103902817, 'token': 10311, 'token_str': 'od', 'sequence': 'Myślę o twojej od zawsze gdy czuję się samotny'}\n"
          ]
        }
      ]
    },
    {
      "cell_type": "code",
      "source": [
        "#wołacz\n",
        "for pred in unmasker1(sentencew):\n",
        "  print(pred)"
      ],
      "metadata": {
        "colab": {
          "base_uri": "https://localhost:8080/"
        },
        "id": "8VvkB_r8c6fa",
        "outputId": "d5ebb663-ac29-4f98-cfb0-aa275e14e901"
      },
      "execution_count": 15,
      "outputs": [
        {
          "output_type": "stream",
          "name": "stdout",
          "text": [
            "{'score': 0.2821488678455353, 'token': 106, 'token_str': '!', 'sequence': '!! Kolacja gotowa!'}\n",
            "{'score': 0.012948033399879932, 'token': 14439, 'token_str': 'Go', 'sequence': 'Go! Kolacja gotowa!'}\n",
            "{'score': 0.011767554096877575, 'token': 29195, 'token_str': 'Stop', 'sequence': 'Stop! Kolacja gotowa!'}\n",
            "{'score': 0.01144480612128973, 'token': 152, 'token_str': 'O', 'sequence': 'O! Kolacja gotowa!'}\n",
            "{'score': 0.009816485457122326, 'token': 118, 'token_str': '-', 'sequence': '-! Kolacja gotowa!'}\n"
          ]
        }
      ]
    },
    {
      "cell_type": "markdown",
      "source": [
        "## distilbert-base-multilingual-cased"
      ],
      "metadata": {
        "id": "Gsf9g6WAdP3M"
      }
    },
    {
      "cell_type": "code",
      "source": [
        "#mianownik\n",
        "for pred in unmasker2(sentence):\n",
        "  print(pred)"
      ],
      "metadata": {
        "colab": {
          "base_uri": "https://localhost:8080/"
        },
        "id": "wusoEoEg7eoF",
        "outputId": "bc65d4ef-41ad-4ad7-96c2-35edb70c85e2"
      },
      "execution_count": null,
      "outputs": [
        {
          "output_type": "stream",
          "name": "stdout",
          "text": [
            "{'score': 0.6492907404899597, 'token': 22208, 'token_str': 'miasto', 'sequence': 'Warszawa to największe miasto.'}\n",
            "{'score': 0.10494261980056763, 'token': 17993, 'token_str': 'miasta', 'sequence': 'Warszawa to największe miasta.'}\n",
            "{'score': 0.03465290367603302, 'token': 62733, 'token_str': 'Miasto', 'sequence': 'Warszawa to największe Miasto.'}\n",
            "{'score': 0.018810277804732323, 'token': 21203, 'token_str': 'centrum', 'sequence': 'Warszawa to największe centrum.'}\n",
            "{'score': 0.013045849278569221, 'token': 64795, 'token_str': 'dzielnicy', 'sequence': 'Warszawa to największe dzielnicy.'}\n"
          ]
        }
      ]
    },
    {
      "cell_type": "code",
      "source": [
        "#dopełniacz\n",
        "for pred in unmasker2(sentenced):\n",
        "  print(pred)"
      ],
      "metadata": {
        "colab": {
          "base_uri": "https://localhost:8080/"
        },
        "id": "kx5DuZyDdyWe",
        "outputId": "8f6d6a33-5b43-465f-8ded-41669bd96140"
      },
      "execution_count": 16,
      "outputs": [
        {
          "output_type": "stream",
          "name": "stdout",
          "text": [
            "{'score': 0.15963003039360046, 'token': 31838, 'token_str': 'dzieci', 'sequence': 'Byłem wczoraj w sklepie i zobaczyłem, że nie ma tam dzieci.'}\n",
            "{'score': 0.09871430695056915, 'token': 46267, 'token_str': 'nic', 'sequence': 'Byłem wczoraj w sklepie i zobaczyłem, że nie ma tam nic.'}\n",
            "{'score': 0.04925976321101189, 'token': 39777, 'token_str': 'miejsca', 'sequence': 'Byłem wczoraj w sklepie i zobaczyłem, że nie ma tam miejsca.'}\n",
            "{'score': 0.025298556312918663, 'token': 36052, 'token_str': 'syna', 'sequence': 'Byłem wczoraj w sklepie i zobaczyłem, że nie ma tam syna.'}\n",
            "{'score': 0.024664435535669327, 'token': 40868, 'token_str': 'ludzi', 'sequence': 'Byłem wczoraj w sklepie i zobaczyłem, że nie ma tam ludzi.'}\n"
          ]
        }
      ]
    },
    {
      "cell_type": "code",
      "source": [
        "#celownik\n",
        "for pred in unmasker2(sentencec):\n",
        "  print(pred)"
      ],
      "metadata": {
        "colab": {
          "base_uri": "https://localhost:8080/"
        },
        "id": "1wMxmSsvdyQP",
        "outputId": "b72987ad-9074-4a13-b351-362b4327eb57"
      },
      "execution_count": 17,
      "outputs": [
        {
          "output_type": "stream",
          "name": "stdout",
          "text": [
            "{'score': 0.0452875979244709, 'token': 177, 'token_str': 'i', 'sequence': 'Kupiłem i pomarańcze jako prezent na święta'}\n",
            "{'score': 0.03567413240671158, 'token': 10973, 'token_str': 'jest', 'sequence': 'Kupiłem jest pomarańcze jako prezent na święta'}\n",
            "{'score': 0.018068203702569008, 'token': 13455, 'token_str': 'lub', 'sequence': 'Kupiłem lub pomarańcze jako prezent na święta'}\n",
            "{'score': 0.015787415206432343, 'token': 46967, 'token_str': 'wody', 'sequence': 'Kupiłem wody pomarańcze jako prezent na święta'}\n",
            "{'score': 0.014861982315778732, 'token': 25654, 'token_str': '##niki', 'sequence': 'Kupiłemniki pomarańcze jako prezent na święta'}\n"
          ]
        }
      ]
    },
    {
      "cell_type": "code",
      "source": [
        "#biernik\n",
        "for pred in unmasker2(sentenceb):\n",
        "  print(pred)"
      ],
      "metadata": {
        "colab": {
          "base_uri": "https://localhost:8080/"
        },
        "id": "sOjg0ECXdyJP",
        "outputId": "84cbdc16-145a-4d59-bf2f-3d121cb06c28"
      },
      "execution_count": 18,
      "outputs": [
        {
          "output_type": "stream",
          "name": "stdout",
          "text": [
            "{'score': 0.5412154197692871, 'token': 10632, 'token_str': 'sie', 'sequence': 'Widzę twoją sie pod kątem 17 stopni'}\n",
            "{'score': 0.04276920109987259, 'token': 10424, 'token_str': 'się', 'sequence': 'Widzę twoją się pod kątem 17 stopni'}\n",
            "{'score': 0.019336508587002754, 'token': 39447, 'token_str': 'sobie', 'sequence': 'Widzę twoją sobie pod kątem 17 stopni'}\n",
            "{'score': 0.01825331710278988, 'token': 32774, 'token_str': 'razem', 'sequence': 'Widzę twoją razem pod kątem 17 stopni'}\n",
            "{'score': 0.012049810029566288, 'token': 28684, 'token_str': 'jeszcze', 'sequence': 'Widzę twoją jeszcze pod kątem 17 stopni'}\n"
          ]
        }
      ]
    },
    {
      "cell_type": "code",
      "source": [
        "#narzędnik\n",
        "for pred in unmasker2(sentencen):\n",
        "  print(pred)"
      ],
      "metadata": {
        "colab": {
          "base_uri": "https://localhost:8080/"
        },
        "id": "WrF6zCz5dyCO",
        "outputId": "89b3c0e0-f570-469a-cab7-7b0eb24b6d39"
      },
      "execution_count": 19,
      "outputs": [
        {
          "output_type": "stream",
          "name": "stdout",
          "text": [
            "{'score': 0.09421280026435852, 'token': 27648, 'token_str': 'pracy', 'sequence': 'Wyszedłem dzisiaj do pracy z pracy, ponieważ pada'}\n",
            "{'score': 0.07922013849020004, 'token': 16786, 'token_str': 'تاریخ', 'sequence': 'Wyszedłem dzisiaj do pracy z تاریخ, ponieważ pada'}\n",
            "{'score': 0.03291623666882515, 'token': 54276, 'token_str': '##dania', 'sequence': 'Wyszedłem dzisiaj do pracy zdania, ponieważ pada'}\n",
            "{'score': 0.021394262090325356, 'token': 32280, 'token_str': '##čuje', 'sequence': 'Wyszedłem dzisiaj do pracy zčuje, ponieważ pada'}\n",
            "{'score': 0.019120797514915466, 'token': 82322, 'token_str': '##drowia', 'sequence': 'Wyszedłem dzisiaj do pracy zdrowia, ponieważ pada'}\n"
          ]
        }
      ]
    },
    {
      "cell_type": "code",
      "source": [
        "#miejscownik\n",
        "for pred in unmasker2(sentencem):\n",
        "  print(pred)"
      ],
      "metadata": {
        "colab": {
          "base_uri": "https://localhost:8080/"
        },
        "id": "v9CHXxa7dx6k",
        "outputId": "00ae24ed-f071-4fc3-8640-22f882aae50b"
      },
      "execution_count": 20,
      "outputs": [
        {
          "output_type": "stream",
          "name": "stdout",
          "text": [
            "{'score': 0.028257397934794426, 'token': 18933, 'token_str': 'tylko', 'sequence': 'Myślę o twojej tylko zawsze gdy czuję się samotny'}\n",
            "{'score': 0.02098056860268116, 'token': 11058, 'token_str': 'nie', 'sequence': 'Myślę o twojej nie zawsze gdy czuję się samotny'}\n",
            "{'score': 0.01963142864406109, 'token': 51680, 'token_str': 'ziemi', 'sequence': 'Myślę o twojej ziemi zawsze gdy czuję się samotny'}\n",
            "{'score': 0.016864607110619545, 'token': 10424, 'token_str': 'się', 'sequence': 'Myślę o twojej się zawsze gdy czuję się samotny'}\n",
            "{'score': 0.015824094414711, 'token': 39447, 'token_str': 'sobie', 'sequence': 'Myślę o twojej sobie zawsze gdy czuję się samotny'}\n"
          ]
        }
      ]
    },
    {
      "cell_type": "code",
      "source": [
        "#wołacz\n",
        "for pred in unmasker2(sentencew):\n",
        "  print(pred)"
      ],
      "metadata": {
        "colab": {
          "base_uri": "https://localhost:8080/"
        },
        "id": "JDldJyqAdxwB",
        "outputId": "d8ff14f3-dff9-479e-9d6f-25979dbf2c43"
      },
      "execution_count": 21,
      "outputs": [
        {
          "output_type": "stream",
          "name": "stdout",
          "text": [
            "{'score': 0.03276737779378891, 'token': 23251, 'token_str': 'punk', 'sequence': 'punk! Kolacja gotowa!'}\n",
            "{'score': 0.0320713110268116, 'token': 106, 'token_str': '!', 'sequence': '!! Kolacja gotowa!'}\n",
            "{'score': 0.011082624085247517, 'token': 31716, 'token_str': 'Polska', 'sequence': 'Polska! Kolacja gotowa!'}\n",
            "{'score': 0.010400057770311832, 'token': 21915, 'token_str': 'Polonia', 'sequence': 'Polonia! Kolacja gotowa!'}\n",
            "{'score': 0.0073447502218186855, 'token': 31178, 'token_str': 'Hello', 'sequence': 'Hello! Kolacja gotowa!'}\n"
          ]
        }
      ]
    },
    {
      "cell_type": "markdown",
      "source": [
        "## xlm-roberta-base"
      ],
      "metadata": {
        "id": "H91EtXQ6eVDW"
      }
    },
    {
      "cell_type": "code",
      "source": [
        "#mianownik\n",
        "for pred in unmasker3(\"Warszawa to największe <mask>.\"):\n",
        "  print(pred)"
      ],
      "metadata": {
        "colab": {
          "base_uri": "https://localhost:8080/"
        },
        "id": "z5JmCLua8BwW",
        "outputId": "33d23a40-c44a-4b01-8679-f51e1e06a79c"
      },
      "execution_count": null,
      "outputs": [
        {
          "output_type": "stream",
          "name": "stdout",
          "text": [
            "{'score': 0.4892370402812958, 'token': 131020, 'token_str': 'miasto', 'sequence': 'Warszawa to największe miasto.'}\n",
            "{'score': 0.045349474996328354, 'token': 42883, 'token_str': 'miasta', 'sequence': 'Warszawa to największe miasta.'}\n",
            "{'score': 0.028840620070695877, 'token': 6, 'token_str': '', 'sequence': 'Warszawa to największe .'}\n",
            "{'score': 0.019006067886948586, 'token': 219506, 'token_str': 'Miasto', 'sequence': 'Warszawa to największe Miasto.'}\n",
            "{'score': 0.018972311168909073, 'token': 17, 'token_str': 'i', 'sequence': 'Warszawa to największe i.'}\n"
          ]
        }
      ]
    },
    {
      "cell_type": "code",
      "source": [
        "#dopełniacz\n",
        "for pred in unmasker3(\"Byłem wczoraj w sklepie i zobaczyłem, że nie ma tam <mask>.\"):\n",
        "  print(pred)"
      ],
      "metadata": {
        "colab": {
          "base_uri": "https://localhost:8080/"
        },
        "id": "zcTh8nH3ephN",
        "outputId": "d3d1f3f8-ea4e-43b0-8f41-4e88724be789"
      },
      "execution_count": 22,
      "outputs": [
        {
          "output_type": "stream",
          "name": "stdout",
          "text": [
            "{'score': 0.14726220071315765, 'token': 10443, 'token_str': 'nic', 'sequence': 'Byłem wczoraj w sklepie i zobaczyłem, że nie ma tam nic.'}\n",
            "{'score': 0.12741807103157043, 'token': 126378, 'token_str': 'sklepu', 'sequence': 'Byłem wczoraj w sklepie i zobaczyłem, że nie ma tam sklepu.'}\n",
            "{'score': 0.0724426656961441, 'token': 195016, 'token_str': 'sklepów', 'sequence': 'Byłem wczoraj w sklepie i zobaczyłem, że nie ma tam sklepów.'}\n",
            "{'score': 0.040580108761787415, 'token': 25778, 'token_str': 'ludzi', 'sequence': 'Byłem wczoraj w sklepie i zobaczyłem, że nie ma tam ludzi.'}\n",
            "{'score': 0.03565886989235878, 'token': 193904, 'token_str': 'żywności', 'sequence': 'Byłem wczoraj w sklepie i zobaczyłem, że nie ma tam żywności.'}\n"
          ]
        }
      ]
    },
    {
      "cell_type": "code",
      "source": [
        "#celownik\n",
        "for pred in unmasker3(\"Kupiłem <mask> pomarańcze jako prezent na święta\"):\n",
        "  print(pred)"
      ],
      "metadata": {
        "colab": {
          "base_uri": "https://localhost:8080/"
        },
        "id": "j0fQW7nceoVc",
        "outputId": "021773be-1934-4e24-c0a2-92f329ea39a4"
      },
      "execution_count": 24,
      "outputs": [
        {
          "output_type": "stream",
          "name": "stdout",
          "text": [
            "{'score': 0.46008771657943726, 'token': 8109, 'token_str': 'sobie', 'sequence': 'Kupiłem sobie pomarańcze jako prezent na święta'}\n",
            "{'score': 0.06279947608709335, 'token': 225891, 'token_str': 'czerwone', 'sequence': 'Kupiłem czerwone pomarańcze jako prezent na święta'}\n",
            "{'score': 0.05674153193831444, 'token': 63834, 'token_str': 'dwie', 'sequence': 'Kupiłem dwie pomarańcze jako prezent na święta'}\n",
            "{'score': 0.03659597784280777, 'token': 116, 'token_str': '2', 'sequence': 'Kupiłem 2 pomarańcze jako prezent na święta'}\n",
            "{'score': 0.02378476783633232, 'token': 49158, 'token_str': 'trzy', 'sequence': 'Kupiłem trzy pomarańcze jako prezent na święta'}\n"
          ]
        }
      ]
    },
    {
      "cell_type": "code",
      "source": [
        "#biernik\n",
        "for pred in unmasker3(\"Widzę twoją <mask> pod kątem 17 stopni\"):\n",
        "  print(pred)"
      ],
      "metadata": {
        "colab": {
          "base_uri": "https://localhost:8080/"
        },
        "id": "DHYCia0deoG-",
        "outputId": "d0d7a758-3dcb-4b08-dccd-267bbf102b83"
      },
      "execution_count": 26,
      "outputs": [
        {
          "output_type": "stream",
          "name": "stdout",
          "text": [
            "{'score': 0.36579567193984985, 'token': 149283, 'token_str': 'twarz', 'sequence': 'Widzę twoją twarz pod kątem 17 stopni'}\n",
            "{'score': 0.116519495844841, 'token': 74084, 'token_str': 'stronę', 'sequence': 'Widzę twoją stronę pod kątem 17 stopni'}\n",
            "{'score': 0.09773821383714676, 'token': 64948, 'token_str': 'pracę', 'sequence': 'Widzę twoją pracę pod kątem 17 stopni'}\n",
            "{'score': 0.06403084099292755, 'token': 225440, 'token_str': 'głowę', 'sequence': 'Widzę twoją głowę pod kątem 17 stopni'}\n",
            "{'score': 0.05609765276312828, 'token': 153667, 'token_str': 'skórę', 'sequence': 'Widzę twoją skórę pod kątem 17 stopni'}\n"
          ]
        }
      ]
    },
    {
      "cell_type": "code",
      "source": [
        "#narzędnik\n",
        "for pred in unmasker3(\"Wyszedłem dzisiaj do pracy z <mask>, ponieważ pada\"):\n",
        "  print(pred)"
      ],
      "metadata": {
        "colab": {
          "base_uri": "https://localhost:8080/"
        },
        "id": "Czaa1_5OeoCL",
        "outputId": "b7e07e85-2c2f-4505-c4a4-e5bea18f2a2f"
      },
      "execution_count": 27,
      "outputs": [
        {
          "output_type": "stream",
          "name": "stdout",
          "text": [
            "{'score': 0.2758224606513977, 'token': 10838, 'token_str': 'domu', 'sequence': 'Wyszedłem dzisiaj do pracy z domu, ponieważ pada'}\n",
            "{'score': 0.12936566770076752, 'token': 11509, 'token_str': 'imą', 'sequence': 'Wyszedłem dzisiaj do pracy zimą, ponieważ pada'}\n",
            "{'score': 0.06406214833259583, 'token': 182176, 'token_str': 'dziećmi', 'sequence': 'Wyszedłem dzisiaj do pracy z dziećmi, ponieważ pada'}\n",
            "{'score': 0.06330686807632446, 'token': 241952, 'token_str': 'samochodem', 'sequence': 'Wyszedłem dzisiaj do pracy z samochodem, ponieważ pada'}\n",
            "{'score': 0.04948413372039795, 'token': 11272, 'token_str': 'pracy', 'sequence': 'Wyszedłem dzisiaj do pracy z pracy, ponieważ pada'}\n"
          ]
        }
      ]
    },
    {
      "cell_type": "code",
      "source": [
        "#miejscownik\n",
        "for pred in unmasker3(\"Myślę o twojej <mask> zawsze gdy czuję się samotny\"):\n",
        "  print(pred)"
      ],
      "metadata": {
        "colab": {
          "base_uri": "https://localhost:8080/"
        },
        "id": "_nYRauSqen4j",
        "outputId": "b80016b2-baae-4408-f12c-89a5cafcabe4"
      },
      "execution_count": 28,
      "outputs": [
        {
          "output_type": "stream",
          "name": "stdout",
          "text": [
            "{'score': 0.45367246866226196, 'token': 133472, 'token_str': 'miłości', 'sequence': 'Myślę o twojej miłości zawsze gdy czuję się samotny'}\n",
            "{'score': 0.10789526998996735, 'token': 32130, 'token_str': 'stronie', 'sequence': 'Myślę o twojej stronie zawsze gdy czuję się samotny'}\n",
            "{'score': 0.08647400140762329, 'token': 205141, 'token_str': 'obecności', 'sequence': 'Myślę o twojej obecności zawsze gdy czuję się samotny'}\n",
            "{'score': 0.05415204167366028, 'token': 82734, 'token_str': 'myśli', 'sequence': 'Myślę o twojej myśli zawsze gdy czuję się samotny'}\n",
            "{'score': 0.029277874156832695, 'token': 105194, 'token_str': 'twarzy', 'sequence': 'Myślę o twojej twarzy zawsze gdy czuję się samotny'}\n"
          ]
        }
      ]
    },
    {
      "cell_type": "code",
      "source": [
        "#wołacz\n",
        "for pred in unmasker3(\"<mask>! Kolacja gotowa!\"):\n",
        "  print(pred)"
      ],
      "metadata": {
        "colab": {
          "base_uri": "https://localhost:8080/"
        },
        "id": "Bz85VcEQenpg",
        "outputId": "1714dde5-17b8-46ba-a038-7b294c805f7c"
      },
      "execution_count": 29,
      "outputs": [
        {
          "output_type": "stream",
          "name": "stdout",
          "text": [
            "{'score': 0.12515529990196228, 'token': 4265, 'token_str': 'Super', 'sequence': 'Super! Kolacja gotowa!'}\n",
            "{'score': 0.06479708850383759, 'token': 32150, 'token_str': 'Hej', 'sequence': 'Hej! Kolacja gotowa!'}\n",
            "{'score': 0.05265595391392708, 'token': 53505, 'token_str': 'Wow', 'sequence': 'Wow! Kolacja gotowa!'}\n",
            "{'score': 0.04291592165827751, 'token': 153986, 'token_str': 'WOW', 'sequence': 'WOW! Kolacja gotowa!'}\n",
            "{'score': 0.029305774718523026, 'token': 173305, 'token_str': 'OMG', 'sequence': 'OMG! Kolacja gotowa!'}\n"
          ]
        }
      ]
    },
    {
      "cell_type": "markdown",
      "source": [
        "## dkleczek/bert-base-polish-uncased-v1"
      ],
      "metadata": {
        "id": "UViQh2ndeaMd"
      }
    },
    {
      "cell_type": "code",
      "source": [
        "#mimanownik\n",
        "for pred in nlp(sentence):\n",
        "  print(pred)"
      ],
      "metadata": {
        "colab": {
          "base_uri": "https://localhost:8080/"
        },
        "id": "xV_ZFiAkB9uh",
        "outputId": "570c8882-1805-4bfa-9d8f-35f9b0c81bb1"
      },
      "execution_count": null,
      "outputs": [
        {
          "output_type": "stream",
          "name": "stdout",
          "text": [
            "{'score': 0.828872561454773, 'token': 4394, 'token_str': 'miasto', 'sequence': 'warszawa to najwieksze miasto.'}\n",
            "{'score': 0.0389101542532444, 'token': 2824, 'token_str': 'miejsce', 'sequence': 'warszawa to najwieksze miejsce.'}\n",
            "{'score': 0.009463051334023476, 'token': 7432, 'token_str': 'lotnisko', 'sequence': 'warszawa to najwieksze lotnisko.'}\n",
            "{'score': 0.008324158377945423, 'token': 3930, 'token_str': 'centrum', 'sequence': 'warszawa to najwieksze centrum.'}\n",
            "{'score': 0.007766467984765768, 'token': 3578, 'token_str': 'miasta', 'sequence': 'warszawa to najwieksze miasta.'}\n"
          ]
        }
      ]
    },
    {
      "cell_type": "code",
      "source": [
        "#dopełniacz\n",
        "for pred in nlp(sentenced):\n",
        "  print(pred)"
      ],
      "metadata": {
        "colab": {
          "base_uri": "https://localhost:8080/"
        },
        "id": "Hh_luA8HgFCk",
        "outputId": "d70d83c8-d4b2-465d-b781-983506a056c2"
      },
      "execution_count": 30,
      "outputs": [
        {
          "output_type": "stream",
          "name": "stdout",
          "text": [
            "{'score': 0.10507971793413162, 'token': 4490, 'token_str': 'nikogo', 'sequence': 'byłem wczoraj w sklepie i zobaczyłem, ze nie ma tam nikogo.'}\n",
            "{'score': 0.10145075619220734, 'token': 58238, 'token_str': 'pieniedzy', 'sequence': 'byłem wczoraj w sklepie i zobaczyłem, ze nie ma tam pieniedzy.'}\n",
            "{'score': 0.03189888596534729, 'token': 2234, 'token_str': 'nic', 'sequence': 'byłem wczoraj w sklepie i zobaczyłem, ze nie ma tam nic.'}\n",
            "{'score': 0.023929538205266, 'token': 7207, 'token_str': 'telefonu', 'sequence': 'byłem wczoraj w sklepie i zobaczyłem, ze nie ma tam telefonu.'}\n",
            "{'score': 0.022374363616108894, 'token': 4767, 'token_str': 'broni', 'sequence': 'byłem wczoraj w sklepie i zobaczyłem, ze nie ma tam broni.'}\n"
          ]
        }
      ]
    },
    {
      "cell_type": "code",
      "source": [
        "#celownik\n",
        "for pred in nlp(sentencec):\n",
        "  print(pred)"
      ],
      "metadata": {
        "colab": {
          "base_uri": "https://localhost:8080/"
        },
        "id": "bz335B88gE8E",
        "outputId": "6d72fc2f-53a5-4075-9473-ef3dc4a9971b"
      },
      "execution_count": 31,
      "outputs": [
        {
          "output_type": "stream",
          "name": "stdout",
          "text": [
            "{'score': 0.5431056022644043, 'token': 2052, 'token_str': 'ci', 'sequence': 'kupiłem ci pomarancze jako prezent na swieta'}\n",
            "{'score': 0.120213583111763, 'token': 1937, 'token_str': 'te', 'sequence': 'kupiłem te pomarancze jako prezent na swieta'}\n",
            "{'score': 0.045723192393779755, 'token': 2210, 'token_str': 'jej', 'sequence': 'kupiłem jej pomarancze jako prezent na swieta'}\n",
            "{'score': 0.044386059045791626, 'token': 2259, 'token_str': 'ta', 'sequence': 'kupiłem ta pomarancze jako prezent na swieta'}\n",
            "{'score': 0.027582017704844475, 'token': 2281, 'token_str': 'sobie', 'sequence': 'kupiłem sobie pomarancze jako prezent na swieta'}\n"
          ]
        }
      ]
    },
    {
      "cell_type": "code",
      "source": [
        "#biernik\n",
        "for pred in nlp(sentenceb):\n",
        "  print(pred)"
      ],
      "metadata": {
        "colab": {
          "base_uri": "https://localhost:8080/"
        },
        "id": "TRiG0ACagE0q",
        "outputId": "fca9c398-bc2a-4a54-b81c-32c522bed840"
      },
      "execution_count": 32,
      "outputs": [
        {
          "output_type": "stream",
          "name": "stdout",
          "text": [
            "{'score': 0.7289516925811768, 'token': 4745, 'token_str': 'twarz', 'sequence': 'widze twoja twarz pod katem 17 stopni'}\n",
            "{'score': 0.05723164975643158, 'token': 38683, 'token_str': 'dłon', 'sequence': 'widze twoja dłon pod katem 17 stopni'}\n",
            "{'score': 0.031447090208530426, 'token': 40926, 'token_str': 'dupe', 'sequence': 'widze twoja dupe pod katem 17 stopni'}\n",
            "{'score': 0.020905548706650734, 'token': 14423, 'token_str': 'pozycje', 'sequence': 'widze twoja pozycje pod katem 17 stopni'}\n",
            "{'score': 0.015600431710481644, 'token': 47495, 'token_str': 'zone', 'sequence': 'widze twoja zone pod katem 17 stopni'}\n"
          ]
        }
      ]
    },
    {
      "cell_type": "code",
      "source": [
        "#narzędnik\n",
        "for pred in nlp(sentencen):\n",
        "  print(pred)"
      ],
      "metadata": {
        "colab": {
          "base_uri": "https://localhost:8080/"
        },
        "id": "xbNY8s5RgEtT",
        "outputId": "4619b304-6ef6-4ef7-955d-f93aa0702e02"
      },
      "execution_count": 33,
      "outputs": [
        {
          "output_type": "stream",
          "name": "stdout",
          "text": [
            "{'score': 0.1393565535545349, 'token': 2851, 'token_str': 'pracy', 'sequence': 'wyszedłem dzisiaj do pracy z pracy, poniewaz pada'}\n",
            "{'score': 0.07068566232919693, 'token': 8830, 'token_str': 'rana', 'sequence': 'wyszedłem dzisiaj do pracy z rana, poniewaz pada'}\n",
            "{'score': 0.01558260153979063, 'token': 2504, 'token_str': 'domu', 'sequence': 'wyszedłem dzisiaj do pracy z domu, poniewaz pada'}\n",
            "{'score': 0.014865548349916935, 'token': 46007, 'token_str': 'zona', 'sequence': 'wyszedłem dzisiaj do pracy z zona, poniewaz pada'}\n",
            "{'score': 0.013065872713923454, 'token': 6703, 'token_str': 'dzieckiem', 'sequence': 'wyszedłem dzisiaj do pracy z dzieckiem, poniewaz pada'}\n"
          ]
        }
      ]
    },
    {
      "cell_type": "code",
      "source": [
        "#miejscownik\n",
        "for pred in nlp(sentencem):\n",
        "  print(pred)"
      ],
      "metadata": {
        "colab": {
          "base_uri": "https://localhost:8080/"
        },
        "id": "KeECEJz-gEmD",
        "outputId": "b1c6f5ac-8a4b-43fc-d92a-824ced3c244e"
      },
      "execution_count": 34,
      "outputs": [
        {
          "output_type": "stream",
          "name": "stdout",
          "text": [
            "{'score': 0.24990949034690857, 'token': 11799, 'token_str': 'matce', 'sequence': 'mysle o twojej matce zawsze gdy czuje sie samotny'}\n",
            "{'score': 0.12739016115665436, 'token': 7334, 'token_str': 'rodzinie', 'sequence': 'mysle o twojej rodzinie zawsze gdy czuje sie samotny'}\n",
            "{'score': 0.09590279310941696, 'token': 10908, 'token_str': 'mamie', 'sequence': 'mysle o twojej mamie zawsze gdy czuje sie samotny'}\n",
            "{'score': 0.05569346994161606, 'token': 6515, 'token_str': 'twarzy', 'sequence': 'mysle o twojej twarzy zawsze gdy czuje sie samotny'}\n",
            "{'score': 0.03267879784107208, 'token': 28990, 'token_str': 'chorobie', 'sequence': 'mysle o twojej chorobie zawsze gdy czuje sie samotny'}\n"
          ]
        }
      ]
    },
    {
      "cell_type": "code",
      "source": [
        "#wołacz\n",
        "for pred in nlp(sentencew):\n",
        "  print(pred)"
      ],
      "metadata": {
        "colab": {
          "base_uri": "https://localhost:8080/"
        },
        "id": "RJ4Ye8OJgEe2",
        "outputId": "1f3749d3-b575-46ad-8435-0366ca5d4c57"
      },
      "execution_count": 35,
      "outputs": [
        {
          "output_type": "stream",
          "name": "stdout",
          "text": [
            "{'score': 0.04747040942311287, 'token': 3686, 'token_str': 'mamo', 'sequence': 'mamo! kolacja gotowa!'}\n",
            "{'score': 0.03363505378365517, 'token': 21287, 'token_str': 'chodz', 'sequence': 'chodz! kolacja gotowa!'}\n",
            "{'score': 0.031771499663591385, 'token': 3616, 'token_str': 'tato', 'sequence': 'tato! kolacja gotowa!'}\n",
            "{'score': 0.024733005091547966, 'token': 2662, 'token_str': 'hej', 'sequence': 'hej! kolacja gotowa!'}\n",
            "{'score': 0.019485728815197945, 'token': 3461, 'token_str': 'kochanie', 'sequence': 'kochanie! kolacja gotowa!'}\n"
          ]
        }
      ]
    },
    {
      "cell_type": "markdown",
      "source": [
        "# Task 4\n",
        "\n",
        "Devise a method to test long-range relationships such as gender. E.e. you can use two verbs where withe masculine and feminine gender, where one of the verbs is masked. Both verbs should have the same gender, assuming the subject is the same. Define at least 3 such sentences.\n"
      ],
      "metadata": {
        "id": "HA7nZhw_KEnp"
      }
    },
    {
      "cell_type": "code",
      "source": [
        "sentence1 = 'Karol Wojtyła został papieżem, gdy [MASK] 58 lat.'\n",
        "sentence2 = 'Pracując w sklepie codziennie wykładałam towar i [MASK] klientów.'\n",
        "sentence3 = 'Hannah Montana pięknie śpiewała i [MASK] wspaniałe piosenki.'\n",
        "sentence4 = 'Tydzień temu pojechałem nad morze z moją koleżanką Eweliną. Ona grała na skrzypcach, a ja [MASK] zadania z nlp.'"
      ],
      "metadata": {
        "id": "LsEEmNuCEsUg"
      },
      "execution_count": null,
      "outputs": []
    },
    {
      "cell_type": "markdown",
      "source": [
        "## bert-base-multilingual-cased"
      ],
      "metadata": {
        "id": "WjjExez_PTYS"
      }
    },
    {
      "cell_type": "code",
      "source": [
        "#Sentence 1\n",
        "for pred in unmasker1(sentence1):\n",
        "  print(pred)"
      ],
      "metadata": {
        "colab": {
          "base_uri": "https://localhost:8080/"
        },
        "id": "r3jK73p8PSpI",
        "outputId": "6eb0ae59-76c3-4186-843b-0692a5240461"
      },
      "execution_count": null,
      "outputs": [
        {
          "output_type": "stream",
          "name": "stdout",
          "text": [
            "{'score': 0.7807138562202454, 'token': 22273, 'token_str': 'miał', 'sequence': 'Karol Wojtyła został papieżem, gdy miał 58 lat.'}\n",
            "{'score': 0.026839714497327805, 'token': 28807, 'token_str': 'miała', 'sequence': 'Karol Wojtyła został papieżem, gdy miała 58 lat.'}\n",
            "{'score': 0.021670039743185043, 'token': 10114, 'token_str': 'to', 'sequence': 'Karol Wojtyła został papieżem, gdy to 58 lat.'}\n",
            "{'score': 0.02061372436583042, 'token': 10824, 'token_str': 'ma', 'sequence': 'Karol Wojtyła został papieżem, gdy ma 58 lat.'}\n",
            "{'score': 0.019374776631593704, 'token': 11947, 'token_str': 'był', 'sequence': 'Karol Wojtyła został papieżem, gdy był 58 lat.'}\n"
          ]
        }
      ]
    },
    {
      "cell_type": "code",
      "source": [
        "#Sentence 2\n",
        "for pred in unmasker1(sentence2):\n",
        "  print(pred)"
      ],
      "metadata": {
        "colab": {
          "base_uri": "https://localhost:8080/"
        },
        "id": "-ycTTwM6Patf",
        "outputId": "d56884a5-ca08-4e78-e349-297a4924ba88"
      },
      "execution_count": null,
      "outputs": [
        {
          "output_type": "stream",
          "name": "stdout",
          "text": [
            "{'score': 0.08011244237422943, 'token': 13416, 'token_str': 'list', 'sequence': 'Pracując w sklepie codziennie wykładałam towar i list klientów.'}\n",
            "{'score': 0.05051654949784279, 'token': 12483, 'token_str': 'program', 'sequence': 'Pracując w sklepie codziennie wykładałam towar i program klientów.'}\n",
            "{'score': 0.04260428249835968, 'token': 12197, 'token_str': 'dla', 'sequence': 'Pracując w sklepie codziennie wykładałam towar i dla klientów.'}\n",
            "{'score': 0.040160201489925385, 'token': 31858, 'token_str': 'dom', 'sequence': 'Pracując w sklepie codziennie wykładałam towar i dom klientów.'}\n",
            "{'score': 0.01973556913435459, 'token': 24746, 'token_str': 'grupa', 'sequence': 'Pracując w sklepie codziennie wykładałam towar i grupa klientów.'}\n"
          ]
        }
      ]
    },
    {
      "cell_type": "code",
      "source": [
        "#Sentence 3\n",
        "for pred in unmasker1(sentence3):\n",
        "  print(pred)"
      ],
      "metadata": {
        "colab": {
          "base_uri": "https://localhost:8080/"
        },
        "id": "YIcxCVuxP9tu",
        "outputId": "b1d5f1ca-f2d5-4bdc-f309-332b360e2070"
      },
      "execution_count": null,
      "outputs": [
        {
          "output_type": "stream",
          "name": "stdout",
          "text": [
            "{'score': 0.34484681487083435, 'token': 28807, 'token_str': 'miała', 'sequence': 'Hannah Montana pięknie śpiewała i miała wspaniałe piosenki.'}\n",
            "{'score': 0.03985003009438515, 'token': 10824, 'token_str': 'ma', 'sequence': 'Hannah Montana pięknie śpiewała i ma wspaniałe piosenki.'}\n",
            "{'score': 0.031824495643377304, 'token': 24004, 'token_str': 'bardzo', 'sequence': 'Hannah Montana pięknie śpiewała i bardzo wspaniałe piosenki.'}\n",
            "{'score': 0.026360999792814255, 'token': 69543, 'token_str': 'rozpoczęła', 'sequence': 'Hannah Montana pięknie śpiewała i rozpoczęła wspaniałe piosenki.'}\n",
            "{'score': 0.025803420692682266, 'token': 81605, 'token_str': 'piosenki', 'sequence': 'Hannah Montana pięknie śpiewała i piosenki wspaniałe piosenki.'}\n"
          ]
        }
      ]
    },
    {
      "cell_type": "code",
      "source": [
        "#Sentence 4\n",
        "for pred in unmasker1(sentence4):\n",
        "  print(pred)"
      ],
      "metadata": {
        "colab": {
          "base_uri": "https://localhost:8080/"
        },
        "id": "DQeZgCAJS1MS",
        "outputId": "4f32a1e2-0598-488f-c865-9cac6bcef09a"
      },
      "execution_count": null,
      "outputs": [
        {
          "output_type": "stream",
          "name": "stdout",
          "text": [
            "{'score': 0.08952169120311737, 'token': 28807, 'token_str': 'miała', 'sequence': 'Tydzień temu pojechałem nad morze z moją koleżanką Eweliną. Ona grała na skrzypcach, a ja miała zadania z nlp.'}\n",
            "{'score': 0.06802317500114441, 'token': 47370, 'token_str': 'miały', 'sequence': 'Tydzień temu pojechałem nad morze z moją koleżanką Eweliną. Ona grała na skrzypcach, a ja miały zadania z nlp.'}\n",
            "{'score': 0.04082023352384567, 'token': 33867, 'token_str': 'swoje', 'sequence': 'Tydzień temu pojechałem nad morze z moją koleżanką Eweliną. Ona grała na skrzypcach, a ja swoje zadania z nlp.'}\n",
            "{'score': 0.03813451528549194, 'token': 13863, 'token_str': 'bez', 'sequence': 'Tydzień temu pojechałem nad morze z moją koleżanką Eweliną. Ona grała na skrzypcach, a ja bez zadania z nlp.'}\n",
            "{'score': 0.029746076092123985, 'token': 118, 'token_str': '-', 'sequence': 'Tydzień temu pojechałem nad morze z moją koleżanką Eweliną. Ona grała na skrzypcach, a ja - zadania z nlp.'}\n"
          ]
        }
      ]
    },
    {
      "cell_type": "markdown",
      "source": [
        "## distilbert-base-multilingual-cased"
      ],
      "metadata": {
        "id": "PXzzi2I9PtB2"
      }
    },
    {
      "cell_type": "code",
      "source": [
        "#Sentence 1\n",
        "for pred in unmasker2(sentence1):\n",
        "  print(pred)"
      ],
      "metadata": {
        "colab": {
          "base_uri": "https://localhost:8080/"
        },
        "id": "On7NPX-qQC3O",
        "outputId": "b9aa7c33-ed4e-4019-9c60-d93e0fd49e10"
      },
      "execution_count": null,
      "outputs": [
        {
          "output_type": "stream",
          "name": "stdout",
          "text": [
            "{'score': 0.7571278214454651, 'token': 22273, 'token_str': 'miał', 'sequence': 'Karol Wojtyła został papieżem, gdy miał 58 lat.'}\n",
            "{'score': 0.1116565465927124, 'token': 57159, 'token_str': 'zmarł', 'sequence': 'Karol Wojtyła został papieżem, gdy zmarł 58 lat.'}\n",
            "{'score': 0.01713084615767002, 'token': 14878, 'token_str': 'wieku', 'sequence': 'Karol Wojtyła został papieżem, gdy wieku 58 lat.'}\n",
            "{'score': 0.015495982952415943, 'token': 28807, 'token_str': 'miała', 'sequence': 'Karol Wojtyła został papieżem, gdy miała 58 lat.'}\n",
            "{'score': 0.014404736459255219, 'token': 25214, 'token_str': 'otrzymał', 'sequence': 'Karol Wojtyła został papieżem, gdy otrzymał 58 lat.'}\n"
          ]
        }
      ]
    },
    {
      "cell_type": "code",
      "source": [
        "#Sentence 2\n",
        "for pred in unmasker2(sentence2):\n",
        "  print(pred)"
      ],
      "metadata": {
        "colab": {
          "base_uri": "https://localhost:8080/"
        },
        "id": "NVvpydNlQCyH",
        "outputId": "cc3566e6-2bdb-469c-afcf-51175075be59"
      },
      "execution_count": null,
      "outputs": [
        {
          "output_type": "stream",
          "name": "stdout",
          "text": [
            "{'score': 0.15417520701885223, 'token': 30403, 'token_str': 'Tuttavia', 'sequence': 'Pracując w sklepie codziennie wykładałam towar i Tuttavia klientów.'}\n",
            "{'score': 0.0562664158642292, 'token': 24746, 'token_str': 'grupa', 'sequence': 'Pracując w sklepie codziennie wykładałam towar i grupa klientów.'}\n",
            "{'score': 0.04934629797935486, 'token': 29086, 'token_str': 'kilka', 'sequence': 'Pracując w sklepie codziennie wykładałam towar i kilka klientów.'}\n",
            "{'score': 0.03802814707159996, 'token': 28990, 'token_str': 'wiele', 'sequence': 'Pracując w sklepie codziennie wykładałam towar i wiele klientów.'}\n",
            "{'score': 0.026985030621290207, 'token': 22307, 'token_str': 'innych', 'sequence': 'Pracując w sklepie codziennie wykładałam towar i innych klientów.'}\n"
          ]
        }
      ]
    },
    {
      "cell_type": "code",
      "source": [
        "#Sentence 3\n",
        "for pred in unmasker2(sentence3):\n",
        "  print(pred)"
      ],
      "metadata": {
        "colab": {
          "base_uri": "https://localhost:8080/"
        },
        "id": "JGO-i2v5QCo8",
        "outputId": "cebb3f25-8dd5-4a22-f7a7-621b73fe9359"
      },
      "execution_count": null,
      "outputs": [
        {
          "output_type": "stream",
          "name": "stdout",
          "text": [
            "{'score': 0.19455809891223907, 'token': 27976, 'token_str': 'برخی', 'sequence': 'Hannah Montana pięknie śpiewała i برخی wspaniałe piosenki.'}\n",
            "{'score': 0.07016553729772568, 'token': 7656, 'token_str': '辆', 'sequence': 'Hannah Montana pięknie śpiewała i 辆 wspaniałe piosenki.'}\n",
            "{'score': 0.0668899416923523, 'token': 28807, 'token_str': 'miała', 'sequence': 'Hannah Montana pięknie śpiewała i miała wspaniałe piosenki.'}\n",
            "{'score': 0.04562719911336899, 'token': 60947, 'token_str': 'prowadził', 'sequence': 'Hannah Montana pięknie śpiewała i prowadził wspaniałe piosenki.'}\n",
            "{'score': 0.04325754567980766, 'token': 64293, 'token_str': 'zdobyła', 'sequence': 'Hannah Montana pięknie śpiewała i zdobyła wspaniałe piosenki.'}\n"
          ]
        }
      ]
    },
    {
      "cell_type": "code",
      "source": [
        "#sentence 4\n",
        "for pred in unmasker2(sentence4):\n",
        "  print(pred)"
      ],
      "metadata": {
        "colab": {
          "base_uri": "https://localhost:8080/"
        },
        "id": "d2V-MXbhS-Df",
        "outputId": "8030c190-035c-442a-8a42-08bfd871d45e"
      },
      "execution_count": null,
      "outputs": [
        {
          "output_type": "stream",
          "name": "stdout",
          "text": [
            "{'score': 0.1186334565281868, 'token': 22273, 'token_str': 'miał', 'sequence': 'Tydzień temu pojechałem nad morze z moją koleżanką Eweliną. Ona grała na skrzypcach, a ja miał zadania z nlp.'}\n",
            "{'score': 0.09480408579111099, 'token': 28807, 'token_str': 'miała', 'sequence': 'Tydzień temu pojechałem nad morze z moją koleżanką Eweliną. Ona grała na skrzypcach, a ja miała zadania z nlp.'}\n",
            "{'score': 0.08975930511951447, 'token': 60947, 'token_str': 'prowadził', 'sequence': 'Tydzień temu pojechałem nad morze z moją koleżanką Eweliną. Ona grała na skrzypcach, a ja prowadził zadania z nlp.'}\n",
            "{'score': 0.05564418435096741, 'token': 47370, 'token_str': 'miały', 'sequence': 'Tydzień temu pojechałem nad morze z moją koleżanką Eweliną. Ona grała na skrzypcach, a ja miały zadania z nlp.'}\n",
            "{'score': 0.05174730718135834, 'token': 43894, 'token_str': 'posiada', 'sequence': 'Tydzień temu pojechałem nad morze z moją koleżanką Eweliną. Ona grała na skrzypcach, a ja posiada zadania z nlp.'}\n"
          ]
        }
      ]
    },
    {
      "cell_type": "markdown",
      "source": [
        "## xlm-roberta-base"
      ],
      "metadata": {
        "id": "5lYHMIUOPvs0"
      }
    },
    {
      "cell_type": "code",
      "source": [
        "#Sentence 1\n",
        "for pred in unmasker3('Karol Wojtyła został papieżem, gdy <mask> 58 lat.'):\n",
        "  print(pred)"
      ],
      "metadata": {
        "colab": {
          "base_uri": "https://localhost:8080/"
        },
        "id": "FkIpvKiRQO55",
        "outputId": "e0419a49-2151-4241-845c-e97381bf550e"
      },
      "execution_count": null,
      "outputs": [
        {
          "output_type": "stream",
          "name": "stdout",
          "text": [
            "{'score': 0.9962471127510071, 'token': 40262, 'token_str': 'miał', 'sequence': 'Karol Wojtyła został papieżem, gdy miał 58 lat.'}\n",
            "{'score': 0.0016974075697362423, 'token': 76293, 'token_str': 'miała', 'sequence': 'Karol Wojtyła został papieżem, gdy miała 58 lat.'}\n",
            "{'score': 0.0005353940650820732, 'token': 11803, 'token_str': 'był', 'sequence': 'Karol Wojtyła został papieżem, gdy był 58 lat.'}\n",
            "{'score': 0.0003050024970434606, 'token': 172207, 'token_str': 'mając', 'sequence': 'Karol Wojtyła został papieżem, gdy mając 58 lat.'}\n",
            "{'score': 0.00027554467669688165, 'token': 166682, 'token_str': 'miałem', 'sequence': 'Karol Wojtyła został papieżem, gdy miałem 58 lat.'}\n"
          ]
        }
      ]
    },
    {
      "cell_type": "code",
      "source": [
        "#Sentence 2\n",
        "for pred in unmasker3('Pracując w sklepie codziennie wykładałam towar i <mask> klientów.'):\n",
        "  print(pred)"
      ],
      "metadata": {
        "colab": {
          "base_uri": "https://localhost:8080/"
        },
        "id": "iCz5l3_tQapz",
        "outputId": "550bafc5-1160-4d03-a124-22fda99ad661"
      },
      "execution_count": null,
      "outputs": [
        {
          "output_type": "stream",
          "name": "stdout",
          "text": [
            "{'score': 0.41124412417411804, 'token': 216175, 'token_str': 'obsługę', 'sequence': 'Pracując w sklepie codziennie wykładałam towar i obsługę klientów.'}\n",
            "{'score': 0.0767601728439331, 'token': 114779, 'token_str': 'moich', 'sequence': 'Pracując w sklepie codziennie wykładałam towar i moich klientów.'}\n",
            "{'score': 0.0711938664317131, 'token': 1822, 'token_str': 'dla', 'sequence': 'Pracując w sklepie codziennie wykładałam towar i dla klientów.'}\n",
            "{'score': 0.056284189224243164, 'token': 103996, 'token_str': 'obsługi', 'sequence': 'Pracując w sklepie codziennie wykładałam towar i obsługi klientów.'}\n",
            "{'score': 0.03226253017783165, 'token': 203454, 'token_str': 'obsługa', 'sequence': 'Pracując w sklepie codziennie wykładałam towar i obsługa klientów.'}\n"
          ]
        }
      ]
    },
    {
      "cell_type": "code",
      "source": [
        "#Sentence 3\n",
        "for pred in unmasker3('Hannah Montana pięknie śpiewała i <mask> wspaniałe piosenki.'):\n",
        "  print(pred)"
      ],
      "metadata": {
        "colab": {
          "base_uri": "https://localhost:8080/"
        },
        "id": "C5zLlaCFQbIa",
        "outputId": "57fa98eb-6bf1-4205-cd18-f07c2ce22584"
      },
      "execution_count": null,
      "outputs": [
        {
          "output_type": "stream",
          "name": "stdout",
          "text": [
            "{'score': 0.3331259787082672, 'token': 203152, 'token_str': 'śpiewa', 'sequence': 'Hannah Montana pięknie śpiewała i śpiewa wspaniałe piosenki.'}\n",
            "{'score': 0.18433070182800293, 'token': 76293, 'token_str': 'miała', 'sequence': 'Hannah Montana pięknie śpiewała i miała wspaniałe piosenki.'}\n",
            "{'score': 0.12209943681955338, 'token': 197475, 'token_str': 'wykonuje', 'sequence': 'Hannah Montana pięknie śpiewała i wykonuje wspaniałe piosenki.'}\n",
            "{'score': 0.07456929981708527, 'token': 114226, 'token_str': 'pisze', 'sequence': 'Hannah Montana pięknie śpiewała i pisze wspaniałe piosenki.'}\n",
            "{'score': 0.04680154100060463, 'token': 4224, 'token_str': 'gra', 'sequence': 'Hannah Montana pięknie śpiewała i gra wspaniałe piosenki.'}\n"
          ]
        }
      ]
    },
    {
      "cell_type": "code",
      "source": [
        "#Sentence 4\n",
        "for pred in unmasker3('Tydzień temu pojechałem nad morze z moją koleżanką Eweliną. Ona grała na skrzypcach, a ja <mask> zadania z nlp.'):\n",
        "  print(pred)"
      ],
      "metadata": {
        "colab": {
          "base_uri": "https://localhost:8080/"
        },
        "id": "KopsxUotTo9Z",
        "outputId": "d73ab7e9-1f39-4c7e-c75f-39cf1909e73f"
      },
      "execution_count": null,
      "outputs": [
        {
          "output_type": "stream",
          "name": "stdout",
          "text": [
            "{'score': 0.2178637683391571, 'token': 125428, 'token_str': 'miałam', 'sequence': 'Tydzień temu pojechałem nad morze z moją koleżanką Eweliną. Ona grała na skrzypcach, a ja miałam zadania z nlp.'}\n",
            "{'score': 0.2073492854833603, 'token': 166682, 'token_str': 'miałem', 'sequence': 'Tydzień temu pojechałem nad morze z moją koleżanką Eweliną. Ona grała na skrzypcach, a ja miałem zadania z nlp.'}\n",
            "{'score': 0.07881809026002884, 'token': 24, 'token_str': 'na', 'sequence': 'Tydzień temu pojechałem nad morze z moją koleżanką Eweliną. Ona grała na skrzypcach, a ja na zadania z nlp.'}\n",
            "{'score': 0.07556736469268799, 'token': 212818, 'token_str': 'mieliśmy', 'sequence': 'Tydzień temu pojechałem nad morze z moją koleżanką Eweliną. Ona grała na skrzypcach, a ja mieliśmy zadania z nlp.'}\n",
            "{'score': 0.03662558272480965, 'token': 76293, 'token_str': 'miała', 'sequence': 'Tydzień temu pojechałem nad morze z moją koleżanką Eweliną. Ona grała na skrzypcach, a ja miała zadania z nlp.'}\n"
          ]
        }
      ]
    },
    {
      "cell_type": "markdown",
      "source": [
        "## dkleczek/bert-base-polish-uncased-v1"
      ],
      "metadata": {
        "id": "9_OKROjpPx0Y"
      }
    },
    {
      "cell_type": "code",
      "source": [
        "# Sentence 1\n",
        "for pred in nlp(sentence1):\n",
        "  print(pred)"
      ],
      "metadata": {
        "colab": {
          "base_uri": "https://localhost:8080/"
        },
        "id": "8C7akfj0PvP_",
        "outputId": "8e3e24fa-8a5d-4339-9521-8f4956e197c5"
      },
      "execution_count": null,
      "outputs": [
        {
          "output_type": "stream",
          "name": "stdout",
          "text": [
            "{'score': 0.9903818964958191, 'token': 2303, 'token_str': 'miał', 'sequence': 'karol wojtyła został papiezem, gdy miał 58 lat.'}\n",
            "{'score': 0.001904727309010923, 'token': 3355, 'token_str': 'miałem', 'sequence': 'karol wojtyła został papiezem, gdy miałem 58 lat.'}\n",
            "{'score': 0.001441345433704555, 'token': 3089, 'token_str': 'miała', 'sequence': 'karol wojtyła został papiezem, gdy miała 58 lat.'}\n",
            "{'score': 0.0011354908347129822, 'token': 1994, 'token_str': 'ma', 'sequence': 'karol wojtyła został papiezem, gdy ma 58 lat.'}\n",
            "{'score': 0.001102268579415977, 'token': 4546, 'token_str': 'miałam', 'sequence': 'karol wojtyła został papiezem, gdy miałam 58 lat.'}\n"
          ]
        }
      ]
    },
    {
      "cell_type": "code",
      "source": [
        "# Sentence 2\n",
        "for pred in nlp(sentence2):\n",
        "  print(pred)"
      ],
      "metadata": {
        "colab": {
          "base_uri": "https://localhost:8080/"
        },
        "id": "zwXrvhYkREU6",
        "outputId": "9b61eb2d-d873-4279-e833-ece54bb9e53d"
      },
      "execution_count": null,
      "outputs": [
        {
          "output_type": "stream",
          "name": "stdout",
          "text": [
            "{'score': 0.06888172030448914, 'token': 4546, 'token_str': 'miałam', 'sequence': 'pracujac w sklepie codziennie wykładałam towar i miałam klientow.'}\n",
            "{'score': 0.04383954033255577, 'token': 3247, 'token_str': 'innych', 'sequence': 'pracujac w sklepie codziennie wykładałam towar i innych klientow.'}\n",
            "{'score': 0.03669983148574829, 'token': 3934, 'token_str': 'moich', 'sequence': 'pracujac w sklepie codziennie wykładałam towar i moich klientow.'}\n",
            "{'score': 0.029438959434628487, 'token': 2865, 'token_str': 'wszystkich', 'sequence': 'pracujac w sklepie codziennie wykładałam towar i wszystkich klientow.'}\n",
            "{'score': 0.029232101514935493, 'token': 55760, 'token_str': 'zdobyłam', 'sequence': 'pracujac w sklepie codziennie wykładałam towar i zdobyłam klientow.'}\n"
          ]
        }
      ]
    },
    {
      "cell_type": "code",
      "source": [
        "# Sentence 3\n",
        "for pred in nlp(sentence3):\n",
        "  print(pred)"
      ],
      "metadata": {
        "colab": {
          "base_uri": "https://localhost:8080/"
        },
        "id": "dmf0_SLhRHg2",
        "outputId": "b76c4a0e-c8fe-4e77-e26b-01629fa9c9c3"
      },
      "execution_count": null,
      "outputs": [
        {
          "output_type": "stream",
          "name": "stdout",
          "text": [
            "{'score': 0.2631739377975464, 'token': 34698, 'token_str': 'pisała', 'sequence': 'hannah montana pieknie spiewała i pisała wspaniałe piosenki.'}\n",
            "{'score': 0.15847651660442352, 'token': 34790, 'token_str': 'opowiadała', 'sequence': 'hannah montana pieknie spiewała i opowiadała wspaniałe piosenki.'}\n",
            "{'score': 0.1471834033727646, 'token': 32553, 'token_str': 'wydawała', 'sequence': 'hannah montana pieknie spiewała i wydawała wspaniałe piosenki.'}\n",
            "{'score': 0.07059714198112488, 'token': 3089, 'token_str': 'miała', 'sequence': 'hannah montana pieknie spiewała i miała wspaniałe piosenki.'}\n",
            "{'score': 0.06354303658008575, 'token': 26256, 'token_str': 'grała', 'sequence': 'hannah montana pieknie spiewała i grała wspaniałe piosenki.'}\n"
          ]
        }
      ]
    },
    {
      "cell_type": "code",
      "source": [
        "# Sentence 4\n",
        "for pred in nlp(sentence4):\n",
        "  print(pred)"
      ],
      "metadata": {
        "colab": {
          "base_uri": "https://localhost:8080/"
        },
        "id": "xU9i46XoRLwu",
        "outputId": "3a0ec657-69ca-4779-db92-edb45431097f"
      },
      "execution_count": null,
      "outputs": [
        {
          "output_type": "stream",
          "name": "stdout",
          "text": [
            "{'score': 0.11973563581705093, 'token': 26713, 'token_str': 'uczyłem', 'sequence': 'tydzien temu pojechałem nad morze z moja kolezanka ewelina. ona grała na skrzypcach, a ja uczyłem zadania z nlp.'}\n",
            "{'score': 0.07853870093822479, 'token': 10501, 'token_str': 'robiłem', 'sequence': 'tydzien temu pojechałem nad morze z moja kolezanka ewelina. ona grała na skrzypcach, a ja robiłem zadania z nlp.'}\n",
            "{'score': 0.07830805331468582, 'token': 3167, 'token_str': 'byłem', 'sequence': 'tydzien temu pojechałem nad morze z moja kolezanka ewelina. ona grała na skrzypcach, a ja byłem zadania z nlp.'}\n",
            "{'score': 0.07147232443094254, 'token': 1898, 'token_str': 'na', 'sequence': 'tydzien temu pojechałem nad morze z moja kolezanka ewelina. ona grała na skrzypcach, a ja na zadania z nlp.'}\n",
            "{'score': 0.04932401701807976, 'token': 7487, 'token_str': 'dostałem', 'sequence': 'tydzien temu pojechałem nad morze z moja kolezanka ewelina. ona grała na skrzypcach, a ja dostałem zadania z nlp.'}\n"
          ]
        }
      ]
    },
    {
      "cell_type": "markdown",
      "source": [
        "# Task 5\n",
        "\n",
        "Check if the model captures real-world knolwedge. For instance a sentence \"[MASK] wrze w temperaturze 100 stopni, a zamarza w temperaturze 0 stopni Celsjusza.\" checks if the model \"knows\" the description of water. Define at least 3 such sentences."
      ],
      "metadata": {
        "id": "wRk8a4_oUOCn"
      }
    },
    {
      "cell_type": "code",
      "source": [
        "sentence5 = 'Wodę otrzymamy, gdy zmieszamy wodór z [MASK].'\n",
        "sentence6 = 'Stolicą Polski jest [MASK].'\n",
        "sentence7 = 'Jan Paweł II był polskim [MASK].'\n",
        "sentence8 = 'Pierwszym królem Polski został [MASK].'"
      ],
      "metadata": {
        "id": "EGFanoovVX_P"
      },
      "execution_count": null,
      "outputs": []
    },
    {
      "cell_type": "markdown",
      "source": [
        "## bert-base-multilingual-cased"
      ],
      "metadata": {
        "id": "PcdOrVGZUpMJ"
      }
    },
    {
      "cell_type": "code",
      "source": [
        "#Sentence 5\n",
        "for pred in unmasker1(sentence5):\n",
        "  print(pred)"
      ],
      "metadata": {
        "colab": {
          "base_uri": "https://localhost:8080/"
        },
        "id": "7uVSC0r1VXtW",
        "outputId": "dc61f079-d7e9-43a9-af17-c9d4e0028b8e"
      },
      "execution_count": null,
      "outputs": [
        {
          "output_type": "stream",
          "name": "stdout",
          "text": [
            "{'score': 0.5471190810203552, 'token': 46967, 'token_str': 'wody', 'sequence': 'Wodę otrzymamy, gdy zmieszamy wodór z wody.'}\n",
            "{'score': 0.034501150250434875, 'token': 92644, 'token_str': 'góry', 'sequence': 'Wodę otrzymamy, gdy zmieszamy wodór z góry.'}\n",
            "{'score': 0.01588810421526432, 'token': 51680, 'token_str': 'ziemi', 'sequence': 'Wodę otrzymamy, gdy zmieszamy wodór z ziemi.'}\n",
            "{'score': 0.01555912010371685, 'token': 28440, 'token_str': 'tzw', 'sequence': 'Wodę otrzymamy, gdy zmieszamy wodór z tzw.'}\n",
            "{'score': 0.011448039673268795, 'token': 58258, 'token_str': 'aluminium', 'sequence': 'Wodę otrzymamy, gdy zmieszamy wodór z aluminium.'}\n"
          ]
        }
      ]
    },
    {
      "cell_type": "code",
      "source": [
        "#Sentence 6\n",
        "for pred in unmasker1(sentence6):\n",
        "  print(pred)"
      ],
      "metadata": {
        "colab": {
          "base_uri": "https://localhost:8080/"
        },
        "id": "_8iDKdtQWfkS",
        "outputId": "250aefb1-a5e7-4fac-ad65-910dceb4c219"
      },
      "execution_count": null,
      "outputs": [
        {
          "output_type": "stream",
          "name": "stdout",
          "text": [
            "{'score': 0.09164587408304214, 'token': 38968, 'token_str': 'RP', 'sequence': 'Stolicą Polski jest RP.'}\n",
            "{'score': 0.04636332765221596, 'token': 155, 'token_str': 'R', 'sequence': 'Stolicą Polski jest R.'}\n",
            "{'score': 0.031153205782175064, 'token': 10114, 'token_str': 'to', 'sequence': 'Stolicą Polski jest to.'}\n",
            "{'score': 0.03097510151565075, 'token': 186, 'token_str': 'r', 'sequence': 'Stolicą Polski jest r.'}\n",
            "{'score': 0.030420314520597458, 'token': 64199, 'token_str': 'woj', 'sequence': 'Stolicą Polski jest woj.'}\n"
          ]
        }
      ]
    },
    {
      "cell_type": "code",
      "source": [
        "#Sentence 7\n",
        "for pred in unmasker1(sentence7):\n",
        "  print(pred)"
      ],
      "metadata": {
        "colab": {
          "base_uri": "https://localhost:8080/"
        },
        "id": "Z46QIX8PWluU",
        "outputId": "ca88894f-a162-48a6-cb8d-9d5f8aa464ee"
      },
      "execution_count": null,
      "outputs": [
        {
          "output_type": "stream",
          "name": "stdout",
          "text": [
            "{'score': 0.29699045419692993, 'token': 13711, 'token_str': '##iem', 'sequence': 'Jan Paweł II był polskimiem.'}\n",
            "{'score': 0.09007493406534195, 'token': 72325, 'token_str': 'polskim', 'sequence': 'Jan Paweł II był polskim polskim.'}\n",
            "{'score': 0.08065453916788101, 'token': 10147, 'token_str': '##m', 'sequence': 'Jan Paweł II był polskimm.'}\n",
            "{'score': 0.03968106210231781, 'token': 91631, 'token_str': 'biskupem', 'sequence': 'Jan Paweł II był polskim biskupem.'}\n",
            "{'score': 0.033161062747240067, 'token': 10451, 'token_str': '##em', 'sequence': 'Jan Paweł II był polskimem.'}\n"
          ]
        }
      ]
    },
    {
      "cell_type": "code",
      "source": [
        "#Sentence 8\n",
        "for pred in unmasker1(sentence8):\n",
        "  print(pred)"
      ],
      "metadata": {
        "colab": {
          "base_uri": "https://localhost:8080/"
        },
        "id": "7ucXSQJzWoIr",
        "outputId": "c96c1f2c-bef8-47d2-b658-d3df2db7f233"
      },
      "execution_count": null,
      "outputs": [
        {
          "output_type": "stream",
          "name": "stdout",
          "text": [
            "{'score': 0.15574423968791962, 'token': 40129, 'token_str': 'Karol', 'sequence': 'Pierwszym królem Polski został Karol.'}\n",
            "{'score': 0.030440956354141235, 'token': 16262, 'token_str': 'Polski', 'sequence': 'Pierwszym królem Polski został Polski.'}\n",
            "{'score': 0.028095293790102005, 'token': 11806, 'token_str': 'Jan', 'sequence': 'Pierwszym królem Polski został Jan.'}\n",
            "{'score': 0.022914336994290352, 'token': 87475, 'token_str': 'Bolesław', 'sequence': 'Pierwszym królem Polski został Bolesław.'}\n",
            "{'score': 0.019016554579138756, 'token': 19495, 'token_str': 'polski', 'sequence': 'Pierwszym królem Polski został polski.'}\n"
          ]
        }
      ]
    },
    {
      "cell_type": "markdown",
      "source": [
        "## distilbert-base-multilingual-cased"
      ],
      "metadata": {
        "id": "7BJpw_UlW3cZ"
      }
    },
    {
      "cell_type": "code",
      "source": [
        "#Sentence 5\n",
        "for pred in unmasker2(sentence5):\n",
        "  print(pred)"
      ],
      "metadata": {
        "colab": {
          "base_uri": "https://localhost:8080/"
        },
        "id": "kh94PF6nW7ww",
        "outputId": "43fbc17e-faa9-43e0-d83a-1b0569139e4f"
      },
      "execution_count": null,
      "outputs": [
        {
          "output_type": "stream",
          "name": "stdout",
          "text": [
            "{'score': 0.501076340675354, 'token': 46967, 'token_str': 'wody', 'sequence': 'Wodę otrzymamy, gdy zmieszamy wodór z wody.'}\n",
            "{'score': 0.08111021667718887, 'token': 51680, 'token_str': 'ziemi', 'sequence': 'Wodę otrzymamy, gdy zmieszamy wodór z ziemi.'}\n",
            "{'score': 0.04192236810922623, 'token': 64255, 'token_str': 'Ziemi', 'sequence': 'Wodę otrzymamy, gdy zmieszamy wodór z Ziemi.'}\n",
            "{'score': 0.03336033970117569, 'token': 25681, 'token_str': 'борбору', 'sequence': 'Wodę otrzymamy, gdy zmieszamy wodór z борбору.'}\n",
            "{'score': 0.018578702583909035, 'token': 27648, 'token_str': 'pracy', 'sequence': 'Wodę otrzymamy, gdy zmieszamy wodór z pracy.'}\n"
          ]
        }
      ]
    },
    {
      "cell_type": "code",
      "source": [
        "#Sentence 6\n",
        "for pred in unmasker2(sentence6):\n",
        "  print(pred)"
      ],
      "metadata": {
        "colab": {
          "base_uri": "https://localhost:8080/"
        },
        "id": "-vuOzB7NXFe2",
        "outputId": "daa6b8f6-e590-4b2e-ca58-cdc52d36ad6a"
      },
      "execution_count": null,
      "outputs": [
        {
          "output_type": "stream",
          "name": "stdout",
          "text": [
            "{'score': 0.2333279401063919, 'token': 9958, 'token_str': '핫', 'sequence': 'Stolicą Polski jest 핫.'}\n",
            "{'score': 0.1142210066318512, 'token': 21206, 'token_str': 'Warszawa', 'sequence': 'Stolicą Polski jest Warszawa.'}\n",
            "{'score': 0.04488592594861984, 'token': 31716, 'token_str': 'Polska', 'sequence': 'Stolicą Polski jest Polska.'}\n",
            "{'score': 0.032067831605672836, 'token': 50364, 'token_str': 'Wrocław', 'sequence': 'Stolicą Polski jest Wrocław.'}\n",
            "{'score': 0.019939769059419632, 'token': 45123, 'token_str': 'Lublin', 'sequence': 'Stolicą Polski jest Lublin.'}\n"
          ]
        }
      ]
    },
    {
      "cell_type": "code",
      "source": [
        "#Sentence 7\n",
        "for pred in unmasker2(sentence7):\n",
        "  print(pred)"
      ],
      "metadata": {
        "colab": {
          "base_uri": "https://localhost:8080/"
        },
        "id": "MRIwqtorXLAS",
        "outputId": "28b7ac41-fbf7-4ae0-c4b1-22d4df939b22"
      },
      "execution_count": null,
      "outputs": [
        {
          "output_type": "stream",
          "name": "stdout",
          "text": [
            "{'score': 0.3131376802921295, 'token': 13711, 'token_str': '##iem', 'sequence': 'Jan Paweł II był polskimiem.'}\n",
            "{'score': 0.048409439623355865, 'token': 52998, 'token_str': 'synem', 'sequence': 'Jan Paweł II był polskim synem.'}\n",
            "{'score': 0.042506806552410126, 'token': 10451, 'token_str': '##em', 'sequence': 'Jan Paweł II był polskimem.'}\n",
            "{'score': 0.04024923965334892, 'token': 10147, 'token_str': '##m', 'sequence': 'Jan Paweł II był polskimm.'}\n",
            "{'score': 0.03144833445549011, 'token': 17239, 'token_str': 'כך', 'sequence': 'Jan Paweł II był polskim כך.'}\n"
          ]
        }
      ]
    },
    {
      "cell_type": "code",
      "source": [
        "#Sentence 8\n",
        "for pred in unmasker2(sentence8):\n",
        "  print(pred)"
      ],
      "metadata": {
        "colab": {
          "base_uri": "https://localhost:8080/"
        },
        "id": "dyHh2TJmXQqe",
        "outputId": "d4a7540c-cfe0-4b37-d973-d97b63d36246"
      },
      "execution_count": null,
      "outputs": [
        {
          "output_type": "stream",
          "name": "stdout",
          "text": [
            "{'score': 0.1574597805738449, 'token': 59359, 'token_str': 'Franciszek', 'sequence': 'Pierwszym królem Polski został Franciszek'}\n",
            "{'score': 0.0804201290011406, 'token': 43491, 'token_str': 'Władysław', 'sequence': 'Pierwszym królem Polski został Władysław'}\n",
            "{'score': 0.07364720851182938, 'token': 30960, 'token_str': 'Aleksander', 'sequence': 'Pierwszym królem Polski został Aleksander'}\n",
            "{'score': 0.07233268022537231, 'token': 44167, 'token_str': 'Kazimierz', 'sequence': 'Pierwszym królem Polski został Kazimierz'}\n",
            "{'score': 0.06297451257705688, 'token': 27895, 'token_str': 'Stanisław', 'sequence': 'Pierwszym królem Polski został Stanisław'}\n"
          ]
        }
      ]
    },
    {
      "cell_type": "markdown",
      "source": [
        "## xlm-roberta-base"
      ],
      "metadata": {
        "id": "2iQ0gHJyWwF8"
      }
    },
    {
      "cell_type": "code",
      "source": [
        "#Sentence 5\n",
        "for pred in unmasker3('Wodę otrzymamy, gdy zmieszamy wodór z <mask>.'):\n",
        "  print(pred)"
      ],
      "metadata": {
        "colab": {
          "base_uri": "https://localhost:8080/"
        },
        "id": "V-Ax9ct2XZ3w",
        "outputId": "4f028946-9fea-4337-9c4a-0d3092b2bffc"
      },
      "execution_count": null,
      "outputs": [
        {
          "output_type": "stream",
          "name": "stdout",
          "text": [
            "{'score': 0.7666863799095154, 'token': 173506, 'token_str': 'wodą', 'sequence': 'Wodę otrzymamy, gdy zmieszamy wodór z wodą.'}\n",
            "{'score': 0.017757155001163483, 'token': 56598, 'token_str': 'wody', 'sequence': 'Wodę otrzymamy, gdy zmieszamy wodór z wody.'}\n",
            "{'score': 0.007850406691432, 'token': 106, 'token_str': '1', 'sequence': 'Wodę otrzymamy, gdy zmieszamy wodór z 1.'}\n",
            "{'score': 0.0065236762166023254, 'token': 5, 'token_str': '.', 'sequence': 'Wodę otrzymamy, gdy zmieszamy wodór z..'}\n",
            "{'score': 0.006225600838661194, 'token': 12, 'token_str': ':', 'sequence': 'Wodę otrzymamy, gdy zmieszamy wodór z:.'}\n"
          ]
        }
      ]
    },
    {
      "cell_type": "code",
      "source": [
        "#Sentence 6\n",
        "for pred in unmasker3('Stolicą Polski jest <mask>.'):\n",
        "  print(pred)"
      ],
      "metadata": {
        "colab": {
          "base_uri": "https://localhost:8080/"
        },
        "id": "RTF4NSytXZy2",
        "outputId": "d203fbdd-5170-4ac8-8467-774eb32161e5"
      },
      "execution_count": null,
      "outputs": [
        {
          "output_type": "stream",
          "name": "stdout",
          "text": [
            "{'score': 0.1888662576675415, 'token': 54492, 'token_str': 'Polska', 'sequence': 'Stolicą Polski jest Polska.'}\n",
            "{'score': 0.14527133107185364, 'token': 83282, 'token_str': 'Warszawa', 'sequence': 'Stolicą Polski jest Warszawa.'}\n",
            "{'score': 0.07664377987384796, 'token': 3974, 'token_str': 'Europa', 'sequence': 'Stolicą Polski jest Europa.'}\n",
            "{'score': 0.06301996856927872, 'token': 97063, 'token_str': 'Kuba', 'sequence': 'Stolicą Polski jest Kuba.'}\n",
            "{'score': 0.03086051531136036, 'token': 40090, 'token_str': 'świat', 'sequence': 'Stolicą Polski jest świat.'}\n"
          ]
        }
      ]
    },
    {
      "cell_type": "code",
      "source": [
        "#Sentence 1\n",
        "for pred in unmasker3('Jan Paweł II był polskim <mask>.'):\n",
        "  print(pred)"
      ],
      "metadata": {
        "colab": {
          "base_uri": "https://localhost:8080/"
        },
        "id": "HSARnjEgXZsO",
        "outputId": "cfae8c80-cd47-4e48-926f-cb8c4dbcc9cf"
      },
      "execution_count": null,
      "outputs": [
        {
          "output_type": "stream",
          "name": "stdout",
          "text": [
            "{'score': 0.1592685878276825, 'token': 5, 'token_str': '.', 'sequence': 'Jan Paweł II był polskim..'}\n",
            "{'score': 0.04851750656962395, 'token': 4, 'token_str': ',', 'sequence': 'Jan Paweł II był polskim,.'}\n",
            "{'score': 0.047885723412036896, 'token': 27, 'token_str': '...', 'sequence': 'Jan Paweł II był polskim....'}\n",
            "{'score': 0.043606437742710114, 'token': 14, 'token_str': 'i', 'sequence': 'Jan Paweł II był polskimi.'}\n",
            "{'score': 0.03922104090452194, 'token': 38, 'token_str': '!', 'sequence': 'Jan Paweł II był polskim!.'}\n"
          ]
        }
      ]
    },
    {
      "cell_type": "code",
      "source": [
        "#Sentence 1\n",
        "for pred in unmasker3('Pierwszym królem Polski został <mask>.'):\n",
        "  print(pred)"
      ],
      "metadata": {
        "colab": {
          "base_uri": "https://localhost:8080/"
        },
        "id": "f8nJIlIRXZmk",
        "outputId": "52fe0656-a99f-4240-ca19-b01c28ba0055"
      },
      "execution_count": null,
      "outputs": [
        {
          "output_type": "stream",
          "name": "stdout",
          "text": [
            "{'score': 0.11619558185338974, 'token': 182622, 'token_str': 'Józef', 'sequence': 'Pierwszym królem Polski został Józef.'}\n",
            "{'score': 0.10383095592260361, 'token': 119042, 'token_str': 'Karol', 'sequence': 'Pierwszym królem Polski został Karol.'}\n",
            "{'score': 0.05156029760837555, 'token': 110735, 'token_str': 'król', 'sequence': 'Pierwszym królem Polski został król.'}\n",
            "{'score': 0.0499541312456131, 'token': 238996, 'token_str': 'Kazimierz', 'sequence': 'Pierwszym królem Polski został Kazimierz.'}\n",
            "{'score': 0.04235284402966499, 'token': 113157, 'token_str': 'Napoleon', 'sequence': 'Pierwszym królem Polski został Napoleon.'}\n"
          ]
        }
      ]
    },
    {
      "cell_type": "markdown",
      "source": [
        "## dkleczek/bert-base-polish-uncased-v1"
      ],
      "metadata": {
        "id": "lenZtU0QW6Ua"
      }
    },
    {
      "cell_type": "code",
      "source": [
        "#Sentence 5\n",
        "for pred in nlp(sentence5):\n",
        "  print(pred)"
      ],
      "metadata": {
        "colab": {
          "base_uri": "https://localhost:8080/"
        },
        "id": "RyCdWZsQWywt",
        "outputId": "cd1a6a51-aa64-48e2-e675-7d435a676b81"
      },
      "execution_count": null,
      "outputs": [
        {
          "output_type": "stream",
          "name": "stdout",
          "text": [
            "{'score': 0.7965784072875977, 'token': 7250, 'token_str': 'woda', 'sequence': 'wode otrzymamy, gdy zmieszamy wodor z woda.'}\n",
            "{'score': 0.058260831981897354, 'token': 53444, 'token_str': 'tlenem', 'sequence': 'wode otrzymamy, gdy zmieszamy wodor z tlenem.'}\n",
            "{'score': 0.05498503893613815, 'token': 8276, 'token_str': 'ziemia', 'sequence': 'wode otrzymamy, gdy zmieszamy wodor z ziemia.'}\n",
            "{'score': 0.017184413969516754, 'token': 30935, 'token_str': 'powietrzem', 'sequence': 'wode otrzymamy, gdy zmieszamy wodor z powietrzem.'}\n",
            "{'score': 0.010556421242654324, 'token': 40350, 'token_str': 'benzyna', 'sequence': 'wode otrzymamy, gdy zmieszamy wodor z benzyna.'}\n"
          ]
        }
      ]
    },
    {
      "cell_type": "code",
      "source": [
        "#Sentence 6\n",
        "for pred in nlp(sentence6):\n",
        "  print(pred)"
      ],
      "metadata": {
        "colab": {
          "base_uri": "https://localhost:8080/"
        },
        "id": "pxbV8EuHYdkK",
        "outputId": "80f58fc2-9967-4043-8af2-73ac72e50886"
      },
      "execution_count": null,
      "outputs": [
        {
          "output_type": "stream",
          "name": "stdout",
          "text": [
            "{'score': 0.40209442377090454, 'token': 9456, 'token_str': 'warszawa', 'sequence': 'stolica polski jest warszawa.'}\n",
            "{'score': 0.05716034024953842, 'token': 11556, 'token_str': 'krakow', 'sequence': 'stolica polski jest krakow.'}\n",
            "{'score': 0.05370710417628288, 'token': 5946, 'token_str': 'polska', 'sequence': 'stolica polski jest polska.'}\n",
            "{'score': 0.03765169158577919, 'token': 49195, 'token_str': 'białystok', 'sequence': 'stolica polski jest białystok.'}\n",
            "{'score': 0.02499089576303959, 'token': 19265, 'token_str': 'rosja', 'sequence': 'stolica polski jest rosja.'}\n"
          ]
        }
      ]
    },
    {
      "cell_type": "code",
      "source": [
        "#Sentence 7\n",
        "for pred in nlp(sentence7):\n",
        "  print(pred)"
      ],
      "metadata": {
        "colab": {
          "base_uri": "https://localhost:8080/"
        },
        "id": "zyi59Or1Yg3S",
        "outputId": "df567044-df0a-4335-e351-8fab25d82225"
      },
      "execution_count": null,
      "outputs": [
        {
          "output_type": "stream",
          "name": "stdout",
          "text": [
            "{'score': 0.15680724382400513, 'token': 10953, 'token_str': 'bohaterem', 'sequence': 'jan paweł ii był polskim bohaterem.'}\n",
            "{'score': 0.07783900946378708, 'token': 26596, 'token_str': 'poeta', 'sequence': 'jan paweł ii był polskim poeta.'}\n",
            "{'score': 0.06924967467784882, 'token': 23610, 'token_str': 'aktorem', 'sequence': 'jan paweł ii był polskim aktorem.'}\n",
            "{'score': 0.06021951884031296, 'token': 13893, 'token_str': 'prezydentem', 'sequence': 'jan paweł ii był polskim prezydentem.'}\n",
            "{'score': 0.04802533611655235, 'token': 24293, 'token_str': 'pisarzem', 'sequence': 'jan paweł ii był polskim pisarzem.'}\n"
          ]
        }
      ]
    },
    {
      "cell_type": "code",
      "source": [
        "#Sentence 8\n",
        "for pred in nlp(sentence8):\n",
        "  print(pred)"
      ],
      "metadata": {
        "colab": {
          "base_uri": "https://localhost:8080/"
        },
        "id": "pvCAW0j7YkFu",
        "outputId": "a9a9f2a4-db90-49f8-8c99-dc3d1f21b1c7"
      },
      "execution_count": null,
      "outputs": [
        {
          "output_type": "stream",
          "name": "stdout",
          "text": [
            "{'score': 0.06545864045619965, 'token': 15263, 'token_str': 'jerzy', 'sequence': 'pierwszym krolem polski został jerzy.'}\n",
            "{'score': 0.039882853627204895, 'token': 22023, 'token_str': 'władysław', 'sequence': 'pierwszym krolem polski został władysław.'}\n",
            "{'score': 0.03892417252063751, 'token': 11863, 'token_str': 'piotr', 'sequence': 'pierwszym krolem polski został piotr.'}\n",
            "{'score': 0.03829279914498329, 'token': 33222, 'token_str': 'napoleon', 'sequence': 'pierwszym krolem polski został napoleon.'}\n",
            "{'score': 0.037221841514110565, 'token': 20785, 'token_str': 'kazimierz', 'sequence': 'pierwszym krolem polski został kazimierz.'}\n"
          ]
        }
      ]
    },
    {
      "cell_type": "markdown",
      "source": [
        "# Task 6\n",
        "\n",
        "Take into accout the fact, that causal language models such as PapuGaPT2 or plT5, will only generate continuations of the sentenes, so the examples have to be created according to that paradigm."
      ],
      "metadata": {
        "id": "oKfCkVX5ZGyP"
      }
    },
    {
      "cell_type": "markdown",
      "source": [
        "# Task 7\n",
        "\n",
        "Answer the following questions:\n"
      ],
      "metadata": {
        "id": "oX6_TbMfZOj7"
      }
    },
    {
      "cell_type": "markdown",
      "source": [
        "* Which of the models produced the best results?\n",
        "\n",
        "The best results were produced by the last moodel, namely: dkleczek/bert-base-polish-uncased-v1 and second best was xlm-roberta-base"
      ],
      "metadata": {
        "id": "K4iby8jLaGie"
      }
    },
    {
      "cell_type": "markdown",
      "source": [
        "* Was any of the models able to capture Polish grammar?\n",
        "\n",
        "In most cases every model managed to capture Polish grammar. The words proposed to sentences in past tenses were also in the past form and the gender was usually correctly guessed. Polish cases were correctly guessed by dkleczek/bert-base-polish-uncased-v1 and xlm-roberta-base. The 2 remaining models correctly guessed only mianownik and wołacz."
      ],
      "metadata": {
        "id": "DXiFba0VaGeN"
      }
    },
    {
      "cell_type": "markdown",
      "source": [
        "* Was any of the models able to capture long-distant relationships between the words?\n",
        "\n",
        "distilbert-base-multilingual-cased proposed a correct as:\n",
        "\n",
        "'tydzien temu pojechałem nad morze z moja kolezanka ewelina. ona grała na skrzypcach, a ja uczyłem zadania z nlp.'\n",
        "\n",
        "'tydzien temu pojechałem nad morze z moja kolezanka ewelina. ona grała na skrzypcach, a ja robiłem zadania z nlp.'\n",
        "\n",
        "xlm-roberta-base and dkleczek/bert-base-polish-uncased-v1 also proposed the correct form but not as the first guess. Each of the 3 first models had feminine verb as the first guess."
      ],
      "metadata": {
        "id": "rY1sH1OQaGYc"
      }
    },
    {
      "cell_type": "markdown",
      "source": [
        "* Was any of the models able to capture world knowledge?\n",
        "\n",
        "Not in every case but the closest one was dkleczek/bert-base-polish-uncased-v1. The correct guesses were:\n",
        "\n",
        "'wode otrzymamy, gdy zmieszamy wodor z tlenem.'\n",
        "\n",
        "'stolica polski jest warszawa.'\n",
        "\n",
        "The rest of the models did not manage to do so"
      ],
      "metadata": {
        "id": "gQhQqu9YaGSu"
      }
    },
    {
      "cell_type": "markdown",
      "source": [
        "* What are the most striking errors made by the models?\n",
        "\n",
        "The bert-base-multilingual-cased, The distilbert-base-multilingual-cased and xlm-roberta-base did not have any world knowledge and messed up some words\n",
        "\n",
        "The distilbert-base-multilingual-cased model puts also words from other languages as Chineese\n",
        "\n",
        "The dkleczek/bert-base-polish-uncased-v1 did not use polish letters and did not know most of the world knowledge sentences."
      ],
      "metadata": {
        "id": "2W9vUk_HaGNB"
      }
    },
    {
      "cell_type": "code",
      "source": [],
      "metadata": {
        "id": "FNYC6I8uaSjP"
      },
      "execution_count": null,
      "outputs": []
    }
  ]
}