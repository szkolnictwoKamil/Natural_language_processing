{
  "nbformat": 4,
  "nbformat_minor": 0,
  "metadata": {
    "colab": {
      "provenance": [],
      "collapsed_sections": []
    },
    "kernelspec": {
      "name": "python3",
      "display_name": "Python 3"
    },
    "language_info": {
      "name": "python"
    }
  },
  "cells": [
    {
      "cell_type": "code",
      "execution_count": 30,
      "metadata": {
        "colab": {
          "base_uri": "https://localhost:8080/"
        },
        "id": "oHQQAfw23Ltf",
        "outputId": "c9f0d666-a022-46ec-bd1b-1ef3c7eda6f1"
      },
      "outputs": [
        {
          "output_type": "stream",
          "name": "stdout",
          "text": [
            "Looking in indexes: https://pypi.org/simple, https://us-python.pkg.dev/colab-wheels/public/simple/\n",
            "Requirement already satisfied: elasticsearch==7.10.0 in /usr/local/lib/python3.7/dist-packages (7.10.0)\n",
            "Requirement already satisfied: urllib3<2,>=1.21.1 in /usr/local/lib/python3.7/dist-packages (from elasticsearch==7.10.0) (1.24.3)\n",
            "Requirement already satisfied: certifi in /usr/local/lib/python3.7/dist-packages (from elasticsearch==7.10.0) (2022.9.24)\n",
            "Looking in indexes: https://pypi.org/simple, https://us-python.pkg.dev/colab-wheels/public/simple/\n",
            "Requirement already satisfied: elasticsearch_dsl in /usr/local/lib/python3.7/dist-packages (7.4.0)\n",
            "Requirement already satisfied: python-dateutil in /usr/local/lib/python3.7/dist-packages (from elasticsearch_dsl) (2.8.2)\n",
            "Requirement already satisfied: six in /usr/local/lib/python3.7/dist-packages (from elasticsearch_dsl) (1.15.0)\n",
            "Requirement already satisfied: elasticsearch<8.0.0,>=7.0.0 in /usr/local/lib/python3.7/dist-packages (from elasticsearch_dsl) (7.10.0)\n",
            "Requirement already satisfied: urllib3<2,>=1.21.1 in /usr/local/lib/python3.7/dist-packages (from elasticsearch<8.0.0,>=7.0.0->elasticsearch_dsl) (1.24.3)\n",
            "Requirement already satisfied: certifi in /usr/local/lib/python3.7/dist-packages (from elasticsearch<8.0.0,>=7.0.0->elasticsearch_dsl) (2022.9.24)\n",
            "mkdir: cannot create directory ‘Act_directory’: File exists\n"
          ]
        }
      ],
      "source": [
        "# Install elasticsearch\n",
        "!pip install elasticsearch==7.10.0\n",
        "!pip install elasticsearch_dsl\n",
        "\n",
        "# Create a directory containing bills\n",
        "!mkdir Act_directory"
      ]
    },
    {
      "cell_type": "code",
      "source": [
        "%%bash\n",
        "\n",
        "wget -q https://artifacts.elastic.co/downloads/elasticsearch/elasticsearch-7.10.0-linux-x86_64.tar.gz\n",
        "wget -q https://artifacts.elastic.co/downloads/elasticsearch/elasticsearch-7.10.0-linux-x86_64.tar.gz.sha512\n",
        "tar -xzf elasticsearch-7.10.0-linux-x86_64.tar.gz\n",
        "sudo chown -R daemon:daemon elasticsearch-7.10.0/\n",
        "shasum -a 512 -c elasticsearch-7.10.0-linux-x86_64.tar.gz.sha512"
      ],
      "metadata": {
        "colab": {
          "base_uri": "https://localhost:8080/"
        },
        "id": "Syz0wMRRNbZl",
        "outputId": "b176dfac-feed-425f-f042-a14f61e4e052"
      },
      "execution_count": 31,
      "outputs": [
        {
          "output_type": "stream",
          "name": "stdout",
          "text": [
            "elasticsearch-7.10.0-linux-x86_64.tar.gz: OK\n"
          ]
        }
      ]
    },
    {
      "cell_type": "code",
      "source": [
        "%%bash\n",
        "\n",
        "sudo elasticsearch-7.10.0/bin/elasticsearch-plugin install pl.allegro.tech.elasticsearch.plugin:elasticsearch-analysis-morfologik:7.10.0"
      ],
      "metadata": {
        "id": "vKUR8grQr0lM"
      },
      "execution_count": null,
      "outputs": []
    },
    {
      "cell_type": "code",
      "source": [
        "%%bash --bg\n",
        "\n",
        "sudo -H -u daemon elasticsearch-7.10.0/bin/elasticsearch"
      ],
      "metadata": {
        "id": "66WYujBnNj5J"
      },
      "execution_count": null,
      "outputs": []
    },
    {
      "cell_type": "code",
      "source": [
        "%%bash\n",
        "\n",
        "curl -sX GET \"localhost:9200/\""
      ],
      "metadata": {
        "colab": {
          "base_uri": "https://localhost:8080/"
        },
        "id": "cDalSyTMNoge",
        "outputId": "64dcafd7-65af-41ce-9f6e-a6bd4488ddfe"
      },
      "execution_count": 33,
      "outputs": [
        {
          "output_type": "stream",
          "name": "stdout",
          "text": [
            "{\n",
            "  \"name\" : \"136fde9d307e\",\n",
            "  \"cluster_name\" : \"elasticsearch\",\n",
            "  \"cluster_uuid\" : \"W7CbFiEoRN-_Qh_c_DybZA\",\n",
            "  \"version\" : {\n",
            "    \"number\" : \"7.10.0\",\n",
            "    \"build_flavor\" : \"default\",\n",
            "    \"build_type\" : \"tar\",\n",
            "    \"build_hash\" : \"51e9d6f22758d0374a0f3f5c6e8f3a7997850f96\",\n",
            "    \"build_date\" : \"2020-11-09T21:30:33.964949Z\",\n",
            "    \"build_snapshot\" : false,\n",
            "    \"lucene_version\" : \"8.7.0\",\n",
            "    \"minimum_wire_compatibility_version\" : \"6.8.0\",\n",
            "    \"minimum_index_compatibility_version\" : \"6.0.0-beta1\"\n",
            "  },\n",
            "  \"tagline\" : \"You Know, for Search\"\n",
            "}\n"
          ]
        }
      ]
    },
    {
      "cell_type": "code",
      "source": [
        "import elasticsearch\n",
        "import elasticsearch_dsl\n",
        "import os\n",
        "import regex as reg\n",
        "import tarfile\n",
        "import tqdm\n",
        "from pathlib import Path\n",
        "import requests\n",
        "from google.colab import files\n",
        "uploaded = files.upload() #importing tar file"
      ],
      "metadata": {
        "colab": {
          "base_uri": "https://localhost:8080/",
          "height": 74
        },
        "id": "4ArYMzshYb0k",
        "outputId": "9d299fe5-851e-487f-e7cb-557fc7486300"
      },
      "execution_count": 34,
      "outputs": [
        {
          "output_type": "display_data",
          "data": {
            "text/plain": [
              "<IPython.core.display.HTML object>"
            ],
            "text/html": [
              "\n",
              "     <input type=\"file\" id=\"files-756e5b45-8870-4a3c-b4c6-9390eb6dadd2\" name=\"files[]\" multiple disabled\n",
              "        style=\"border:none\" />\n",
              "     <output id=\"result-756e5b45-8870-4a3c-b4c6-9390eb6dadd2\">\n",
              "      Upload widget is only available when the cell has been executed in the\n",
              "      current browser session. Please rerun this cell to enable.\n",
              "      </output>\n",
              "      <script>// Copyright 2017 Google LLC\n",
              "//\n",
              "// Licensed under the Apache License, Version 2.0 (the \"License\");\n",
              "// you may not use this file except in compliance with the License.\n",
              "// You may obtain a copy of the License at\n",
              "//\n",
              "//      http://www.apache.org/licenses/LICENSE-2.0\n",
              "//\n",
              "// Unless required by applicable law or agreed to in writing, software\n",
              "// distributed under the License is distributed on an \"AS IS\" BASIS,\n",
              "// WITHOUT WARRANTIES OR CONDITIONS OF ANY KIND, either express or implied.\n",
              "// See the License for the specific language governing permissions and\n",
              "// limitations under the License.\n",
              "\n",
              "/**\n",
              " * @fileoverview Helpers for google.colab Python module.\n",
              " */\n",
              "(function(scope) {\n",
              "function span(text, styleAttributes = {}) {\n",
              "  const element = document.createElement('span');\n",
              "  element.textContent = text;\n",
              "  for (const key of Object.keys(styleAttributes)) {\n",
              "    element.style[key] = styleAttributes[key];\n",
              "  }\n",
              "  return element;\n",
              "}\n",
              "\n",
              "// Max number of bytes which will be uploaded at a time.\n",
              "const MAX_PAYLOAD_SIZE = 100 * 1024;\n",
              "\n",
              "function _uploadFiles(inputId, outputId) {\n",
              "  const steps = uploadFilesStep(inputId, outputId);\n",
              "  const outputElement = document.getElementById(outputId);\n",
              "  // Cache steps on the outputElement to make it available for the next call\n",
              "  // to uploadFilesContinue from Python.\n",
              "  outputElement.steps = steps;\n",
              "\n",
              "  return _uploadFilesContinue(outputId);\n",
              "}\n",
              "\n",
              "// This is roughly an async generator (not supported in the browser yet),\n",
              "// where there are multiple asynchronous steps and the Python side is going\n",
              "// to poll for completion of each step.\n",
              "// This uses a Promise to block the python side on completion of each step,\n",
              "// then passes the result of the previous step as the input to the next step.\n",
              "function _uploadFilesContinue(outputId) {\n",
              "  const outputElement = document.getElementById(outputId);\n",
              "  const steps = outputElement.steps;\n",
              "\n",
              "  const next = steps.next(outputElement.lastPromiseValue);\n",
              "  return Promise.resolve(next.value.promise).then((value) => {\n",
              "    // Cache the last promise value to make it available to the next\n",
              "    // step of the generator.\n",
              "    outputElement.lastPromiseValue = value;\n",
              "    return next.value.response;\n",
              "  });\n",
              "}\n",
              "\n",
              "/**\n",
              " * Generator function which is called between each async step of the upload\n",
              " * process.\n",
              " * @param {string} inputId Element ID of the input file picker element.\n",
              " * @param {string} outputId Element ID of the output display.\n",
              " * @return {!Iterable<!Object>} Iterable of next steps.\n",
              " */\n",
              "function* uploadFilesStep(inputId, outputId) {\n",
              "  const inputElement = document.getElementById(inputId);\n",
              "  inputElement.disabled = false;\n",
              "\n",
              "  const outputElement = document.getElementById(outputId);\n",
              "  outputElement.innerHTML = '';\n",
              "\n",
              "  const pickedPromise = new Promise((resolve) => {\n",
              "    inputElement.addEventListener('change', (e) => {\n",
              "      resolve(e.target.files);\n",
              "    });\n",
              "  });\n",
              "\n",
              "  const cancel = document.createElement('button');\n",
              "  inputElement.parentElement.appendChild(cancel);\n",
              "  cancel.textContent = 'Cancel upload';\n",
              "  const cancelPromise = new Promise((resolve) => {\n",
              "    cancel.onclick = () => {\n",
              "      resolve(null);\n",
              "    };\n",
              "  });\n",
              "\n",
              "  // Wait for the user to pick the files.\n",
              "  const files = yield {\n",
              "    promise: Promise.race([pickedPromise, cancelPromise]),\n",
              "    response: {\n",
              "      action: 'starting',\n",
              "    }\n",
              "  };\n",
              "\n",
              "  cancel.remove();\n",
              "\n",
              "  // Disable the input element since further picks are not allowed.\n",
              "  inputElement.disabled = true;\n",
              "\n",
              "  if (!files) {\n",
              "    return {\n",
              "      response: {\n",
              "        action: 'complete',\n",
              "      }\n",
              "    };\n",
              "  }\n",
              "\n",
              "  for (const file of files) {\n",
              "    const li = document.createElement('li');\n",
              "    li.append(span(file.name, {fontWeight: 'bold'}));\n",
              "    li.append(span(\n",
              "        `(${file.type || 'n/a'}) - ${file.size} bytes, ` +\n",
              "        `last modified: ${\n",
              "            file.lastModifiedDate ? file.lastModifiedDate.toLocaleDateString() :\n",
              "                                    'n/a'} - `));\n",
              "    const percent = span('0% done');\n",
              "    li.appendChild(percent);\n",
              "\n",
              "    outputElement.appendChild(li);\n",
              "\n",
              "    const fileDataPromise = new Promise((resolve) => {\n",
              "      const reader = new FileReader();\n",
              "      reader.onload = (e) => {\n",
              "        resolve(e.target.result);\n",
              "      };\n",
              "      reader.readAsArrayBuffer(file);\n",
              "    });\n",
              "    // Wait for the data to be ready.\n",
              "    let fileData = yield {\n",
              "      promise: fileDataPromise,\n",
              "      response: {\n",
              "        action: 'continue',\n",
              "      }\n",
              "    };\n",
              "\n",
              "    // Use a chunked sending to avoid message size limits. See b/62115660.\n",
              "    let position = 0;\n",
              "    do {\n",
              "      const length = Math.min(fileData.byteLength - position, MAX_PAYLOAD_SIZE);\n",
              "      const chunk = new Uint8Array(fileData, position, length);\n",
              "      position += length;\n",
              "\n",
              "      const base64 = btoa(String.fromCharCode.apply(null, chunk));\n",
              "      yield {\n",
              "        response: {\n",
              "          action: 'append',\n",
              "          file: file.name,\n",
              "          data: base64,\n",
              "        },\n",
              "      };\n",
              "\n",
              "      let percentDone = fileData.byteLength === 0 ?\n",
              "          100 :\n",
              "          Math.round((position / fileData.byteLength) * 100);\n",
              "      percent.textContent = `${percentDone}% done`;\n",
              "\n",
              "    } while (position < fileData.byteLength);\n",
              "  }\n",
              "\n",
              "  // All done.\n",
              "  yield {\n",
              "    response: {\n",
              "      action: 'complete',\n",
              "    }\n",
              "  };\n",
              "}\n",
              "\n",
              "scope.google = scope.google || {};\n",
              "scope.google.colab = scope.google.colab || {};\n",
              "scope.google.colab._files = {\n",
              "  _uploadFiles,\n",
              "  _uploadFilesContinue,\n",
              "};\n",
              "})(self);\n",
              "</script> "
            ]
          },
          "metadata": {}
        },
        {
          "output_type": "stream",
          "name": "stdout",
          "text": [
            "Saving ustawy.tar.gz to ustawy.tar (1).gz\n"
          ]
        }
      ]
    },
    {
      "cell_type": "code",
      "source": [
        "# open file\n",
        "tar = tarfile.open('ustawy.tar.gz')\n",
        "  \n",
        "# extracting file\n",
        "tar.extractall('/content/Act_directory')\n",
        "tar.close()"
      ],
      "metadata": {
        "id": "wLKme_iibYiv"
      },
      "execution_count": 35,
      "outputs": []
    },
    {
      "cell_type": "code",
      "source": [
        "elastic = elasticsearch.Elasticsearch()\n",
        "elasticsearch_dsl.connections.add_connection('python_client', elastic)\n",
        "elastic.info()"
      ],
      "metadata": {
        "colab": {
          "base_uri": "https://localhost:8080/"
        },
        "id": "ybRreYJqU9yG",
        "outputId": "61f91e9a-252c-4f9e-cabb-628bebbc06e6"
      },
      "execution_count": 36,
      "outputs": [
        {
          "output_type": "execute_result",
          "data": {
            "text/plain": [
              "{'name': '136fde9d307e',\n",
              " 'cluster_name': 'elasticsearch',\n",
              " 'cluster_uuid': 'W7CbFiEoRN-_Qh_c_DybZA',\n",
              " 'version': {'number': '7.10.0',\n",
              "  'build_flavor': 'default',\n",
              "  'build_type': 'tar',\n",
              "  'build_hash': '51e9d6f22758d0374a0f3f5c6e8f3a7997850f96',\n",
              "  'build_date': '2020-11-09T21:30:33.964949Z',\n",
              "  'build_snapshot': False,\n",
              "  'lucene_version': '8.7.0',\n",
              "  'minimum_wire_compatibility_version': '6.8.0',\n",
              "  'minimum_index_compatibility_version': '6.0.0-beta1'},\n",
              " 'tagline': 'You Know, for Search'}"
            ]
          },
          "metadata": {},
          "execution_count": 36
        }
      ]
    },
    {
      "cell_type": "code",
      "source": [
        "analyzer = elasticsearch_dsl.analyzer(\n",
        "    'analyzer',\n",
        "    type='custom',\n",
        "    tokenizer='standard',                             \n",
        "    filter=[\n",
        "        'lowercase',                                  \n",
        "        elasticsearch_dsl.analysis.token_filter(      \n",
        "            'synonym_filter', \n",
        "            type='synonym', \n",
        "            synonyms=[\n",
        "                'kpk,kodeks postępowania karnego',\n",
        "                'kpc,kodeks postępowania cywilnego',\n",
        "                'kk,kodeks karny',\n",
        "                'kc,kodeks cywilny',\n",
        "            ],\n",
        "        ),\n",
        "        'morfologik_stem',                          \n",
        "    ]\n",
        ")"
      ],
      "metadata": {
        "id": "5GUd-ircVHc5"
      },
      "execution_count": 37,
      "outputs": []
    },
    {
      "cell_type": "code",
      "source": [
        "class Bill(elasticsearch_dsl.Document):\n",
        "    file_name = elasticsearch_dsl.Text()\n",
        "    year = elasticsearch_dsl.Integer()\n",
        "    content = elasticsearch_dsl.Text(\n",
        "        analyzer=analyzer,\n",
        "    )\n",
        "    \n",
        "    class Index:\n",
        "        name = 'acts'"
      ],
      "metadata": {
        "id": "zmzp68WkZEwU"
      },
      "execution_count": 38,
      "outputs": []
    },
    {
      "cell_type": "code",
      "source": [
        "if Bill._index.exists(using=elastic):\n",
        "    Bill._index.delete(using=elastic)\n",
        "\n",
        "Bill.init(using=elastic)"
      ],
      "metadata": {
        "id": "nwLCMDjWZYbD"
      },
      "execution_count": 39,
      "outputs": []
    },
    {
      "cell_type": "code",
      "source": [
        "path = Path('./Act_directory')\n",
        "for act in tqdm.tqdm(path.iterdir(), desc=\"Indexing acts\", total=len(list(path.iterdir()))):\n",
        "  act_id = act.stem\n",
        "  requests.post(\n",
        "      url=f\"http://localhost:9200/acts/_doc/{act_id}\",\n",
        "      json={\n",
        "          \"content\": act.read_text(encoding=\"utf8\")\n",
        "      }\n",
        "  )"
      ],
      "metadata": {
        "colab": {
          "base_uri": "https://localhost:8080/"
        },
        "id": "sezVH55dbz0i",
        "outputId": "95c1316a-933e-45a5-f4d5-03186664ae04"
      },
      "execution_count": 40,
      "outputs": [
        {
          "output_type": "stream",
          "name": "stderr",
          "text": [
            "Indexing acts: 100%|██████████| 1179/1179 [00:39<00:00, 29.89it/s]\n"
          ]
        }
      ]
    },
    {
      "cell_type": "code",
      "source": [
        "elastic.search(index = \"acts\")['hits']['total']['value']"
      ],
      "metadata": {
        "colab": {
          "base_uri": "https://localhost:8080/"
        },
        "id": "yxAMmwjkljMG",
        "outputId": "5f03f284-b145-4260-e3c1-c7e85d4a4516"
      },
      "execution_count": 41,
      "outputs": [
        {
          "output_type": "execute_result",
          "data": {
            "text/plain": [
              "1179"
            ]
          },
          "metadata": {},
          "execution_count": 41
        }
      ]
    },
    {
      "cell_type": "code",
      "source": [
        "len(os.listdir(path)) == elastic.search(index = \"acts\")['hits']['total']['value']"
      ],
      "metadata": {
        "colab": {
          "base_uri": "https://localhost:8080/"
        },
        "id": "gxufLXuKc11V",
        "outputId": "1074245f-b48b-406e-9e8c-97cc147f251f"
      },
      "execution_count": 42,
      "outputs": [
        {
          "output_type": "execute_result",
          "data": {
            "text/plain": [
              "True"
            ]
          },
          "metadata": {},
          "execution_count": 42
        }
      ]
    },
    {
      "cell_type": "code",
      "source": [
        "ustawa = elastic.search(\n",
        "      index=\"acts\", \n",
        "      body={\n",
        "        \"query\": {\n",
        "            \"match_phrase\": {\n",
        "                \"content\": {\n",
        "                    \"query\": \"ustawa\"\n",
        "                }\n",
        "            }\n",
        "        }\n",
        "      }\n",
        "  )\n",
        "\n",
        "print(f\"The number of files containing the word ustawa is {ustawa['hits']['total']['value']}\")"
      ],
      "metadata": {
        "colab": {
          "base_uri": "https://localhost:8080/"
        },
        "id": "bhPMgLU5dCDA",
        "outputId": "eb624d6c-0206-414c-d7cd-dee291256950"
      },
      "execution_count": 43,
      "outputs": [
        {
          "output_type": "stream",
          "name": "stdout",
          "text": [
            "The number of files containing the word ustawa is 1178\n"
          ]
        }
      ]
    },
    {
      "cell_type": "code",
      "source": [
        "response = requests.get(\n",
        "    url=\"http://localhost:9200/acts/_termvectors/2004_894\",\n",
        "    json={\n",
        "        \"fields\": [\"content\"],\n",
        "        \"term_statistics\": True\n",
        "    }\n",
        ")\n",
        "\n",
        "print(f\"The number of times the word ustawa occurs is {response.json()['term_vectors']['content']['terms']['ustawa']['ttf']}\")"
      ],
      "metadata": {
        "colab": {
          "base_uri": "https://localhost:8080/"
        },
        "id": "FxCzORHKmwCw",
        "outputId": "4277e053-9dbf-43ed-b36a-f106cc3f8d78"
      },
      "execution_count": 44,
      "outputs": [
        {
          "output_type": "stream",
          "name": "stdout",
          "text": [
            "The number of times the word ustawa occurs is 24934\n"
          ]
        }
      ]
    },
    {
      "cell_type": "code",
      "source": [
        "response = requests.get(\n",
        "    url=\"http://localhost:9200/acts/_termvectors/2004_894\",\n",
        "    json={\n",
        "        \"fields\": [\"content\"],\n",
        "        \"term_statistics\": True\n",
        "    }\n",
        ")\n",
        "\n",
        "\n",
        "\n",
        "print(f\"The number of times the word ustaw occurs is {response.json()['term_vectors']['content']['terms']['ustawić']['ttf']}\")"
      ],
      "metadata": {
        "colab": {
          "base_uri": "https://localhost:8080/"
        },
        "id": "sjf38oDJ-v4e",
        "outputId": "70461a8a-c5cf-4289-c8d5-c9e015dcafbd"
      },
      "execution_count": 46,
      "outputs": [
        {
          "output_type": "stream",
          "name": "stdout",
          "text": [
            "The number of times the word ustaw occurs is 913\n"
          ]
        }
      ]
    },
    {
      "cell_type": "code",
      "source": [
        "kpc = elastic.search(\n",
        "      index=\"acts\", \n",
        "      body={\n",
        "        \"query\": {\n",
        "            \"match_phrase\": {\n",
        "                \"content\": {\n",
        "                    \"query\": \"kodeks postępowania cywilnego\"\n",
        "                }\n",
        "            }\n",
        "        }\n",
        "      }\n",
        "  )\n",
        "\n",
        "print(f\"The number of files containing the word kodeks postępowania cywilnego is {kpc['hits']['total']['value']}\")"
      ],
      "metadata": {
        "id": "9Y_gRHaRnbwo",
        "colab": {
          "base_uri": "https://localhost:8080/"
        },
        "outputId": "f718f9c7-fe29-4c07-e1bc-879dbe83a9d1"
      },
      "execution_count": 47,
      "outputs": [
        {
          "output_type": "stream",
          "name": "stdout",
          "text": [
            "The number of files containing the word kodeks postępowania cywilnego is 99\n"
          ]
        }
      ]
    },
    {
      "cell_type": "code",
      "source": [
        "wwz = elastic.search(\n",
        "    index=\"acts\", \n",
        "    body={\n",
        "      \"query\": {\n",
        "          \"match_phrase\": {\n",
        "              \"content\": {\n",
        "                  \"query\": \"wchodzi w życie\",\n",
        "                  \"slop\": 2\n",
        "              }\n",
        "          }\n",
        "      }\n",
        "    }\n",
        ")\n",
        "\n",
        "print(f\"The number of files containing the word  wchodzi w życie is {wwz['hits']['total']['value']}\")"
      ],
      "metadata": {
        "colab": {
          "base_uri": "https://localhost:8080/"
        },
        "id": "1H2BKFQ9ondh",
        "outputId": "5347e54a-ffe8-459d-a234-a88e44dd11fc"
      },
      "execution_count": 48,
      "outputs": [
        {
          "output_type": "stream",
          "name": "stdout",
          "text": [
            "The number of files containing the word  wchodzi w życie is 1174\n"
          ]
        }
      ]
    },
    {
      "cell_type": "code",
      "source": [
        "response = requests.get(\n",
        "    url=\"http://localhost:9200/acts/_search?filter_path=hits.hits._id,hits.hits._score\",\n",
        "    json={\n",
        "        \"query\": {\n",
        "            \"match\": {\n",
        "                \"content\": {\n",
        "                    \"query\": \"konstytucja\"\n",
        "                }\n",
        "            }\n",
        "        },\n",
        "        \"size\": 10\n",
        "    }\n",
        ")\n",
        "print('The 10 documents that are the most relevant for the phrase konstytucja are:')\n",
        "res = response.json()['hits']['hits']\n",
        "result = [res[i]['_id'] for i in range(len(res))]\n",
        "print(result)"
      ],
      "metadata": {
        "colab": {
          "base_uri": "https://localhost:8080/"
        },
        "id": "0TjMa4atozAF",
        "outputId": "6d3c0111-45a8-4c7d-f355-08cef86cc108"
      },
      "execution_count": 49,
      "outputs": [
        {
          "output_type": "stream",
          "name": "stdout",
          "text": [
            "The 10 documents that are the most relevant for the phrase konstytucja are:\n",
            "['1997_629', '2000_443', '1997_604', '1996_350', '1997_642', '2001_23', '1996_199', '1999_688', '2001_1082', '1997_681']\n"
          ]
        }
      ]
    },
    {
      "cell_type": "code",
      "source": [
        "resposne = requests.get(\n",
        "    url=\"http://localhost:9200/acts/_search?filter_path=hits.hits._id,hits.hits.highlight\",\n",
        "    json={\n",
        "        \"query\": {\n",
        "            \"match\": {\n",
        "                \"content\": {\n",
        "                    \"query\": \"konstytucja\"\n",
        "                }\n",
        "            }\n",
        "        },\n",
        "        \"highlight\": {\n",
        "            \"fields\": {\n",
        "                \"content\": {\n",
        "                    \"number_of_fragments\": 3\n",
        "                }\n",
        "            }\n",
        "        },\n",
        "        \"size\": 10\n",
        "    }\n",
        ")\n",
        "\n",
        "resposne.json()['hits']['hits']"
      ],
      "metadata": {
        "colab": {
          "base_uri": "https://localhost:8080/"
        },
        "id": "83Cxfm1sKDVc",
        "outputId": "f5603f95-9c94-4dc9-9b92-9e42d2b6b813"
      },
      "execution_count": 50,
      "outputs": [
        {
          "output_type": "execute_result",
          "data": {
            "text/plain": [
              "[{'_id': '1997_629',\n",
              "  'highlight': {'content': ['o zmianie ustawy konstytucyjnej o trybie przygotowania\\n           i uchwalenia <em>Konstytucji</em> Rzeczypospolitej',\n",
              "    'W ustawie  konstytucyjnej z  dnia 23 kwietnia 1992 r. o trybie przygotowania i \\nuchwalenia <em>Konstytucji</em>',\n",
              "    'Do zgłoszenia projektu <em>Konstytucji</em> załącza się wykaz \\n                obywateli popierających zgłoszenie']}},\n",
              " {'_id': '2000_443',\n",
              "  'highlight': {'content': ['umowy międzynarodowej i nie wypełnia przesłanek określonych w art. 89\\n     ust. 1 lub art. 90 <em>Konstytucji</em>',\n",
              "    'międzynarodowej lub załącznika nie\\n     wypełnia przesłanek określonych w art. 89 ust. 1 lub art. 90 <em>Konstytucji</em>',\n",
              "    'co do zasadności wyboru\\n  trybu ratyfikacji umowy międzynarodowej, o którym mowa w art. 89 ust. 2\\n  <em>Konstytucji</em>']}},\n",
              " {'_id': '1997_604',\n",
              "  'highlight': {'content': ['Jeżeli Trybunał Konstytucyjny wyda orzeczenie o sprzeczności celów partii \\n   politycznej z <em>Konstytucją</em>',\n",
              "    'Jeżeli Trybunał Konstytucyjny wyda orzeczenie o sprzeczności z <em>Konstytucją</em>\\n   celów lub działalności',\n",
              "    'Ciężar udowodnienia niezgodności z <em>Konstytucją</em> spoczywa\\n                na wnioskodawcy, który w tym']}},\n",
              " {'_id': '1996_350',\n",
              "  'highlight': {'content': ['Za naruszenie <em>Konstytucji</em> lub ustawy, w związku z zajmowanym\\n              stanowiskiem lub w zakresie',\n",
              "    'W zakresie określonym w art. 107 <em>Konstytucji</em> odpowiedzialność przed\\n           Trybunałem Stanu ponoszą',\n",
              "    'Członkowie Rady Ministrów ponoszą odpowiedzialność przed Trybunałem\\n           Stanu za naruszenie <em>Konstytucji</em>']}},\n",
              " {'_id': '1997_642',\n",
              "  'highlight': {'content': ['wnioskami o:\\n             1) stwierdzenie zgodności ustaw i umów międzynarodowych z\\n               <em>Konstytucją</em>',\n",
              "    'stwierdzenie zgodności przepisów prawa wydawanych przez\\n               centralne organy państwowe, z <em>Konstytucją</em>',\n",
              "    'ratyfikowanymi\\n               umowami międzynarodowymi i ustawami,\\n             4) stwierdzenie zgodności z <em>Konstytucją</em>']}},\n",
              " {'_id': '2001_23',\n",
              "  'highlight': {'content': ['W Dzienniku Ustaw Rzeczypospolitej Polskiej, zwanym dalej \"Dziennikiem\\n  Ustaw\", ogłasza się:\\n   1) <em>Konstytucję</em>',\n",
              "    'akty prawne dotyczące:\\n   1) stanu wojny i zawarcia pokoju,\\n   2) referendum zatwierdzającego zmianę <em>Konstytucji</em>',\n",
              "    'ministra, któremu Sejm wyraził wotum nieufności,\\n     h) powoływania lub odwoływania na określone w <em>Konstytucji</em>']}},\n",
              " {'_id': '1996_199',\n",
              "  'highlight': {'content': ['2c i art. 9-11 ustawy konstytucyjnej z dnia 23 kwietnia \\n1992 r. o trybie przygotowania i uchwalenia <em>Konstytucji</em>',\n",
              "    'Prezydent Rzeczypospolitej Polskiej zarządza poddanie <em>Konstytucji</em> pod referendum\\n   w trybie określonym',\n",
              "    'Przyjęcie w referendum <em>Konstytucji</em> następuje wówczas, gdy opowiedziała \\n   się za nią większość biorących']}},\n",
              " {'_id': '1999_688',\n",
              "  'highlight': {'content': ['postępowania w sprawie wykonywania inicjatywy\\nustawodawczej przez obywateli, o której mowa w art. 118 ust. 2 <em>Konstytucji</em>',\n",
              "    'Projekt ustawy nie może dotyczyć spraw, dla których <em>Konstytucja</em>\\nRzeczypospolitej Polskiej zastrzega wyłączną',\n",
              "    'Projekt ustawy wniesiony do Marszałka Sejmu powinien odpowiadać wymogom\\n  zawartym w <em>Konstytucji</em> i Regulaminie']}},\n",
              " {'_id': '2001_1082',\n",
              "  'highlight': {'content': ['Krajowa Rada Sądownictwa, zwana dalej \"Radą\", realizuje cele określone w\\n  <em>Konstytucji</em> Rzeczypospolitej',\n",
              "    ') podejmuje uchwały w sprawach wystąpienia do Trybunału Konstytucyjnego o\\n     zbadanie zgodności z <em>Konstytucją</em>']}},\n",
              " {'_id': '1997_681',\n",
              "  'highlight': {'content': ['Rzecznik Praw Dziecka, zwany dalej Rzecznikiem, stoi na straży praw dziecka\\n  określonych w <em>Konstytucji</em>',\n",
              "    'uroczyście, że przy wykonywaniu powierzonych mi obowiązków\\n     Rzecznika Praw Dziecka dochowam wierności <em>Konstytucji</em>']}}]"
            ]
          },
          "metadata": {},
          "execution_count": 50
        }
      ]
    },
    {
      "cell_type": "code",
      "source": [],
      "metadata": {
        "id": "zAegTLdWgczu"
      },
      "execution_count": null,
      "outputs": []
    }
  ]
}