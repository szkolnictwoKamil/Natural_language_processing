{
  "nbformat": 4,
  "nbformat_minor": 0,
  "metadata": {
    "colab": {
      "provenance": [],
      "collapsed_sections": []
    },
    "kernelspec": {
      "name": "python3",
      "display_name": "Python 3"
    },
    "language_info": {
      "name": "python"
    }
  },
  "cells": [
    {
      "cell_type": "code",
      "execution_count": 1,
      "metadata": {
        "id": "-iS_HMsJGU55",
        "colab": {
          "base_uri": "https://localhost:8080/",
          "height": 108
        },
        "outputId": "dab1be99-15c7-4337-a568-3255aaad17d4"
      },
      "outputs": [
        {
          "output_type": "display_data",
          "data": {
            "text/plain": [
              "<IPython.core.display.HTML object>"
            ],
            "text/html": [
              "\n",
              "     <input type=\"file\" id=\"files-628f9a79-309c-4195-9970-5379effb362c\" name=\"files[]\" multiple disabled\n",
              "        style=\"border:none\" />\n",
              "     <output id=\"result-628f9a79-309c-4195-9970-5379effb362c\">\n",
              "      Upload widget is only available when the cell has been executed in the\n",
              "      current browser session. Please rerun this cell to enable.\n",
              "      </output>\n",
              "      <script>// Copyright 2017 Google LLC\n",
              "//\n",
              "// Licensed under the Apache License, Version 2.0 (the \"License\");\n",
              "// you may not use this file except in compliance with the License.\n",
              "// You may obtain a copy of the License at\n",
              "//\n",
              "//      http://www.apache.org/licenses/LICENSE-2.0\n",
              "//\n",
              "// Unless required by applicable law or agreed to in writing, software\n",
              "// distributed under the License is distributed on an \"AS IS\" BASIS,\n",
              "// WITHOUT WARRANTIES OR CONDITIONS OF ANY KIND, either express or implied.\n",
              "// See the License for the specific language governing permissions and\n",
              "// limitations under the License.\n",
              "\n",
              "/**\n",
              " * @fileoverview Helpers for google.colab Python module.\n",
              " */\n",
              "(function(scope) {\n",
              "function span(text, styleAttributes = {}) {\n",
              "  const element = document.createElement('span');\n",
              "  element.textContent = text;\n",
              "  for (const key of Object.keys(styleAttributes)) {\n",
              "    element.style[key] = styleAttributes[key];\n",
              "  }\n",
              "  return element;\n",
              "}\n",
              "\n",
              "// Max number of bytes which will be uploaded at a time.\n",
              "const MAX_PAYLOAD_SIZE = 100 * 1024;\n",
              "\n",
              "function _uploadFiles(inputId, outputId) {\n",
              "  const steps = uploadFilesStep(inputId, outputId);\n",
              "  const outputElement = document.getElementById(outputId);\n",
              "  // Cache steps on the outputElement to make it available for the next call\n",
              "  // to uploadFilesContinue from Python.\n",
              "  outputElement.steps = steps;\n",
              "\n",
              "  return _uploadFilesContinue(outputId);\n",
              "}\n",
              "\n",
              "// This is roughly an async generator (not supported in the browser yet),\n",
              "// where there are multiple asynchronous steps and the Python side is going\n",
              "// to poll for completion of each step.\n",
              "// This uses a Promise to block the python side on completion of each step,\n",
              "// then passes the result of the previous step as the input to the next step.\n",
              "function _uploadFilesContinue(outputId) {\n",
              "  const outputElement = document.getElementById(outputId);\n",
              "  const steps = outputElement.steps;\n",
              "\n",
              "  const next = steps.next(outputElement.lastPromiseValue);\n",
              "  return Promise.resolve(next.value.promise).then((value) => {\n",
              "    // Cache the last promise value to make it available to the next\n",
              "    // step of the generator.\n",
              "    outputElement.lastPromiseValue = value;\n",
              "    return next.value.response;\n",
              "  });\n",
              "}\n",
              "\n",
              "/**\n",
              " * Generator function which is called between each async step of the upload\n",
              " * process.\n",
              " * @param {string} inputId Element ID of the input file picker element.\n",
              " * @param {string} outputId Element ID of the output display.\n",
              " * @return {!Iterable<!Object>} Iterable of next steps.\n",
              " */\n",
              "function* uploadFilesStep(inputId, outputId) {\n",
              "  const inputElement = document.getElementById(inputId);\n",
              "  inputElement.disabled = false;\n",
              "\n",
              "  const outputElement = document.getElementById(outputId);\n",
              "  outputElement.innerHTML = '';\n",
              "\n",
              "  const pickedPromise = new Promise((resolve) => {\n",
              "    inputElement.addEventListener('change', (e) => {\n",
              "      resolve(e.target.files);\n",
              "    });\n",
              "  });\n",
              "\n",
              "  const cancel = document.createElement('button');\n",
              "  inputElement.parentElement.appendChild(cancel);\n",
              "  cancel.textContent = 'Cancel upload';\n",
              "  const cancelPromise = new Promise((resolve) => {\n",
              "    cancel.onclick = () => {\n",
              "      resolve(null);\n",
              "    };\n",
              "  });\n",
              "\n",
              "  // Wait for the user to pick the files.\n",
              "  const files = yield {\n",
              "    promise: Promise.race([pickedPromise, cancelPromise]),\n",
              "    response: {\n",
              "      action: 'starting',\n",
              "    }\n",
              "  };\n",
              "\n",
              "  cancel.remove();\n",
              "\n",
              "  // Disable the input element since further picks are not allowed.\n",
              "  inputElement.disabled = true;\n",
              "\n",
              "  if (!files) {\n",
              "    return {\n",
              "      response: {\n",
              "        action: 'complete',\n",
              "      }\n",
              "    };\n",
              "  }\n",
              "\n",
              "  for (const file of files) {\n",
              "    const li = document.createElement('li');\n",
              "    li.append(span(file.name, {fontWeight: 'bold'}));\n",
              "    li.append(span(\n",
              "        `(${file.type || 'n/a'}) - ${file.size} bytes, ` +\n",
              "        `last modified: ${\n",
              "            file.lastModifiedDate ? file.lastModifiedDate.toLocaleDateString() :\n",
              "                                    'n/a'} - `));\n",
              "    const percent = span('0% done');\n",
              "    li.appendChild(percent);\n",
              "\n",
              "    outputElement.appendChild(li);\n",
              "\n",
              "    const fileDataPromise = new Promise((resolve) => {\n",
              "      const reader = new FileReader();\n",
              "      reader.onload = (e) => {\n",
              "        resolve(e.target.result);\n",
              "      };\n",
              "      reader.readAsArrayBuffer(file);\n",
              "    });\n",
              "    // Wait for the data to be ready.\n",
              "    let fileData = yield {\n",
              "      promise: fileDataPromise,\n",
              "      response: {\n",
              "        action: 'continue',\n",
              "      }\n",
              "    };\n",
              "\n",
              "    // Use a chunked sending to avoid message size limits. See b/62115660.\n",
              "    let position = 0;\n",
              "    do {\n",
              "      const length = Math.min(fileData.byteLength - position, MAX_PAYLOAD_SIZE);\n",
              "      const chunk = new Uint8Array(fileData, position, length);\n",
              "      position += length;\n",
              "\n",
              "      const base64 = btoa(String.fromCharCode.apply(null, chunk));\n",
              "      yield {\n",
              "        response: {\n",
              "          action: 'append',\n",
              "          file: file.name,\n",
              "          data: base64,\n",
              "        },\n",
              "      };\n",
              "\n",
              "      let percentDone = fileData.byteLength === 0 ?\n",
              "          100 :\n",
              "          Math.round((position / fileData.byteLength) * 100);\n",
              "      percent.textContent = `${percentDone}% done`;\n",
              "\n",
              "    } while (position < fileData.byteLength);\n",
              "  }\n",
              "\n",
              "  // All done.\n",
              "  yield {\n",
              "    response: {\n",
              "      action: 'complete',\n",
              "    }\n",
              "  };\n",
              "}\n",
              "\n",
              "scope.google = scope.google || {};\n",
              "scope.google.colab = scope.google.colab || {};\n",
              "scope.google.colab._files = {\n",
              "  _uploadFiles,\n",
              "  _uploadFilesContinue,\n",
              "};\n",
              "})(self);\n",
              "</script> "
            ]
          },
          "metadata": {}
        },
        {
          "output_type": "stream",
          "name": "stdout",
          "text": [
            "Saving ustawy.tar.gz to ustawy.tar.gz\n",
            "Saving Wynik.zip to Wynik.zip\n"
          ]
        }
      ],
      "source": [
        "#importing all the necessary libraries\n",
        "from collections import defaultdict\n",
        "from spacy.tokenizer import Tokenizer\n",
        "from spacy.lang.pl import Polish\n",
        "from collections import Counter\n",
        "from google.colab import files\n",
        "import tarfile\n",
        "import regex as re\n",
        "import math\n",
        "import zipfile\n",
        "from os import listdir\n",
        "from os.path import isfile, join\n",
        "import numpy as np\n",
        "from itertools import islice\n",
        "# uploaded = files.upload() #importing tar file"
      ]
    },
    {
      "cell_type": "code",
      "source": [
        "# open file\n",
        "tar = tarfile.open('ustawy.tar.gz')\n",
        "  \n",
        "# extracting file\n",
        "tar.extractall('/content/acts')\n",
        "bills = [tarinfo.name for tarinfo in tar]  \n",
        "print(bills[0])\n",
        "tar.close()"
      ],
      "metadata": {
        "colab": {
          "base_uri": "https://localhost:8080/"
        },
        "id": "fCVMgikaIM2s",
        "outputId": "4fea2714-f664-431e-ea50-0ef165624578"
      },
      "execution_count": 3,
      "outputs": [
        {
          "output_type": "stream",
          "name": "stdout",
          "text": [
            "1993_599.txt\n"
          ]
        }
      ]
    },
    {
      "cell_type": "markdown",
      "source": [
        "Let us define helpful functions"
      ],
      "metadata": {
        "id": "aNKt0Ny3eATl"
      }
    },
    {
      "cell_type": "code",
      "source": [
        "def clean_text(line):\n",
        "  line = re.sub(r\"\\s\\s+\", \" \", line)\n",
        "  line = line.lower()\n",
        "  return line\n",
        "\n",
        "\n",
        "def take(n, iterable):\n",
        "  \"Return first n items of the iterable as a list\"\n",
        "  return list(islice(iterable, n))"
      ],
      "metadata": {
        "id": "a__oNbinN768"
      },
      "execution_count": 4,
      "outputs": []
    },
    {
      "cell_type": "markdown",
      "source": [
        "# Task 1\n",
        "\n",
        "Use SpaCy tokenizer API to tokenize the text from the law corpus."
      ],
      "metadata": {
        "id": "VvrziTfXdyxB"
      }
    },
    {
      "cell_type": "code",
      "source": [
        "nlp = Polish()\n",
        "tokenizer = Tokenizer(nlp.vocab)\n",
        "tokenized_bills = defaultdict()\n",
        "\n",
        "for file_name in bills:\n",
        "  with open(f'./acts/{file_name}') as file:\n",
        "    content = file.read()\n",
        "    cleaned_text = clean_text(content)\n",
        "    tokens = tokenizer(cleaned_text)\n",
        "    tokenized_bills[file_name] = [token for token in tokens if not str(token).startswith('_') and str(token)!= ' ']"
      ],
      "metadata": {
        "id": "4B-KpUgXSvjS"
      },
      "execution_count": 5,
      "outputs": []
    },
    {
      "cell_type": "markdown",
      "source": [
        "# Task 2\n",
        "\n",
        "Compute bigram counts of downcased tokens"
      ],
      "metadata": {
        "id": "3BErw3P823ZO"
      }
    },
    {
      "cell_type": "code",
      "source": [
        "bigrams = defaultdict()\n",
        "\n",
        "for tokens in tokenized_bills.values():\n",
        "  for idx in range(len(tokens)):\n",
        "    if idx != len(tokens)-1:\n",
        "      bigram = str(tokens[idx]) + ' ' + str(tokens[idx+1])\n",
        "\n",
        "      if bigram in bigrams:\n",
        "        bigrams[bigram] += 1\n",
        "      else:\n",
        "        bigrams[bigram] = 1"
      ],
      "metadata": {
        "id": "YVXFt1mVgH1Z"
      },
      "execution_count": 6,
      "outputs": []
    },
    {
      "cell_type": "code",
      "source": [
        "take(20,bigrams.items())"
      ],
      "metadata": {
        "colab": {
          "base_uri": "https://localhost:8080/"
        },
        "id": "OHUfCKAResXr",
        "outputId": "2ce80c81-1d4d-494f-b4c0-7c72d95adb30"
      },
      "execution_count": 7,
      "outputs": [
        {
          "output_type": "execute_result",
          "data": {
            "text/plain": [
              "[('dz.u. z', 1219),\n",
              " ('z 1993', 528),\n",
              " ('1993 r.', 771),\n",
              " ('r. nr', 17484),\n",
              " ('nr 129,', 132),\n",
              " ('129, poz.', 130),\n",
              " ('poz. 599', 1),\n",
              " ('599 ustawa', 1),\n",
              " ('ustawa z', 974),\n",
              " ('z dnia', 9169),\n",
              " ('dnia 9', 210),\n",
              " ('9 grudnia', 6),\n",
              " ('grudnia 1993', 108),\n",
              " ('r. o', 6944),\n",
              " ('o zmianie', 1203),\n",
              " ('zmianie ustawy', 837),\n",
              " ('ustawy o', 1426),\n",
              " ('o podatku', 513),\n",
              " ('podatku od', 379),\n",
              " ('od towarów', 267)]"
            ]
          },
          "metadata": {},
          "execution_count": 7
        }
      ]
    },
    {
      "cell_type": "markdown",
      "source": [
        "# Task 3\n",
        "\n",
        "Discard bigrams containing characters other than letters. Make sure that you discard the invalid entries after computing the bigram counts."
      ],
      "metadata": {
        "id": "hYsByGsX3kl5"
      }
    },
    {
      "cell_type": "code",
      "source": [
        "bigrams_updated = defaultdict()\n",
        "\n",
        "for bigram in bigrams.keys():\n",
        "  line = re.findall(r\"[^\\w]|[0-9]\", bigram)\n",
        "  if len(line) == 1: bigrams_updated[bigram] = bigrams[bigram]"
      ],
      "metadata": {
        "id": "bTomUDoZf55f"
      },
      "execution_count": 8,
      "outputs": []
    },
    {
      "cell_type": "code",
      "source": [
        "take(20,bigrams_updated.items())"
      ],
      "metadata": {
        "colab": {
          "base_uri": "https://localhost:8080/"
        },
        "id": "PodtkDeLnMdD",
        "outputId": "19ee4bdc-9951-455b-c7f8-21d114a68885"
      },
      "execution_count": 9,
      "outputs": [
        {
          "output_type": "execute_result",
          "data": {
            "text/plain": [
              "[('ustawa z', 974),\n",
              " ('z dnia', 9169),\n",
              " ('o zmianie', 1203),\n",
              " ('zmianie ustawy', 837),\n",
              " ('ustawy o', 1426),\n",
              " ('o podatku', 513),\n",
              " ('podatku od', 379),\n",
              " ('od towarów', 267),\n",
              " ('towarów i', 525),\n",
              " ('i usług', 373),\n",
              " ('usług oraz', 122),\n",
              " ('oraz o', 926),\n",
              " ('podatku akcyzowym', 47),\n",
              " ('w ustawie', 4348),\n",
              " ('ustawie z', 3648),\n",
              " ('i nr', 8146),\n",
              " ('wprowadza się', 1766),\n",
              " ('się następujące', 1666),\n",
              " ('dotychczasowa treść', 37),\n",
              " ('treść otrzymuje', 37)]"
            ]
          },
          "metadata": {},
          "execution_count": 9
        }
      ]
    },
    {
      "cell_type": "markdown",
      "source": [
        "# Task 4\n",
        "\n",
        "Use pointwise mutual information to compute the measure for all pairs of words."
      ],
      "metadata": {
        "id": "ZGxpOblG399i"
      }
    },
    {
      "cell_type": "code",
      "source": [
        "#let us define global frequency list of the tokens\n",
        "frequency_list = defaultdict()\n",
        "\n",
        "for file_name in tokenized_bills.keys():\n",
        "  tokens = tokenized_bills[file_name]\n",
        "  x = [str(i) for i in tokens]\n",
        "  ctr = Counter(x)\n",
        "  frequency_list[file_name] = ctr"
      ],
      "metadata": {
        "id": "a1V4uaKmUdes"
      },
      "execution_count": 10,
      "outputs": []
    },
    {
      "cell_type": "code",
      "source": [
        "global_frequency_list = defaultdict()\n",
        "\n",
        "for file_name in frequency_list.keys():\n",
        "  tokens = frequency_list[file_name].keys()\n",
        "  for token in tokens:\n",
        "    line = re.findall(r\"[^\\w]|[0-9]\", token)\n",
        "    if len(line) == 0:\n",
        "      if token in global_frequency_list.keys():\n",
        "        global_frequency_list[token] += frequency_list[file_name][token]\n",
        "      else:\n",
        "        global_frequency_list[token] = frequency_list[file_name][token]\n",
        "    else:\n",
        "      pass"
      ],
      "metadata": {
        "id": "5b-UGJqFVm4j"
      },
      "execution_count": 11,
      "outputs": []
    },
    {
      "cell_type": "code",
      "source": [
        "no_bigrams = np.sum(list(bigrams_updated.values()))\n",
        "no_words = np.sum(list(global_frequency_list.values()))\n",
        "\n",
        "def pmi(bigram, unigram_freq, bigram_freq):\n",
        "  a,b = bigram.split()\n",
        "  prob_word1 = unigram_freq[a] / no_words\n",
        "  prob_word2 = unigram_freq[b] / no_words\n",
        "  prob_word1_word2 = bigram_freq[bigram] / no_bigrams\n",
        "  \n",
        "  return math.log(prob_word1_word2/float(prob_word1*prob_word2),2) "
      ],
      "metadata": {
        "id": "uaQlPWWkwJ9T"
      },
      "execution_count": 12,
      "outputs": []
    },
    {
      "cell_type": "code",
      "source": [
        "res = defaultdict()\n",
        "\n",
        "for bigram in list(bigrams_updated.keys()):\n",
        "  pmi_bigram = pmi(str(bigram), global_frequency_list, bigrams_updated)\n",
        "  res[bigram] = pmi_bigram"
      ],
      "metadata": {
        "id": "HtjjNOhSwv8R"
      },
      "execution_count": 13,
      "outputs": []
    },
    {
      "cell_type": "code",
      "source": [
        "take(20,res.items())"
      ],
      "metadata": {
        "colab": {
          "base_uri": "https://localhost:8080/"
        },
        "id": "pRw8Di_byGdW",
        "outputId": "6e7012d9-2e03-4d22-9c63-8dd6b3c2accd"
      },
      "execution_count": 15,
      "outputs": [
        {
          "output_type": "execute_result",
          "data": {
            "text/plain": [
              "[('ustawa z', 3.834365041840434),\n",
              " ('z dnia', 4.596995990407499),\n",
              " ('o zmianie', 5.600710015489752),\n",
              " ('zmianie ustawy', 7.82351712593361),\n",
              " ('ustawy o', 3.138739983194792),\n",
              " ('o podatku', 4.071175082113261),\n",
              " ('podatku od', 5.587362531398886),\n",
              " ('od towarów', 5.31844462073743),\n",
              " ('towarów i', 3.871042282977599),\n",
              " ('i usług', 3.7121149588945435),\n",
              " ('usług oraz', 3.5278363500971834),\n",
              " ('oraz o', 0.7277901569323676),\n",
              " ('podatku akcyzowym', 10.528964480031824),\n",
              " ('w ustawie', 4.124997379615306),\n",
              " ('ustawie z', 5.163173979735109),\n",
              " ('i nr', 2.953880679201674),\n",
              " ('wprowadza się', 6.257564530439567),\n",
              " ('się następujące', 5.987974214893733),\n",
              " ('dotychczasowa treść', 12.568094144467164),\n",
              " ('treść otrzymuje', 4.920562296549042)]"
            ]
          },
          "metadata": {},
          "execution_count": 15
        }
      ]
    },
    {
      "cell_type": "markdown",
      "source": [
        "# Task 5\n",
        "\n",
        "Sort the word pairs according to that measure in the descending order and determine top 10 entries."
      ],
      "metadata": {
        "id": "Ef3I7Vz_iY96"
      }
    },
    {
      "cell_type": "code",
      "source": [
        "pmi_results = {val[0] : val[1] for val in sorted(res.items(), key = lambda x: (-x[1], x[0]))}\n",
        "\n",
        "pmi_results_10 = take(10, pmi_results.items())\n",
        "pmi_results_10"
      ],
      "metadata": {
        "id": "3I-fByOYyHg6",
        "colab": {
          "base_uri": "https://localhost:8080/"
        },
        "outputId": "14113b32-9a95-4055-9443-e666897b643f"
      },
      "execution_count": 16,
      "outputs": [
        {
          "output_type": "execute_result",
          "data": {
            "text/plain": [
              "[('admi nistracji', 21.859046996292818),\n",
              " ('adminis tracji', 21.859046996292818),\n",
              " ('administracjami drogowymi', 21.859046996292818),\n",
              " ('aegroti suprema', 21.859046996292818),\n",
              " ('aerodynamicznej szorstkości', 21.859046996292818),\n",
              " ('agregatach pralniczych', 21.859046996292818),\n",
              " ('agricoltura biologica', 21.859046996292818),\n",
              " ('agriculture biologique', 21.859046996292818),\n",
              " ('agrotechniki nienaruszającej', 21.859046996292818),\n",
              " ('ają cyc', 21.859046996292818)]"
            ]
          },
          "metadata": {},
          "execution_count": 16
        }
      ]
    },
    {
      "cell_type": "markdown",
      "source": [
        "# Task 6\n",
        "Filter bigrams with number of occurrences lower than 5. Determine top 10 entries for the remaining dataset (>=5 occurrences).\n"
      ],
      "metadata": {
        "id": "74fga-n0i01p"
      }
    },
    {
      "cell_type": "code",
      "source": [
        "#filtering\n",
        "bigrams_5_plus_occurences = defaultdict()\n",
        "\n",
        "for bigram, count in bigrams_updated.items():\n",
        "  if count >= 5: bigrams_5_plus_occurences[bigram] = bigrams_updated[bigram]"
      ],
      "metadata": {
        "id": "aqB-ej89an5M"
      },
      "execution_count": 17,
      "outputs": []
    },
    {
      "cell_type": "code",
      "source": [
        "#counting pmi\n",
        "result_bigrams_5_plus = defaultdict()\n",
        "\n",
        "for bigram in list(bigrams_5_plus_occurences.keys()):\n",
        "  pmi_bigram = pmi(str(bigram), global_frequency_list, bigrams_5_plus_occurences)\n",
        "  result_bigrams_5_plus[bigram] = pmi_bigram\n"
      ],
      "metadata": {
        "id": "3eFv-OEXi7dB"
      },
      "execution_count": 18,
      "outputs": []
    },
    {
      "cell_type": "code",
      "source": [
        "pmi_results_5_plus_occurences = {val[0] : val[1] for val in sorted(result_bigrams_5_plus.items(), key = lambda x: (-x[1], x[0]))}\n",
        "\n",
        "pmi_results_5_plus_occurences_10 = take(10, pmi_results_5_plus_occurences.items())\n",
        "pmi_results_5_plus_occurences_10"
      ],
      "metadata": {
        "colab": {
          "base_uri": "https://localhost:8080/"
        },
        "id": "ymqWZpzhjefN",
        "outputId": "1f2ae471-e7ea-440e-aba5-3e5b8dafaff6"
      },
      "execution_count": 20,
      "outputs": [
        {
          "output_type": "execute_result",
          "data": {
            "text/plain": [
              "[('grzegorz schetyna', 19.537118901405453),\n",
              " ('młyny kulowe', 19.537118901405453),\n",
              " ('najnowszych zdobyczy', 19.537118901405453),\n",
              " ('ręcznego miotacza', 19.537118901405453),\n",
              " ('zaszkodzić wynikom', 19.537118901405453),\n",
              " ('świeckie przygotowujące', 19.537118901405453),\n",
              " ('adama mickiewicza', 19.274084495571664),\n",
              " ('chromu sześciowartościowego', 19.274084495571664),\n",
              " ('mleczka makowego', 19.274084495571664),\n",
              " ('przeponowe rurowe', 19.274084495571664)]"
            ]
          },
          "metadata": {},
          "execution_count": 20
        }
      ]
    },
    {
      "cell_type": "markdown",
      "source": [
        "# Task 7\n",
        "\n",
        "Use KRNNT or Clarin-PL API(https://ws.clarin-pl.eu/tager.shtml) to tag and lemmatize the corpus.\n"
      ],
      "metadata": {
        "id": "MloBQDS5UcET"
      }
    },
    {
      "cell_type": "markdown",
      "source": [
        "The corpus was uploaded to Clarin-Pl, tagged and lemmatized."
      ],
      "metadata": {
        "id": "IW0WHMsPVpRM"
      }
    },
    {
      "cell_type": "code",
      "source": [
        "with zipfile.ZipFile('Wynik.zip', 'r') as zip_ref:\n",
        "    zip_ref.extractall('/content/lemmatized_acts')\n"
      ],
      "metadata": {
        "id": "Xpw5GYQp9V4_"
      },
      "execution_count": 21,
      "outputs": []
    },
    {
      "cell_type": "code",
      "source": [
        "lemmatized_bills = [f for f in listdir('/content/lemmatized_acts')]\n"
      ],
      "metadata": {
        "id": "XokXbAz-Ytu_"
      },
      "execution_count": null,
      "outputs": []
    },
    {
      "cell_type": "code",
      "source": [
        "lemmatized_tokens = defaultdict()\n",
        "\n",
        "for bill in lemmatized_bills:\n",
        "  with open(f'/content/lemmatized_acts/{bill}') as file:\n",
        "    f = file.read()\n",
        "    pattern = re.findall(r'\\<tok\\>\\n\\s+.*\\n.*',f)\n",
        "    pattern = \" \".join(pattern)\n",
        "    lemmatized_word = re.findall(r'\\<base\\>(\\S+)\\<\\/base\\>\\<ctag\\>(\\w+)', pattern)\n",
        "    lemmatized_word_cleaned = [word[0] +':' + word[1] for idx, word in enumerate(lemmatized_word) if \n",
        "                               len(re.findall(r\"[^\\w]|[0-9]|_\", word[0]))==0 and\n",
        "                               len(re.findall(r\"[^\\w]|[0-9]|_\", word[1]))==0]\n",
        "    lemmatized_tokens[bill] = lemmatized_word_cleaned"
      ],
      "metadata": {
        "id": "tCpSahuRYIVz"
      },
      "execution_count": 39,
      "outputs": []
    },
    {
      "cell_type": "code",
      "source": [
        "lemmatized_tokens['1993_599.txt']"
      ],
      "metadata": {
        "id": "RlAFVHtIbxml"
      },
      "execution_count": null,
      "outputs": []
    },
    {
      "cell_type": "markdown",
      "source": [
        "#Task 8\n",
        "\n",
        "Using the tagged corpus compute bigram statistic for the tokens containing: a. lemmatized, downcased word b. morphosyntactic category of the word (subst, fin, adj, etc.)\n"
      ],
      "metadata": {
        "id": "TbXRF2gWWVbx"
      }
    },
    {
      "cell_type": "code",
      "source": [
        "bigrams_lemmatized = defaultdict()\n",
        "\n",
        "for bill in lemmatized_bills:\n",
        "  for idx in range(len(lemmatized_tokens[bill])):\n",
        "    if idx != len(lemmatized_tokens[bill])-1:\n",
        "      bigram = str(lemmatized_tokens[bill][idx]) + ' ' + str(lemmatized_tokens[bill][idx+1])\n",
        "\n",
        "      if bigram.lower() in bigrams_lemmatized:\n",
        "        bigrams_lemmatized[bigram.lower()] += 1\n",
        "      else:\n",
        "        bigrams_lemmatized[bigram.lower()] = 1"
      ],
      "metadata": {
        "id": "oRHHeA6xciDg"
      },
      "execution_count": 41,
      "outputs": []
    },
    {
      "cell_type": "code",
      "source": [
        "take(10,bigrams_lemmatized.items())"
      ],
      "metadata": {
        "id": "sNf7KroPjgD0",
        "colab": {
          "base_uri": "https://localhost:8080/"
        },
        "outputId": "8a6ad9e7-462c-448e-e978-5d4554e0601e"
      },
      "execution_count": 42,
      "outputs": [
        {
          "output_type": "execute_result",
          "data": {
            "text/plain": [
              "[('u:prep z:prep', 4528),\n",
              " ('z:prep r:ign', 19345),\n",
              " ('r:ign nr:subst', 17892),\n",
              " ('nr:subst poz:ign', 43361),\n",
              " ('poz:ign ustawa:subst', 872),\n",
              " ('ustawa:subst z:prep', 8777),\n",
              " ('z:prep dzień:subst', 11360),\n",
              " ('dzień:subst czerwiec:subst', 1401),\n",
              " ('czerwiec:subst r:ign', 1349),\n",
              " ('r:ign o:prep', 7103)]"
            ]
          },
          "metadata": {},
          "execution_count": 42
        }
      ]
    },
    {
      "cell_type": "markdown",
      "source": [
        "# Task 10\n",
        "\n",
        "Compute the same statistics as for the non-lemmatized words (i.e. PMI) and print top-10 entries with at least 5 occurrences."
      ],
      "metadata": {
        "id": "LgGx3wq10bpW"
      }
    },
    {
      "cell_type": "code",
      "source": [
        "#let us define global frequency list of the tokens\n",
        "frequency_list_lemmatized = defaultdict()\n",
        "\n",
        "for file_name in lemmatized_bills:\n",
        "  tokens = lemmatized_tokens[file_name]\n",
        "  ctr = Counter(tokens)\n",
        "  frequency_list_lemmatized[file_name] = ctr"
      ],
      "metadata": {
        "id": "5o8LAagEnSey"
      },
      "execution_count": 43,
      "outputs": []
    },
    {
      "cell_type": "code",
      "source": [
        "frequency_list_lemmatized['1993_599.txt']"
      ],
      "metadata": {
        "id": "4Lm2BrfeygsN"
      },
      "execution_count": null,
      "outputs": []
    },
    {
      "cell_type": "code",
      "source": [
        "global_frequency_list_lemmatized = defaultdict()\n",
        "\n",
        "for file_name in lemmatized_bills:\n",
        "  tokens = frequency_list_lemmatized[file_name].keys()\n",
        "  for token in tokens:\n",
        "    if token.lower() in global_frequency_list_lemmatized.keys():\n",
        "      global_frequency_list_lemmatized[token.lower()] += frequency_list_lemmatized[file_name][token]\n",
        "    else:\n",
        "      global_frequency_list_lemmatized[token.lower()] = frequency_list_lemmatized[file_name][token]"
      ],
      "metadata": {
        "id": "hEvXQwfLwF-i"
      },
      "execution_count": 45,
      "outputs": []
    },
    {
      "cell_type": "code",
      "source": [
        "no_bigrams_lemmatized = np.sum(list(bigrams_lemmatized.values()))\n",
        "no_words_lemmatized = np.sum(list(global_frequency_list_lemmatized.values()))\n",
        "\n",
        "def pmi_lemmatized(bigram, unigram_freq, bigram_freq):\n",
        "  a,b = bigram.split()\n",
        "  prob_word1 = unigram_freq[a] / no_words_lemmatized\n",
        "  prob_word2 = unigram_freq[b] / no_words_lemmatized\n",
        "  prob_word1_word2 = bigram_freq[bigram] / no_bigrams_lemmatized\n",
        "  \n",
        "  return math.log(prob_word1_word2/float(prob_word1*prob_word2),2) "
      ],
      "metadata": {
        "id": "B9KQ-Y7JPbs9"
      },
      "execution_count": 46,
      "outputs": []
    },
    {
      "cell_type": "code",
      "source": [
        "res_lemmatized = defaultdict()\n",
        "\n",
        "for bigram in list(bigrams_lemmatized.keys()):\n",
        "  if bigrams_lemmatized[bigram] >= 5:\n",
        "    pmi_bigram = pmi_lemmatized(str(bigram), global_frequency_list_lemmatized, bigrams_lemmatized)\n",
        "    res_lemmatized[bigram] = pmi_bigram"
      ],
      "metadata": {
        "id": "0H_Trv24y-mA"
      },
      "execution_count": 47,
      "outputs": []
    },
    {
      "cell_type": "code",
      "source": [
        "res_lemmatized"
      ],
      "metadata": {
        "id": "oXRwxGJazSTX"
      },
      "execution_count": null,
      "outputs": []
    },
    {
      "cell_type": "code",
      "source": [
        "pmi_results_lemmatized = {val[0] : val[1] for val in sorted(res_lemmatized.items(), key = lambda x: (-x[1], x[0]))}\n",
        "\n",
        "pmi_results_lemmatized_10 = take(10, pmi_results_lemmatized.items())\n",
        "pmi_results_lemmatized_10"
      ],
      "metadata": {
        "colab": {
          "base_uri": "https://localhost:8080/"
        },
        "id": "dT-GXu1gzbPe",
        "outputId": "bb8b1e9c-8f9f-4d67-83a0-1749bf51343c"
      },
      "execution_count": 48,
      "outputs": [
        {
          "output_type": "execute_result",
          "data": {
            "text/plain": [
              "[('błotniarka:subst cedzidło:subst', 19.439453668687708),\n",
              " ('denitracyjne:ign odbieralnice:ign', 19.439453668687708),\n",
              " ('grzegorz:subst schetyna:ign', 19.439453668687708),\n",
              " ('metalizacja:subst natryskowy:adj', 19.439453668687708),\n",
              " ('młynek:subst młotkowy:adj', 19.439453668687708),\n",
              " ('niklowo:adv kadmowy:adj', 19.439453668687708),\n",
              " ('przewoźny:adj dźwignik:subst', 19.439453668687708),\n",
              " ('teryto:ign rialnego:ign', 19.439453668687708),\n",
              " ('adam:subst mickiewicz:subst', 19.176419262853916),\n",
              " ('chrom:subst sześciowartościowy:adj', 19.176419262853916)]"
            ]
          },
          "metadata": {},
          "execution_count": 48
        }
      ]
    },
    {
      "cell_type": "markdown",
      "source": [
        "# Task 11\n",
        "\n",
        "Compute trigram counts for both corpora and perform the same filtering.\n"
      ],
      "metadata": {
        "id": "B81x5Ovk0iu7"
      }
    },
    {
      "cell_type": "markdown",
      "source": [
        "Trigrams for Spacy tokens"
      ],
      "metadata": {
        "id": "7Q90snGiz4KD"
      }
    },
    {
      "cell_type": "code",
      "source": [
        "trigrams = defaultdict()\n",
        "\n",
        "for tokens in tokenized_bills.values():\n",
        "  for idx in range(len(tokens)):\n",
        "    if idx != len(tokens)-1 and idx != len(tokens)-2:\n",
        "      trigram = str(tokens[idx]) + ' ' + str(tokens[idx+1]) + ' ' + str(tokens[idx+2])\n",
        "\n",
        "      if trigram in trigrams:\n",
        "        trigrams[trigram] += 1\n",
        "      else:\n",
        "        trigrams[trigram] = 1"
      ],
      "metadata": {
        "id": "8MTB4c9D0BxB"
      },
      "execution_count": 49,
      "outputs": []
    },
    {
      "cell_type": "code",
      "source": [
        "trigrams_updated = defaultdict()\n",
        "\n",
        "for trigram in trigrams.keys():\n",
        "  line = re.findall(r\"[^\\w]|[0-9]\", trigram)\n",
        "  if len(line) == 2: trigrams_updated[trigram] = trigrams[trigram]"
      ],
      "metadata": {
        "id": "hJBu9zPc0OH1"
      },
      "execution_count": 50,
      "outputs": []
    },
    {
      "cell_type": "code",
      "source": [
        "take(20,trigrams_updated.items())"
      ],
      "metadata": {
        "colab": {
          "base_uri": "https://localhost:8080/"
        },
        "id": "gWJTNd2MHNLe",
        "outputId": "c023e2e8-6e2a-4928-da9a-f76fbb988597"
      },
      "execution_count": 52,
      "outputs": [
        {
          "output_type": "execute_result",
          "data": {
            "text/plain": [
              "[('ustawa z dnia', 971),\n",
              " ('o zmianie ustawy', 763),\n",
              " ('zmianie ustawy o', 629),\n",
              " ('ustawy o podatku', 131),\n",
              " ('o podatku od', 114),\n",
              " ('podatku od towarów', 222),\n",
              " ('od towarów i', 252),\n",
              " ('towarów i usług', 302),\n",
              " ('i usług oraz', 98),\n",
              " ('usług oraz o', 56),\n",
              " ('oraz o podatku', 48),\n",
              " ('o podatku akcyzowym', 39),\n",
              " ('w ustawie z', 3392),\n",
              " ('ustawie z dnia', 3558),\n",
              " ('wprowadza się następujące', 1537),\n",
              " ('dotychczasowa treść otrzymuje', 37),\n",
              " ('treść otrzymuje oznaczenie', 37),\n",
              " ('rada ministrów może', 78),\n",
              " ('z wyjątkiem wyrobów', 18),\n",
              " ('wyjątkiem wyrobów akcyzowych', 14)]"
            ]
          },
          "metadata": {},
          "execution_count": 52
        }
      ]
    },
    {
      "cell_type": "markdown",
      "source": [
        "Trigrams for lemmatized bills\n"
      ],
      "metadata": {
        "id": "j9aPVfV-2dZV"
      }
    },
    {
      "cell_type": "code",
      "source": [
        "trigrams_lemmatized = defaultdict()\n",
        "\n",
        "for bill in lemmatized_bills:\n",
        "  for idx in range(len(lemmatized_tokens[bill])):\n",
        "    if idx != len(lemmatized_tokens[bill])-1 and idx != len(lemmatized_tokens[bill])-2:\n",
        "      trigram = str(lemmatized_tokens[bill][idx]) + ' ' + str(lemmatized_tokens[bill][idx+1]) + ' ' + str(lemmatized_tokens[bill][idx+2])\n",
        "\n",
        "      if trigram.lower() in trigrams_lemmatized:\n",
        "        trigrams_lemmatized[trigram.lower()] += 1\n",
        "      else:\n",
        "        trigrams_lemmatized[trigram.lower()] = 1"
      ],
      "metadata": {
        "id": "Q3UUacQ22dKl"
      },
      "execution_count": 53,
      "outputs": []
    },
    {
      "cell_type": "code",
      "source": [
        "trigrams_lemmatized"
      ],
      "metadata": {
        "id": "a7g-vkDH2-vh"
      },
      "execution_count": null,
      "outputs": []
    },
    {
      "cell_type": "markdown",
      "source": [
        "# Task 12\n",
        "\n",
        "Use PMI (with 5 occurrence threshold) to compute top 10 results for the trigrams. Devise a method for computing the values, based on the results for bigrams.\n",
        "\n",
        "$$PMI_T(x,y,z) := log_2 \\frac{P(x,y,z)}{P(x)\\cdot P(y) \\cdot P(z)} = PMI_B(x,y) + log_2 \\frac{P(x,y,z)}{P(z)\\cdot P(x,y)}$$"
      ],
      "metadata": {
        "id": "2F1ty3n518tP"
      }
    },
    {
      "cell_type": "code",
      "source": [
        "no_trigrams = np.sum(list(trigrams_updated.values()))\n",
        "\n",
        "def pmi_trigrams(trigram, unigram_freq, bigram_freq, trigram_freq):\n",
        "  a,b,c = trigram.split()\n",
        "  bigram = a + ' ' + b\n",
        "  print()\n",
        "  pmi_ab = pmi_results[bigram]\n",
        "\n",
        "  prob_word3 = unigram_freq[c] / no_words\n",
        "  prob_word1_word2 = bigram_freq[bigram] / no_bigrams\n",
        "  prob_word1_word2_word3 = trigram_freq[trigram] / no_trigrams\n",
        "\n",
        "  \n",
        "  return math.log(prob_word1_word2_word3/float(prob_word3*prob_word1_word2),2) + pmi_ab"
      ],
      "metadata": {
        "id": "hwLEPVJn01xk"
      },
      "execution_count": 55,
      "outputs": []
    },
    {
      "cell_type": "code",
      "source": [
        "res_trigrams = defaultdict()\n",
        "\n",
        "for trigram in list(trigrams_updated.keys()):\n",
        "  if trigrams_updated[trigram] >= 5:\n",
        "    pmi_trigram = pmi_trigrams(str(trigram), global_frequency_list, bigrams_updated, trigrams_updated)\n",
        "    res_trigrams[trigram] = pmi_trigram"
      ],
      "metadata": {
        "id": "6LESQfNO1MVS"
      },
      "execution_count": null,
      "outputs": []
    },
    {
      "cell_type": "code",
      "source": [
        "pmi_results_trigrams = {val[0] : val[1] for val in sorted(res_trigrams.items(), key = lambda x: (-x[1], x[0]))}\n",
        "\n",
        "pmi_results_trigrams_10 = take(10, pmi_results_trigrams.items())\n",
        "pmi_results_trigrams_10"
      ],
      "metadata": {
        "colab": {
          "base_uri": "https://localhost:8080/"
        },
        "id": "n61ljle4AEEn",
        "outputId": "ce4f455d-2e9b-4e10-ba16-36d0bed43eca"
      },
      "execution_count": 57,
      "outputs": [
        {
          "output_type": "execute_result",
          "data": {
            "text/plain": [
              "[('piłce nożnej uefa', 36.12991870523395),\n",
              " ('profilem zaufanym epuap', 36.10343478373326),\n",
              " ('religijne uroczystości pogrzebowe', 36.04488260137815),\n",
              " ('finałowego turnieju mistrzostw', 36.01841039001695),\n",
              " ('potwierdzonym profilem zaufanym', 35.64532856256253),\n",
              " ('turnieju mistrzostw europy', 35.639898766763224),\n",
              " ('przewozach szybko psujących', 35.281921798679),\n",
              " ('stosującym szkodliwą konkurencję', 34.8928795079331),\n",
              " ('grożącą jemu samemu', 34.770959879401616),\n",
              " ('poddanych szybkiemu postępowi', 34.6798857845989)]"
            ]
          },
          "metadata": {},
          "execution_count": 57
        }
      ]
    },
    {
      "cell_type": "code",
      "source": [
        "no_trigrams_lemmatized = np.sum(list(trigrams_lemmatized.values()))\n",
        "\n",
        "def pmi_trigrams_lemmatized(trigram, unigram_freq, bigram_freq, trigram_freq):\n",
        "  a,b,c = trigram.split()\n",
        "  bigram = a + ' ' + b\n",
        "  pmi_ab = pmi_results_lemmatized[bigram]\n",
        "\n",
        "  prob_word3 = unigram_freq[c] / no_words_lemmatized\n",
        "  prob_word1_word2 = bigram_freq[bigram] / no_bigrams_lemmatized\n",
        "  prob_word1_word2_word3 = trigram_freq[trigram] / no_trigrams_lemmatized\n",
        "\n",
        "  return math.log(prob_word1_word2_word3/float(prob_word3*prob_word1_word2),2) + pmi_ab"
      ],
      "metadata": {
        "id": "RkDPFhC5QqSb"
      },
      "execution_count": 58,
      "outputs": []
    },
    {
      "cell_type": "code",
      "source": [
        "res_trigrams_lemmatized = defaultdict()\n",
        "\n",
        "for trigram in list(trigrams_lemmatized.keys()):\n",
        "  if trigrams_lemmatized[trigram] >= 5:\n",
        "    pmi_trigram = pmi_trigrams_lemmatized(str(trigram), global_frequency_list_lemmatized, bigrams_lemmatized, trigrams_lemmatized)\n",
        "    res_trigrams_lemmatized[trigram] = pmi_trigram"
      ],
      "metadata": {
        "id": "Uk0MePvJGj5I"
      },
      "execution_count": 59,
      "outputs": []
    },
    {
      "cell_type": "code",
      "source": [
        "pmi_results_trigrams_lemmatized = {val[0] : val[1] for val in sorted(res_trigrams_lemmatized.items(), key = lambda x: (-x[1], x[0]))}\n",
        "\n",
        "pmi_results_trigrams_lemmatized_10 = take(10, pmi_results_trigrams_lemmatized.items())\n",
        "pmi_results_trigrams_lemmatized_10"
      ],
      "metadata": {
        "colab": {
          "base_uri": "https://localhost:8080/"
        },
        "id": "a4NZBoSCHE6W",
        "outputId": "ef17cf47-2919-4585-b503-60abd01f6988"
      },
      "execution_count": 60,
      "outputs": [
        {
          "output_type": "execute_result",
          "data": {
            "text/plain": [
              "[('porcelanowy:adj młyn:subst kulowy:adj', 37.39348066910422),\n",
              " ('denitracyjne:ign odbieralnice:ign hydrauliczny:adj', 37.20083559116182),\n",
              " ('roleta:subst lambrekin:subst okienny:adj', 37.17108824776777),\n",
              " ('piran:ign ola:subst þ:ign', 37.08980427877308),\n",
              " ('topić:ger żużel:subst wielkopiecowy:adj', 37.06333206741189),\n",
              " ('maria:subst curie:subst skłodowska:subst', 36.878907496274465),\n",
              " ('þ:ign tetrahydro:ign trimetylo:ign', 36.76787618388572),\n",
              " ('wymiennik:subst przeponowy:adj rurowy:adj', 36.52276368604919),\n",
              " ('puszek:subst wymiennik:subst przeponowy:adj', 36.45237435815779),\n",
              " ('soda:subst chłodnica:subst odmulina:subst', 36.45237435815779)]"
            ]
          },
          "metadata": {},
          "execution_count": 60
        }
      ]
    },
    {
      "cell_type": "markdown",
      "source": [
        "# Task 13\n",
        "\n",
        "Create a table comparing the results for copora without and with tagging and lemmatization (separate table for bigrams and trigrams).\n"
      ],
      "metadata": {
        "id": "YreABjImTzv3"
      }
    },
    {
      "cell_type": "code",
      "source": [
        "a = [elem[0] for elem in pmi_results_5_plus_occurences_10]\n",
        "b = [elem[0] for elem in pmi_results_10]\n",
        "c = [elem[0] for elem in pmi_results_lemmatized_10]\n",
        "\n",
        "d = [elem[0] for elem in pmi_results_trigrams_10]\n",
        "e = [elem[0] for elem in pmi_results_trigrams_lemmatized_10]"
      ],
      "metadata": {
        "id": "WYWEUD4hN8DB"
      },
      "execution_count": 61,
      "outputs": []
    },
    {
      "cell_type": "code",
      "source": [
        "import pandas as pd\n",
        "df = pd.DataFrame(list(zip(b,a,c)),\n",
        "               columns =['bigrams', 'bigrams with more than 5 occurances', 'bigrams lemmatized'])\n",
        "df"
      ],
      "metadata": {
        "colab": {
          "base_uri": "https://localhost:8080/",
          "height": 363
        },
        "id": "oLHUpNwIV75-",
        "outputId": "0d910483-dd32-459b-a18e-3f9b5e47ae60"
      },
      "execution_count": 62,
      "outputs": [
        {
          "output_type": "execute_result",
          "data": {
            "text/plain": [
              "                        bigrams bigrams with more than 5 occurances  \\\n",
              "0                admi nistracji                   grzegorz schetyna   \n",
              "1                adminis tracji                        młyny kulowe   \n",
              "2     administracjami drogowymi                najnowszych zdobyczy   \n",
              "3               aegroti suprema                   ręcznego miotacza   \n",
              "4   aerodynamicznej szorstkości                  zaszkodzić wynikom   \n",
              "5        agregatach pralniczych             świeckie przygotowujące   \n",
              "6         agricoltura biologica                   adama mickiewicza   \n",
              "7        agriculture biologique         chromu sześciowartościowego   \n",
              "8  agrotechniki nienaruszającej                    mleczka makowego   \n",
              "9                       ają cyc                   przeponowe rurowe   \n",
              "\n",
              "                   bigrams lemmatized  \n",
              "0     błotniarka:subst cedzidło:subst  \n",
              "1   denitracyjne:ign odbieralnice:ign  \n",
              "2         grzegorz:subst schetyna:ign  \n",
              "3    metalizacja:subst natryskowy:adj  \n",
              "4           młynek:subst młotkowy:adj  \n",
              "5             niklowo:adv kadmowy:adj  \n",
              "6        przewoźny:adj dźwignik:subst  \n",
              "7             teryto:ign rialnego:ign  \n",
              "8         adam:subst mickiewicz:subst  \n",
              "9  chrom:subst sześciowartościowy:adj  "
            ],
            "text/html": [
              "\n",
              "  <div id=\"df-78c9c347-e133-495b-b232-70317a7b6453\">\n",
              "    <div class=\"colab-df-container\">\n",
              "      <div>\n",
              "<style scoped>\n",
              "    .dataframe tbody tr th:only-of-type {\n",
              "        vertical-align: middle;\n",
              "    }\n",
              "\n",
              "    .dataframe tbody tr th {\n",
              "        vertical-align: top;\n",
              "    }\n",
              "\n",
              "    .dataframe thead th {\n",
              "        text-align: right;\n",
              "    }\n",
              "</style>\n",
              "<table border=\"1\" class=\"dataframe\">\n",
              "  <thead>\n",
              "    <tr style=\"text-align: right;\">\n",
              "      <th></th>\n",
              "      <th>bigrams</th>\n",
              "      <th>bigrams with more than 5 occurances</th>\n",
              "      <th>bigrams lemmatized</th>\n",
              "    </tr>\n",
              "  </thead>\n",
              "  <tbody>\n",
              "    <tr>\n",
              "      <th>0</th>\n",
              "      <td>admi nistracji</td>\n",
              "      <td>grzegorz schetyna</td>\n",
              "      <td>błotniarka:subst cedzidło:subst</td>\n",
              "    </tr>\n",
              "    <tr>\n",
              "      <th>1</th>\n",
              "      <td>adminis tracji</td>\n",
              "      <td>młyny kulowe</td>\n",
              "      <td>denitracyjne:ign odbieralnice:ign</td>\n",
              "    </tr>\n",
              "    <tr>\n",
              "      <th>2</th>\n",
              "      <td>administracjami drogowymi</td>\n",
              "      <td>najnowszych zdobyczy</td>\n",
              "      <td>grzegorz:subst schetyna:ign</td>\n",
              "    </tr>\n",
              "    <tr>\n",
              "      <th>3</th>\n",
              "      <td>aegroti suprema</td>\n",
              "      <td>ręcznego miotacza</td>\n",
              "      <td>metalizacja:subst natryskowy:adj</td>\n",
              "    </tr>\n",
              "    <tr>\n",
              "      <th>4</th>\n",
              "      <td>aerodynamicznej szorstkości</td>\n",
              "      <td>zaszkodzić wynikom</td>\n",
              "      <td>młynek:subst młotkowy:adj</td>\n",
              "    </tr>\n",
              "    <tr>\n",
              "      <th>5</th>\n",
              "      <td>agregatach pralniczych</td>\n",
              "      <td>świeckie przygotowujące</td>\n",
              "      <td>niklowo:adv kadmowy:adj</td>\n",
              "    </tr>\n",
              "    <tr>\n",
              "      <th>6</th>\n",
              "      <td>agricoltura biologica</td>\n",
              "      <td>adama mickiewicza</td>\n",
              "      <td>przewoźny:adj dźwignik:subst</td>\n",
              "    </tr>\n",
              "    <tr>\n",
              "      <th>7</th>\n",
              "      <td>agriculture biologique</td>\n",
              "      <td>chromu sześciowartościowego</td>\n",
              "      <td>teryto:ign rialnego:ign</td>\n",
              "    </tr>\n",
              "    <tr>\n",
              "      <th>8</th>\n",
              "      <td>agrotechniki nienaruszającej</td>\n",
              "      <td>mleczka makowego</td>\n",
              "      <td>adam:subst mickiewicz:subst</td>\n",
              "    </tr>\n",
              "    <tr>\n",
              "      <th>9</th>\n",
              "      <td>ają cyc</td>\n",
              "      <td>przeponowe rurowe</td>\n",
              "      <td>chrom:subst sześciowartościowy:adj</td>\n",
              "    </tr>\n",
              "  </tbody>\n",
              "</table>\n",
              "</div>\n",
              "      <button class=\"colab-df-convert\" onclick=\"convertToInteractive('df-78c9c347-e133-495b-b232-70317a7b6453')\"\n",
              "              title=\"Convert this dataframe to an interactive table.\"\n",
              "              style=\"display:none;\">\n",
              "        \n",
              "  <svg xmlns=\"http://www.w3.org/2000/svg\" height=\"24px\"viewBox=\"0 0 24 24\"\n",
              "       width=\"24px\">\n",
              "    <path d=\"M0 0h24v24H0V0z\" fill=\"none\"/>\n",
              "    <path d=\"M18.56 5.44l.94 2.06.94-2.06 2.06-.94-2.06-.94-.94-2.06-.94 2.06-2.06.94zm-11 1L8.5 8.5l.94-2.06 2.06-.94-2.06-.94L8.5 2.5l-.94 2.06-2.06.94zm10 10l.94 2.06.94-2.06 2.06-.94-2.06-.94-.94-2.06-.94 2.06-2.06.94z\"/><path d=\"M17.41 7.96l-1.37-1.37c-.4-.4-.92-.59-1.43-.59-.52 0-1.04.2-1.43.59L10.3 9.45l-7.72 7.72c-.78.78-.78 2.05 0 2.83L4 21.41c.39.39.9.59 1.41.59.51 0 1.02-.2 1.41-.59l7.78-7.78 2.81-2.81c.8-.78.8-2.07 0-2.86zM5.41 20L4 18.59l7.72-7.72 1.47 1.35L5.41 20z\"/>\n",
              "  </svg>\n",
              "      </button>\n",
              "      \n",
              "  <style>\n",
              "    .colab-df-container {\n",
              "      display:flex;\n",
              "      flex-wrap:wrap;\n",
              "      gap: 12px;\n",
              "    }\n",
              "\n",
              "    .colab-df-convert {\n",
              "      background-color: #E8F0FE;\n",
              "      border: none;\n",
              "      border-radius: 50%;\n",
              "      cursor: pointer;\n",
              "      display: none;\n",
              "      fill: #1967D2;\n",
              "      height: 32px;\n",
              "      padding: 0 0 0 0;\n",
              "      width: 32px;\n",
              "    }\n",
              "\n",
              "    .colab-df-convert:hover {\n",
              "      background-color: #E2EBFA;\n",
              "      box-shadow: 0px 1px 2px rgba(60, 64, 67, 0.3), 0px 1px 3px 1px rgba(60, 64, 67, 0.15);\n",
              "      fill: #174EA6;\n",
              "    }\n",
              "\n",
              "    [theme=dark] .colab-df-convert {\n",
              "      background-color: #3B4455;\n",
              "      fill: #D2E3FC;\n",
              "    }\n",
              "\n",
              "    [theme=dark] .colab-df-convert:hover {\n",
              "      background-color: #434B5C;\n",
              "      box-shadow: 0px 1px 3px 1px rgba(0, 0, 0, 0.15);\n",
              "      filter: drop-shadow(0px 1px 2px rgba(0, 0, 0, 0.3));\n",
              "      fill: #FFFFFF;\n",
              "    }\n",
              "  </style>\n",
              "\n",
              "      <script>\n",
              "        const buttonEl =\n",
              "          document.querySelector('#df-78c9c347-e133-495b-b232-70317a7b6453 button.colab-df-convert');\n",
              "        buttonEl.style.display =\n",
              "          google.colab.kernel.accessAllowed ? 'block' : 'none';\n",
              "\n",
              "        async function convertToInteractive(key) {\n",
              "          const element = document.querySelector('#df-78c9c347-e133-495b-b232-70317a7b6453');\n",
              "          const dataTable =\n",
              "            await google.colab.kernel.invokeFunction('convertToInteractive',\n",
              "                                                     [key], {});\n",
              "          if (!dataTable) return;\n",
              "\n",
              "          const docLinkHtml = 'Like what you see? Visit the ' +\n",
              "            '<a target=\"_blank\" href=https://colab.research.google.com/notebooks/data_table.ipynb>data table notebook</a>'\n",
              "            + ' to learn more about interactive tables.';\n",
              "          element.innerHTML = '';\n",
              "          dataTable['output_type'] = 'display_data';\n",
              "          await google.colab.output.renderOutput(dataTable, element);\n",
              "          const docLink = document.createElement('div');\n",
              "          docLink.innerHTML = docLinkHtml;\n",
              "          element.appendChild(docLink);\n",
              "        }\n",
              "      </script>\n",
              "    </div>\n",
              "  </div>\n",
              "  "
            ]
          },
          "metadata": {},
          "execution_count": 62
        }
      ]
    },
    {
      "cell_type": "code",
      "source": [
        "df_tri = pd.DataFrame(list(zip(d,e)),\n",
        "               columns =['trigrams with more than 5 occurances', 'trigrams lemmatized'])\n",
        "df_tri"
      ],
      "metadata": {
        "colab": {
          "base_uri": "https://localhost:8080/",
          "height": 363
        },
        "id": "Q7EVxJ3_YQxr",
        "outputId": "53b99c0b-6998-4ec5-c685-f9f723364dfc"
      },
      "execution_count": 63,
      "outputs": [
        {
          "output_type": "execute_result",
          "data": {
            "text/plain": [
              "  trigrams with more than 5 occurances  \\\n",
              "0                    piłce nożnej uefa   \n",
              "1              profilem zaufanym epuap   \n",
              "2    religijne uroczystości pogrzebowe   \n",
              "3       finałowego turnieju mistrzostw   \n",
              "4      potwierdzonym profilem zaufanym   \n",
              "5           turnieju mistrzostw europy   \n",
              "6          przewozach szybko psujących   \n",
              "7     stosującym szkodliwą konkurencję   \n",
              "8                  grożącą jemu samemu   \n",
              "9        poddanych szybkiemu postępowi   \n",
              "\n",
              "                                 trigrams lemmatized  \n",
              "0              porcelanowy:adj młyn:subst kulowy:adj  \n",
              "1  denitracyjne:ign odbieralnice:ign hydrauliczny...  \n",
              "2           roleta:subst lambrekin:subst okienny:adj  \n",
              "3                          piran:ign ola:subst þ:ign  \n",
              "4            topić:ger żużel:subst wielkopiecowy:adj  \n",
              "5           maria:subst curie:subst skłodowska:subst  \n",
              "6                 þ:ign tetrahydro:ign trimetylo:ign  \n",
              "7          wymiennik:subst przeponowy:adj rurowy:adj  \n",
              "8        puszek:subst wymiennik:subst przeponowy:adj  \n",
              "9          soda:subst chłodnica:subst odmulina:subst  "
            ],
            "text/html": [
              "\n",
              "  <div id=\"df-e7199466-7671-434b-91f9-ed7a436d2552\">\n",
              "    <div class=\"colab-df-container\">\n",
              "      <div>\n",
              "<style scoped>\n",
              "    .dataframe tbody tr th:only-of-type {\n",
              "        vertical-align: middle;\n",
              "    }\n",
              "\n",
              "    .dataframe tbody tr th {\n",
              "        vertical-align: top;\n",
              "    }\n",
              "\n",
              "    .dataframe thead th {\n",
              "        text-align: right;\n",
              "    }\n",
              "</style>\n",
              "<table border=\"1\" class=\"dataframe\">\n",
              "  <thead>\n",
              "    <tr style=\"text-align: right;\">\n",
              "      <th></th>\n",
              "      <th>trigrams with more than 5 occurances</th>\n",
              "      <th>trigrams lemmatized</th>\n",
              "    </tr>\n",
              "  </thead>\n",
              "  <tbody>\n",
              "    <tr>\n",
              "      <th>0</th>\n",
              "      <td>piłce nożnej uefa</td>\n",
              "      <td>porcelanowy:adj młyn:subst kulowy:adj</td>\n",
              "    </tr>\n",
              "    <tr>\n",
              "      <th>1</th>\n",
              "      <td>profilem zaufanym epuap</td>\n",
              "      <td>denitracyjne:ign odbieralnice:ign hydrauliczny...</td>\n",
              "    </tr>\n",
              "    <tr>\n",
              "      <th>2</th>\n",
              "      <td>religijne uroczystości pogrzebowe</td>\n",
              "      <td>roleta:subst lambrekin:subst okienny:adj</td>\n",
              "    </tr>\n",
              "    <tr>\n",
              "      <th>3</th>\n",
              "      <td>finałowego turnieju mistrzostw</td>\n",
              "      <td>piran:ign ola:subst þ:ign</td>\n",
              "    </tr>\n",
              "    <tr>\n",
              "      <th>4</th>\n",
              "      <td>potwierdzonym profilem zaufanym</td>\n",
              "      <td>topić:ger żużel:subst wielkopiecowy:adj</td>\n",
              "    </tr>\n",
              "    <tr>\n",
              "      <th>5</th>\n",
              "      <td>turnieju mistrzostw europy</td>\n",
              "      <td>maria:subst curie:subst skłodowska:subst</td>\n",
              "    </tr>\n",
              "    <tr>\n",
              "      <th>6</th>\n",
              "      <td>przewozach szybko psujących</td>\n",
              "      <td>þ:ign tetrahydro:ign trimetylo:ign</td>\n",
              "    </tr>\n",
              "    <tr>\n",
              "      <th>7</th>\n",
              "      <td>stosującym szkodliwą konkurencję</td>\n",
              "      <td>wymiennik:subst przeponowy:adj rurowy:adj</td>\n",
              "    </tr>\n",
              "    <tr>\n",
              "      <th>8</th>\n",
              "      <td>grożącą jemu samemu</td>\n",
              "      <td>puszek:subst wymiennik:subst przeponowy:adj</td>\n",
              "    </tr>\n",
              "    <tr>\n",
              "      <th>9</th>\n",
              "      <td>poddanych szybkiemu postępowi</td>\n",
              "      <td>soda:subst chłodnica:subst odmulina:subst</td>\n",
              "    </tr>\n",
              "  </tbody>\n",
              "</table>\n",
              "</div>\n",
              "      <button class=\"colab-df-convert\" onclick=\"convertToInteractive('df-e7199466-7671-434b-91f9-ed7a436d2552')\"\n",
              "              title=\"Convert this dataframe to an interactive table.\"\n",
              "              style=\"display:none;\">\n",
              "        \n",
              "  <svg xmlns=\"http://www.w3.org/2000/svg\" height=\"24px\"viewBox=\"0 0 24 24\"\n",
              "       width=\"24px\">\n",
              "    <path d=\"M0 0h24v24H0V0z\" fill=\"none\"/>\n",
              "    <path d=\"M18.56 5.44l.94 2.06.94-2.06 2.06-.94-2.06-.94-.94-2.06-.94 2.06-2.06.94zm-11 1L8.5 8.5l.94-2.06 2.06-.94-2.06-.94L8.5 2.5l-.94 2.06-2.06.94zm10 10l.94 2.06.94-2.06 2.06-.94-2.06-.94-.94-2.06-.94 2.06-2.06.94z\"/><path d=\"M17.41 7.96l-1.37-1.37c-.4-.4-.92-.59-1.43-.59-.52 0-1.04.2-1.43.59L10.3 9.45l-7.72 7.72c-.78.78-.78 2.05 0 2.83L4 21.41c.39.39.9.59 1.41.59.51 0 1.02-.2 1.41-.59l7.78-7.78 2.81-2.81c.8-.78.8-2.07 0-2.86zM5.41 20L4 18.59l7.72-7.72 1.47 1.35L5.41 20z\"/>\n",
              "  </svg>\n",
              "      </button>\n",
              "      \n",
              "  <style>\n",
              "    .colab-df-container {\n",
              "      display:flex;\n",
              "      flex-wrap:wrap;\n",
              "      gap: 12px;\n",
              "    }\n",
              "\n",
              "    .colab-df-convert {\n",
              "      background-color: #E8F0FE;\n",
              "      border: none;\n",
              "      border-radius: 50%;\n",
              "      cursor: pointer;\n",
              "      display: none;\n",
              "      fill: #1967D2;\n",
              "      height: 32px;\n",
              "      padding: 0 0 0 0;\n",
              "      width: 32px;\n",
              "    }\n",
              "\n",
              "    .colab-df-convert:hover {\n",
              "      background-color: #E2EBFA;\n",
              "      box-shadow: 0px 1px 2px rgba(60, 64, 67, 0.3), 0px 1px 3px 1px rgba(60, 64, 67, 0.15);\n",
              "      fill: #174EA6;\n",
              "    }\n",
              "\n",
              "    [theme=dark] .colab-df-convert {\n",
              "      background-color: #3B4455;\n",
              "      fill: #D2E3FC;\n",
              "    }\n",
              "\n",
              "    [theme=dark] .colab-df-convert:hover {\n",
              "      background-color: #434B5C;\n",
              "      box-shadow: 0px 1px 3px 1px rgba(0, 0, 0, 0.15);\n",
              "      filter: drop-shadow(0px 1px 2px rgba(0, 0, 0, 0.3));\n",
              "      fill: #FFFFFF;\n",
              "    }\n",
              "  </style>\n",
              "\n",
              "      <script>\n",
              "        const buttonEl =\n",
              "          document.querySelector('#df-e7199466-7671-434b-91f9-ed7a436d2552 button.colab-df-convert');\n",
              "        buttonEl.style.display =\n",
              "          google.colab.kernel.accessAllowed ? 'block' : 'none';\n",
              "\n",
              "        async function convertToInteractive(key) {\n",
              "          const element = document.querySelector('#df-e7199466-7671-434b-91f9-ed7a436d2552');\n",
              "          const dataTable =\n",
              "            await google.colab.kernel.invokeFunction('convertToInteractive',\n",
              "                                                     [key], {});\n",
              "          if (!dataTable) return;\n",
              "\n",
              "          const docLinkHtml = 'Like what you see? Visit the ' +\n",
              "            '<a target=\"_blank\" href=https://colab.research.google.com/notebooks/data_table.ipynb>data table notebook</a>'\n",
              "            + ' to learn more about interactive tables.';\n",
              "          element.innerHTML = '';\n",
              "          dataTable['output_type'] = 'display_data';\n",
              "          await google.colab.output.renderOutput(dataTable, element);\n",
              "          const docLink = document.createElement('div');\n",
              "          docLink.innerHTML = docLinkHtml;\n",
              "          element.appendChild(docLink);\n",
              "        }\n",
              "      </script>\n",
              "    </div>\n",
              "  </div>\n",
              "  "
            ]
          },
          "metadata": {},
          "execution_count": 63
        }
      ]
    },
    {
      "cell_type": "markdown",
      "source": [
        "# Task 14\n",
        "\n",
        "Answer the following questions:\n"
      ],
      "metadata": {
        "id": "8zsRgWJKZdZC"
      }
    },
    {
      "cell_type": "markdown",
      "source": [
        "* Why do we have to filter the bigrams, rather than the token sequence?\n",
        "\n",
        "If we perfomred filtering with token instead of filtering the bigrams, we would have a situation where we take non existing bigrams like for example the sentence \"Ala ma kota\" would produce a bigram \"Ala Kota\" which does not exist.\n",
        "\n"
      ],
      "metadata": {
        "id": "U6Wfr7bYZhgq"
      }
    },
    {
      "cell_type": "markdown",
      "source": [
        "* Which method works better for the bigrams and which for the trigrams?\n",
        "\n",
        "I will risk stating that the SpAcy tokenizers method works better in both cases."
      ],
      "metadata": {
        "id": "t8wfZfMVZhWe"
      }
    },
    {
      "cell_type": "markdown",
      "source": [
        "* What types of expressions are discovered by the methods.\n",
        "\n",
        "SpAcy tokenizer discovered factual statements/people like \"profilem zaufanym epuap\", \"finałowego turnieju mistrzostw\" or \"grzegorz schetyna\". The Clarin-PL API produced a few terrible outcomes like: piran:ign ola:subst þ:ign but also a few correct statements like \"wymiennik:subst przeponowy:adj rurowy:adj\" or \"grzegorz:subst schetyna:ign\". "
      ],
      "metadata": {
        "id": "g5Wsnk9tZhIa"
      }
    },
    {
      "cell_type": "markdown",
      "source": [
        "* Can you devise a different type of filtering that would yield better results?\n",
        "\n",
        "I would propose a fitering method which removes stop words and one-lettered words like \"p\",\"r\" etc. "
      ],
      "metadata": {
        "id": "gyNuxWDXZhAX"
      }
    },
    {
      "cell_type": "code",
      "source": [],
      "metadata": {
        "id": "-bj4XZurcQba"
      },
      "execution_count": null,
      "outputs": []
    }
  ]
}